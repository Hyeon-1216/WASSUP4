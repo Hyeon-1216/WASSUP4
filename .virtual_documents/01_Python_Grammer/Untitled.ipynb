





a = 1
print(a)


b = 'python'
b


c = {1, 2, 3








a =123
a


a = -178
a


a = 0
a





a = 1.2
b = -3.45
a, b


a = 4.2E10
a





a = 0o177
print(a)


a = 0x8ff
b = 0xABC
a, b





a = 3
b = 4
a + b


a-b, a*b, a/b





a**b





7 % 3, 3 % 7





7//4





a = a + 1
a


a += 1
a


a -= 1
a








"Life is too short, You need Python"
"a"
"123"


"hello world"


'Python is fun'


"""Life is too short, You need Python"""


'''Life is too short, You need Python'''





"Python's favorite food is perl"





'"Python is very easy." he says.'





food = 'Python\'s favorite food is perl'
food


say = "\"Python is very easy.\" he says."
say








multiline = 'Life is too short.\nYou need Python'
multiline


print(multiline)





'''
Life is too short
You need Python
'''


"""
Life is too short
You need Python
"""





head = "python"
tail = ' is fun'
head + tail


head * 2


print("=" * 50)
print("My Program")
print("=" * 50)


a = "Life is too short"
len(a)








a = "Life is too short, You need Python"
a


a[3]


a[17]


a[-6]


b = a[0]+a[1]+a[2]+a[3]
b





a[0:4]


a[12:19]


a[12:]


a[:]


a[-15:-7]





a = "20240904sunny"
date = a[:8]
weather = a[-5:]
date, weather


year = a[:4]
day = a[4:8]
year, day








a = "pithon"
a[1]


a[1] = 'y'
a


a = "Pithon"
a[0] +'y' + a[2:]





"I eat %d apples." %3


"I eat %s appples." %"five"


number = 3
"I eat %d apples"%number


number = 10
day = "three"
"I ate %d apples. so I was sick for %s days." %(number, day)





"Error is %d%%"%98





"%0.2f"%3.42134234


"%0.4f"%3.42134234





"I eat {0} apples.".format(3)


"I eat {0} apples.".format("five")


"I ate {} apples. so I was sick for {} days".format(number, day)


"I ate {a} apples. so I was sick for {b} days".format(a=number, b=number)





y = 3.141592
"{0:0.4f}".format(y)


"{{and}}".format()





name = '홍길동'
age = 30
'나의 이름은 {a}입니다. 나이는 {b}입니다.'.format(a=name, b=age)


f'나의 이름은 {name}입니다. 나이는 {age}입니다.'


f'나의 이름은 {name}입니다. 내년이면 {age+1}살이 됩니다.'


d = {'name':'홍길동', 'age':30}
d


d['name']


f'나의 이름은 {d['name']}입니다. 나이는 {d['age']}입니다.' 


y=3.163251
f'{y:0.4f}'


f'{y:10.4f}'








a = "hobby"
a.count('b')





a = "Python is the best choice"
a. find('b')


a.find('k') #-1는 없다는 거


a.find


help(a.find)





a = 'Life is too short'
a.index('t'), a.find('t')


a.index('k')








'abcd'


#반드시 문자열로 반환됨
','.join('abcd')


','.join(['a','b','c','d'])





a="hi"
a.upper()


a='HI'
a.lower()





a = "         hi        "
a.lstrip()


a.rstrip()


a.strip()


a = 'Life is too short'
a.replace("Life", "Your leg")





a.replace?





a = "Life is too short"
a.split()


b = "나는:내가:정말:좋아"
b.split(':')



