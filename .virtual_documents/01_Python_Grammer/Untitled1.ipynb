


#001
print("Hello World")


#002
print("Mary's cosmetics")


#003
'신씨가 소리질렀다. "도둑이야".'


#004
print(r"C:\Windows")


#005
print("안녕하세요.\n만나서\t\t반갑습니다.")





#006
print("오늘은", "일요일")


#007-1
print("naver;kakao;sk;samsung")


#007-2
print("naver", "kakao", "sk", "samsung", sep=";")


#008
print("naver", "kakao", "sk", "samsung", sep='/')


#009
print("first", end="");print("second")
## print() 함수는 기본적으로 출력을 한 뒤에 줄 바꿈(\n)을 추가하지만 여기서는 end=""를 사용하여 줄 바꿈을 생략


#010
5/3





#011
삼성전자 = 50000
총평가금액 = 삼성전자 * 10
print(총평가금액)


#012
시가총액 = 298E12
현재가 = 50000
PER = 15.79
print(시가총액)
print(현재가)
print(PER)


#013-1
s = "hello"
t = "python"
print(s + "! " + t)


#013-2
print(s+'!',t)


#014
2 + 2 * 3


#015
a = "132"
print(type(a))


#016
num_str ="720"
num_int = int(num_str)
print((num_int), type(num_int))


#017
num = 100
num = str(num)
print(num, type(num))


#018
t = "15.79"
t_float = float(t)
print(t_float, type(t_float))


#019
year = "2020"
yr = int(year)
print(yr-2, yr-1, yr)


#020
월 = 48584
총금액 = 월 * 36
총금액





#021
letters = 'python'
print(letters[0], letters[2])


#022
license_plate = "24가 2210"
license_plate[-4:]


#023
string = "홀짝홀짝홀짝"
string[::2] #시작부터 끝까지 2칸씩 건너뛰며 선택


#024
string = "PYTHON"
string[::-1] # -1은 문자열을 뒤에서 1칸씩 가져온다는 뜻


#025
phone_number = "010-1111-2222"
phone_number.replace("-", " ")


#026
phone_number.replace("-","")


#027-1
url = "http://sharebook.kr"
url[-2:]


#027-2
url = "http://sharebook.kr"
url_split = url.split('.')
print(url_split[-1])


#28
lang = 'python'
lang[0] = "p"
print(lang)


#29
string = 'abcdfe2a354a43a'
string.replace('a', 'A')


#30
string = 'abcd'
string.replace('b', 'B')
print(string)


#031
a = "3"
b = "4"
print(a + b)


#032
print("Hi" * 3)


#033
print('-' * 80)


#034
t1 = 'python'
t2 = 'java'
(t1 + " "+ t2+" ") * 4


#035
name1 = "김민수" 
age1 = 10
name2 = "이철희"
age2 = 13
print("이름: %s 나이: %d" % (name1, age1))
print("이름: %s 나이: %d" % (name2, age2))


#036
name1 = "김민수" 
age1 = 10
name2 = "이철희"
age2 = 13
print("이름: {} 나이: {}".format(name1, age1))
print("이름: {} 나이: {}".format(name2, age2))


#037
name1 = "김민수" 
age1 = 10
name2 = "이철희"
age2 = 13
print(f'이름: {name1} 나이: {age1}')
print(f'이름: {name2} 나이: {age2}')


#038
상장주식수 = "5,969,782,550"
상장주식수 = 상장주식수.replace(',','')
상장주식수 = int(상장주식수)
print(상장주식수, type(상장주식수))


#039
분기 = "2020/03(E) (IFRS연결)"
분기[:7]


#040
data = "   삼성전자    "
data.strip()


#041
ticker = "btc_krw"
ticker.upper()


#042
ticker = "BTC_KRW"
ticker.lower()


#043
text = 'hello'
text.capitalize()


#044
file_name = "보고서.xlsx"
file_name.endswith("xlsx")


#045
file_name = "보고서.xlsx"
file_name.endswith(('xlsx','xls'))


#046
file_name = "2020_보고서.xlsx"
file_name.startswith('2020')


#047
a = "hello world"
a.split()


#047
ticker = "btc_krw"
ticker.split('_')


#049
date = "2020-05-01"
date.split('-')


#050
data = "039490     "
data.rstrip()



