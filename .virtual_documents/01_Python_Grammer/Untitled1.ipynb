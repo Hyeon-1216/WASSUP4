


#101
bool


#102
print(3 == 5)


#103
print(3 < 5)


#104
x = 4
print(1 < x < 5)


#105
print((3==3) and (4 != 3))


#106
print(3 >= 4) #라고 써야한다.


#107
if 4 < 3:
    print("Hello World")


#108
if 4 < 3:
    print("Hello World")
else:
    print("Hi, there")


#109
if True :
    print ("1")
    print ("2")
else :
    print("3")
print("4")


#110
if True :
    if False: 
        print("1")
        print("2")
    else:
        print("3")
else: 
    print("4")
print("5")


#111
print((input())*2)


#112
print(int(input()) + 10)


#113
if int(input()) % 2 == 0:
    print('짝수')
else:
    print('홀수')


#114
if int(input()) + 20 <= 255:
    print(int(input) + 20)
else:
    print(255)


#115
num = int(input())
if 0 <= num - 20 <= 255:
    print(num - 20)
elif num - 20 < 0:
    print(0)
else:
    print(255)


#116
time = input()
if time[3:] == '00':
    print("정각 입니다.")
else:
    print("정각이 아닙니다.")


#117
fruit = ["사과", "포도", "홍시"]
a = input("좋아하는 과일은? ",)
if a in fruit:
    print("정답입니다")
else:
    print("오답입니다")


#118
warn_investment_list = ["Microsoft", "Google", "Naver", "Kakao", "SAMSUNG", "LG"]
a = input()
if a in warn_investment_list:
    print("투자 경고 종목입니다")
else:
    print("투자 경고 종목이 아닙니다")


#119
fruit = {"봄" : "딸기", "여름" : "토마토", "가을" : "사과"}
season = list(fruit.keys())
a = input("제가좋아하는계절은? ", )
if a in season:
    print("정답입니다")
else:
    print("오답입니다")


#120
fruit = {"봄" : "딸기", "여름" : "토마토", "가을" : "사과"}
fruit_name = list(fruit.values())
b = input("좋아하는과일은? ", )
if b in fruit_name:
    print("정답입니다")
else:
    print("오답입니다")


#121
a = input()
if a.islower() == True:
    print(a.upper())
else:
    print(a.lower())


#122
score = int(input("score: ", ))
if 81 <= score <= 100:
    print('grade is A')
elif 61<= score <= 80:
    print('grade is B')
elif 41 <= score <= 60:
    print('grade is C')
elif 21 <= score <= 40:
    print('grade is D')
else:
    print('grade is E')


#123
환율 = {"달러": 1167, "엔":1.096, "유로": 1268, "위안":171}
입력 = input("입력: ")
num, currency = 입력.split()
print(float(num) * 환율[currency], "원")


#124
input_1 = int(input())
input_2 = int(input())
input_3 = int(input())
print(max(input_1, input_2, input_3))


#125
num = input("휴대전화 번호 입력: ")[0:3]
통신사 = {'011': "skt", '016': "kt", '019': "LGU", '010': "알수없음"}
print("당신은", 통신사[num], "사용자입니다.")


#126
num = input("우편번호: ")[2]
구 = {'0': '강북구', '1': '강북구', '2': '강북구', '3': '도봉구', '4': '도봉구', '5': '도봉구', '6': '노원구', '7': '노원구', '8': '노원구', '9': '노원구'}
print(구[num])


#127
num = input("주민등록번호: ")[7]
if num == 1 or 3:
    print('남자')
else:
    print('여자')


#128
num = input("주민등록번호: ")[8:9]
if num in ['00', '01', '02', '03', '04', '05', '06', '07', '08']:
    print('서울 입니다')
else:
    print('서울이 아닙니다')


#129
주민등록번호 = input("주민등록번호: ")
# - 뺀 문자열로 만들기
num = "".join((주민등록번호).split('-'))
# 문자열 -> 숫자로 리스트 만들기
list1 = list(int(x) for x in num)
list2 = [2, 3, 4, 5, 6, 7, 8, 9, 2, 3, 4, 5]
## 12자리에 차례로 곱하가 (계산1)
계산1 = [a * b for a, b in zip(list1, list2)]
#결과값 더하고 11로 나눈 나머지를 11에서 뺀 값이 주민등록번호의 마지막 번호와 일치하는지 확인하기
print(int(주민등록번호[13]) == 11 - (sum(계산1) % 11))


#130
import requests
btc = requests.get("https://api.bithumb.com/public/ticker/").json()['data']
변동폭 = int(btc['max_price'])-int(btc['min_price'])
num = int(btc['opening_price']) + 변동폭
if num > int(btc['max_price']):
    print("상승장")
else:
    print("하락장")


#131
과일 = ["사과", "귤", "수박"]
for 변수 in 과일:
    print(변수)


#132
과일 = ["사과", "귤", "수박"]
for 변수 in 과일:
  print("#####")


#133
print("A")
print("B")
print("C")


#134
print("출력: A")
print("출력: B")
print("출력: C")


#135
변수 = "A"
b = 변수.lower()
print("변환:", b)
변수 = "B"
b = 변수.lower()
print("변환:", b)
변수 = "C"
b = 변수.lower()
print("변환:", b)


#136
리스트 = [10, 20, 30]
for i in 리스트:
    print(i)


#137
리스트 = [10, 20, 30]
for i in 리스트:
    print(i)


#138
리스트 = [10, 20, 30]
for i in 리스트:
    print("-------")


#139
리스트 = ["++++", 10, 20, 30]
for i in 리스트:
    print(i)


#140
리스트 = [1, 2, 3, 4]
for i in 리스트:
    print("-------")


#141
리스트 = [100, 200, 300]
for i in 리스트:
    print(i + 10)


#142
리스트 = ["김밥", "라면", "튀김"]
for i in 리스트:
    print("오늘의 메뉴:", i)


#143
리스트 = ["SK하이닉스", "삼성전자", "LG전자"]
for i in 리스트:
    print(len(i))


#144
리스트 = ['dog', 'cat', 'parrot']
for i in 리스트:
    print(i, len(i))


#145
리스트 = ['dog', 'cat', 'parrot']
for i in 리스트:
    print(i[0])


#146
리스트 = [1, 2, 3]
for i in 리스트:
    print("3 x", i)


#147
리스트 = [1, 2, 3]
for i in 리스트:
    print("3 x", i, "=", 3 * i)


#148
리스트 = ["가", "나", "다", "라"]
리스트1 = 리스트[1:]
for i in 리스트1:
    print(i)


#149
리스트 = ["가", "나", "다", "라"]
리스트1 = 리스트[0] + 리스트[2]
for i in 리스트1:
    print(i)


#150
리스트 = ["가", "나", "다", "라"]
리스트1 = 리스트[::-1]
for i in 리스트1:
    print(i)


#151
리스트 = [3, -20, -3, 44]
for i in 리스트:
    if i < 0:
        print(i)


#152
리스트 = [3, 100, 23, 44]
for i in 리스트:
    if i % 3 == 0:
        print(i)


#153
리스트 = [13, 21, 12, 14, 30, 18]
for i in 리스트:
    if (i < 20) and (i % 3 == 0):
        print(i)


#154
리스트 = ["I", "study", "python", "language", "!"]
for i in 리스트:
    if len(i) >= 3:
        print(i)


#155
리스트 = ["A", "b", "c", "D"]
for i in 리스트:
    if i.isupper() == True:
        print(i)


#156
리스트 = ["A", "b", "c", "D"]
for i in 리스트:
    if i.islower() == True:
        print(i)


#157
리스트 = ['dog', 'cat', 'parrot']
for i in 리스트:
    print(i[0].upper()+i[1:])
#띄어쓰기 없이 출력할 때에는 ,가 아니라 +를 이용하자 


#158
리스트 = ['hello.py', 'ex01.py', 'intro.hwp']
for x in 리스트:
    a = x.split('.')
    print(a[0])


#159
리스트 = ['intra.h', 'intra.c', 'define.h', 'run.py']
for i in 리스트:
    확장자 = i.split('.')[1]
    if 확장자 == 'h':
        print(i)


#160
리스트 = ['intra.h', 'intra.c', 'define.h', 'run.py']
for i in 리스트:
    확장자 = i.split('.')[1]
    if 확장자 in ['c', 'h']:
        print(i)



