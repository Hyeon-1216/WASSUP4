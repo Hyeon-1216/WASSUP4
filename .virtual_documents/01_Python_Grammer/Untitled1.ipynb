





# numpy
# numerical python
# 고성능 수치를 위한 라이브러리
# 벡터나 행렬 연산에 편리한 기능 제공
# 모든 원소는 같은 자료형만 가능


import numpy as np
a = np.arange( 15 ) #range랑 비슷하다고 생각하면 됨
print( a )
a = a.reshape( 3, 5 ) #차원 변경 (행, 열, order = 'F') # C 행부터 할당이 기본값, F 열부터 할당
print( a )
print( type( a ) )
print( a.shape ) #(행, 열)출력
print( a.dtype ) # 데이터 타입 출력
print( a.ndim ) #차원 출력
print( a. size )
# print( dir ( np ) )


b = [-1, -3, 5, 9, 12, 16, 99, 0, 8, 43] #list로 numpy 만듦 (호환됨)
print( b )
print( type( b ) )
b = np.array( b )
print( type( b ) )

t = ( 10, 20, 30, 40, 50 ) #tuple도 호환됨
print( type( t ) )
t = np.array( t )
print( type ( t ) )

s = { 10, 20, 30, 40, 50 } #set도 호환됨
print( type ( s ) )
s = np.array( s )
print( type( s ) )


print( b.shape )
print( b.ndim )
print( b.dtype )
print( b )

# print( help( np ) )
print( np.abs( b ) ) # 절대값
print( np.sqrt( np.abs( b ) ) ) # 제곱근
print( np.square( b ) ) # 제곱
print( np.isnan( b ) ) # NaN 여부
print( np.sum( b ) ) # 합계
print( np.mean( b ) ) # 평균
print( np.max( b ) )  # 최댓값
print( np.min( b ) ) # 최솟값
print( np.argmax( b ) ) #최댓값 인덱스
print( np.argmin( b ) ) #최솟값 인덱스
print( np.sort( b ) ) #정렬 오름차순
print( np.sort( b )[::-1] ) #정렬 내림차순 [ start: end : step ]



