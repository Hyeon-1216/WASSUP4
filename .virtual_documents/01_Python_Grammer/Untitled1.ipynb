


전화번호부 = {"홍길동": '010-123-4567'}

prompt = """
1. 연락처 추가
2. 연락처 전체 보기
3. 검색
4. 수정
5. 삭제
6. 종료

Enter number: """

number = 0
while number!= 6:
    print(prompt)
    number = int(input())
    
    if number == 1:
        이름 = input("이름: ")
        전화번호 = input("전화번호: ")
        전화번호부[이름] = 전화번호
        print("연락처가 등록되었습니다")
        
    elif number == 2:
        print(전화번호부)
    
    elif number == 3:
        검색 = input("검색하고자 하는 연락처의 이름을 입력해주세요: ")
        print(전화번호부[검색])
    
    elif number == 4:
        수정_이름 = input("수정하고자 하는 연락처의 이름을 입력해주세요: ")
        수정_연락처 = input("수정하고자 하는 연락처의 전화번호를 입력해주세요: ")
        전화번호부[수정_이름] = 수정_연락처
        print("연락처가 수정되었습니다")
        
    elif number == 5:
        삭제 = input("삭제하고자 하는 연락처의 번호를 입력해주세요: ")
        전화번호부.pop(삭제)
        print("연락처가 삭제되었습니다")
    
    else:
        print("연락처 프로그램이 종료됩니다!")


contact = {}
while True:
    print('------전화번호부 프로그램------')
    menu = input('1.추가   2.조회   3.검색   4. 수정   5.삭제   9.종료')
    menu = int(input('메뉴를 선택해주세요.(숫자 only): '))

if menu == 1: #연락처 추가
    print('연락처를 추가합니다.')
    new_name = input('이름: ')
    new_tel = input('전화번호: ')
    print(new_name, new_tel)
    # contact[new_name] = new_tel
    contact.setdefault(new_name, new_tel)

elif menu == 2: #연락처 조회
    print("연락처를 조회합니다.")
    #print(contact)
    for name, tel in contact.items():
        print(name, ':', tel)
        
elif menu == 3: #연락처 검색
    print('연락처를 검색합니다.')
    search_name = input('검색 이름: ')
    contact[search_nmae]
    #print(contact[search_name])
    print(contact.get(search_name, '없는 이름입니다.'))

elif menu == 4: #연락처 수정
    print("연락처를 수정합니다.")
    mod_name = input('수정 이름: ')

    if mod_name in contact:
        mod_tel = input('새 전화번호: ')
        contact[mod_name] = mod_tel
    else:
        print('등록되지 않은 이름입니다.')
        
elif menu == 5: #연락처 삭제
    print('연락처를 삭제합니다.')
    del_name = input('삭제 이름: ')

    if del_name in contact:
        del contact[del_name]
    else:
        print('등록되지 않은 이름입니다.')

elif menu == 9: #프로그램 종료
    print('프로그램을 종료합니다.')
    break

else: 
    print('잘못된 입력입니다.')

