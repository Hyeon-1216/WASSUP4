





def add(a, b):
    return a + b #함수 정의


a = 3
b = 4
c = add(a, b) #add(3, 4)의 리턴값을 c에 대입
print(c)





def add(a, b):  # a, b는 매개변수
    return a + b
print(add(3, 4)) # 3, 4는 변수





#일반적인 함수
def add1(a, b):
    result = a + b
    return result


a = add1(3, 4)
print(a)


#입력값이 없는 함수
def say1():
    return 'Hi'


say()


#리턴 값이 없는 함수
def add2(a, b):
    print('%d, %d의 합은 %d입니다.' % (a, b, a+b))


add2(3, 4)


c = add2(3, 4)


print(c)


#입력 값도 리턴 값도 없는 함수
def say2():
    print('Hi')


d = say1() #리턴이 있는 경우


print(d)


e = say2() #리턴이없는 경우 


print(e)





def sub(a, b):
    return a - b


result = sub(a=7, b=3) #매개변수에 직접 변수 지정할 경우 순서를 바꾸는 것도 가능
result1 = sub(b=3, a=7)
print(result)
print(result1)





def add_many(*args): #args는 인수를 뜻하는 argumentsdml 약자이며 관례적으로 자주 사용하나, 아무 이름을 써도 된다.
    result = 0
    for i  in args:
        result += i
    return result


add_many(1, 2, 3, 4, 5, 6, 7, 8)





def add_mul(choice, *args):
    if choice == "add":
        result = 0
        for i in args:
            result += i
    elif choice == "mul":
        result = 1
        for i in args:
            result *= i
    return result


add_mul('add', 1, 2, 3, 4)


add_mul('mul', 1, 2, 3, 4)





def print_kwargs(**kwargs):
    print(kwargs)


print_kwargs(a=1)


print_kwargs(name='foo', age=3)





def add_and_mul(a,b):
    return a+b, a*b


result = add_and_mul(3, 4)


print(result)


result1, result2 = add_and_mul(3, 4)
print(result1)
print(result2)


def add_and_mul(a, b):
    return a+b
    return a*b
#위와 같이 return문을 2번 사용하면 2개의 리턴값을 돌려줄까?! 아님!! return은 한 번 나오면 끝!
result = add_and_mul(2, 3)
print(result)





def say_nick(nick):
    if nick == '바보':
        return '옥상으로 따라와'
    print(f'나의 별명은 {nick}입니다.')


say_nick('야호')


say_nick('바보')





def say_myself(name, age, man=True):
    print("나의 이름은 %s 입니다." % name)
    print("나이는 %d살입니다." % age)
    if man:
        print("남자입니다.")
    else:
        print("여자입니다.")


say_myself('이현', 24, False)





a = 1 #글로벌 영역
def vartest(a): #로컬 영역
    a = a +1


a


vartest(a)


print(a)








a = 1 
def vartest(a): 
    a = a +1 
    return a

a = vartest(a) 
print(a)





a = 1
def vartest():
    global a
    a = a + 1

vartest()
print(a)








def add(a, b):
    return a+b

result = add(3, 4)
print(result)


add = lambda a, b: a+b
result = add(3, 4)
print(result)








# newfile.py
f = open('output/test.txt', 'w')
f.close()





# write_data.py
f = open('output/test.txt', 'w')
for i in range(1, 11):
    f.write(f'{i}번째 줄입니다. \n')
f.close()








#readline_test.py
f = open('output/test.txt', 'r')
line = f.readline()
print(line)
f.close()


f = open('output/test.txt', 'r')
for i in range(5):
    line = f.readline()
    print(line)
f.close()





#readlines.py
f = open('output/test.txt', 'r')
lines = f.readlines()
for line in lines:
    print(line)
f.close()





#readlines.py
f = open('output/test.txt', 'r')
lines = f.readlines()
for line in lines:
    print(line, end='')
f.close()


f = open('output/test.txt', 'r')
lines = f.readlines()
for line in lines :
    line = line.strip()
    print(line)
f.close()





#read.py
f = open('output/test.txt', 'r')
data = f.read()
print(data)
f.close()





#add_data.py
f = open('output/test.txt', 'a')
for i in range(11, 21):
    data = f'{i}번째 줄입니다. \n'
    f.write(data)
f.close()





f = open('output/foo.txt', 'w')
f.write("Life is too short, you need python")
f.close()


#file_with.py
with open('output/foo.txt', 'w') as f:
    f.write("Life is too short, you need python")



