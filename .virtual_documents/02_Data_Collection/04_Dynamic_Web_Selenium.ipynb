


!pip install selenium


from selenium import webdriver
from selenium.webdriver.common.by import By # 셀레니움이 beautiful soup을 내장하고 있음. 그 때 사용하는 모듈
from selenium.webdriver.chrome.options import Options #웹드라이버에 옵션을 컨트롤할 수 있는 모듈
import time

options = Options()
options


#특정함수안에서 드라이버 생성시 함수 종료될 때 같이 종료되는 문제 대응
options.add_experimental_option("detach", True)





url = 'https://naver.com'
driver = webdriver.Chrome(options=options)


driver.get(url)
time.sleep(2)





driver.back()


driver.forward()


driver.refresh()








driver.find_element?


driver.find_element(By.ID, 'query')


#키입력
driver.find_element(By.ID, 'query').send_keys('신인류')


driver.find_element(By.CLASS_NAME, 'search_input').send_keys('키스오브라이프')


driver.find_element(By.NAME,'query').send_keys('박효신')


driver.find_element(By.CSS_SELECTOR, '#query').send_keys('고양이')


driver.find_element(By.CSS_SELECTOR, '.search_input').send_keys('강아지')


driver.find_element(By.CSS_SELECTOR, '[title="검색어를 입력해 주세요."]').send_keys('레드벨벳')


driver.find_element(By.XPATH, '//*[@id="query"]').send_keys('쿼카')


driver.find_element(By.XPATH, '/html/body/div[2]/div[1]/div/div[3]/div/div/form/fieldset/div/input').send_keys('비둘기')





driver.find_element(By.LINK_TEXT, '쇼핑')


driver.find_element(By.LINK_TEXT, '쇼핑').click()


#일부 매칭
driver.find_element(By.PARTIAL_LINK_TEXT,'뉴').click()


#태그로 찾기
driver.find_element(By.TAG_NAME, 'ul')


driver.find_element(By.CSS_SELECTOR, '.link_service')


driver.find_elements(By.CSS_SELECTOR, '.link_service')


for i in driver.find_elements(By.CSS_SELECTOR,'.link_service'):
     print(i.get_dom_attribute('href'))


for i in driver.find_elements(By.CSS_SELECTOR, '.link_service'):
    print(i.get_attribute('href'))





#테스트용 html
url = 'file:///C:/workspace/WASSUP4/02_Data_Collection/sample/signin.html'
driver = webdriver.Chrome(options=options)
driver.get(url)
time.sleep(2)


username = driver.find_element(By.NAME, 'username')
username.send_keys('korea')


password = driver.find_element(By.NAME, 'password')
password.send_keys('1234')


login = driver.find_element(By.XPATH, '//*[@id="loginForm"]/input[3]')
login.click()


driver.back()


login = driver.find_element(By.CSS_SELECTOR, '[value=Login]')
login.click()


username.clear()


username = driver.find_element(By.NAME, 'username')
username.send_keys('korea')
password = driver.find_element(By.NAME, 'password')
password.send_keys('1234')


username.submit()


driver.back()


driver.find_element(By.TAG_NAME, 'p').text


#html 소스 추출
driver.page_source


driver.close()





from selenium import webdriver
from selenium.webdriver.common.by import By
from selenium.webdriver.chrome.options import Options
import time

options = Options()
options.add_argument("--headless=new") 
# options.add_argument('--window-size= x, y') #실행되는 브라우저 크기를 지정할 수 있습니다.
# options.add_argument('--start-maximized') #브라우저가 최대화된 상태로 실행됩니다.
# options.add_argument('--start-fullscreen') #브라우저가 풀스크린 모드(F11)로 실행됩니다.
# options.add_argument('--blink-settings=imagesEnabled=false') #브라우저에서 이미지 로딩을 하지 않습니다.
# options.add_argument('--mute-audio') #브라우저에 음소거 옵션을 적용합니다.
# options.add_argument('incognito') #시크릿 모드의 브라우저가 실행됩니다.
options.add_experimental_option("detach", True) #특정함수안에서  드라이버 생성시 함수종료될 때 브라우저 같이 종료되는 문제 대응


url = 'http://naver.com'
driver = webdriver.Chrome(options=options)
driver.get(url)


print(driver.title)


driver.close()





from selenium import webdriver
from selenium.webdriver.common.by import By
from selenium.webdriver.chrome.options import Options
import time

options = Options()
# options.add_argument("--start-maximized")
# options.add_argument("--headless=new") 
options.add_experimental_option("detach", True) #

url = 'http://naver.com'
driver = webdriver.Chrome(options=options)
driver.get(url)
time.sleep(2)


# 창의 너비/높이 구하기
size = driver.get_window_size()
width = size.get('width')
height = size.get('height')
print(width, height)


# 창 크기 조절
driver.set_window_size(800, 600)


# 스크린상에서의 창 좌표
position = driver.get_window_position()
x = position.get('x')
y = position.get('y')
print(x, y)


driver.set_window_position(0,0)


# 창크기 최대화
driver.maximize_window()


# 스크린샷
driver.save_screenshot('./image.png')


driver.quit()





from selenium import webdriver
from selenium.webdriver.common.by import By
from selenium.webdriver.chrome.options import Options
import time, random, pandas as pd

options = Options()
options.add_argument('--window-size=1026,1039')
options.add_argument('--window-position=2341,0')
options.add_experimental_option("detach", True)


#웹드라이버 로드
driver = webdriver.Chrome(options=options)


#조건 설정
where = 'blog'
query = '인공지능'
dateform = '20240101to20240927'
url = f'https://search.naver.com/search.naver?ssc=tab.{where}.all&query={query}&sm=tab_opt&nso=so%3Ar%2Cp%3Afrom{dateform}'
# url = f'https://search.naver.com/search.naver?where={where}&query={query}&sm=tab_op&nso=so:r,p:from{dateform}'
fname = f'{where}_{query}_{dateform}'


#url 접속
driver.get(url)
time.sleep(random.randint(2,3))





#네이버 뷰는 최대 1050까지만 노출
# 스크롤 10번
for i in range(10):
    driver.execute_script('window.scrollTo(0, document.body.scrollHeight);')
    time.sleep(random.randint(2, 3))





# get_viw()
views = driver.find_elements(By.CSS_SELECTOR,'.lst_view .view_wrap')
views
title_list=[]
text_list=[]
date_list=[]
for view in views:
    title = view.find_element(By.CSS_SELECTOR, '.title_link').text
    text = view.find_element(By.CSS_SELECTOR, '.dsc_link').text
    date = view.find_element(By.CSS_SELECTOR, '.sub').text
    title_list.append(title)
    text_list.append(text)
    date_list.append(date)

zipped = zip(date_list, title_list, text_list)
import pandas as pd
df = pd.DataFrame(zipped, columns = ['날짜', '제목', '내용'])
df


views = driver.find_elements(By.CSS_SELECTOR, '.lst_view .view_wrap')
result = []

for view in views:
    con_dict = {}
    con_dict['title'] = view.find_element(By.CSS_SELECTOR, '.title_link').text
    con_dict['text'] = view.find_element(By.CSS_SELECTOR, '.dsc_link').text
    con_dict['date'] = view.find_element(By.CSS_SELECTOR, '.sub').text
    result.append(con_dict)
    print(con_dict)
    
print('완료')


dataframe = pd.DataFrame(result)
dataframe


dataframe.to_csv(f'output/naver_{fname}.csv', sep =',', encoding='utf-8-sig')





from selenium import webdriver
from selenium.webdriver.common.by import By
from selenium.webdriver.chrome.options import Options
import time, random, pandas as pd

options = Options()
options.add_argument('--window-size=1026,1039')
options.add_argument('--window-position=2341,0')
options.add_experimental_option("detach", True)

driver = webdriver.Chrome(options=options)
url = 'https://play.google.com/store/apps/details?id=com.estsoft.picnic'
driver.get(url)
time.sleep(random.randint(2,3))





more_review = driver.find_element(By.XPATH, '//*[@id="yDmH0d"]/c-wiz[2]/div/div/div[1]/div/div[2]/div/div[1]/div[1]/c-wiz[5]/section/div/div[2]/div[5]/div/div/button/span')
more_review.click()


# 미리 스크롤해서 html 정보 받아오기
for i in range(10):
    review_box = driver.find_element(By.CSS_SELECTOR, 'div.fysCi')
    driver.execute_script('arguments[0].scrollTop = arguments[0].scrollHeight', review_box )
    time.sleep(random.randint(2, 3))





reviews = driver.find_elements(By.CSS_SELECTOR, 'div.RHo1pe')
len(reviews)


result = []
for i in reviews:
    review = {}
    review['text'] = i.find_element(By.CSS_SELECTOR, '.h3YV2d').text
    review['star'] = len(i.find_elements(By.CSS_SELECTOR, '.Z1Dz7b'))
    review['date'] = i.find_element(By.CSS_SELECTOR, '.bp9Aid').text
    result.append(review)
    print(review)


# 요소별 추출
def get_content(review):
    condic = {}
    try:
        condic['text'] = review.find_element(By.CSS_SELECTOR, 'div.h3YV2d').text
    except:
        condic['text'] = None
    condic['rat'] = len(review.find_elements(By.CSS_SELECTOR, 'span.Z1Dz7b'))
    condic['date'] = review.find_element(By.CSS_SELECTOR, 'span.bp9Aid').text
    return condic


result = [get_content(review) for review in reviews]


df = pd.DataFrame(result)
df


driver.close()






