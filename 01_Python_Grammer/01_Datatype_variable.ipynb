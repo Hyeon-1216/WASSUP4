{
 "cells": [
  {
   "cell_type": "markdown",
   "id": "456e5ede-c90d-4bde-a672-e733e8be9223",
   "metadata": {},
   "source": [
    "# 변수와 자료형"
   ]
  },
  {
   "cell_type": "markdown",
   "id": "1b48d43b-cb9b-460a-adaf-50d2282d8a2b",
   "metadata": {},
   "source": [
    "## 자료형의 값을 저장하는 공간, 변수"
   ]
  },
  {
   "cell_type": "code",
   "execution_count": 9,
   "id": "517762cd-4c14-457e-b255-4eaeaec15da8",
   "metadata": {},
   "outputs": [
    {
     "name": "stdout",
     "output_type": "stream",
     "text": [
      "1\n"
     ]
    }
   ],
   "source": [
    "a = 1\n",
    "print(a)"
   ]
  },
  {
   "cell_type": "code",
   "execution_count": 11,
   "id": "733cc809-a975-49d6-8154-a95e585718ce",
   "metadata": {},
   "outputs": [
    {
     "data": {
      "text/plain": [
       "'python'"
      ]
     },
     "execution_count": 11,
     "metadata": {},
     "output_type": "execute_result"
    }
   ],
   "source": [
    "b = 'python'\n",
    "b"
   ]
  },
  {
   "cell_type": "code",
   "execution_count": null,
   "id": "18312910-97e9-4928-bec8-696638015456",
   "metadata": {},
   "outputs": [],
   "source": [
    "c = {1, 2, 3}"
   ]
  },
  {
   "cell_type": "code",
   "execution_count": 284,
   "id": "cbbead19-a8b0-4831-8f53-56eeac626b10",
   "metadata": {},
   "outputs": [
    {
     "data": {
      "text/plain": [
       "[1, 2, 3]"
      ]
     },
     "execution_count": 284,
     "metadata": {},
     "output_type": "execute_result"
    }
   ],
   "source": [
    "a = [1, 2, 3]\n",
    "a"
   ]
  },
  {
   "cell_type": "code",
   "execution_count": 286,
   "id": "2142b4b9-56e5-4732-9b3b-fa51cebd3534",
   "metadata": {},
   "outputs": [
    {
     "data": {
      "text/plain": [
       "1933476028352"
      ]
     },
     "execution_count": 286,
     "metadata": {},
     "output_type": "execute_result"
    }
   ],
   "source": [
    "id(a)"
   ]
  },
  {
   "cell_type": "code",
   "execution_count": 288,
   "id": "c5c0d73d-9939-43d5-bd35-543f3f2fe124",
   "metadata": {},
   "outputs": [
    {
     "data": {
      "text/plain": [
       "[1, 2, 3]"
      ]
     },
     "execution_count": 288,
     "metadata": {},
     "output_type": "execute_result"
    }
   ],
   "source": [
    "b = a\n",
    "b"
   ]
  },
  {
   "cell_type": "code",
   "execution_count": 290,
   "id": "dadc5224-41e9-4461-8617-d560d9578a3c",
   "metadata": {},
   "outputs": [
    {
     "data": {
      "text/plain": [
       "1933476028352"
      ]
     },
     "execution_count": 290,
     "metadata": {},
     "output_type": "execute_result"
    }
   ],
   "source": [
    "id(b)"
   ]
  },
  {
   "cell_type": "code",
   "execution_count": 292,
   "id": "99a32965-7d6c-4f26-b860-ba4e27fea0d2",
   "metadata": {},
   "outputs": [
    {
     "data": {
      "text/plain": [
       "[1, 9, 3]"
      ]
     },
     "execution_count": 292,
     "metadata": {},
     "output_type": "execute_result"
    }
   ],
   "source": [
    "b[1] = 9\n",
    "b"
   ]
  },
  {
   "cell_type": "code",
   "execution_count": 294,
   "id": "21d529b9-9b42-463a-9a6b-b87625368288",
   "metadata": {},
   "outputs": [
    {
     "data": {
      "text/plain": [
       "[1, 9, 3]"
      ]
     },
     "execution_count": 294,
     "metadata": {},
     "output_type": "execute_result"
    }
   ],
   "source": [
    "a"
   ]
  },
  {
   "cell_type": "code",
   "execution_count": 296,
   "id": "8c261057-d62d-40b1-951e-21dc7b858694",
   "metadata": {},
   "outputs": [
    {
     "data": {
      "text/plain": [
       "True"
      ]
     },
     "execution_count": 296,
     "metadata": {},
     "output_type": "execute_result"
    }
   ],
   "source": [
    "a is b"
   ]
  },
  {
   "cell_type": "markdown",
   "id": "05fc2fdf-a66c-467b-80e4-e107fc9a1b2c",
   "metadata": {},
   "source": [
    "### 변수 다루기"
   ]
  },
  {
   "cell_type": "markdown",
   "id": "9cdf684a-ea52-48eb-a9c2-a3e6242ff4da",
   "metadata": {},
   "source": [
    "#### 1. [:] 이용하기"
   ]
  },
  {
   "cell_type": "code",
   "execution_count": 300,
   "id": "e4b79c34-2e71-4bfc-9754-f752602a3283",
   "metadata": {},
   "outputs": [
    {
     "data": {
      "text/plain": [
       "([1, 9, 3], [1, 9, 3], 1933476028352, 1933475909952)"
      ]
     },
     "execution_count": 300,
     "metadata": {},
     "output_type": "execute_result"
    }
   ],
   "source": [
    "b = a[:]\n",
    "a, b, id(a), id(b)"
   ]
  },
  {
   "cell_type": "code",
   "execution_count": 302,
   "id": "f06a8970-2d72-4266-92da-2ef1efcaddc0",
   "metadata": {},
   "outputs": [
    {
     "data": {
      "text/plain": [
       "False"
      ]
     },
     "execution_count": 302,
     "metadata": {},
     "output_type": "execute_result"
    }
   ],
   "source": [
    "a is b"
   ]
  },
  {
   "cell_type": "markdown",
   "id": "374995b3-5150-40a9-ae20-5982a8daf6eb",
   "metadata": {},
   "source": [
    "#### 2. copy 모듈 이용하기"
   ]
  },
  {
   "cell_type": "code",
   "execution_count": 305,
   "id": "57750112-ae55-42fc-b25b-97b4abe2d0a3",
   "metadata": {},
   "outputs": [
    {
     "data": {
      "text/plain": [
       "([1, 2, 3], [1, 2, 3])"
      ]
     },
     "execution_count": 305,
     "metadata": {},
     "output_type": "execute_result"
    }
   ],
   "source": [
    "from copy import copy\n",
    "a = [1, 2, 3]\n",
    "b = copy(a)\n",
    "a, b"
   ]
  },
  {
   "cell_type": "code",
   "execution_count": 307,
   "id": "1a722e10-c9b2-463c-840e-7965eb6ab378",
   "metadata": {},
   "outputs": [
    {
     "data": {
      "text/plain": [
       "(1933476170816, 1933476175616)"
      ]
     },
     "execution_count": 307,
     "metadata": {},
     "output_type": "execute_result"
    }
   ],
   "source": [
    "id(a), id(b)"
   ]
  },
  {
   "cell_type": "code",
   "execution_count": 309,
   "id": "66893676-2bee-467f-909c-82fb186d3b90",
   "metadata": {},
   "outputs": [
    {
     "data": {
      "text/plain": [
       "False"
      ]
     },
     "execution_count": 309,
     "metadata": {},
     "output_type": "execute_result"
    }
   ],
   "source": [
    "a is b"
   ]
  },
  {
   "cell_type": "code",
   "execution_count": 311,
   "id": "6ac400db-de40-4871-8849-a73ad952fa7c",
   "metadata": {},
   "outputs": [
    {
     "data": {
      "text/plain": [
       "False"
      ]
     },
     "execution_count": 311,
     "metadata": {},
     "output_type": "execute_result"
    }
   ],
   "source": [
    "c = a.copy()\n",
    "a is c"
   ]
  },
  {
   "cell_type": "markdown",
   "id": "ace84ba9-f7cb-48d7-afa8-3285cf73f50a",
   "metadata": {},
   "source": [
    "### 변수를 만드는 여러가지 방법"
   ]
  },
  {
   "cell_type": "code",
   "execution_count": 314,
   "id": "0333966a-3556-4482-bb76-801ca4a3244d",
   "metadata": {},
   "outputs": [],
   "source": [
    "a, b = ('python', 'life')"
   ]
  },
  {
   "cell_type": "code",
   "execution_count": 316,
   "id": "ddd05375-9856-434b-82f3-1c228d82f1ef",
   "metadata": {},
   "outputs": [
    {
     "data": {
      "text/plain": [
       "'python'"
      ]
     },
     "execution_count": 316,
     "metadata": {},
     "output_type": "execute_result"
    }
   ],
   "source": [
    "a"
   ]
  },
  {
   "cell_type": "code",
   "execution_count": 318,
   "id": "062b73cf-a4ec-42ef-a017-dc1231b4a277",
   "metadata": {},
   "outputs": [
    {
     "data": {
      "text/plain": [
       "'life'"
      ]
     },
     "execution_count": 318,
     "metadata": {},
     "output_type": "execute_result"
    }
   ],
   "source": [
    "b"
   ]
  },
  {
   "cell_type": "code",
   "execution_count": 320,
   "id": "ed26b6ac-d7f5-4d43-aaf7-2e976bd2117b",
   "metadata": {},
   "outputs": [],
   "source": [
    "a = b = 'python'"
   ]
  },
  {
   "cell_type": "code",
   "execution_count": 322,
   "id": "2331f6ca-4960-4c21-97d2-96e80c347c3c",
   "metadata": {},
   "outputs": [
    {
     "data": {
      "text/plain": [
       "('python', 'python')"
      ]
     },
     "execution_count": 322,
     "metadata": {},
     "output_type": "execute_result"
    }
   ],
   "source": [
    "a, b"
   ]
  },
  {
   "cell_type": "code",
   "execution_count": 328,
   "id": "2b9bfdf6-3e33-43c5-8540-9ff1d8d97305",
   "metadata": {},
   "outputs": [
    {
     "data": {
      "text/plain": [
       "(5, 3)"
      ]
     },
     "execution_count": 328,
     "metadata": {},
     "output_type": "execute_result"
    }
   ],
   "source": [
    "a = 3\n",
    "b = 5\n",
    "a, b = b, a\n",
    "a, b"
   ]
  },
  {
   "cell_type": "markdown",
   "id": "2e10776a-13c6-4937-a1a7-9880691cfaf4",
   "metadata": {},
   "source": [
    "## 숫자형"
   ]
  },
  {
   "cell_type": "markdown",
   "id": "eac2b07a-cb43-40a8-b616-fd6c10f1b6f0",
   "metadata": {},
   "source": [
    "### 정수형"
   ]
  },
  {
   "cell_type": "code",
   "execution_count": 17,
   "id": "ad216241-cfbd-4930-a39b-6177abb90005",
   "metadata": {},
   "outputs": [
    {
     "data": {
      "text/plain": [
       "123"
      ]
     },
     "execution_count": 17,
     "metadata": {},
     "output_type": "execute_result"
    }
   ],
   "source": [
    "a =123\n",
    "a"
   ]
  },
  {
   "cell_type": "code",
   "execution_count": 19,
   "id": "e8eeba79-c5c3-49b9-875c-5e689128aec2",
   "metadata": {},
   "outputs": [
    {
     "data": {
      "text/plain": [
       "-178"
      ]
     },
     "execution_count": 19,
     "metadata": {},
     "output_type": "execute_result"
    }
   ],
   "source": [
    "a = -178\n",
    "a"
   ]
  },
  {
   "cell_type": "code",
   "execution_count": 21,
   "id": "a7aae7af-68fd-4416-9cf9-82df5b71b6e8",
   "metadata": {},
   "outputs": [
    {
     "data": {
      "text/plain": [
       "0"
      ]
     },
     "execution_count": 21,
     "metadata": {},
     "output_type": "execute_result"
    }
   ],
   "source": [
    "a = 0\n",
    "a"
   ]
  },
  {
   "cell_type": "markdown",
   "id": "b4481d09-fdac-4919-bbc4-ece4c1806577",
   "metadata": {},
   "source": [
    "### 실수형"
   ]
  },
  {
   "cell_type": "code",
   "execution_count": 35,
   "id": "a22269a1-3748-473a-b919-be573b0c6520",
   "metadata": {},
   "outputs": [
    {
     "data": {
      "text/plain": [
       "(1.2, -3.45)"
      ]
     },
     "execution_count": 35,
     "metadata": {},
     "output_type": "execute_result"
    }
   ],
   "source": [
    "a = 1.2\n",
    "b = -3.45\n",
    "a, b"
   ]
  },
  {
   "cell_type": "code",
   "execution_count": 37,
   "id": "a58db26a-588b-4702-ba83-33cc6220b29c",
   "metadata": {},
   "outputs": [
    {
     "data": {
      "text/plain": [
       "42000000000.0"
      ]
     },
     "execution_count": 37,
     "metadata": {},
     "output_type": "execute_result"
    }
   ],
   "source": [
    "a = 4.2E10\n",
    "a"
   ]
  },
  {
   "cell_type": "markdown",
   "id": "d167b4c2-f2a3-4616-a7bb-eea8d879796e",
   "metadata": {},
   "source": [
    "### 8진수와 16진수"
   ]
  },
  {
   "cell_type": "code",
   "execution_count": 41,
   "id": "a0ec8893-fd8b-4c64-88b5-0f2136eeb714",
   "metadata": {},
   "outputs": [
    {
     "name": "stdout",
     "output_type": "stream",
     "text": [
      "127\n"
     ]
    }
   ],
   "source": [
    "a = 0o177\n",
    "print(a)"
   ]
  },
  {
   "cell_type": "code",
   "execution_count": 43,
   "id": "b0f0d957-be4a-46e2-b4be-2f910fd1db20",
   "metadata": {},
   "outputs": [
    {
     "data": {
      "text/plain": [
       "(2303, 2748)"
      ]
     },
     "execution_count": 43,
     "metadata": {},
     "output_type": "execute_result"
    }
   ],
   "source": [
    "a = 0x8ff\n",
    "b = 0xABC\n",
    "a, b"
   ]
  },
  {
   "cell_type": "markdown",
   "id": "f29ad9c9-8bc9-4084-9402-f893a607d695",
   "metadata": {},
   "source": [
    "### 사칙연산"
   ]
  },
  {
   "cell_type": "code",
   "execution_count": 46,
   "id": "dced3361-165e-4374-8a3c-8ee4a9c0e943",
   "metadata": {},
   "outputs": [
    {
     "data": {
      "text/plain": [
       "7"
      ]
     },
     "execution_count": 46,
     "metadata": {},
     "output_type": "execute_result"
    }
   ],
   "source": [
    "a = 3\n",
    "b = 4\n",
    "a + b"
   ]
  },
  {
   "cell_type": "code",
   "execution_count": 48,
   "id": "143e3470-ca38-4e60-943c-c9d7086d7234",
   "metadata": {},
   "outputs": [
    {
     "data": {
      "text/plain": [
       "(-1, 12, 0.75)"
      ]
     },
     "execution_count": 48,
     "metadata": {},
     "output_type": "execute_result"
    }
   ],
   "source": [
    "a-b, a*b, a/b"
   ]
  },
  {
   "cell_type": "markdown",
   "id": "6cc9d207-f189-40cd-8e34-8229ea51c7a7",
   "metadata": {},
   "source": [
    "### x의 y제곱을 나타내는 **연산자"
   ]
  },
  {
   "cell_type": "code",
   "execution_count": 51,
   "id": "f35fe1f6-3281-48e5-a359-ad56b1a857eb",
   "metadata": {},
   "outputs": [
    {
     "data": {
      "text/plain": [
       "81"
      ]
     },
     "execution_count": 51,
     "metadata": {},
     "output_type": "execute_result"
    }
   ],
   "source": [
    "a**b"
   ]
  },
  {
   "cell_type": "markdown",
   "id": "08a2a417-eb42-4319-9666-e87977c9d47f",
   "metadata": {},
   "source": [
    "### 나눗셈 후 나머지를 리턴"
   ]
  },
  {
   "cell_type": "code",
   "execution_count": 54,
   "id": "4f3139cf-cd3d-4abd-840d-41b8981d2676",
   "metadata": {},
   "outputs": [
    {
     "data": {
      "text/plain": [
       "(1, 3)"
      ]
     },
     "execution_count": 54,
     "metadata": {},
     "output_type": "execute_result"
    }
   ],
   "source": [
    "7 % 3, 3 % 7"
   ]
  },
  {
   "cell_type": "markdown",
   "id": "26764b09-0b48-44f1-bc9d-95e6bbe4ae79",
   "metadata": {},
   "source": [
    "### 나눗셈 후 몫을 리턴"
   ]
  },
  {
   "cell_type": "code",
   "execution_count": 57,
   "id": "7e16aee4-800b-4c3d-8377-93ef0f1413d9",
   "metadata": {},
   "outputs": [
    {
     "data": {
      "text/plain": [
       "1"
      ]
     },
     "execution_count": 57,
     "metadata": {},
     "output_type": "execute_result"
    }
   ],
   "source": [
    "7//4"
   ]
  },
  {
   "cell_type": "markdown",
   "id": "4521f125-0414-4714-99d2-b36d80ad952b",
   "metadata": {},
   "source": [
    "### 복합 연산자"
   ]
  },
  {
   "cell_type": "code",
   "execution_count": 60,
   "id": "3c53395e-6797-48c6-8d67-9b369a4df9bd",
   "metadata": {},
   "outputs": [
    {
     "data": {
      "text/plain": [
       "4"
      ]
     },
     "execution_count": 60,
     "metadata": {},
     "output_type": "execute_result"
    }
   ],
   "source": [
    "a = a + 1\n",
    "a"
   ]
  },
  {
   "cell_type": "code",
   "execution_count": 64,
   "id": "02a319c2-cb4b-4766-979d-f9c70455e876",
   "metadata": {},
   "outputs": [
    {
     "data": {
      "text/plain": [
       "6"
      ]
     },
     "execution_count": 64,
     "metadata": {},
     "output_type": "execute_result"
    }
   ],
   "source": [
    "a += 1\n",
    "a"
   ]
  },
  {
   "cell_type": "code",
   "execution_count": 66,
   "id": "59854e00-e28e-4c14-9bb7-d73c560f454b",
   "metadata": {},
   "outputs": [
    {
     "data": {
      "text/plain": [
       "5"
      ]
     },
     "execution_count": 66,
     "metadata": {},
     "output_type": "execute_result"
    }
   ],
   "source": [
    "a -= 1\n",
    "a"
   ]
  },
  {
   "cell_type": "markdown",
   "id": "4c6b28b2-496c-47a3-9899-f091479cf904",
   "metadata": {},
   "source": [
    "#### +=. -=, *=, /=, //=, %=. **= 모두 가능!"
   ]
  },
  {
   "cell_type": "markdown",
   "id": "4e9c8114-d337-473d-84f8-0740c850652f",
   "metadata": {},
   "source": [
    "## 문자열 자료형"
   ]
  },
  {
   "cell_type": "code",
   "execution_count": 76,
   "id": "52fc38f8-8c76-4f6c-a9f9-7195a3f8490c",
   "metadata": {},
   "outputs": [
    {
     "data": {
      "text/plain": [
       "'123'"
      ]
     },
     "execution_count": 76,
     "metadata": {},
     "output_type": "execute_result"
    }
   ],
   "source": [
    "\"Life is too short, You need Python\"\n",
    "\"a\"\n",
    "\"123\""
   ]
  },
  {
   "cell_type": "code",
   "execution_count": 78,
   "id": "0129f723-b049-47e2-87b1-d274d787f19d",
   "metadata": {},
   "outputs": [
    {
     "data": {
      "text/plain": [
       "'hello world'"
      ]
     },
     "execution_count": 78,
     "metadata": {},
     "output_type": "execute_result"
    }
   ],
   "source": [
    "\"hello world\""
   ]
  },
  {
   "cell_type": "code",
   "execution_count": 89,
   "id": "f3b987e3-2bb1-4904-b930-38bd5a43c7fd",
   "metadata": {},
   "outputs": [
    {
     "data": {
      "text/plain": [
       "'Python is fun'"
      ]
     },
     "execution_count": 89,
     "metadata": {},
     "output_type": "execute_result"
    }
   ],
   "source": [
    "'Python is fun'"
   ]
  },
  {
   "cell_type": "code",
   "execution_count": 91,
   "id": "da5d6617-22f3-4628-a08b-77e80815f9c0",
   "metadata": {},
   "outputs": [
    {
     "data": {
      "text/plain": [
       "'Life is too short, You need Python'"
      ]
     },
     "execution_count": 91,
     "metadata": {},
     "output_type": "execute_result"
    }
   ],
   "source": [
    "\"\"\"Life is too short, You need Python\"\"\""
   ]
  },
  {
   "cell_type": "code",
   "execution_count": 93,
   "id": "e752a057-9bf9-4374-89f2-6dd68fe41c0a",
   "metadata": {},
   "outputs": [
    {
     "data": {
      "text/plain": [
       "'Life is too short, You need Python'"
      ]
     },
     "execution_count": 93,
     "metadata": {},
     "output_type": "execute_result"
    }
   ],
   "source": [
    "'''Life is too short, You need Python'''"
   ]
  },
  {
   "cell_type": "markdown",
   "id": "0a131388-b52b-4d6d-8ea7-a845a8889d78",
   "metadata": {},
   "source": [
    "### 문자열에 작은 따옴표 포함하기"
   ]
  },
  {
   "cell_type": "code",
   "execution_count": 96,
   "id": "5befdf93-f785-49a5-a7d5-8d0ac2ba88e2",
   "metadata": {},
   "outputs": [
    {
     "data": {
      "text/plain": [
       "\"Python's favorite food is perl\""
      ]
     },
     "execution_count": 96,
     "metadata": {},
     "output_type": "execute_result"
    }
   ],
   "source": [
    "\"Python's favorite food is perl\""
   ]
  },
  {
   "cell_type": "markdown",
   "id": "f72cef43-ea03-4a4f-b1cd-a102a04ad687",
   "metadata": {},
   "source": [
    "### 문자열에 큰 따옴표 포함하기"
   ]
  },
  {
   "cell_type": "code",
   "execution_count": 101,
   "id": "fc7ac12a-880b-4a27-b7f6-d7fcdb945e8b",
   "metadata": {},
   "outputs": [
    {
     "data": {
      "text/plain": [
       "'\"Python is very easy.\" he says.'"
      ]
     },
     "execution_count": 101,
     "metadata": {},
     "output_type": "execute_result"
    }
   ],
   "source": [
    "'\"Python is very easy.\" he says.'"
   ]
  },
  {
   "cell_type": "markdown",
   "id": "407b5c7d-fe78-47a6-816b-1f01daa606ff",
   "metadata": {},
   "source": [
    "### 역슬래시를 사용해서 작은 따옴표와 큰따옴표를 문자열에 포함시키기"
   ]
  },
  {
   "cell_type": "code",
   "execution_count": 108,
   "id": "afc1e99b-b6f2-4025-9615-5d3f5f24c8d2",
   "metadata": {},
   "outputs": [
    {
     "data": {
      "text/plain": [
       "\"Python's favorite food is perl\""
      ]
     },
     "execution_count": 108,
     "metadata": {},
     "output_type": "execute_result"
    }
   ],
   "source": [
    "food = 'Python\\'s favorite food is perl'\n",
    "food"
   ]
  },
  {
   "cell_type": "code",
   "execution_count": 110,
   "id": "163e34fb-4a45-46c5-b8b6-88e36e1b77da",
   "metadata": {},
   "outputs": [
    {
     "data": {
      "text/plain": [
       "'\"Python is very easy.\" he says.'"
      ]
     },
     "execution_count": 110,
     "metadata": {},
     "output_type": "execute_result"
    }
   ],
   "source": [
    "say = \"\\\"Python is very easy.\\\" he says.\"\n",
    "say"
   ]
  },
  {
   "cell_type": "markdown",
   "id": "fbebd892-4a38-4b55-ad78-60bc76c95e3d",
   "metadata": {},
   "source": [
    "### 여러 줄인 문자열을 변수에 대입하고 싶을 때"
   ]
  },
  {
   "cell_type": "markdown",
   "id": "5084883e-bc07-409a-9092-311edefd56a3",
   "metadata": {},
   "source": [
    "#### 줄을 바꾸기 위한 이스케이프 코드 \\n 삽입하기"
   ]
  },
  {
   "cell_type": "code",
   "execution_count": 122,
   "id": "45b489e6-59f2-46a6-8a30-cc2024bf3b4e",
   "metadata": {},
   "outputs": [
    {
     "data": {
      "text/plain": [
       "'Life is too short.\\nYou need Python'"
      ]
     },
     "execution_count": 122,
     "metadata": {},
     "output_type": "execute_result"
    }
   ],
   "source": [
    "multiline = 'Life is too short.\\nYou need Python'\n",
    "multiline"
   ]
  },
  {
   "cell_type": "code",
   "execution_count": 124,
   "id": "ec60a6d1-b10b-4701-a81e-3119df63bd0d",
   "metadata": {},
   "outputs": [
    {
     "name": "stdout",
     "output_type": "stream",
     "text": [
      "Life is too short.\n",
      "You need Python\n"
     ]
    }
   ],
   "source": [
    "print(multiline)"
   ]
  },
  {
   "cell_type": "markdown",
   "id": "8ab19d18-6c77-4516-9258-bb0c6dd2cab3",
   "metadata": {},
   "source": [
    "#### 연속된 작은 따옴표 3개 또는 큰 따옴표 3개 사용하기"
   ]
  },
  {
   "cell_type": "code",
   "execution_count": 129,
   "id": "85519bcd-931e-4ca4-b3f5-155ddf8bfb93",
   "metadata": {},
   "outputs": [
    {
     "data": {
      "text/plain": [
       "'\\nLife is too short\\nYou need Python\\n'"
      ]
     },
     "execution_count": 129,
     "metadata": {},
     "output_type": "execute_result"
    }
   ],
   "source": [
    "'''\n",
    "Life is too short\n",
    "You need Python\n",
    "'''"
   ]
  },
  {
   "cell_type": "code",
   "execution_count": 131,
   "id": "23b00738-2025-4891-a1e9-f8036745f8e2",
   "metadata": {},
   "outputs": [
    {
     "data": {
      "text/plain": [
       "'\\nLife is too short\\nYou need Python\\n'"
      ]
     },
     "execution_count": 131,
     "metadata": {},
     "output_type": "execute_result"
    }
   ],
   "source": [
    "\"\"\"\n",
    "Life is too short\n",
    "You need Python\n",
    "\"\"\""
   ]
  },
  {
   "cell_type": "markdown",
   "id": "c99f49ab-27d8-4e70-8966-df90de7d689e",
   "metadata": {},
   "source": [
    "### 문자열 연산하기"
   ]
  },
  {
   "cell_type": "code",
   "execution_count": 136,
   "id": "9130baf3-0192-49b1-8082-053455c6cd52",
   "metadata": {},
   "outputs": [
    {
     "data": {
      "text/plain": [
       "'python is fun'"
      ]
     },
     "execution_count": 136,
     "metadata": {},
     "output_type": "execute_result"
    }
   ],
   "source": [
    "head = \"python\"\n",
    "tail = ' is fun'\n",
    "head + tail"
   ]
  },
  {
   "cell_type": "code",
   "execution_count": 138,
   "id": "dcda1e77-d07e-438e-9f62-efd8d009e47a",
   "metadata": {},
   "outputs": [
    {
     "data": {
      "text/plain": [
       "'pythonpython'"
      ]
     },
     "execution_count": 138,
     "metadata": {},
     "output_type": "execute_result"
    }
   ],
   "source": [
    "head * 2"
   ]
  },
  {
   "cell_type": "code",
   "execution_count": 142,
   "id": "2d1e02a7-be10-40e4-9244-8b8c2294e3ef",
   "metadata": {},
   "outputs": [
    {
     "name": "stdout",
     "output_type": "stream",
     "text": [
      "==================================================\n",
      "My Program\n",
      "==================================================\n"
     ]
    }
   ],
   "source": [
    "print(\"=\" * 50)\n",
    "print(\"My Program\")\n",
    "print(\"=\" * 50)"
   ]
  },
  {
   "cell_type": "code",
   "execution_count": 144,
   "id": "a2246862-3f38-40ce-b82e-9d8a783fe355",
   "metadata": {},
   "outputs": [
    {
     "data": {
      "text/plain": [
       "17"
      ]
     },
     "execution_count": 144,
     "metadata": {},
     "output_type": "execute_result"
    }
   ],
   "source": [
    "a = \"Life is too short\"\n",
    "len(a)"
   ]
  },
  {
   "cell_type": "markdown",
   "id": "1003e1ab-4c76-479b-be38-c9971dbab0c1",
   "metadata": {},
   "source": [
    "### 문자열 인덱싱과 슬라이싱"
   ]
  },
  {
   "cell_type": "markdown",
   "id": "68cc0953-8ed4-4d87-8339-9a11049874e7",
   "metadata": {},
   "source": [
    "#### 문자열 인덱싱"
   ]
  },
  {
   "cell_type": "code",
   "execution_count": 148,
   "id": "c7aa5c52-ad0b-4ac2-94ac-db680d3138cb",
   "metadata": {},
   "outputs": [
    {
     "data": {
      "text/plain": [
       "'Life is too short, You need Python'"
      ]
     },
     "execution_count": 148,
     "metadata": {},
     "output_type": "execute_result"
    }
   ],
   "source": [
    "a = \"Life is too short, You need Python\"\n",
    "a"
   ]
  },
  {
   "cell_type": "code",
   "execution_count": 150,
   "id": "36b45462-89bf-457e-ac95-1586bdc467fc",
   "metadata": {},
   "outputs": [
    {
     "data": {
      "text/plain": [
       "'e'"
      ]
     },
     "execution_count": 150,
     "metadata": {},
     "output_type": "execute_result"
    }
   ],
   "source": [
    "a[3]"
   ]
  },
  {
   "cell_type": "code",
   "execution_count": 152,
   "id": "f6e5cbd2-693e-4b56-90db-efcdfca490c2",
   "metadata": {},
   "outputs": [
    {
     "data": {
      "text/plain": [
       "','"
      ]
     },
     "execution_count": 152,
     "metadata": {},
     "output_type": "execute_result"
    }
   ],
   "source": [
    "a[17]"
   ]
  },
  {
   "cell_type": "code",
   "execution_count": 156,
   "id": "646596d4-e620-48bd-9645-5bb2ec830df2",
   "metadata": {},
   "outputs": [
    {
     "data": {
      "text/plain": [
       "'P'"
      ]
     },
     "execution_count": 156,
     "metadata": {},
     "output_type": "execute_result"
    }
   ],
   "source": [
    "a[-6]"
   ]
  },
  {
   "cell_type": "code",
   "execution_count": 162,
   "id": "388a2b02-41b7-467e-8ebb-7c7e1428dc65",
   "metadata": {},
   "outputs": [
    {
     "data": {
      "text/plain": [
       "'Life'"
      ]
     },
     "execution_count": 162,
     "metadata": {},
     "output_type": "execute_result"
    }
   ],
   "source": [
    "b = a[0]+a[1]+a[2]+a[3]\n",
    "b"
   ]
  },
  {
   "cell_type": "markdown",
   "id": "9d288d93-7507-4b4d-8761-18aeb45d0365",
   "metadata": {},
   "source": [
    "#### 슬라이싱 [n:m] -> m이전 글자까지"
   ]
  },
  {
   "cell_type": "code",
   "execution_count": 165,
   "id": "c5ed6b23-4ed8-48b9-b442-599d256dd8f7",
   "metadata": {},
   "outputs": [
    {
     "data": {
      "text/plain": [
       "'Life'"
      ]
     },
     "execution_count": 165,
     "metadata": {},
     "output_type": "execute_result"
    }
   ],
   "source": [
    "a[0:4]"
   ]
  },
  {
   "cell_type": "code",
   "execution_count": 168,
   "id": "e27cbc05-b051-4f8d-ad25-00d9328e59aa",
   "metadata": {},
   "outputs": [
    {
     "data": {
      "text/plain": [
       "'short, '"
      ]
     },
     "execution_count": 168,
     "metadata": {},
     "output_type": "execute_result"
    }
   ],
   "source": [
    "a[12:19]"
   ]
  },
  {
   "cell_type": "code",
   "execution_count": 170,
   "id": "eb49189d-dd27-47db-a078-73d0c4a70c6c",
   "metadata": {},
   "outputs": [
    {
     "data": {
      "text/plain": [
       "'short, You need Python'"
      ]
     },
     "execution_count": 170,
     "metadata": {},
     "output_type": "execute_result"
    }
   ],
   "source": [
    "a[12:]"
   ]
  },
  {
   "cell_type": "code",
   "execution_count": 172,
   "id": "e09dd989-8c82-4689-9f39-8962969bc6d3",
   "metadata": {},
   "outputs": [
    {
     "data": {
      "text/plain": [
       "'Life is too short, You need Python'"
      ]
     },
     "execution_count": 172,
     "metadata": {},
     "output_type": "execute_result"
    }
   ],
   "source": [
    "a[:]"
   ]
  },
  {
   "cell_type": "code",
   "execution_count": 176,
   "id": "14c39e09-e70d-45da-be2c-9a106654c321",
   "metadata": {},
   "outputs": [
    {
     "data": {
      "text/plain": [
       "'You need'"
      ]
     },
     "execution_count": 176,
     "metadata": {},
     "output_type": "execute_result"
    }
   ],
   "source": [
    "a[-15:-7]"
   ]
  },
  {
   "cell_type": "markdown",
   "id": "ac7c38f1-4c51-4251-ba42-48f93c39c1e2",
   "metadata": {},
   "source": [
    "#### 슬라이싱으로 문자열 나누기"
   ]
  },
  {
   "cell_type": "code",
   "execution_count": 206,
   "id": "39f0611d-6950-4ee2-b045-8fbd9ced9b56",
   "metadata": {},
   "outputs": [
    {
     "data": {
      "text/plain": [
       "('20240904', 'sunny')"
      ]
     },
     "execution_count": 206,
     "metadata": {},
     "output_type": "execute_result"
    }
   ],
   "source": [
    "a = \"20240904sunny\"\n",
    "date = a[:8]\n",
    "weather = a[-5:]\n",
    "date, weather"
   ]
  },
  {
   "cell_type": "code",
   "execution_count": 208,
   "id": "92a10f6c-8fb7-4d84-85f3-b0881242d93a",
   "metadata": {},
   "outputs": [
    {
     "data": {
      "text/plain": [
       "('2024', '0904')"
      ]
     },
     "execution_count": 208,
     "metadata": {},
     "output_type": "execute_result"
    }
   ],
   "source": [
    "year = a[:4]\n",
    "day = a[4:8]\n",
    "year, day"
   ]
  },
  {
   "cell_type": "markdown",
   "id": "dd111a80-8870-4be9-ad5f-122603a356f9",
   "metadata": {},
   "source": [
    "### 문자열은 변경할 수 있을까?"
   ]
  },
  {
   "cell_type": "markdown",
   "id": "36073a91-d279-4e44-9787-c0545df6e464",
   "metadata": {},
   "source": [
    "NO. 문자열의 요솟값은 바꿀 수 있는 값이 아니기 때문이다(그래서 문자열을 ‘변경 불가능한(immutable) 자료형’"
   ]
  },
  {
   "cell_type": "code",
   "execution_count": 211,
   "id": "2c3c199f-906d-40a8-a143-6f50f4d685d4",
   "metadata": {},
   "outputs": [
    {
     "data": {
      "text/plain": [
       "'i'"
      ]
     },
     "execution_count": 211,
     "metadata": {},
     "output_type": "execute_result"
    }
   ],
   "source": [
    "a = \"pithon\"\n",
    "a[1]"
   ]
  },
  {
   "cell_type": "code",
   "execution_count": 220,
   "id": "f49da421-fc91-4c3d-8705-6bc7209f6fa4",
   "metadata": {},
   "outputs": [
    {
     "ename": "TypeError",
     "evalue": "'str' object does not support item assignment",
     "output_type": "error",
     "traceback": [
      "\u001b[1;31m---------------------------------------------------------------------------\u001b[0m",
      "\u001b[1;31mTypeError\u001b[0m                                 Traceback (most recent call last)",
      "Cell \u001b[1;32mIn[220], line 1\u001b[0m\n\u001b[1;32m----> 1\u001b[0m \u001b[43ma\u001b[49m\u001b[43m[\u001b[49m\u001b[38;5;241;43m1\u001b[39;49m\u001b[43m]\u001b[49m \u001b[38;5;241m=\u001b[39m \u001b[38;5;124m'\u001b[39m\u001b[38;5;124my\u001b[39m\u001b[38;5;124m'\u001b[39m\n\u001b[0;32m      2\u001b[0m a\n",
      "\u001b[1;31mTypeError\u001b[0m: 'str' object does not support item assignment"
     ]
    }
   ],
   "source": [
    "a[1] = 'y'\n",
    "a"
   ]
  },
  {
   "cell_type": "code",
   "execution_count": 222,
   "id": "4b4cf989-342e-4f6a-82d6-3150d4b83432",
   "metadata": {},
   "outputs": [
    {
     "data": {
      "text/plain": [
       "'Python'"
      ]
     },
     "execution_count": 222,
     "metadata": {},
     "output_type": "execute_result"
    }
   ],
   "source": [
    "a = \"Pithon\"\n",
    "a[0] +'y' + a[2:]"
   ]
  },
  {
   "cell_type": "markdown",
   "id": "fdd85a4a-a40f-472b-b185-a5b73ed4f941",
   "metadata": {},
   "source": [
    "### 문자열 포맷팅"
   ]
  },
  {
   "cell_type": "code",
   "execution_count": 227,
   "id": "0e7d65b8-2373-4fd4-883c-23aa7f4e95f5",
   "metadata": {},
   "outputs": [
    {
     "data": {
      "text/plain": [
       "'I eat 3 apples.'"
      ]
     },
     "execution_count": 227,
     "metadata": {},
     "output_type": "execute_result"
    }
   ],
   "source": [
    "\"I eat %d apples.\" %3"
   ]
  },
  {
   "cell_type": "code",
   "execution_count": 229,
   "id": "1a609bee-7672-49e1-a9c6-39d0028a1979",
   "metadata": {},
   "outputs": [
    {
     "data": {
      "text/plain": [
       "'I eat five appples.'"
      ]
     },
     "execution_count": 229,
     "metadata": {},
     "output_type": "execute_result"
    }
   ],
   "source": [
    "\"I eat %s appples.\" %\"five\""
   ]
  },
  {
   "cell_type": "code",
   "execution_count": 231,
   "id": "dd113dd3-f2f1-4724-891d-7dedf2de2d88",
   "metadata": {},
   "outputs": [
    {
     "data": {
      "text/plain": [
       "'I eat 3 apples'"
      ]
     },
     "execution_count": 231,
     "metadata": {},
     "output_type": "execute_result"
    }
   ],
   "source": [
    "number = 3\n",
    "\"I eat %d apples\"%number"
   ]
  },
  {
   "cell_type": "code",
   "execution_count": 235,
   "id": "ceba89a3-5850-4327-9842-6af078c8f938",
   "metadata": {},
   "outputs": [
    {
     "data": {
      "text/plain": [
       "'I ate 10 apples. so I was sick for three days.'"
      ]
     },
     "execution_count": 235,
     "metadata": {},
     "output_type": "execute_result"
    }
   ],
   "source": [
    "number = 10\n",
    "day = \"three\"\n",
    "\"I ate %d apples. so I was sick for %s days.\" %(number, day)"
   ]
  },
  {
   "cell_type": "markdown",
   "id": "6c428504-cee1-483d-8d60-2e092fd3fc6d",
   "metadata": {},
   "source": [
    "##### Error is 98%"
   ]
  },
  {
   "cell_type": "code",
   "execution_count": 246,
   "id": "3c3623bf-16fd-459a-adac-c5dd4ef42825",
   "metadata": {},
   "outputs": [
    {
     "data": {
      "text/plain": [
       "'Error is 98%'"
      ]
     },
     "execution_count": 246,
     "metadata": {},
     "output_type": "execute_result"
    }
   ],
   "source": [
    "\"Error is %d%%\"%98"
   ]
  },
  {
   "cell_type": "markdown",
   "id": "2314f356-232a-45a6-94ce-5510e6616fca",
   "metadata": {},
   "source": [
    "##### 소수점 표현하기"
   ]
  },
  {
   "cell_type": "code",
   "execution_count": 249,
   "id": "6207c766-6bb9-49c4-9910-26eda10b8682",
   "metadata": {},
   "outputs": [
    {
     "data": {
      "text/plain": [
       "'3.42'"
      ]
     },
     "execution_count": 249,
     "metadata": {},
     "output_type": "execute_result"
    }
   ],
   "source": [
    "\"%0.2f\"%3.42134234"
   ]
  },
  {
   "cell_type": "code",
   "execution_count": 251,
   "id": "ba3d593c-2f6e-431c-8f2d-58ef62792979",
   "metadata": {},
   "outputs": [
    {
     "data": {
      "text/plain": [
       "'3.4213'"
      ]
     },
     "execution_count": 251,
     "metadata": {},
     "output_type": "execute_result"
    }
   ],
   "source": [
    "\"%0.4f\"%3.42134234"
   ]
  },
  {
   "cell_type": "markdown",
   "id": "86a2e2cb-d692-40f7-9cf4-8fbd14811c69",
   "metadata": {},
   "source": [
    "#### 포맷함수를 사용한 포매팅"
   ]
  },
  {
   "cell_type": "code",
   "execution_count": 256,
   "id": "cf1ff532-b80c-40bc-8083-02c399747fca",
   "metadata": {},
   "outputs": [
    {
     "data": {
      "text/plain": [
       "'I eat 3 apples.'"
      ]
     },
     "execution_count": 256,
     "metadata": {},
     "output_type": "execute_result"
    }
   ],
   "source": [
    "\"I eat {0} apples.\".format(3)"
   ]
  },
  {
   "cell_type": "code",
   "execution_count": 258,
   "id": "04960634-5e56-4a82-b8b2-0b9c314e3c9a",
   "metadata": {},
   "outputs": [
    {
     "data": {
      "text/plain": [
       "'I eat five apples.'"
      ]
     },
     "execution_count": 258,
     "metadata": {},
     "output_type": "execute_result"
    }
   ],
   "source": [
    "\"I eat {0} apples.\".format(\"five\")"
   ]
  },
  {
   "cell_type": "code",
   "execution_count": 266,
   "id": "0f03195a-4868-482c-b181-1e5bde7d4f3d",
   "metadata": {},
   "outputs": [
    {
     "data": {
      "text/plain": [
       "'I ate 10 apples. so I was sick for three days'"
      ]
     },
     "execution_count": 266,
     "metadata": {},
     "output_type": "execute_result"
    }
   ],
   "source": [
    "\"I ate {} apples. so I was sick for {} days\".format(number, day)"
   ]
  },
  {
   "cell_type": "code",
   "execution_count": 268,
   "id": "1f6ebc1b-9bc4-43d7-bd3d-8624e732e2f8",
   "metadata": {},
   "outputs": [
    {
     "data": {
      "text/plain": [
       "'I ate 10 apples. so I was sick for 10 days'"
      ]
     },
     "execution_count": 268,
     "metadata": {},
     "output_type": "execute_result"
    }
   ],
   "source": [
    "\"I ate {a} apples. so I was sick for {b} days\".format(a=number, b=number)"
   ]
  },
  {
   "cell_type": "markdown",
   "id": "29b33f93-11ec-44c0-9a68-9d6492cd057f",
   "metadata": {},
   "source": [
    "##### 소수점 표현하기"
   ]
  },
  {
   "cell_type": "code",
   "execution_count": 271,
   "id": "9f115112-681d-4341-bf2e-9d9616e7ca11",
   "metadata": {},
   "outputs": [
    {
     "data": {
      "text/plain": [
       "'3.1416'"
      ]
     },
     "execution_count": 271,
     "metadata": {},
     "output_type": "execute_result"
    }
   ],
   "source": [
    "y = 3.141592\n",
    "\"{0:0.4f}\".format(y)"
   ]
  },
  {
   "cell_type": "code",
   "execution_count": 273,
   "id": "4a5a1a8b-a6ca-48d6-83f8-730084e64978",
   "metadata": {},
   "outputs": [
    {
     "data": {
      "text/plain": [
       "'{and}'"
      ]
     },
     "execution_count": 273,
     "metadata": {},
     "output_type": "execute_result"
    }
   ],
   "source": [
    "\"{{and}}\".format()"
   ]
  },
  {
   "cell_type": "markdown",
   "id": "ce5d182e-239e-4165-ad8a-32723f9394cd",
   "metadata": {},
   "source": [
    "#### f문자열 포매팅"
   ]
  },
  {
   "cell_type": "code",
   "execution_count": 288,
   "id": "1d51e364-aef5-4e48-a683-d7dcf459e966",
   "metadata": {},
   "outputs": [
    {
     "data": {
      "text/plain": [
       "'나의 이름은 홍길동입니다. 나이는 30입니다.'"
      ]
     },
     "execution_count": 288,
     "metadata": {},
     "output_type": "execute_result"
    }
   ],
   "source": [
    "name = '홍길동'\n",
    "age = 30\n",
    "'나의 이름은 {a}입니다. 나이는 {b}입니다.'.format(a=name, b=age)"
   ]
  },
  {
   "cell_type": "code",
   "execution_count": 292,
   "id": "7f2c8a43-b1b0-42ce-af53-79bb19c98a54",
   "metadata": {},
   "outputs": [
    {
     "data": {
      "text/plain": [
       "'나의 이름은 홍길동입니다. 나이는 30입니다.'"
      ]
     },
     "execution_count": 292,
     "metadata": {},
     "output_type": "execute_result"
    }
   ],
   "source": [
    "f'나의 이름은 {name}입니다. 나이는 {age}입니다.'"
   ]
  },
  {
   "cell_type": "code",
   "execution_count": 290,
   "id": "34fde069-826f-43f2-9487-e4bd30360cf9",
   "metadata": {},
   "outputs": [
    {
     "data": {
      "text/plain": [
       "'나의 이름은 홍길동입니다. 내년이면 31살이 됩니다.'"
      ]
     },
     "execution_count": 290,
     "metadata": {},
     "output_type": "execute_result"
    }
   ],
   "source": [
    "f'나의 이름은 {name}입니다. 내년이면 {age+1}살이 됩니다.'"
   ]
  },
  {
   "cell_type": "code",
   "execution_count": 294,
   "id": "887369f0-fe7a-4db7-b7a3-cb6ece458e9f",
   "metadata": {},
   "outputs": [
    {
     "data": {
      "text/plain": [
       "{'name': '홍길동', 'age': 30}"
      ]
     },
     "execution_count": 294,
     "metadata": {},
     "output_type": "execute_result"
    }
   ],
   "source": [
    "d = {'name':'홍길동', 'age':30}\n",
    "d"
   ]
  },
  {
   "cell_type": "code",
   "execution_count": 296,
   "id": "5bb1592b-80e0-4583-8384-6f21c295f6ee",
   "metadata": {},
   "outputs": [
    {
     "data": {
      "text/plain": [
       "'홍길동'"
      ]
     },
     "execution_count": 296,
     "metadata": {},
     "output_type": "execute_result"
    }
   ],
   "source": [
    "d['name']"
   ]
  },
  {
   "cell_type": "code",
   "execution_count": 300,
   "id": "fd595f34-7e09-42d9-9d83-39be65ccdbdf",
   "metadata": {},
   "outputs": [
    {
     "data": {
      "text/plain": [
       "'나의 이름은 홍길동입니다. 나이는 30입니다.'"
      ]
     },
     "execution_count": 300,
     "metadata": {},
     "output_type": "execute_result"
    }
   ],
   "source": [
    "f'나의 이름은 {d['name']}입니다. 나이는 {d['age']}입니다.' "
   ]
  },
  {
   "cell_type": "code",
   "execution_count": 308,
   "id": "dc8b1ec1-d8c9-4111-9b1d-7e6f0f46d5bc",
   "metadata": {},
   "outputs": [
    {
     "data": {
      "text/plain": [
       "'3.1633'"
      ]
     },
     "execution_count": 308,
     "metadata": {},
     "output_type": "execute_result"
    }
   ],
   "source": [
    "y=3.163251\n",
    "f'{y:0.4f}'"
   ]
  },
  {
   "cell_type": "code",
   "execution_count": 310,
   "id": "70f71b17-f6bf-4de3-9b64-aa648d713450",
   "metadata": {},
   "outputs": [
    {
     "data": {
      "text/plain": [
       "'    3.1633'"
      ]
     },
     "execution_count": 310,
     "metadata": {},
     "output_type": "execute_result"
    }
   ],
   "source": [
    "f'{y:10.4f}'"
   ]
  },
  {
   "cell_type": "markdown",
   "id": "f9f28084-3d15-4dfd-8c85-0a9f9348cee9",
   "metadata": {},
   "source": [
    "### 문자열 관련 함수들"
   ]
  },
  {
   "cell_type": "markdown",
   "id": "84537c74-7e8d-430f-98a1-7dfd2c74dd82",
   "metadata": {},
   "source": [
    "#### 문자 개수 세기 - count"
   ]
  },
  {
   "cell_type": "code",
   "execution_count": 316,
   "id": "d7aa00fd-b1d8-496c-a55c-489ab318f481",
   "metadata": {},
   "outputs": [
    {
     "data": {
      "text/plain": [
       "2"
      ]
     },
     "execution_count": 316,
     "metadata": {},
     "output_type": "execute_result"
    }
   ],
   "source": [
    "a = \"hobby\"\n",
    "a.count('b')"
   ]
  },
  {
   "cell_type": "markdown",
   "id": "bebec7e7-e5b3-4d82-a18a-a88ddd3ef985",
   "metadata": {},
   "source": [
    "#### 위치 알려주기1 - find"
   ]
  },
  {
   "cell_type": "code",
   "execution_count": 319,
   "id": "d3e9a485-69e8-4e73-a95d-3661832eef0b",
   "metadata": {},
   "outputs": [
    {
     "data": {
      "text/plain": [
       "14"
      ]
     },
     "execution_count": 319,
     "metadata": {},
     "output_type": "execute_result"
    }
   ],
   "source": [
    "a = \"Python is the best choice\"\n",
    "a. find('b')"
   ]
  },
  {
   "cell_type": "code",
   "execution_count": 332,
   "id": "7e802956-b2e9-43ea-8616-0de75be7bf46",
   "metadata": {},
   "outputs": [
    {
     "data": {
      "text/plain": [
       "-1"
      ]
     },
     "execution_count": 332,
     "metadata": {},
     "output_type": "execute_result"
    }
   ],
   "source": [
    "a.find('k') #-1는 없다는 거"
   ]
  },
  {
   "cell_type": "code",
   "execution_count": 323,
   "id": "7b3c1fb0-a0b5-4912-bd51-c00f9dd7e971",
   "metadata": {},
   "outputs": [
    {
     "data": {
      "text/plain": [
       "<function str.find>"
      ]
     },
     "execution_count": 323,
     "metadata": {},
     "output_type": "execute_result"
    }
   ],
   "source": [
    "a.find"
   ]
  },
  {
   "cell_type": "code",
   "execution_count": 325,
   "id": "f54ddb07-fdac-40db-830e-9d4888c3f1dd",
   "metadata": {},
   "outputs": [
    {
     "name": "stdout",
     "output_type": "stream",
     "text": [
      "Help on built-in function find:\n",
      "\n",
      "find(...) method of builtins.str instance\n",
      "    S.find(sub[, start[, end]]) -> int\n",
      "\n",
      "    Return the lowest index in S where substring sub is found,\n",
      "    such that sub is contained within S[start:end].  Optional\n",
      "    arguments start and end are interpreted as in slice notation.\n",
      "\n",
      "    Return -1 on failure.\n",
      "\n"
     ]
    }
   ],
   "source": [
    "help(a.find)"
   ]
  },
  {
   "cell_type": "markdown",
   "id": "3d98e676-4632-4193-8ec7-db5225b7730b",
   "metadata": {},
   "source": [
    "#### 위치 알려주기2 - index"
   ]
  },
  {
   "cell_type": "code",
   "execution_count": 328,
   "id": "4f477789-a48e-4140-bf5f-ff3ad9023966",
   "metadata": {},
   "outputs": [
    {
     "data": {
      "text/plain": [
       "(8, 8)"
      ]
     },
     "execution_count": 328,
     "metadata": {},
     "output_type": "execute_result"
    }
   ],
   "source": [
    "a = 'Life is too short'\n",
    "a.index('t'), a.find('t')"
   ]
  },
  {
   "cell_type": "code",
   "execution_count": 330,
   "id": "2e31ea2f-b576-4d0a-9544-ddd810f6985e",
   "metadata": {},
   "outputs": [
    {
     "ename": "ValueError",
     "evalue": "substring not found",
     "output_type": "error",
     "traceback": [
      "\u001b[1;31m---------------------------------------------------------------------------\u001b[0m",
      "\u001b[1;31mValueError\u001b[0m                                Traceback (most recent call last)",
      "Cell \u001b[1;32mIn[330], line 1\u001b[0m\n\u001b[1;32m----> 1\u001b[0m \u001b[43ma\u001b[49m\u001b[38;5;241;43m.\u001b[39;49m\u001b[43mindex\u001b[49m\u001b[43m(\u001b[49m\u001b[38;5;124;43m'\u001b[39;49m\u001b[38;5;124;43mk\u001b[39;49m\u001b[38;5;124;43m'\u001b[39;49m\u001b[43m)\u001b[49m\n",
      "\u001b[1;31mValueError\u001b[0m: substring not found"
     ]
    }
   ],
   "source": [
    "a.index('k')"
   ]
  },
  {
   "cell_type": "markdown",
   "id": "c9b6189b-747c-4492-94ec-69f94b1bde86",
   "metadata": {},
   "source": [
    "index는 없으면 오류가 나지만, find는 그냥 -1 반환"
   ]
  },
  {
   "cell_type": "markdown",
   "id": "4eb8f3f0-6817-4e00-89fb-99c80c864d22",
   "metadata": {},
   "source": [
    "#### 문자열 삽입 - join"
   ]
  },
  {
   "cell_type": "code",
   "execution_count": 336,
   "id": "296e3043-5435-480e-9022-09c0986d711b",
   "metadata": {},
   "outputs": [
    {
     "data": {
      "text/plain": [
       "'abcd'"
      ]
     },
     "execution_count": 336,
     "metadata": {},
     "output_type": "execute_result"
    }
   ],
   "source": [
    "'abcd'"
   ]
  },
  {
   "cell_type": "code",
   "execution_count": 338,
   "id": "6363fdeb-5ce8-4acb-a12c-30ffb14a00db",
   "metadata": {},
   "outputs": [
    {
     "data": {
      "text/plain": [
       "'a,b,c,d'"
      ]
     },
     "execution_count": 338,
     "metadata": {},
     "output_type": "execute_result"
    }
   ],
   "source": [
    "#반드시 문자열로 반환됨\n",
    "','.join('abcd')"
   ]
  },
  {
   "cell_type": "code",
   "execution_count": 344,
   "id": "6654eb39-86f5-4351-94f9-84a0e9ed50dd",
   "metadata": {},
   "outputs": [
    {
     "data": {
      "text/plain": [
       "'a,b,c,d'"
      ]
     },
     "execution_count": 344,
     "metadata": {},
     "output_type": "execute_result"
    }
   ],
   "source": [
    "','.join(['a','b','c','d'])"
   ]
  },
  {
   "cell_type": "markdown",
   "id": "16fde1dc-a4f0-4f11-8fbc-0cd8d275e420",
   "metadata": {},
   "source": [
    "### 소문자를 대문자로 - upper, 대문자를 소문자로 - lower"
   ]
  },
  {
   "cell_type": "code",
   "execution_count": 347,
   "id": "b90e49d8-2182-4daf-922b-e3bdf72f2e82",
   "metadata": {},
   "outputs": [
    {
     "data": {
      "text/plain": [
       "'HI'"
      ]
     },
     "execution_count": 347,
     "metadata": {},
     "output_type": "execute_result"
    }
   ],
   "source": [
    "a=\"hi\"\n",
    "a.upper()"
   ]
  },
  {
   "cell_type": "code",
   "execution_count": 349,
   "id": "86fc92c8-9495-4fc5-b20d-cdf89d181389",
   "metadata": {},
   "outputs": [
    {
     "data": {
      "text/plain": [
       "'hi'"
      ]
     },
     "execution_count": 349,
     "metadata": {},
     "output_type": "execute_result"
    }
   ],
   "source": [
    "a='HI'\n",
    "a.lower()"
   ]
  },
  {
   "cell_type": "markdown",
   "id": "99ac0adf-3dbd-404c-8ffb-86d11136df5d",
   "metadata": {},
   "source": [
    "#### 왼쪽 공백지우기 lstrip, 오른쪽 - rstrip, 양쪽 - strip"
   ]
  },
  {
   "cell_type": "code",
   "execution_count": 352,
   "id": "ad5a40b5-0b24-4a56-8022-3c44261fd46d",
   "metadata": {},
   "outputs": [
    {
     "data": {
      "text/plain": [
       "'hi        '"
      ]
     },
     "execution_count": 352,
     "metadata": {},
     "output_type": "execute_result"
    }
   ],
   "source": [
    "a = \"         hi        \"\n",
    "a.lstrip()"
   ]
  },
  {
   "cell_type": "code",
   "execution_count": 354,
   "id": "ca9fbec4-67b2-4d85-b94a-0e8cf5cc6930",
   "metadata": {},
   "outputs": [
    {
     "data": {
      "text/plain": [
       "'         hi'"
      ]
     },
     "execution_count": 354,
     "metadata": {},
     "output_type": "execute_result"
    }
   ],
   "source": [
    "a.rstrip()"
   ]
  },
  {
   "cell_type": "code",
   "execution_count": 356,
   "id": "7ceb45f8-20ec-4414-8529-0af64ad0216c",
   "metadata": {},
   "outputs": [
    {
     "data": {
      "text/plain": [
       "'hi'"
      ]
     },
     "execution_count": 356,
     "metadata": {},
     "output_type": "execute_result"
    }
   ],
   "source": [
    "a.strip()"
   ]
  },
  {
   "cell_type": "code",
   "execution_count": 360,
   "id": "a7df3188-dfe2-4657-a732-dbb66053526c",
   "metadata": {},
   "outputs": [
    {
     "data": {
      "text/plain": [
       "'Your leg is too short'"
      ]
     },
     "execution_count": 360,
     "metadata": {},
     "output_type": "execute_result"
    }
   ],
   "source": [
    "a = 'Life is too short'\n",
    "a.replace(\"Life\", \"Your leg\")"
   ]
  },
  {
   "cell_type": "markdown",
   "id": "45929dd0-66b0-4ab8-a99f-ba6779555e22",
   "metadata": {},
   "source": [
    "#### 문자열 바꾸기 - replace"
   ]
  },
  {
   "cell_type": "code",
   "execution_count": 366,
   "id": "771a5ac4-ae06-4e08-823d-e14dbe953ddd",
   "metadata": {},
   "outputs": [
    {
     "data": {
      "text/plain": [
       "\u001b[1;31mSignature:\u001b[0m \u001b[0ma\u001b[0m\u001b[1;33m.\u001b[0m\u001b[0mreplace\u001b[0m\u001b[1;33m(\u001b[0m\u001b[0mold\u001b[0m\u001b[1;33m,\u001b[0m \u001b[0mnew\u001b[0m\u001b[1;33m,\u001b[0m \u001b[0mcount\u001b[0m\u001b[1;33m=\u001b[0m\u001b[1;33m-\u001b[0m\u001b[1;36m1\u001b[0m\u001b[1;33m,\u001b[0m \u001b[1;33m/\u001b[0m\u001b[1;33m)\u001b[0m\u001b[1;33m\u001b[0m\u001b[1;33m\u001b[0m\u001b[0m\n",
       "\u001b[1;31mDocstring:\u001b[0m\n",
       "Return a copy with all occurrences of substring old replaced by new.\n",
       "\n",
       "  count\n",
       "    Maximum number of occurrences to replace.\n",
       "    -1 (the default value) means replace all occurrences.\n",
       "\n",
       "If the optional argument count is given, only the first count occurrences are\n",
       "replaced.\n",
       "\u001b[1;31mType:\u001b[0m      builtin_function_or_method"
      ]
     },
     "metadata": {},
     "output_type": "display_data"
    }
   ],
   "source": [
    "a.replace?"
   ]
  },
  {
   "cell_type": "markdown",
   "id": "670274d3-f858-4e6c-bf23-ec78f88a4546",
   "metadata": {},
   "source": [
    "#### 문자열 나누기 - split"
   ]
  },
  {
   "cell_type": "code",
   "execution_count": 369,
   "id": "0bd51f97-5071-4ecf-a8c8-b0067ade4a9b",
   "metadata": {},
   "outputs": [
    {
     "data": {
      "text/plain": [
       "['Life', 'is', 'too', 'short']"
      ]
     },
     "execution_count": 369,
     "metadata": {},
     "output_type": "execute_result"
    }
   ],
   "source": [
    "a = \"Life is too short\"\n",
    "a.split()"
   ]
  },
  {
   "cell_type": "code",
   "execution_count": 371,
   "id": "c431afa2-c9c7-4629-a2cf-7f65115887d9",
   "metadata": {},
   "outputs": [
    {
     "data": {
      "text/plain": [
       "['나는', '내가', '정말', '좋아']"
      ]
     },
     "execution_count": 371,
     "metadata": {},
     "output_type": "execute_result"
    }
   ],
   "source": [
    "b = \"나는:내가:정말:좋아\"\n",
    "b.split(':')"
   ]
  },
  {
   "cell_type": "markdown",
   "id": "00e8a958-5035-4fc8-a4c1-bcadf622c71c",
   "metadata": {},
   "source": [
    "## 리스트 자료형"
   ]
  },
  {
   "cell_type": "code",
   "execution_count": 2,
   "id": "cbd3eeec-529f-4203-9434-e96d43c79ee6",
   "metadata": {},
   "outputs": [
    {
     "data": {
      "text/plain": [
       "[1, 3, 5, 7, 9]"
      ]
     },
     "execution_count": 2,
     "metadata": {},
     "output_type": "execute_result"
    }
   ],
   "source": [
    "odd = [1, 3 ,5, 7, 9]\n",
    "odd"
   ]
  },
  {
   "cell_type": "code",
   "execution_count": 4,
   "id": "23b054f3-ba73-4e04-86eb-3346e9b21abb",
   "metadata": {},
   "outputs": [
    {
     "data": {
      "text/plain": [
       "([],\n",
       " [1, 2, 3],\n",
       " ['life', 'is', 'too', 'short'],\n",
       " [1, 2, 'life', 'is'],\n",
       " [1, 2, ['life', 'is']],\n",
       " [])"
      ]
     },
     "execution_count": 4,
     "metadata": {},
     "output_type": "execute_result"
    }
   ],
   "source": [
    "a = []\n",
    "b = [1, 2, 3]\n",
    "c = ['life', 'is', 'too', 'short']\n",
    "d = [1, 2, 'life', 'is']\n",
    "e = [1, 2, ['life', 'is']]\n",
    "f = list()\n",
    "a, b, c, d, e, f"
   ]
  },
  {
   "cell_type": "code",
   "execution_count": 6,
   "id": "fef359c2-fefb-4bf4-8f97-b7f565cef2c8",
   "metadata": {},
   "outputs": [
    {
     "data": {
      "text/plain": [
       "list"
      ]
     },
     "execution_count": 6,
     "metadata": {},
     "output_type": "execute_result"
    }
   ],
   "source": [
    "type(a)"
   ]
  },
  {
   "cell_type": "markdown",
   "id": "629e1f49-a77b-4c88-8d50-b0ed60061382",
   "metadata": {},
   "source": [
    "### 인덱싱과 슬라이싱"
   ]
  },
  {
   "cell_type": "markdown",
   "id": "2cb3834c-b13c-4433-80d2-58742594be3d",
   "metadata": {},
   "source": [
    "#### 인덱싱"
   ]
  },
  {
   "cell_type": "code",
   "execution_count": 9,
   "id": "8f721f1f-c61f-4bb3-9d53-c2723bcc3d87",
   "metadata": {},
   "outputs": [
    {
     "data": {
      "text/plain": [
       "[1, 2, 3]"
      ]
     },
     "execution_count": 9,
     "metadata": {},
     "output_type": "execute_result"
    }
   ],
   "source": [
    "a = [1, 2, 3]\n",
    "a"
   ]
  },
  {
   "cell_type": "code",
   "execution_count": 11,
   "id": "feb1b7fe-807e-4d6f-ab06-8536fc613bad",
   "metadata": {},
   "outputs": [
    {
     "data": {
      "text/plain": [
       "1"
      ]
     },
     "execution_count": 11,
     "metadata": {},
     "output_type": "execute_result"
    }
   ],
   "source": [
    "a[0]"
   ]
  },
  {
   "cell_type": "code",
   "execution_count": 13,
   "id": "d042a1da-ef2c-49b2-80b2-aeb5c3b0c705",
   "metadata": {},
   "outputs": [
    {
     "data": {
      "text/plain": [
       "4"
      ]
     },
     "execution_count": 13,
     "metadata": {},
     "output_type": "execute_result"
    }
   ],
   "source": [
    "a[0] + a[2]"
   ]
  },
  {
   "cell_type": "code",
   "execution_count": 15,
   "id": "9bb6a6f9-a23f-42cc-9288-e3d56a23784f",
   "metadata": {},
   "outputs": [
    {
     "data": {
      "text/plain": [
       "3"
      ]
     },
     "execution_count": 15,
     "metadata": {},
     "output_type": "execute_result"
    }
   ],
   "source": [
    "a[-1]"
   ]
  },
  {
   "cell_type": "code",
   "execution_count": 17,
   "id": "00569a51-e47e-4089-b3d8-e5b2bf5e2394",
   "metadata": {},
   "outputs": [
    {
     "data": {
      "text/plain": [
       "[1, 2, 3, ['a', 'b', 'c']]"
      ]
     },
     "execution_count": 17,
     "metadata": {},
     "output_type": "execute_result"
    }
   ],
   "source": [
    "a = [1, 2, 3, ['a', 'b', 'c']]\n",
    "a"
   ]
  },
  {
   "cell_type": "code",
   "execution_count": 19,
   "id": "ab7bf026-e76f-415c-a4d4-4e79109f305a",
   "metadata": {},
   "outputs": [
    {
     "data": {
      "text/plain": [
       "4"
      ]
     },
     "execution_count": 19,
     "metadata": {},
     "output_type": "execute_result"
    }
   ],
   "source": [
    "len(a)"
   ]
  },
  {
   "cell_type": "code",
   "execution_count": 21,
   "id": "77e3439d-4c19-4f1c-a3ac-5f447ab077eb",
   "metadata": {},
   "outputs": [
    {
     "data": {
      "text/plain": [
       "['a', 'b', 'c']"
      ]
     },
     "execution_count": 21,
     "metadata": {},
     "output_type": "execute_result"
    }
   ],
   "source": [
    "a[-1]"
   ]
  },
  {
   "cell_type": "code",
   "execution_count": 23,
   "id": "fa8ff67f-148e-452b-9648-244819f85492",
   "metadata": {},
   "outputs": [
    {
     "data": {
      "text/plain": [
       "'b'"
      ]
     },
     "execution_count": 23,
     "metadata": {},
     "output_type": "execute_result"
    }
   ],
   "source": [
    "a[-1][1]"
   ]
  },
  {
   "cell_type": "code",
   "execution_count": 29,
   "id": "5ab6b9f8-9393-4480-9fbb-dde11d1dc96f",
   "metadata": {},
   "outputs": [
    {
     "data": {
      "text/plain": [
       "[1, 2, ['a', 'b', ['Life', 'is']]]"
      ]
     },
     "execution_count": 29,
     "metadata": {},
     "output_type": "execute_result"
    }
   ],
   "source": [
    "a = [1, 2, ['a', 'b', ['Life', 'is']]]\n",
    "a"
   ]
  },
  {
   "cell_type": "code",
   "execution_count": 27,
   "id": "014edf69-da0b-4e3a-9a80-dd3fcc151d1a",
   "metadata": {},
   "outputs": [
    {
     "data": {
      "text/plain": [
       "'Life'"
      ]
     },
     "execution_count": 27,
     "metadata": {},
     "output_type": "execute_result"
    }
   ],
   "source": [
    "a[2][2][0]"
   ]
  },
  {
   "cell_type": "markdown",
   "id": "c945608b-1dc9-4ce3-8730-85832eccabf6",
   "metadata": {},
   "source": [
    "#### 슬라이싱"
   ]
  },
  {
   "cell_type": "code",
   "execution_count": 33,
   "id": "63ddd3a4-af74-4bb2-b563-290a256bc7f2",
   "metadata": {},
   "outputs": [
    {
     "data": {
      "text/plain": [
       "[1, 2]"
      ]
     },
     "execution_count": 33,
     "metadata": {},
     "output_type": "execute_result"
    }
   ],
   "source": [
    "a = [1, 2, 3, 4, 5]\n",
    "a[0:2]"
   ]
  },
  {
   "cell_type": "code",
   "execution_count": 35,
   "id": "fc051181-9ebe-475d-8d29-e177e597f912",
   "metadata": {},
   "outputs": [
    {
     "data": {
      "text/plain": [
       "[1, 2, 3, ['a', 'b', 'c'], 4, 5]"
      ]
     },
     "execution_count": 35,
     "metadata": {},
     "output_type": "execute_result"
    }
   ],
   "source": [
    "a = [1, 2, 3, ['a', 'b', 'c'], 4, 5]\n",
    "a"
   ]
  },
  {
   "cell_type": "code",
   "execution_count": 37,
   "id": "c1e4253e-4ff0-4985-a45b-76d7c8a192f0",
   "metadata": {},
   "outputs": [
    {
     "data": {
      "text/plain": [
       "[3, ['a', 'b', 'c'], 4]"
      ]
     },
     "execution_count": 37,
     "metadata": {},
     "output_type": "execute_result"
    }
   ],
   "source": [
    "a[2:5]"
   ]
  },
  {
   "cell_type": "code",
   "execution_count": 39,
   "id": "a0947acf-e448-44d0-9779-4797f60bb7de",
   "metadata": {},
   "outputs": [
    {
     "data": {
      "text/plain": [
       "['a', 'b']"
      ]
     },
     "execution_count": 39,
     "metadata": {},
     "output_type": "execute_result"
    }
   ],
   "source": [
    "a[3][:2]"
   ]
  },
  {
   "cell_type": "markdown",
   "id": "14de27eb-fbea-4ee2-b482-bf868bc9a45c",
   "metadata": {},
   "source": [
    "### 리스트 연산하기"
   ]
  },
  {
   "cell_type": "code",
   "execution_count": 42,
   "id": "0d4b9903-f044-4fab-931d-804108983cd5",
   "metadata": {},
   "outputs": [
    {
     "data": {
      "text/plain": [
       "[1, 2, 3, 4, 5, 6]"
      ]
     },
     "execution_count": 42,
     "metadata": {},
     "output_type": "execute_result"
    }
   ],
   "source": [
    "a = [1, 2, 3]\n",
    "b = [4, 5, 6]\n",
    "a + b"
   ]
  },
  {
   "cell_type": "code",
   "execution_count": 44,
   "id": "0180e848-468f-4b71-91e6-448b27ef8d13",
   "metadata": {},
   "outputs": [
    {
     "data": {
      "text/plain": [
       "[1, 2, 3, 1, 2, 3, 1, 2, 3]"
      ]
     },
     "execution_count": 44,
     "metadata": {},
     "output_type": "execute_result"
    }
   ],
   "source": [
    "a * 3"
   ]
  },
  {
   "cell_type": "code",
   "execution_count": 46,
   "id": "05048852-e6c6-4500-8229-8c3099f0f864",
   "metadata": {},
   "outputs": [
    {
     "data": {
      "text/plain": [
       "3"
      ]
     },
     "execution_count": 46,
     "metadata": {},
     "output_type": "execute_result"
    }
   ],
   "source": [
    "len(a)"
   ]
  },
  {
   "cell_type": "code",
   "execution_count": 50,
   "id": "1e99b35c-83d0-49ab-8d63-61a012fe0815",
   "metadata": {},
   "outputs": [
    {
     "data": {
      "text/plain": [
       "'3hi'"
      ]
     },
     "execution_count": 50,
     "metadata": {},
     "output_type": "execute_result"
    }
   ],
   "source": [
    "str(a[2])+'hi'"
   ]
  },
  {
   "cell_type": "markdown",
   "id": "7c4357b2-4380-4ef2-b3ea-176881ca6da5",
   "metadata": {},
   "source": [
    "### 리스트의 수정과 삭제"
   ]
  },
  {
   "cell_type": "code",
   "execution_count": 55,
   "id": "fdcf72c6-025f-4945-ae19-4552da7f051d",
   "metadata": {},
   "outputs": [
    {
     "data": {
      "text/plain": [
       "[1, 2, 4]"
      ]
     },
     "execution_count": 55,
     "metadata": {},
     "output_type": "execute_result"
    }
   ],
   "source": [
    "a = [1, 2, 3]\n",
    "a[2] = 4\n",
    "a"
   ]
  },
  {
   "cell_type": "code",
   "execution_count": 59,
   "id": "6d05f1cb-d794-4f8d-92cd-d8f9e5c337eb",
   "metadata": {},
   "outputs": [
    {
     "data": {
      "text/plain": [
       "[1, 3]"
      ]
     },
     "execution_count": 59,
     "metadata": {},
     "output_type": "execute_result"
    }
   ],
   "source": [
    "a = [1, 2, 3]\n",
    "del a[1]\n",
    "a"
   ]
  },
  {
   "cell_type": "code",
   "execution_count": 61,
   "id": "f1b6b5a7-580e-492e-9afa-9ad12e2ec764",
   "metadata": {},
   "outputs": [
    {
     "data": {
      "text/plain": [
       "[1, 2]"
      ]
     },
     "execution_count": 61,
     "metadata": {},
     "output_type": "execute_result"
    }
   ],
   "source": [
    "a = [1, 2, 3, 4, 5]\n",
    "del a[2:]\n",
    "a"
   ]
  },
  {
   "cell_type": "markdown",
   "id": "45dcf296-4263-4c09-85eb-bcaae8097ef2",
   "metadata": {},
   "source": [
    "### 리스트 관련 함수"
   ]
  },
  {
   "cell_type": "markdown",
   "id": "d49ebd6c-97bd-4d8a-8851-3d8097c1bae9",
   "metadata": {},
   "source": [
    "#### 리스트에  요소 추가하기 - append"
   ]
  },
  {
   "cell_type": "code",
   "execution_count": 65,
   "id": "fb5eec4c-cfbf-4820-b05e-bae82a62ff8a",
   "metadata": {},
   "outputs": [
    {
     "data": {
      "text/plain": [
       "[1, 2, 3, 4]"
      ]
     },
     "execution_count": 65,
     "metadata": {},
     "output_type": "execute_result"
    }
   ],
   "source": [
    "a = [1, 2, 3]\n",
    "a.append(4)\n",
    "a"
   ]
  },
  {
   "cell_type": "code",
   "execution_count": 70,
   "id": "f84ace10-2ed3-4534-889b-7f9e39623ae5",
   "metadata": {},
   "outputs": [
    {
     "data": {
      "text/plain": [
       "[1, 2, 3, [5, 6]]"
      ]
     },
     "execution_count": 70,
     "metadata": {},
     "output_type": "execute_result"
    }
   ],
   "source": [
    "a = [1, 2, 3]\n",
    "a.append([5, 6])\n",
    "a"
   ]
  },
  {
   "cell_type": "markdown",
   "id": "ea05a508-bf07-4f69-917f-8643c35182d2",
   "metadata": {},
   "source": [
    "#### 리스트 정렬 - sort"
   ]
  },
  {
   "cell_type": "code",
   "execution_count": 68,
   "id": "4cb1a98c-5e1b-497b-bac9-5cdbe6dde99d",
   "metadata": {},
   "outputs": [
    {
     "data": {
      "text/plain": [
       "[1, 2, 3, 4]"
      ]
     },
     "execution_count": 68,
     "metadata": {},
     "output_type": "execute_result"
    }
   ],
   "source": [
    "a = [1, 4, 3, 2]\n",
    "a.sort()\n",
    "a"
   ]
  },
  {
   "cell_type": "code",
   "execution_count": 72,
   "id": "ff581bc9-218f-4e0f-9473-92e2d4617cbf",
   "metadata": {},
   "outputs": [
    {
     "data": {
      "text/plain": [
       "['a', 'b', 'c']"
      ]
     },
     "execution_count": 72,
     "metadata": {},
     "output_type": "execute_result"
    }
   ],
   "source": [
    "a = ['a', 'c', 'b']\n",
    "a.sort()\n",
    "a"
   ]
  },
  {
   "cell_type": "code",
   "execution_count": 75,
   "id": "9814b0a4-cbfc-4fa4-a790-02a9a297ca6c",
   "metadata": {},
   "outputs": [
    {
     "data": {
      "text/plain": [
       "['c', 'b', 'a']"
      ]
     },
     "execution_count": 75,
     "metadata": {},
     "output_type": "execute_result"
    }
   ],
   "source": [
    "a.sort(reverse=True)\n",
    "a"
   ]
  },
  {
   "cell_type": "markdown",
   "id": "a9aa4325-13fe-41ec-9107-dfbaefe4e122",
   "metadata": {},
   "source": [
    "#### 리스트 뒤집기 - reverse"
   ]
  },
  {
   "cell_type": "code",
   "execution_count": 77,
   "id": "a440be91-175d-4d1f-98f3-2c7a4093f148",
   "metadata": {},
   "outputs": [
    {
     "data": {
      "text/plain": [
       "['c', 'b', 'a']"
      ]
     },
     "execution_count": 77,
     "metadata": {},
     "output_type": "execute_result"
    }
   ],
   "source": [
    "a = ['a', 'b', 'c']\n",
    "a.reverse()\n",
    "a"
   ]
  },
  {
   "cell_type": "markdown",
   "id": "f33b0f7f-0847-4025-b23e-390b3b6d3f57",
   "metadata": {},
   "source": [
    "#### 인덱스 반환 - index"
   ]
  },
  {
   "cell_type": "code",
   "execution_count": 80,
   "id": "b62c8f33-d7b4-4eeb-b963-c3de189d0cd0",
   "metadata": {},
   "outputs": [
    {
     "data": {
      "text/plain": [
       "2"
      ]
     },
     "execution_count": 80,
     "metadata": {},
     "output_type": "execute_result"
    }
   ],
   "source": [
    "a = [1, 2, 3]\n",
    "a.index(3)"
   ]
  },
  {
   "cell_type": "code",
   "execution_count": 82,
   "id": "f6021668-356c-4823-be1d-e53b0a30d98c",
   "metadata": {},
   "outputs": [
    {
     "ename": "ValueError",
     "evalue": "0 is not in list",
     "output_type": "error",
     "traceback": [
      "\u001b[1;31m---------------------------------------------------------------------------\u001b[0m",
      "\u001b[1;31mValueError\u001b[0m                                Traceback (most recent call last)",
      "Cell \u001b[1;32mIn[82], line 1\u001b[0m\n\u001b[1;32m----> 1\u001b[0m \u001b[43ma\u001b[49m\u001b[38;5;241;43m.\u001b[39;49m\u001b[43mindex\u001b[49m\u001b[43m(\u001b[49m\u001b[38;5;241;43m0\u001b[39;49m\u001b[43m)\u001b[49m\n",
      "\u001b[1;31mValueError\u001b[0m: 0 is not in list"
     ]
    }
   ],
   "source": [
    "a.index(0)"
   ]
  },
  {
   "cell_type": "markdown",
   "id": "3b24cdff-4e3c-4ef9-ae3a-b63cebceb39e",
   "metadata": {},
   "source": [
    "#### 리스트에 요소 삽입 - insert"
   ]
  },
  {
   "cell_type": "code",
   "execution_count": 85,
   "id": "de3ab6fb-c533-4e6f-aebc-41cb5b3c553a",
   "metadata": {},
   "outputs": [
    {
     "data": {
      "text/plain": [
       "[4, 1, 2, 3]"
      ]
     },
     "execution_count": 85,
     "metadata": {},
     "output_type": "execute_result"
    }
   ],
   "source": [
    "#append는 무조건 맨 뒤에 데이터가 추가되지만,  insert는 내가 원하는 위치에 삽입 가능\n",
    "a = [1, 2, 3]\n",
    "a.insert(0, 4)\n",
    "a"
   ]
  },
  {
   "cell_type": "code",
   "execution_count": 87,
   "id": "fb4062c1-6cb1-49c9-8163-30ebcff22832",
   "metadata": {},
   "outputs": [
    {
     "data": {
      "text/plain": [
       "[4, 1, 2, 5, 3]"
      ]
     },
     "execution_count": 87,
     "metadata": {},
     "output_type": "execute_result"
    }
   ],
   "source": [
    "a.insert(3,5)\n",
    "a"
   ]
  },
  {
   "cell_type": "markdown",
   "id": "ffa8e7c6-b9e6-4564-ba6c-3bd0f023b77e",
   "metadata": {},
   "source": [
    "#### 리스트 요소 제거 - remove"
   ]
  },
  {
   "cell_type": "code",
   "execution_count": 90,
   "id": "fbccee56-e78c-4d45-bca6-9b4481748f23",
   "metadata": {},
   "outputs": [
    {
     "data": {
      "text/plain": [
       "[1, 2, 3, 1, 2, 3]"
      ]
     },
     "execution_count": 90,
     "metadata": {},
     "output_type": "execute_result"
    }
   ],
   "source": [
    "a =[1, 2, 3, 1, 2, 3]\n",
    "a"
   ]
  },
  {
   "cell_type": "code",
   "execution_count": 92,
   "id": "50f1d0d6-a334-474e-9d3d-381b1a671fbe",
   "metadata": {},
   "outputs": [
    {
     "data": {
      "text/plain": [
       "\u001b[1;31mSignature:\u001b[0m \u001b[0ma\u001b[0m\u001b[1;33m.\u001b[0m\u001b[0mremove\u001b[0m\u001b[1;33m(\u001b[0m\u001b[0mvalue\u001b[0m\u001b[1;33m,\u001b[0m \u001b[1;33m/\u001b[0m\u001b[1;33m)\u001b[0m\u001b[1;33m\u001b[0m\u001b[1;33m\u001b[0m\u001b[0m\n",
       "\u001b[1;31mDocstring:\u001b[0m\n",
       "Remove first occurrence of value.\n",
       "\n",
       "Raises ValueError if the value is not present.\n",
       "\u001b[1;31mType:\u001b[0m      builtin_function_or_method"
      ]
     },
     "metadata": {},
     "output_type": "display_data"
    }
   ],
   "source": [
    "a.remove?"
   ]
  },
  {
   "cell_type": "code",
   "execution_count": 94,
   "id": "d9914dd8-1735-42e9-976f-f3dd1d09684d",
   "metadata": {},
   "outputs": [
    {
     "data": {
      "text/plain": [
       "[1, 2, 1, 2, 3]"
      ]
     },
     "execution_count": 94,
     "metadata": {},
     "output_type": "execute_result"
    }
   ],
   "source": [
    "a.remove(3)\n",
    "a"
   ]
  },
  {
   "cell_type": "code",
   "execution_count": 96,
   "id": "d3fc8df9-e9e8-4437-a268-fd9c7e6d3107",
   "metadata": {},
   "outputs": [
    {
     "data": {
      "text/plain": [
       "[1, 2, 1, 2]"
      ]
     },
     "execution_count": 96,
     "metadata": {},
     "output_type": "execute_result"
    }
   ],
   "source": [
    "a.remove(3)\n",
    "a"
   ]
  },
  {
   "cell_type": "markdown",
   "id": "3738b6a8-1f57-43c0-b5c2-d6559d839220",
   "metadata": {},
   "source": [
    "#### 리스트 요소 꺼내기 - pop"
   ]
  },
  {
   "cell_type": "code",
   "execution_count": 99,
   "id": "18efc20c-f2ca-4301-a105-4ca2e6689e9f",
   "metadata": {},
   "outputs": [
    {
     "data": {
      "text/plain": [
       "3"
      ]
     },
     "execution_count": 99,
     "metadata": {},
     "output_type": "execute_result"
    }
   ],
   "source": [
    "a = [1, 2, 3]\n",
    "a.pop()\n",
    "#pop()는 맨 마지막 요소를 리턴하고 그 요소 삭제, pop(x)는 리스트의 x번째 요소를 리턴하고 그 요소를 삭제"
   ]
  },
  {
   "cell_type": "code",
   "execution_count": 101,
   "id": "549cf182-bd11-4e9c-b88f-fecc9171b1a1",
   "metadata": {},
   "outputs": [
    {
     "data": {
      "text/plain": [
       "[1, 2]"
      ]
     },
     "execution_count": 101,
     "metadata": {},
     "output_type": "execute_result"
    }
   ],
   "source": [
    "a"
   ]
  },
  {
   "cell_type": "markdown",
   "id": "e261e509-5d1f-4368-a1e1-f0c62632740e",
   "metadata": {},
   "source": [
    "#### 리스트에 포함된 요소 x의 개수 세기 - count"
   ]
  },
  {
   "cell_type": "code",
   "execution_count": 104,
   "id": "760bc110-1286-491c-a2d9-f8c7fbdc7041",
   "metadata": {},
   "outputs": [
    {
     "data": {
      "text/plain": [
       "2"
      ]
     },
     "execution_count": 104,
     "metadata": {},
     "output_type": "execute_result"
    }
   ],
   "source": [
    "a = [1, 2, 3, 1]\n",
    "a.count(1)"
   ]
  },
  {
   "cell_type": "markdown",
   "id": "47b4d261-136a-4d4a-a618-c1a3a68b1ad0",
   "metadata": {},
   "source": [
    "#### 리스트 확장 - extend"
   ]
  },
  {
   "cell_type": "code",
   "execution_count": 109,
   "id": "ab18e3ce-c00e-44d1-a956-1f43d9a6b41b",
   "metadata": {},
   "outputs": [
    {
     "data": {
      "text/plain": [
       "[1, 2, 3, 4, 5]"
      ]
     },
     "execution_count": 109,
     "metadata": {},
     "output_type": "execute_result"
    }
   ],
   "source": [
    "a = [1, 2, 3]\n",
    "a.extend([4,5])\n",
    "a"
   ]
  },
  {
   "cell_type": "code",
   "execution_count": 111,
   "id": "89e34400-3cce-464e-a293-2ee1e63a593b",
   "metadata": {},
   "outputs": [
    {
     "ename": "TypeError",
     "evalue": "list.append() takes exactly one argument (2 given)",
     "output_type": "error",
     "traceback": [
      "\u001b[1;31m---------------------------------------------------------------------------\u001b[0m",
      "\u001b[1;31mTypeError\u001b[0m                                 Traceback (most recent call last)",
      "Cell \u001b[1;32mIn[111], line 1\u001b[0m\n\u001b[1;32m----> 1\u001b[0m \u001b[43ma\u001b[49m\u001b[38;5;241;43m.\u001b[39;49m\u001b[43mappend\u001b[49m\u001b[43m(\u001b[49m\u001b[38;5;241;43m6\u001b[39;49m\u001b[43m,\u001b[49m\u001b[43m \u001b[49m\u001b[38;5;241;43m7\u001b[39;49m\u001b[43m)\u001b[49m\n\u001b[0;32m      2\u001b[0m a\n",
      "\u001b[1;31mTypeError\u001b[0m: list.append() takes exactly one argument (2 given)"
     ]
    }
   ],
   "source": [
    "a.append(6, 7)\n",
    "a"
   ]
  },
  {
   "cell_type": "markdown",
   "id": "31b35715-4363-467a-ae26-ee1be6de82c7",
   "metadata": {},
   "source": [
    "## 튜플 자료형 "
   ]
  },
  {
   "cell_type": "code",
   "execution_count": 116,
   "id": "6e2aff07-6e30-465e-af4e-40801dfa0f29",
   "metadata": {},
   "outputs": [
    {
     "data": {
      "text/plain": [
       "((), (1,), (1, 2, 3), (1, 2, 3), ('a', 'b', ('ab', 'cd')))"
      ]
     },
     "execution_count": 116,
     "metadata": {},
     "output_type": "execute_result"
    }
   ],
   "source": [
    "t1 = ()\n",
    "t2 = (1,)\n",
    "t3 = (1, 2, 3)\n",
    "t4 = 1, 2, 3\n",
    "t5 = ('a', 'b', ('ab', 'cd'))\n",
    "t1, t2, t3, t4, t5"
   ]
  },
  {
   "cell_type": "code",
   "execution_count": 118,
   "id": "13daaf0f-a797-4870-80b9-55075a471f0b",
   "metadata": {},
   "outputs": [
    {
     "data": {
      "text/plain": [
       "(tuple, tuple, tuple, tuple, tuple)"
      ]
     },
     "execution_count": 118,
     "metadata": {},
     "output_type": "execute_result"
    }
   ],
   "source": [
    "type(t1), type(t2), type(t3), type(t4), type(t5)"
   ]
  },
  {
   "cell_type": "code",
   "execution_count": 120,
   "id": "891df8f6-a469-4eb3-9fb8-ed596401ec16",
   "metadata": {},
   "outputs": [
    {
     "name": "stdout",
     "output_type": "stream",
     "text": [
      "1 <class 'int'>\n"
     ]
    }
   ],
   "source": [
    "t6 = (1)\n",
    "print(t6, type(t6))"
   ]
  },
  {
   "cell_type": "markdown",
   "id": "ccaf3134-166e-43c1-ad4b-2b9ee4b3bec1",
   "metadata": {},
   "source": [
    "### 튜플 요소 제거 or 수정"
   ]
  },
  {
   "cell_type": "code",
   "execution_count": 123,
   "id": "14ddc2ac-dfb0-47a1-9253-e89106565df9",
   "metadata": {},
   "outputs": [
    {
     "ename": "TypeError",
     "evalue": "'tuple' object doesn't support item deletion",
     "output_type": "error",
     "traceback": [
      "\u001b[1;31m---------------------------------------------------------------------------\u001b[0m",
      "\u001b[1;31mTypeError\u001b[0m                                 Traceback (most recent call last)",
      "Cell \u001b[1;32mIn[123], line 2\u001b[0m\n\u001b[0;32m      1\u001b[0m t1 \u001b[38;5;241m=\u001b[39m (\u001b[38;5;241m1\u001b[39m, \u001b[38;5;241m2\u001b[39m, \u001b[38;5;124m'\u001b[39m\u001b[38;5;124ma\u001b[39m\u001b[38;5;124m'\u001b[39m, \u001b[38;5;124m'\u001b[39m\u001b[38;5;124mb\u001b[39m\u001b[38;5;124m'\u001b[39m)\n\u001b[1;32m----> 2\u001b[0m \u001b[38;5;28;01mdel\u001b[39;00m \u001b[43mt1\u001b[49m\u001b[43m[\u001b[49m\u001b[38;5;241;43m0\u001b[39;49m\u001b[43m]\u001b[49m\n",
      "\u001b[1;31mTypeError\u001b[0m: 'tuple' object doesn't support item deletion"
     ]
    }
   ],
   "source": [
    "t1 = (1, 2, 'a', 'b')\n",
    "del t1[0]"
   ]
  },
  {
   "cell_type": "code",
   "execution_count": 125,
   "id": "8f900f83-f515-4702-8d90-9575f09b4b1f",
   "metadata": {},
   "outputs": [
    {
     "ename": "TypeError",
     "evalue": "'tuple' object does not support item assignment",
     "output_type": "error",
     "traceback": [
      "\u001b[1;31m---------------------------------------------------------------------------\u001b[0m",
      "\u001b[1;31mTypeError\u001b[0m                                 Traceback (most recent call last)",
      "Cell \u001b[1;32mIn[125], line 2\u001b[0m\n\u001b[0;32m      1\u001b[0m t1 \u001b[38;5;241m=\u001b[39m (\u001b[38;5;241m1\u001b[39m, \u001b[38;5;241m2\u001b[39m, \u001b[38;5;124m'\u001b[39m\u001b[38;5;124ma\u001b[39m\u001b[38;5;124m'\u001b[39m, \u001b[38;5;124m'\u001b[39m\u001b[38;5;124mb\u001b[39m\u001b[38;5;124m'\u001b[39m)\n\u001b[1;32m----> 2\u001b[0m \u001b[43mt1\u001b[49m\u001b[43m[\u001b[49m\u001b[38;5;241;43m0\u001b[39;49m\u001b[43m]\u001b[49m \u001b[38;5;241m=\u001b[39m \u001b[38;5;124m'\u001b[39m\u001b[38;5;124mc\u001b[39m\u001b[38;5;124m'\u001b[39m\n",
      "\u001b[1;31mTypeError\u001b[0m: 'tuple' object does not support item assignment"
     ]
    }
   ],
   "source": [
    "t1 = (1, 2, 'a', 'b')\n",
    "t1[0] = 'c'"
   ]
  },
  {
   "cell_type": "markdown",
   "id": "4a0f12bb-39b3-4af6-b5ed-9f95117b22ef",
   "metadata": {},
   "source": [
    "### 인덱싱"
   ]
  },
  {
   "cell_type": "code",
   "execution_count": 128,
   "id": "231a93f3-61bc-4abb-af7e-13b124e5db85",
   "metadata": {},
   "outputs": [
    {
     "data": {
      "text/plain": [
       "1"
      ]
     },
     "execution_count": 128,
     "metadata": {},
     "output_type": "execute_result"
    }
   ],
   "source": [
    "t1 = (1, 2, 'a', 'b')\n",
    "t1[0]"
   ]
  },
  {
   "cell_type": "markdown",
   "id": "950edeee-7f19-410a-92b9-f0c667edcc95",
   "metadata": {},
   "source": [
    "### 슬라이싱"
   ]
  },
  {
   "cell_type": "code",
   "execution_count": 131,
   "id": "06dee6a9-4cbc-4487-9c75-11152763875f",
   "metadata": {},
   "outputs": [
    {
     "data": {
      "text/plain": [
       "(2, 'a', 'b')"
      ]
     },
     "execution_count": 131,
     "metadata": {},
     "output_type": "execute_result"
    }
   ],
   "source": [
    "t1[1:]"
   ]
  },
  {
   "cell_type": "markdown",
   "id": "e9e6edcc-ecb7-4211-a78f-f564d9865abe",
   "metadata": {},
   "source": [
    "### 튜플 더하기"
   ]
  },
  {
   "cell_type": "code",
   "execution_count": 134,
   "id": "36a36447-60ba-4233-94f1-f40789512d0a",
   "metadata": {},
   "outputs": [
    {
     "data": {
      "text/plain": [
       "(1, 2, 'a', 'b', 3, 4)"
      ]
     },
     "execution_count": 134,
     "metadata": {},
     "output_type": "execute_result"
    }
   ],
   "source": [
    "t1 = (1, 2, 'a', 'b')\n",
    "t2 = (3, 4)\n",
    "t1 + t2"
   ]
  },
  {
   "cell_type": "code",
   "execution_count": 136,
   "id": "36578ef4-d7cd-4f66-b8dc-ce5990643c9d",
   "metadata": {},
   "outputs": [
    {
     "data": {
      "text/plain": [
       "(3, 4, 3, 4, 3, 4)"
      ]
     },
     "execution_count": 136,
     "metadata": {},
     "output_type": "execute_result"
    }
   ],
   "source": [
    "t2 * 3"
   ]
  },
  {
   "cell_type": "code",
   "execution_count": 138,
   "id": "af03ed23-0772-48a4-bb25-a24eb472ec2f",
   "metadata": {},
   "outputs": [
    {
     "data": {
      "text/plain": [
       "4"
      ]
     },
     "execution_count": 138,
     "metadata": {},
     "output_type": "execute_result"
    }
   ],
   "source": [
    "len(t1)"
   ]
  },
  {
   "cell_type": "code",
   "execution_count": 140,
   "id": "11741a00-acc1-49b4-9e6a-bcf6e6dbe130",
   "metadata": {},
   "outputs": [],
   "source": [
    "# 튜플은 요솟값을 변경할 수 없기 때문에 sort, insert,remove, pop과 같은 내장 함수가 없다."
   ]
  },
  {
   "cell_type": "markdown",
   "id": "6484de6f-9c9a-49b1-b62e-7ca03d798a0d",
   "metadata": {},
   "source": [
    "## 딕셔너리 자료형"
   ]
  },
  {
   "cell_type": "markdown",
   "id": "8bad3b59-d4a8-4328-bf88-0b006cf74f61",
   "metadata": {},
   "source": [
    "### 딕셔너리 생성"
   ]
  },
  {
   "cell_type": "code",
   "execution_count": 143,
   "id": "45306140-fedf-48eb-b9f8-9f169ec6e982",
   "metadata": {},
   "outputs": [
    {
     "data": {
      "text/plain": [
       "{'name': '이현', 'phone': '010-2573-6054', 'birth': '1216'}"
      ]
     },
     "execution_count": 143,
     "metadata": {},
     "output_type": "execute_result"
    }
   ],
   "source": [
    "dic = {'name': '이현', 'phone': '010-2573-6054', 'birth':'1216'}\n",
    "dic"
   ]
  },
  {
   "cell_type": "code",
   "execution_count": 145,
   "id": "f9540864-e7d4-479d-a5d8-f24cae402e57",
   "metadata": {},
   "outputs": [
    {
     "data": {
      "text/plain": [
       "{1: 'hi'}"
      ]
     },
     "execution_count": 145,
     "metadata": {},
     "output_type": "execute_result"
    }
   ],
   "source": [
    "a = {1: 'hi'}\n",
    "a"
   ]
  },
  {
   "cell_type": "code",
   "execution_count": 149,
   "id": "f520941d-84ba-4023-8f66-37560b58ff84",
   "metadata": {},
   "outputs": [
    {
     "data": {
      "text/plain": [
       "{'a': [1, 2, 3]}"
      ]
     },
     "execution_count": 149,
     "metadata": {},
     "output_type": "execute_result"
    }
   ],
   "source": [
    "a = {'a': [1, 2, 3]}\n",
    "a"
   ]
  },
  {
   "cell_type": "code",
   "execution_count": 151,
   "id": "6bf41885-380c-4925-893f-a0a652e272a9",
   "metadata": {},
   "outputs": [
    {
     "ename": "TypeError",
     "evalue": "unhashable type: 'list'",
     "output_type": "error",
     "traceback": [
      "\u001b[1;31m---------------------------------------------------------------------------\u001b[0m",
      "\u001b[1;31mTypeError\u001b[0m                                 Traceback (most recent call last)",
      "Cell \u001b[1;32mIn[151], line 1\u001b[0m\n\u001b[1;32m----> 1\u001b[0m a \u001b[38;5;241m=\u001b[39m {[\u001b[38;5;241m1\u001b[39m, \u001b[38;5;241m2\u001b[39m, \u001b[38;5;241m3\u001b[39m]:\u001b[38;5;124m'\u001b[39m\u001b[38;5;124ma\u001b[39m\u001b[38;5;124m'\u001b[39m}\n\u001b[0;32m      2\u001b[0m a\n",
      "\u001b[1;31mTypeError\u001b[0m: unhashable type: 'list'"
     ]
    }
   ],
   "source": [
    "a = {[1, 2, 3]:'a'}\n",
    "a"
   ]
  },
  {
   "cell_type": "markdown",
   "id": "6cb2f35c-bd04-4f77-85b6-1826c7b30dde",
   "metadata": {},
   "source": [
    "### 딕셔너리 쌍 추가하기"
   ]
  },
  {
   "cell_type": "code",
   "execution_count": 155,
   "id": "d3827929-fc1a-4b50-ae61-603083a8c844",
   "metadata": {},
   "outputs": [
    {
     "data": {
      "text/plain": [
       "{1: 'a', 2: 'b'}"
      ]
     },
     "execution_count": 155,
     "metadata": {},
     "output_type": "execute_result"
    }
   ],
   "source": [
    "a = {1: 'a'}\n",
    "a[2] = 'b'\n",
    "a"
   ]
  },
  {
   "cell_type": "code",
   "execution_count": 157,
   "id": "aac605ed-2a52-4403-b384-03227acbc898",
   "metadata": {},
   "outputs": [
    {
     "data": {
      "text/plain": [
       "{1: 'a', 2: 'b', 3: [1, 2, 3]}"
      ]
     },
     "execution_count": 157,
     "metadata": {},
     "output_type": "execute_result"
    }
   ],
   "source": [
    "a[3] = [1, 2, 3]\n",
    "a"
   ]
  },
  {
   "cell_type": "code",
   "execution_count": 161,
   "id": "8004e69b-ea08-4547-b38f-9a34aa41778f",
   "metadata": {},
   "outputs": [
    {
     "data": {
      "text/plain": [
       "{1: 'a', 2: 'b', 3: [1, 2, 3], 'name': '이현'}"
      ]
     },
     "execution_count": 161,
     "metadata": {},
     "output_type": "execute_result"
    }
   ],
   "source": [
    "a['name'] = '이현'\n",
    "a"
   ]
  },
  {
   "cell_type": "markdown",
   "id": "68900c10-160f-41f2-82cb-ee5357fc5285",
   "metadata": {},
   "source": [
    "### 딕셔너리 요소 삭제하기"
   ]
  },
  {
   "cell_type": "code",
   "execution_count": 164,
   "id": "f792c7b1-8bcd-425a-bfde-063ccab02455",
   "metadata": {},
   "outputs": [
    {
     "data": {
      "text/plain": [
       "{2: 'b', 3: [1, 2, 3], 'name': '이현'}"
      ]
     },
     "execution_count": 164,
     "metadata": {},
     "output_type": "execute_result"
    }
   ],
   "source": [
    "del a[1]\n",
    "a"
   ]
  },
  {
   "cell_type": "markdown",
   "id": "1e92a545-81b0-46af-94d3-9dd69fc7113c",
   "metadata": {},
   "source": [
    "### 딕셔너리 다루기"
   ]
  },
  {
   "cell_type": "code",
   "execution_count": 167,
   "id": "766ad169-aca5-4f1a-9fb6-1147fc7a2fd9",
   "metadata": {},
   "outputs": [
    {
     "data": {
      "text/plain": [
       "(10, 99)"
      ]
     },
     "execution_count": 167,
     "metadata": {},
     "output_type": "execute_result"
    }
   ],
   "source": [
    "grade = {'pey': 10, 'julliet': 99}\n",
    "grade['pey'], grade['julliet']"
   ]
  },
  {
   "cell_type": "code",
   "execution_count": 169,
   "id": "df33d9c7-cb58-4067-baa3-5ed67aa1b24e",
   "metadata": {},
   "outputs": [
    {
     "data": {
      "text/plain": [
       "{'name': '이현', 'phone': '010-2573-6054', 'birth': '1216'}"
      ]
     },
     "execution_count": 169,
     "metadata": {},
     "output_type": "execute_result"
    }
   ],
   "source": [
    "dic"
   ]
  },
  {
   "cell_type": "markdown",
   "id": "1425cb56-a130-44e8-b28d-c45dfb4c32f8",
   "metadata": {},
   "source": [
    "### 딕셔너리 관련 함수"
   ]
  },
  {
   "cell_type": "markdown",
   "id": "0c24af7b-bd3b-4dd2-82f1-cd9955225c58",
   "metadata": {},
   "source": [
    "#### key 리스트 만들기 - keys"
   ]
  },
  {
   "cell_type": "code",
   "execution_count": 171,
   "id": "4a5a7003-840f-41e2-a1a1-6d67879aa1d5",
   "metadata": {},
   "outputs": [
    {
     "data": {
      "text/plain": [
       "dict_keys(['name', 'phone', 'birth'])"
      ]
     },
     "execution_count": 171,
     "metadata": {},
     "output_type": "execute_result"
    }
   ],
   "source": [
    "dic.keys()"
   ]
  },
  {
   "cell_type": "code",
   "execution_count": 175,
   "id": "d5fa651e-edc0-4022-91b7-327f6cb4939e",
   "metadata": {},
   "outputs": [
    {
     "name": "stdout",
     "output_type": "stream",
     "text": [
      "name\n",
      "phone\n",
      "birth\n"
     ]
    }
   ],
   "source": [
    "for k in dic.keys():\n",
    "    print(k)"
   ]
  },
  {
   "cell_type": "code",
   "execution_count": 179,
   "id": "b3722fcc-8859-47af-8cbe-8ad365367a2d",
   "metadata": {},
   "outputs": [
    {
     "name": "stdout",
     "output_type": "stream",
     "text": [
      "이현\n",
      "010-2573-6054\n",
      "1216\n"
     ]
    }
   ],
   "source": [
    "for k in dic.keys():\n",
    "    print(dic[k])"
   ]
  },
  {
   "cell_type": "code",
   "execution_count": 181,
   "id": "ec7feed4-583b-412c-a01b-a0f67b808058",
   "metadata": {},
   "outputs": [
    {
     "data": {
      "text/plain": [
       "['name', 'phone', 'birth']"
      ]
     },
     "execution_count": 181,
     "metadata": {},
     "output_type": "execute_result"
    }
   ],
   "source": [
    "list(dic.keys())"
   ]
  },
  {
   "cell_type": "markdown",
   "id": "1b6e5082-ef5c-4fac-809b-a94cc36799a2",
   "metadata": {},
   "source": [
    "#### Value 리스트 만들기 -values"
   ]
  },
  {
   "cell_type": "code",
   "execution_count": 186,
   "id": "15757d8e-0244-486d-90d9-64971c418f47",
   "metadata": {},
   "outputs": [
    {
     "data": {
      "text/plain": [
       "dict_values(['이현', '010-2573-6054', '1216'])"
      ]
     },
     "execution_count": 186,
     "metadata": {},
     "output_type": "execute_result"
    }
   ],
   "source": [
    "dic.values()"
   ]
  },
  {
   "cell_type": "markdown",
   "id": "39fdaa2b-d49d-41ab-b88c-3ebf9469cff7",
   "metadata": {},
   "source": [
    "#### Key, Value 쌍 얻기 - items"
   ]
  },
  {
   "cell_type": "code",
   "execution_count": 189,
   "id": "f238b757-b96f-4656-b8d2-23ef55a94b5a",
   "metadata": {},
   "outputs": [
    {
     "data": {
      "text/plain": [
       "dict_items([('name', '이현'), ('phone', '010-2573-6054'), ('birth', '1216')])"
      ]
     },
     "execution_count": 189,
     "metadata": {},
     "output_type": "execute_result"
    }
   ],
   "source": [
    "dic.items()"
   ]
  },
  {
   "cell_type": "markdown",
   "id": "34b9eaa9-5040-4408-8069-13c8750eb8ad",
   "metadata": {},
   "source": [
    "#### Key:Value 쌍 모두 지우기 - clear"
   ]
  },
  {
   "cell_type": "code",
   "execution_count": 194,
   "id": "6144b445-b22c-40aa-9f96-84b9156eb6ce",
   "metadata": {},
   "outputs": [
    {
     "data": {
      "text/plain": [
       "{}"
      ]
     },
     "execution_count": 194,
     "metadata": {},
     "output_type": "execute_result"
    }
   ],
   "source": [
    "dic.clear()\n",
    "dic"
   ]
  },
  {
   "cell_type": "markdown",
   "id": "7976dbae-85ea-4d9d-a057-857b920d03bf",
   "metadata": {},
   "source": [
    "#### key로 Value 얻기 - get"
   ]
  },
  {
   "cell_type": "code",
   "execution_count": 197,
   "id": "c69cb1ab-1f60-4492-825f-9d3482f7d441",
   "metadata": {},
   "outputs": [
    {
     "data": {
      "text/plain": [
       "'pey'"
      ]
     },
     "execution_count": 197,
     "metadata": {},
     "output_type": "execute_result"
    }
   ],
   "source": [
    "a = {'name': 'pey', 'phone': '010-9999-1234', 'birth': '1118'}\n",
    "a.get('name')"
   ]
  },
  {
   "cell_type": "markdown",
   "id": "70a2c765-abf8-42c4-a474-a8282ca5358c",
   "metadata": {},
   "source": [
    "#### 해당 key가 딕셔너리 안에 있는지 조사하기 - in"
   ]
  },
  {
   "cell_type": "code",
   "execution_count": 200,
   "id": "879a1442-8820-4141-83fb-b2eeeec96c70",
   "metadata": {},
   "outputs": [
    {
     "data": {
      "text/plain": [
       "True"
      ]
     },
     "execution_count": 200,
     "metadata": {},
     "output_type": "execute_result"
    }
   ],
   "source": [
    "a = {'name':'pey', 'phone':'010-9999-1234', 'birth': '1118'}\n",
    "'name' in a"
   ]
  },
  {
   "cell_type": "code",
   "execution_count": 202,
   "id": "db8e8f77-c844-46f3-9dc4-e0b7a0cbb768",
   "metadata": {},
   "outputs": [
    {
     "data": {
      "text/plain": [
       "False"
      ]
     },
     "execution_count": 202,
     "metadata": {},
     "output_type": "execute_result"
    }
   ],
   "source": [
    "'email' in a"
   ]
  },
  {
   "cell_type": "markdown",
   "id": "ff48fafb-b9f2-4ea3-a10f-23a1e4884e41",
   "metadata": {},
   "source": [
    "## 집합 자료형"
   ]
  },
  {
   "cell_type": "code",
   "execution_count": 207,
   "id": "90066261-fc35-43b4-ae98-0cb23bff7feb",
   "metadata": {},
   "outputs": [
    {
     "data": {
      "text/plain": [
       "({1, 2, 3}, set)"
      ]
     },
     "execution_count": 207,
     "metadata": {},
     "output_type": "execute_result"
    }
   ],
   "source": [
    "s1 = set([1, 2, 3])\n",
    "s1, type(s1)"
   ]
  },
  {
   "cell_type": "code",
   "execution_count": 209,
   "id": "46916db6-3f64-43c2-ad57-eec20e8a19cd",
   "metadata": {},
   "outputs": [
    {
     "data": {
      "text/plain": [
       "{'H', 'e', 'l', 'o'}"
      ]
     },
     "execution_count": 209,
     "metadata": {},
     "output_type": "execute_result"
    }
   ],
   "source": [
    "s2 = set(\"Hello\")\n",
    "s2\n",
    "#중복 허용 x, 순서 x"
   ]
  },
  {
   "cell_type": "code",
   "execution_count": 211,
   "id": "c065c572-8395-4786-9c69-a9d524cbc0fa",
   "metadata": {},
   "outputs": [
    {
     "data": {
      "text/plain": [
       "set()"
      ]
     },
     "execution_count": 211,
     "metadata": {},
     "output_type": "execute_result"
    }
   ],
   "source": [
    "s = set()\n",
    "s"
   ]
  },
  {
   "cell_type": "markdown",
   "id": "e29c5920-31cf-42f0-b7b2-ef25e3cd4a08",
   "metadata": {},
   "source": [
    "### 교집합, 합집합, 차집합"
   ]
  },
  {
   "cell_type": "markdown",
   "id": "8e97706c-cd5e-497f-a452-8346c7bf101c",
   "metadata": {},
   "source": [
    "#### 교집합"
   ]
  },
  {
   "cell_type": "code",
   "execution_count": 222,
   "id": "6a038f7a-19e1-4467-bdaa-c7a9d0e608e2",
   "metadata": {},
   "outputs": [
    {
     "data": {
      "text/plain": [
       "{4, 5, 6}"
      ]
     },
     "execution_count": 222,
     "metadata": {},
     "output_type": "execute_result"
    }
   ],
   "source": [
    "s1 = set([1, 2, 3, 4, 5, 6])\n",
    "s2 = set([4, 5, 6, 7, 8, 9])\n",
    "s1 & s2"
   ]
  },
  {
   "cell_type": "code",
   "execution_count": 224,
   "id": "502d812f-268a-4768-9e46-2c8b4079fe73",
   "metadata": {},
   "outputs": [
    {
     "data": {
      "text/plain": [
       "{4, 5, 6}"
      ]
     },
     "execution_count": 224,
     "metadata": {},
     "output_type": "execute_result"
    }
   ],
   "source": [
    "s1.intersection(s2)"
   ]
  },
  {
   "cell_type": "markdown",
   "id": "db5602f2-b64e-4851-af69-c8842e63a1f8",
   "metadata": {},
   "source": [
    "#### 합집합"
   ]
  },
  {
   "cell_type": "code",
   "execution_count": 227,
   "id": "d5a57736-3e04-4a01-9832-27dc1f94ce9f",
   "metadata": {},
   "outputs": [
    {
     "data": {
      "text/plain": [
       "{1, 2, 3, 4, 5, 6, 7, 8, 9}"
      ]
     },
     "execution_count": 227,
     "metadata": {},
     "output_type": "execute_result"
    }
   ],
   "source": [
    "s1 | s2"
   ]
  },
  {
   "cell_type": "code",
   "execution_count": 229,
   "id": "4724f828-37bd-4ef8-ac42-c8101e1c5f8f",
   "metadata": {},
   "outputs": [
    {
     "data": {
      "text/plain": [
       "{1, 2, 3, 4, 5, 6, 7, 8, 9}"
      ]
     },
     "execution_count": 229,
     "metadata": {},
     "output_type": "execute_result"
    }
   ],
   "source": [
    "s1.union(s2)"
   ]
  },
  {
   "cell_type": "markdown",
   "id": "45c25cc3-a99f-4387-b38b-c7e8be39b563",
   "metadata": {},
   "source": [
    "#### 차집합"
   ]
  },
  {
   "cell_type": "code",
   "execution_count": 232,
   "id": "b4bccec9-b7a0-45b9-b03b-4f38a6c1c6d3",
   "metadata": {},
   "outputs": [
    {
     "data": {
      "text/plain": [
       "({1, 2, 3}, {7, 8, 9})"
      ]
     },
     "execution_count": 232,
     "metadata": {},
     "output_type": "execute_result"
    }
   ],
   "source": [
    "s1 - s2, s2 - s1"
   ]
  },
  {
   "cell_type": "code",
   "execution_count": 234,
   "id": "d9fb73ee-b8f0-4bff-a688-e4c8b0563d48",
   "metadata": {},
   "outputs": [
    {
     "data": {
      "text/plain": [
       "{1, 2, 3}"
      ]
     },
     "execution_count": 234,
     "metadata": {},
     "output_type": "execute_result"
    }
   ],
   "source": [
    "s1.difference(s2)"
   ]
  },
  {
   "cell_type": "code",
   "execution_count": 236,
   "id": "350d8758-635a-4734-a478-9b3539d4492d",
   "metadata": {},
   "outputs": [
    {
     "data": {
      "text/plain": [
       "{7, 8, 9}"
      ]
     },
     "execution_count": 236,
     "metadata": {},
     "output_type": "execute_result"
    }
   ],
   "source": [
    "s2.difference(s1)"
   ]
  },
  {
   "cell_type": "code",
   "execution_count": 213,
   "id": "a8cbfd61-7121-4d0e-94a6-f972e5792458",
   "metadata": {},
   "outputs": [
    {
     "data": {
      "text/plain": [
       "[1, 2, 3]"
      ]
     },
     "execution_count": 213,
     "metadata": {},
     "output_type": "execute_result"
    }
   ],
   "source": [
    "l1 = list(s1)\n",
    "l1"
   ]
  },
  {
   "cell_type": "code",
   "execution_count": 215,
   "id": "157819b0-4cca-4887-878e-d3fb2ab85d4e",
   "metadata": {},
   "outputs": [
    {
     "data": {
      "text/plain": [
       "(1, 2, 3)"
      ]
     },
     "execution_count": 215,
     "metadata": {},
     "output_type": "execute_result"
    }
   ],
   "source": [
    "t1 = tuple(s1)\n",
    "t1"
   ]
  },
  {
   "cell_type": "code",
   "execution_count": 219,
   "id": "e598f6a0-6d62-4845-8e16-ca748131ed5b",
   "metadata": {},
   "outputs": [
    {
     "data": {
      "text/plain": [
       "(1, 1)"
      ]
     },
     "execution_count": 219,
     "metadata": {},
     "output_type": "execute_result"
    }
   ],
   "source": [
    "l1[0], t1[0]"
   ]
  },
  {
   "cell_type": "markdown",
   "id": "0296cc26-4958-4635-9ba5-8b01fabfde7f",
   "metadata": {},
   "source": [
    "### 집합 자료형 관련 함수"
   ]
  },
  {
   "cell_type": "markdown",
   "id": "e2fbdfd1-a7cc-4b28-8e57-79324ca52f2f",
   "metadata": {},
   "source": [
    "#### 값 1개 추가하기 - add "
   ]
  },
  {
   "cell_type": "code",
   "execution_count": 248,
   "id": "ef63afb9-6384-4d84-9424-4fd3179cb177",
   "metadata": {},
   "outputs": [
    {
     "data": {
      "text/plain": [
       "{1, 2, 3, 4}"
      ]
     },
     "execution_count": 248,
     "metadata": {},
     "output_type": "execute_result"
    }
   ],
   "source": [
    "s1 = set([1, 2, 3])\n",
    "s1. add(4)\n",
    "s1"
   ]
  },
  {
   "cell_type": "markdown",
   "id": "7dc4261f-bbfe-4471-8d8c-282e63a006cb",
   "metadata": {},
   "source": [
    "#### 값 여러개 추가하기 -update"
   ]
  },
  {
   "cell_type": "code",
   "execution_count": 251,
   "id": "29fe2d27-3eaf-44dc-a196-bb820f948ae6",
   "metadata": {},
   "outputs": [
    {
     "data": {
      "text/plain": [
       "{1, 2, 3, 4, 5, 6, 7}"
      ]
     },
     "execution_count": 251,
     "metadata": {},
     "output_type": "execute_result"
    }
   ],
   "source": [
    "s1.update([5, 6, 7])\n",
    "s1"
   ]
  },
  {
   "cell_type": "markdown",
   "id": "2571db7b-4005-49da-bd19-8da73064118e",
   "metadata": {},
   "source": [
    "#### 특정 값 제거하기 -remove"
   ]
  },
  {
   "cell_type": "code",
   "execution_count": 254,
   "id": "a11033f2-ecef-4c48-b5aa-a775e2033e92",
   "metadata": {},
   "outputs": [
    {
     "data": {
      "text/plain": [
       "{1, 3, 4, 5, 6, 7}"
      ]
     },
     "execution_count": 254,
     "metadata": {},
     "output_type": "execute_result"
    }
   ],
   "source": [
    "s1.remove(2)\n",
    "s1"
   ]
  },
  {
   "cell_type": "markdown",
   "id": "8287c988-6e69-4da5-9332-5e830c8c95c0",
   "metadata": {},
   "source": [
    "## 불 자료형"
   ]
  },
  {
   "cell_type": "markdown",
   "id": "cdf8ee3a-7c45-47e8-806e-e8329b8f464f",
   "metadata": {},
   "source": [
    "* 불(bool)자료형이란 참(True)과 거짓(False)를 나타내는 자료형으로 2가지 값만 가진다.\n",
    "    1. True\n",
    "    2. False"
   ]
  },
  {
   "cell_type": "code",
   "execution_count": 261,
   "id": "cd21987f-1b53-4fd3-9f13-1e966d2b3b54",
   "metadata": {},
   "outputs": [
    {
     "data": {
      "text/plain": [
       "(bool, bool)"
      ]
     },
     "execution_count": 261,
     "metadata": {},
     "output_type": "execute_result"
    }
   ],
   "source": [
    "a = True\n",
    "b = False\n",
    "type(a), type(b)"
   ]
  },
  {
   "cell_type": "code",
   "execution_count": 263,
   "id": "5236a9f3-56d7-4c2e-93b9-77f6e4744c3e",
   "metadata": {},
   "outputs": [
    {
     "data": {
      "text/plain": [
       "True"
      ]
     },
     "execution_count": 263,
     "metadata": {},
     "output_type": "execute_result"
    }
   ],
   "source": [
    "1 == 1"
   ]
  },
  {
   "cell_type": "code",
   "execution_count": 265,
   "id": "15583798-a0a2-4505-8674-70bcb1b30e7f",
   "metadata": {},
   "outputs": [
    {
     "data": {
      "text/plain": [
       "True"
      ]
     },
     "execution_count": 265,
     "metadata": {},
     "output_type": "execute_result"
    }
   ],
   "source": [
    "2 > 1"
   ]
  },
  {
   "cell_type": "code",
   "execution_count": 267,
   "id": "d80cb443-0e39-4d91-8313-758d98b4fbc1",
   "metadata": {},
   "outputs": [
    {
     "data": {
      "text/plain": [
       "False"
      ]
     },
     "execution_count": 267,
     "metadata": {},
     "output_type": "execute_result"
    }
   ],
   "source": [
    "2 < 1"
   ]
  },
  {
   "cell_type": "code",
   "execution_count": 273,
   "id": "c492d947-fc8a-4a73-9196-09f4262d6786",
   "metadata": {},
   "outputs": [
    {
     "name": "stdout",
     "output_type": "stream",
     "text": [
      "[1, 2, 3, 4]\n",
      "[1, 2, 3] 4\n",
      "[1, 2, 3]\n",
      "[1, 2] 3\n",
      "[1, 2]\n",
      "[1] 2\n",
      "[1]\n",
      "[] 1\n"
     ]
    }
   ],
   "source": [
    "a = [1, 2, 3, 4]\n",
    "while a:\n",
    "    print(a)\n",
    "    print(a, a.pop())"
   ]
  },
  {
   "cell_type": "code",
   "execution_count": 275,
   "id": "2b1244da-f97d-4ec7-8119-35be563f3c8f",
   "metadata": {},
   "outputs": [
    {
     "name": "stdout",
     "output_type": "stream",
     "text": [
      "참\n"
     ]
    }
   ],
   "source": [
    "if [1, 2, 3]:\n",
    "...     print(\"참\")\n",
    "... else:\n",
    "...     print(\"거짓\")"
   ]
  },
  {
   "cell_type": "code",
   "execution_count": 277,
   "id": "070fb36d-dd33-4d88-b64f-0a421d4b1bfb",
   "metadata": {},
   "outputs": [
    {
     "name": "stdout",
     "output_type": "stream",
     "text": [
      "거짓\n"
     ]
    }
   ],
   "source": [
    "if []:\n",
    "...     print(\"참\")\n",
    "... else:\n",
    "...     print(\"거짓\")"
   ]
  },
  {
   "cell_type": "markdown",
   "id": "e46d99a1-4f04-4269-9e1e-f4ce7573354d",
   "metadata": {},
   "source": [
    "### 불 연산"
   ]
  },
  {
   "cell_type": "code",
   "execution_count": 280,
   "id": "0752a0a1-d822-4df9-8dbb-98c7c6c10ed4",
   "metadata": {},
   "outputs": [
    {
     "data": {
      "text/plain": [
       "True"
      ]
     },
     "execution_count": 280,
     "metadata": {},
     "output_type": "execute_result"
    }
   ],
   "source": [
    "bool('python')"
   ]
  },
  {
   "cell_type": "code",
   "execution_count": 282,
   "id": "f5e90b5a-c12c-4639-8dc8-800b87ba8a45",
   "metadata": {},
   "outputs": [
    {
     "data": {
      "text/plain": [
       "False"
      ]
     },
     "execution_count": 282,
     "metadata": {},
     "output_type": "execute_result"
    }
   ],
   "source": [
    "bool('')"
   ]
  },
  {
   "cell_type": "code",
   "execution_count": null,
   "id": "3f79a5aa-e004-4c21-8108-5f3819737b02",
   "metadata": {},
   "outputs": [],
   "source": []
  }
 ],
 "metadata": {
  "kernelspec": {
   "display_name": "Python 3 (ipykernel)",
   "language": "python",
   "name": "python3"
  },
  "language_info": {
   "codemirror_mode": {
    "name": "ipython",
    "version": 3
   },
   "file_extension": ".py",
   "mimetype": "text/x-python",
   "name": "python",
   "nbconvert_exporter": "python",
   "pygments_lexer": "ipython3",
   "version": "3.12.4"
  }
 },
 "nbformat": 4,
 "nbformat_minor": 5
}
