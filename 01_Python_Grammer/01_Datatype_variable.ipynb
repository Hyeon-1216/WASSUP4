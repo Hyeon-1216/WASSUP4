{
 "cells": [
  {
   "cell_type": "markdown",
   "id": "456e5ede-c90d-4bde-a672-e733e8be9223",
   "metadata": {},
   "source": [
    "# 변수와 자료형"
   ]
  },
  {
   "cell_type": "markdown",
   "id": "1b48d43b-cb9b-460a-adaf-50d2282d8a2b",
   "metadata": {},
   "source": [
    "## 자료형의 값을 저장하는 공간, 변수"
   ]
  },
  {
   "cell_type": "code",
   "execution_count": 9,
   "id": "517762cd-4c14-457e-b255-4eaeaec15da8",
   "metadata": {},
   "outputs": [
    {
     "name": "stdout",
     "output_type": "stream",
     "text": [
      "1\n"
     ]
    }
   ],
   "source": [
    "a = 1\n",
    "print(a)"
   ]
  },
  {
   "cell_type": "code",
   "execution_count": 11,
   "id": "733cc809-a975-49d6-8154-a95e585718ce",
   "metadata": {},
   "outputs": [
    {
     "data": {
      "text/plain": [
       "'python'"
      ]
     },
     "execution_count": 11,
     "metadata": {},
     "output_type": "execute_result"
    }
   ],
   "source": [
    "b = 'python'\n",
    "b"
   ]
  },
  {
   "cell_type": "code",
   "execution_count": null,
   "id": "18312910-97e9-4928-bec8-696638015456",
   "metadata": {},
   "outputs": [],
   "source": [
    "c = {1, 2, 3"
   ]
  },
  {
   "cell_type": "markdown",
   "id": "2e10776a-13c6-4937-a1a7-9880691cfaf4",
   "metadata": {},
   "source": [
    "## 숫자형"
   ]
  },
  {
   "cell_type": "markdown",
   "id": "eac2b07a-cb43-40a8-b616-fd6c10f1b6f0",
   "metadata": {},
   "source": [
    "### 정수형"
   ]
  },
  {
   "cell_type": "code",
   "execution_count": 17,
   "id": "ad216241-cfbd-4930-a39b-6177abb90005",
   "metadata": {},
   "outputs": [
    {
     "data": {
      "text/plain": [
       "123"
      ]
     },
     "execution_count": 17,
     "metadata": {},
     "output_type": "execute_result"
    }
   ],
   "source": [
    "a =123\n",
    "a"
   ]
  },
  {
   "cell_type": "code",
   "execution_count": 19,
   "id": "e8eeba79-c5c3-49b9-875c-5e689128aec2",
   "metadata": {},
   "outputs": [
    {
     "data": {
      "text/plain": [
       "-178"
      ]
     },
     "execution_count": 19,
     "metadata": {},
     "output_type": "execute_result"
    }
   ],
   "source": [
    "a = -178\n",
    "a"
   ]
  },
  {
   "cell_type": "code",
   "execution_count": 21,
   "id": "a7aae7af-68fd-4416-9cf9-82df5b71b6e8",
   "metadata": {},
   "outputs": [
    {
     "data": {
      "text/plain": [
       "0"
      ]
     },
     "execution_count": 21,
     "metadata": {},
     "output_type": "execute_result"
    }
   ],
   "source": [
    "a = 0\n",
    "a"
   ]
  },
  {
   "cell_type": "markdown",
   "id": "b4481d09-fdac-4919-bbc4-ece4c1806577",
   "metadata": {},
   "source": [
    "### 실수형"
   ]
  },
  {
   "cell_type": "code",
   "execution_count": 35,
   "id": "a22269a1-3748-473a-b919-be573b0c6520",
   "metadata": {},
   "outputs": [
    {
     "data": {
      "text/plain": [
       "(1.2, -3.45)"
      ]
     },
     "execution_count": 35,
     "metadata": {},
     "output_type": "execute_result"
    }
   ],
   "source": [
    "a = 1.2\n",
    "b = -3.45\n",
    "a, b"
   ]
  },
  {
   "cell_type": "code",
   "execution_count": 37,
   "id": "a58db26a-588b-4702-ba83-33cc6220b29c",
   "metadata": {},
   "outputs": [
    {
     "data": {
      "text/plain": [
       "42000000000.0"
      ]
     },
     "execution_count": 37,
     "metadata": {},
     "output_type": "execute_result"
    }
   ],
   "source": [
    "a = 4.2E10\n",
    "a"
   ]
  },
  {
   "cell_type": "markdown",
   "id": "d167b4c2-f2a3-4616-a7bb-eea8d879796e",
   "metadata": {},
   "source": [
    "### 8진수와 16진수"
   ]
  },
  {
   "cell_type": "code",
   "execution_count": 41,
   "id": "a0ec8893-fd8b-4c64-88b5-0f2136eeb714",
   "metadata": {},
   "outputs": [
    {
     "name": "stdout",
     "output_type": "stream",
     "text": [
      "127\n"
     ]
    }
   ],
   "source": [
    "a = 0o177\n",
    "print(a)"
   ]
  },
  {
   "cell_type": "code",
   "execution_count": 43,
   "id": "b0f0d957-be4a-46e2-b4be-2f910fd1db20",
   "metadata": {},
   "outputs": [
    {
     "data": {
      "text/plain": [
       "(2303, 2748)"
      ]
     },
     "execution_count": 43,
     "metadata": {},
     "output_type": "execute_result"
    }
   ],
   "source": [
    "a = 0x8ff\n",
    "b = 0xABC\n",
    "a, b"
   ]
  },
  {
   "cell_type": "markdown",
   "id": "f29ad9c9-8bc9-4084-9402-f893a607d695",
   "metadata": {},
   "source": [
    "### 사칙연산"
   ]
  },
  {
   "cell_type": "code",
   "execution_count": 46,
   "id": "dced3361-165e-4374-8a3c-8ee4a9c0e943",
   "metadata": {},
   "outputs": [
    {
     "data": {
      "text/plain": [
       "7"
      ]
     },
     "execution_count": 46,
     "metadata": {},
     "output_type": "execute_result"
    }
   ],
   "source": [
    "a = 3\n",
    "b = 4\n",
    "a + b"
   ]
  },
  {
   "cell_type": "code",
   "execution_count": 48,
   "id": "143e3470-ca38-4e60-943c-c9d7086d7234",
   "metadata": {},
   "outputs": [
    {
     "data": {
      "text/plain": [
       "(-1, 12, 0.75)"
      ]
     },
     "execution_count": 48,
     "metadata": {},
     "output_type": "execute_result"
    }
   ],
   "source": [
    "a-b, a*b, a/b"
   ]
  },
  {
   "cell_type": "markdown",
   "id": "6cc9d207-f189-40cd-8e34-8229ea51c7a7",
   "metadata": {},
   "source": [
    "### x의 y제곱을 나타내는 **연산자"
   ]
  },
  {
   "cell_type": "code",
   "execution_count": 51,
   "id": "f35fe1f6-3281-48e5-a359-ad56b1a857eb",
   "metadata": {},
   "outputs": [
    {
     "data": {
      "text/plain": [
       "81"
      ]
     },
     "execution_count": 51,
     "metadata": {},
     "output_type": "execute_result"
    }
   ],
   "source": [
    "a**b"
   ]
  },
  {
   "cell_type": "markdown",
   "id": "08a2a417-eb42-4319-9666-e87977c9d47f",
   "metadata": {},
   "source": [
    "### 나눗셈 후 나머지를 리턴"
   ]
  },
  {
   "cell_type": "code",
   "execution_count": 54,
   "id": "4f3139cf-cd3d-4abd-840d-41b8981d2676",
   "metadata": {},
   "outputs": [
    {
     "data": {
      "text/plain": [
       "(1, 3)"
      ]
     },
     "execution_count": 54,
     "metadata": {},
     "output_type": "execute_result"
    }
   ],
   "source": [
    "7 % 3, 3 % 7"
   ]
  },
  {
   "cell_type": "markdown",
   "id": "26764b09-0b48-44f1-bc9d-95e6bbe4ae79",
   "metadata": {},
   "source": [
    "### 나눗셈 후 몫을 리턴"
   ]
  },
  {
   "cell_type": "code",
   "execution_count": 57,
   "id": "7e16aee4-800b-4c3d-8377-93ef0f1413d9",
   "metadata": {},
   "outputs": [
    {
     "data": {
      "text/plain": [
       "1"
      ]
     },
     "execution_count": 57,
     "metadata": {},
     "output_type": "execute_result"
    }
   ],
   "source": [
    "7//4"
   ]
  },
  {
   "cell_type": "markdown",
   "id": "4521f125-0414-4714-99d2-b36d80ad952b",
   "metadata": {},
   "source": [
    "### 복합 연산자"
   ]
  },
  {
   "cell_type": "code",
   "execution_count": 60,
   "id": "3c53395e-6797-48c6-8d67-9b369a4df9bd",
   "metadata": {},
   "outputs": [
    {
     "data": {
      "text/plain": [
       "4"
      ]
     },
     "execution_count": 60,
     "metadata": {},
     "output_type": "execute_result"
    }
   ],
   "source": [
    "a = a + 1\n",
    "a"
   ]
  },
  {
   "cell_type": "code",
   "execution_count": 64,
   "id": "02a319c2-cb4b-4766-979d-f9c70455e876",
   "metadata": {},
   "outputs": [
    {
     "data": {
      "text/plain": [
       "6"
      ]
     },
     "execution_count": 64,
     "metadata": {},
     "output_type": "execute_result"
    }
   ],
   "source": [
    "a += 1\n",
    "a"
   ]
  },
  {
   "cell_type": "code",
   "execution_count": 66,
   "id": "59854e00-e28e-4c14-9bb7-d73c560f454b",
   "metadata": {},
   "outputs": [
    {
     "data": {
      "text/plain": [
       "5"
      ]
     },
     "execution_count": 66,
     "metadata": {},
     "output_type": "execute_result"
    }
   ],
   "source": [
    "a -= 1\n",
    "a"
   ]
  },
  {
   "cell_type": "markdown",
   "id": "4c6b28b2-496c-47a3-9899-f091479cf904",
   "metadata": {},
   "source": [
    "#### +=. -=, *=, /=, //=, %=. **= 모두 가능!"
   ]
  },
  {
   "cell_type": "markdown",
   "id": "4e9c8114-d337-473d-84f8-0740c850652f",
   "metadata": {},
   "source": [
    "## 문자열 자료형"
   ]
  },
  {
   "cell_type": "code",
   "execution_count": 76,
   "id": "52fc38f8-8c76-4f6c-a9f9-7195a3f8490c",
   "metadata": {},
   "outputs": [
    {
     "data": {
      "text/plain": [
       "'123'"
      ]
     },
     "execution_count": 76,
     "metadata": {},
     "output_type": "execute_result"
    }
   ],
   "source": [
    "\"Life is too short, You need Python\"\n",
    "\"a\"\n",
    "\"123\""
   ]
  },
  {
   "cell_type": "code",
   "execution_count": 78,
   "id": "0129f723-b049-47e2-87b1-d274d787f19d",
   "metadata": {},
   "outputs": [
    {
     "data": {
      "text/plain": [
       "'hello world'"
      ]
     },
     "execution_count": 78,
     "metadata": {},
     "output_type": "execute_result"
    }
   ],
   "source": [
    "\"hello world\""
   ]
  },
  {
   "cell_type": "code",
   "execution_count": 89,
   "id": "f3b987e3-2bb1-4904-b930-38bd5a43c7fd",
   "metadata": {},
   "outputs": [
    {
     "data": {
      "text/plain": [
       "'Python is fun'"
      ]
     },
     "execution_count": 89,
     "metadata": {},
     "output_type": "execute_result"
    }
   ],
   "source": [
    "'Python is fun'"
   ]
  },
  {
   "cell_type": "code",
   "execution_count": 91,
   "id": "da5d6617-22f3-4628-a08b-77e80815f9c0",
   "metadata": {},
   "outputs": [
    {
     "data": {
      "text/plain": [
       "'Life is too short, You need Python'"
      ]
     },
     "execution_count": 91,
     "metadata": {},
     "output_type": "execute_result"
    }
   ],
   "source": [
    "\"\"\"Life is too short, You need Python\"\"\""
   ]
  },
  {
   "cell_type": "code",
   "execution_count": 93,
   "id": "e752a057-9bf9-4374-89f2-6dd68fe41c0a",
   "metadata": {},
   "outputs": [
    {
     "data": {
      "text/plain": [
       "'Life is too short, You need Python'"
      ]
     },
     "execution_count": 93,
     "metadata": {},
     "output_type": "execute_result"
    }
   ],
   "source": [
    "'''Life is too short, You need Python'''"
   ]
  },
  {
   "cell_type": "markdown",
   "id": "0a131388-b52b-4d6d-8ea7-a845a8889d78",
   "metadata": {},
   "source": [
    "### 문자열에 작은 따옴표 포함하기"
   ]
  },
  {
   "cell_type": "code",
   "execution_count": 96,
   "id": "5befdf93-f785-49a5-a7d5-8d0ac2ba88e2",
   "metadata": {},
   "outputs": [
    {
     "data": {
      "text/plain": [
       "\"Python's favorite food is perl\""
      ]
     },
     "execution_count": 96,
     "metadata": {},
     "output_type": "execute_result"
    }
   ],
   "source": [
    "\"Python's favorite food is perl\""
   ]
  },
  {
   "cell_type": "markdown",
   "id": "f72cef43-ea03-4a4f-b1cd-a102a04ad687",
   "metadata": {},
   "source": [
    "### 문자열에 큰 따옴표 포함하기"
   ]
  },
  {
   "cell_type": "code",
   "execution_count": 101,
   "id": "fc7ac12a-880b-4a27-b7f6-d7fcdb945e8b",
   "metadata": {},
   "outputs": [
    {
     "data": {
      "text/plain": [
       "'\"Python is very easy.\" he says.'"
      ]
     },
     "execution_count": 101,
     "metadata": {},
     "output_type": "execute_result"
    }
   ],
   "source": [
    "'\"Python is very easy.\" he says.'"
   ]
  },
  {
   "cell_type": "markdown",
   "id": "407b5c7d-fe78-47a6-816b-1f01daa606ff",
   "metadata": {},
   "source": [
    "### 역슬래시를 사용해서 작은 따옴표와 큰따옴표를 문자열에 포함시키기"
   ]
  },
  {
   "cell_type": "code",
   "execution_count": 108,
   "id": "afc1e99b-b6f2-4025-9615-5d3f5f24c8d2",
   "metadata": {},
   "outputs": [
    {
     "data": {
      "text/plain": [
       "\"Python's favorite food is perl\""
      ]
     },
     "execution_count": 108,
     "metadata": {},
     "output_type": "execute_result"
    }
   ],
   "source": [
    "food = 'Python\\'s favorite food is perl'\n",
    "food"
   ]
  },
  {
   "cell_type": "code",
   "execution_count": 110,
   "id": "163e34fb-4a45-46c5-b8b6-88e36e1b77da",
   "metadata": {},
   "outputs": [
    {
     "data": {
      "text/plain": [
       "'\"Python is very easy.\" he says.'"
      ]
     },
     "execution_count": 110,
     "metadata": {},
     "output_type": "execute_result"
    }
   ],
   "source": [
    "say = \"\\\"Python is very easy.\\\" he says.\"\n",
    "say"
   ]
  },
  {
   "cell_type": "markdown",
   "id": "fbebd892-4a38-4b55-ad78-60bc76c95e3d",
   "metadata": {},
   "source": [
    "### 여러 줄인 문자열을 변수에 대입하고 싶을 때"
   ]
  },
  {
   "cell_type": "markdown",
   "id": "5084883e-bc07-409a-9092-311edefd56a3",
   "metadata": {},
   "source": [
    "#### 줄을 바꾸기 위한 이스케이프 코드 \\n 삽입하기"
   ]
  },
  {
   "cell_type": "code",
   "execution_count": 122,
   "id": "45b489e6-59f2-46a6-8a30-cc2024bf3b4e",
   "metadata": {},
   "outputs": [
    {
     "data": {
      "text/plain": [
       "'Life is too short.\\nYou need Python'"
      ]
     },
     "execution_count": 122,
     "metadata": {},
     "output_type": "execute_result"
    }
   ],
   "source": [
    "multiline = 'Life is too short.\\nYou need Python'\n",
    "multiline"
   ]
  },
  {
   "cell_type": "code",
   "execution_count": 124,
   "id": "ec60a6d1-b10b-4701-a81e-3119df63bd0d",
   "metadata": {},
   "outputs": [
    {
     "name": "stdout",
     "output_type": "stream",
     "text": [
      "Life is too short.\n",
      "You need Python\n"
     ]
    }
   ],
   "source": [
    "print(multiline)"
   ]
  },
  {
   "cell_type": "markdown",
   "id": "8ab19d18-6c77-4516-9258-bb0c6dd2cab3",
   "metadata": {},
   "source": [
    "#### 연속된 작은 따옴표 3개 또는 큰 따옴표 3개 사용하기"
   ]
  },
  {
   "cell_type": "code",
   "execution_count": 129,
   "id": "85519bcd-931e-4ca4-b3f5-155ddf8bfb93",
   "metadata": {},
   "outputs": [
    {
     "data": {
      "text/plain": [
       "'\\nLife is too short\\nYou need Python\\n'"
      ]
     },
     "execution_count": 129,
     "metadata": {},
     "output_type": "execute_result"
    }
   ],
   "source": [
    "'''\n",
    "Life is too short\n",
    "You need Python\n",
    "'''"
   ]
  },
  {
   "cell_type": "code",
   "execution_count": 131,
   "id": "23b00738-2025-4891-a1e9-f8036745f8e2",
   "metadata": {},
   "outputs": [
    {
     "data": {
      "text/plain": [
       "'\\nLife is too short\\nYou need Python\\n'"
      ]
     },
     "execution_count": 131,
     "metadata": {},
     "output_type": "execute_result"
    }
   ],
   "source": [
    "\"\"\"\n",
    "Life is too short\n",
    "You need Python\n",
    "\"\"\""
   ]
  },
  {
   "cell_type": "markdown",
   "id": "c99f49ab-27d8-4e70-8966-df90de7d689e",
   "metadata": {},
   "source": [
    "### 문자열 연산하기"
   ]
  },
  {
   "cell_type": "code",
   "execution_count": 136,
   "id": "9130baf3-0192-49b1-8082-053455c6cd52",
   "metadata": {},
   "outputs": [
    {
     "data": {
      "text/plain": [
       "'python is fun'"
      ]
     },
     "execution_count": 136,
     "metadata": {},
     "output_type": "execute_result"
    }
   ],
   "source": [
    "head = \"python\"\n",
    "tail = ' is fun'\n",
    "head + tail"
   ]
  },
  {
   "cell_type": "code",
   "execution_count": 138,
   "id": "dcda1e77-d07e-438e-9f62-efd8d009e47a",
   "metadata": {},
   "outputs": [
    {
     "data": {
      "text/plain": [
       "'pythonpython'"
      ]
     },
     "execution_count": 138,
     "metadata": {},
     "output_type": "execute_result"
    }
   ],
   "source": [
    "head * 2"
   ]
  },
  {
   "cell_type": "code",
   "execution_count": 142,
   "id": "2d1e02a7-be10-40e4-9244-8b8c2294e3ef",
   "metadata": {},
   "outputs": [
    {
     "name": "stdout",
     "output_type": "stream",
     "text": [
      "==================================================\n",
      "My Program\n",
      "==================================================\n"
     ]
    }
   ],
   "source": [
    "print(\"=\" * 50)\n",
    "print(\"My Program\")\n",
    "print(\"=\" * 50)"
   ]
  },
  {
   "cell_type": "code",
   "execution_count": 144,
   "id": "a2246862-3f38-40ce-b82e-9d8a783fe355",
   "metadata": {},
   "outputs": [
    {
     "data": {
      "text/plain": [
       "17"
      ]
     },
     "execution_count": 144,
     "metadata": {},
     "output_type": "execute_result"
    }
   ],
   "source": [
    "a = \"Life is too short\"\n",
    "len(a)"
   ]
  },
  {
   "cell_type": "markdown",
   "id": "1003e1ab-4c76-479b-be38-c9971dbab0c1",
   "metadata": {},
   "source": [
    "### 문자열 인덱싱과 슬라이싱"
   ]
  },
  {
   "cell_type": "markdown",
   "id": "68cc0953-8ed4-4d87-8339-9a11049874e7",
   "metadata": {},
   "source": [
    "#### 문자열 인덱싱"
   ]
  },
  {
   "cell_type": "code",
   "execution_count": 148,
   "id": "c7aa5c52-ad0b-4ac2-94ac-db680d3138cb",
   "metadata": {},
   "outputs": [
    {
     "data": {
      "text/plain": [
       "'Life is too short, You need Python'"
      ]
     },
     "execution_count": 148,
     "metadata": {},
     "output_type": "execute_result"
    }
   ],
   "source": [
    "a = \"Life is too short, You need Python\"\n",
    "a"
   ]
  },
  {
   "cell_type": "code",
   "execution_count": 150,
   "id": "36b45462-89bf-457e-ac95-1586bdc467fc",
   "metadata": {},
   "outputs": [
    {
     "data": {
      "text/plain": [
       "'e'"
      ]
     },
     "execution_count": 150,
     "metadata": {},
     "output_type": "execute_result"
    }
   ],
   "source": [
    "a[3]"
   ]
  },
  {
   "cell_type": "code",
   "execution_count": 152,
   "id": "f6e5cbd2-693e-4b56-90db-efcdfca490c2",
   "metadata": {},
   "outputs": [
    {
     "data": {
      "text/plain": [
       "','"
      ]
     },
     "execution_count": 152,
     "metadata": {},
     "output_type": "execute_result"
    }
   ],
   "source": [
    "a[17]"
   ]
  },
  {
   "cell_type": "code",
   "execution_count": 156,
   "id": "646596d4-e620-48bd-9645-5bb2ec830df2",
   "metadata": {},
   "outputs": [
    {
     "data": {
      "text/plain": [
       "'P'"
      ]
     },
     "execution_count": 156,
     "metadata": {},
     "output_type": "execute_result"
    }
   ],
   "source": [
    "a[-6]"
   ]
  },
  {
   "cell_type": "code",
   "execution_count": 162,
   "id": "388a2b02-41b7-467e-8ebb-7c7e1428dc65",
   "metadata": {},
   "outputs": [
    {
     "data": {
      "text/plain": [
       "'Life'"
      ]
     },
     "execution_count": 162,
     "metadata": {},
     "output_type": "execute_result"
    }
   ],
   "source": [
    "b = a[0]+a[1]+a[2]+a[3]\n",
    "b"
   ]
  },
  {
   "cell_type": "markdown",
   "id": "9d288d93-7507-4b4d-8761-18aeb45d0365",
   "metadata": {},
   "source": [
    "#### 슬라이싱 [n:m] -> m이전 글자까지"
   ]
  },
  {
   "cell_type": "code",
   "execution_count": 165,
   "id": "c5ed6b23-4ed8-48b9-b442-599d256dd8f7",
   "metadata": {},
   "outputs": [
    {
     "data": {
      "text/plain": [
       "'Life'"
      ]
     },
     "execution_count": 165,
     "metadata": {},
     "output_type": "execute_result"
    }
   ],
   "source": [
    "a[0:4]"
   ]
  },
  {
   "cell_type": "code",
   "execution_count": 168,
   "id": "e27cbc05-b051-4f8d-ad25-00d9328e59aa",
   "metadata": {},
   "outputs": [
    {
     "data": {
      "text/plain": [
       "'short, '"
      ]
     },
     "execution_count": 168,
     "metadata": {},
     "output_type": "execute_result"
    }
   ],
   "source": [
    "a[12:19]"
   ]
  },
  {
   "cell_type": "code",
   "execution_count": 170,
   "id": "eb49189d-dd27-47db-a078-73d0c4a70c6c",
   "metadata": {},
   "outputs": [
    {
     "data": {
      "text/plain": [
       "'short, You need Python'"
      ]
     },
     "execution_count": 170,
     "metadata": {},
     "output_type": "execute_result"
    }
   ],
   "source": [
    "a[12:]"
   ]
  },
  {
   "cell_type": "code",
   "execution_count": 172,
   "id": "e09dd989-8c82-4689-9f39-8962969bc6d3",
   "metadata": {},
   "outputs": [
    {
     "data": {
      "text/plain": [
       "'Life is too short, You need Python'"
      ]
     },
     "execution_count": 172,
     "metadata": {},
     "output_type": "execute_result"
    }
   ],
   "source": [
    "a[:]"
   ]
  },
  {
   "cell_type": "code",
   "execution_count": 176,
   "id": "14c39e09-e70d-45da-be2c-9a106654c321",
   "metadata": {},
   "outputs": [
    {
     "data": {
      "text/plain": [
       "'You need'"
      ]
     },
     "execution_count": 176,
     "metadata": {},
     "output_type": "execute_result"
    }
   ],
   "source": [
    "a[-15:-7]"
   ]
  },
  {
   "cell_type": "markdown",
   "id": "ac7c38f1-4c51-4251-ba42-48f93c39c1e2",
   "metadata": {},
   "source": [
    "#### 슬라이싱으로 문자열 나누기"
   ]
  },
  {
   "cell_type": "code",
   "execution_count": 206,
   "id": "39f0611d-6950-4ee2-b045-8fbd9ced9b56",
   "metadata": {},
   "outputs": [
    {
     "data": {
      "text/plain": [
       "('20240904', 'sunny')"
      ]
     },
     "execution_count": 206,
     "metadata": {},
     "output_type": "execute_result"
    }
   ],
   "source": [
    "a = \"20240904sunny\"\n",
    "date = a[:8]\n",
    "weather = a[-5:]\n",
    "date, weather"
   ]
  },
  {
   "cell_type": "code",
   "execution_count": 208,
   "id": "92a10f6c-8fb7-4d84-85f3-b0881242d93a",
   "metadata": {},
   "outputs": [
    {
     "data": {
      "text/plain": [
       "('2024', '0904')"
      ]
     },
     "execution_count": 208,
     "metadata": {},
     "output_type": "execute_result"
    }
   ],
   "source": [
    "year = a[:4]\n",
    "day = a[4:8]\n",
    "year, day"
   ]
  },
  {
   "cell_type": "markdown",
   "id": "dd111a80-8870-4be9-ad5f-122603a356f9",
   "metadata": {},
   "source": [
    "### 문자열은 변경할 수 있을까?"
   ]
  },
  {
   "cell_type": "markdown",
   "id": "36073a91-d279-4e44-9787-c0545df6e464",
   "metadata": {},
   "source": [
    "NO. 문자열의 요솟값은 바꿀 수 있는 값이 아니기 때문이다(그래서 문자열을 ‘변경 불가능한(immutable) 자료형’"
   ]
  },
  {
   "cell_type": "code",
   "execution_count": 211,
   "id": "2c3c199f-906d-40a8-a143-6f50f4d685d4",
   "metadata": {},
   "outputs": [
    {
     "data": {
      "text/plain": [
       "'i'"
      ]
     },
     "execution_count": 211,
     "metadata": {},
     "output_type": "execute_result"
    }
   ],
   "source": [
    "a = \"pithon\"\n",
    "a[1]"
   ]
  },
  {
   "cell_type": "code",
   "execution_count": 220,
   "id": "f49da421-fc91-4c3d-8705-6bc7209f6fa4",
   "metadata": {},
   "outputs": [
    {
     "ename": "TypeError",
     "evalue": "'str' object does not support item assignment",
     "output_type": "error",
     "traceback": [
      "\u001b[1;31m---------------------------------------------------------------------------\u001b[0m",
      "\u001b[1;31mTypeError\u001b[0m                                 Traceback (most recent call last)",
      "Cell \u001b[1;32mIn[220], line 1\u001b[0m\n\u001b[1;32m----> 1\u001b[0m \u001b[43ma\u001b[49m\u001b[43m[\u001b[49m\u001b[38;5;241;43m1\u001b[39;49m\u001b[43m]\u001b[49m \u001b[38;5;241m=\u001b[39m \u001b[38;5;124m'\u001b[39m\u001b[38;5;124my\u001b[39m\u001b[38;5;124m'\u001b[39m\n\u001b[0;32m      2\u001b[0m a\n",
      "\u001b[1;31mTypeError\u001b[0m: 'str' object does not support item assignment"
     ]
    }
   ],
   "source": [
    "a[1] = 'y'\n",
    "a"
   ]
  },
  {
   "cell_type": "code",
   "execution_count": 222,
   "id": "4b4cf989-342e-4f6a-82d6-3150d4b83432",
   "metadata": {},
   "outputs": [
    {
     "data": {
      "text/plain": [
       "'Python'"
      ]
     },
     "execution_count": 222,
     "metadata": {},
     "output_type": "execute_result"
    }
   ],
   "source": [
    "a = \"Pithon\"\n",
    "a[0] +'y' + a[2:]"
   ]
  },
  {
   "cell_type": "markdown",
   "id": "fdd85a4a-a40f-472b-b185-a5b73ed4f941",
   "metadata": {},
   "source": [
    "### 문자열 포맷팅"
   ]
  },
  {
   "cell_type": "code",
   "execution_count": 227,
   "id": "0e7d65b8-2373-4fd4-883c-23aa7f4e95f5",
   "metadata": {},
   "outputs": [
    {
     "data": {
      "text/plain": [
       "'I eat 3 apples.'"
      ]
     },
     "execution_count": 227,
     "metadata": {},
     "output_type": "execute_result"
    }
   ],
   "source": [
    "\"I eat %d apples.\" %3"
   ]
  },
  {
   "cell_type": "code",
   "execution_count": 229,
   "id": "1a609bee-7672-49e1-a9c6-39d0028a1979",
   "metadata": {},
   "outputs": [
    {
     "data": {
      "text/plain": [
       "'I eat five appples.'"
      ]
     },
     "execution_count": 229,
     "metadata": {},
     "output_type": "execute_result"
    }
   ],
   "source": [
    "\"I eat %s appples.\" %\"five\""
   ]
  },
  {
   "cell_type": "code",
   "execution_count": 231,
   "id": "dd113dd3-f2f1-4724-891d-7dedf2de2d88",
   "metadata": {},
   "outputs": [
    {
     "data": {
      "text/plain": [
       "'I eat 3 apples'"
      ]
     },
     "execution_count": 231,
     "metadata": {},
     "output_type": "execute_result"
    }
   ],
   "source": [
    "number = 3\n",
    "\"I eat %d apples\"%number"
   ]
  },
  {
   "cell_type": "code",
   "execution_count": 235,
   "id": "ceba89a3-5850-4327-9842-6af078c8f938",
   "metadata": {},
   "outputs": [
    {
     "data": {
      "text/plain": [
       "'I ate 10 apples. so I was sick for three days.'"
      ]
     },
     "execution_count": 235,
     "metadata": {},
     "output_type": "execute_result"
    }
   ],
   "source": [
    "number = 10\n",
    "day = \"three\"\n",
    "\"I ate %d apples. so I was sick for %s days.\" %(number, day)"
   ]
  },
  {
   "cell_type": "markdown",
   "id": "6c428504-cee1-483d-8d60-2e092fd3fc6d",
   "metadata": {},
   "source": [
    "##### Error is 98%"
   ]
  },
  {
   "cell_type": "code",
   "execution_count": 246,
   "id": "3c3623bf-16fd-459a-adac-c5dd4ef42825",
   "metadata": {},
   "outputs": [
    {
     "data": {
      "text/plain": [
       "'Error is 98%'"
      ]
     },
     "execution_count": 246,
     "metadata": {},
     "output_type": "execute_result"
    }
   ],
   "source": [
    "\"Error is %d%%\"%98"
   ]
  },
  {
   "cell_type": "markdown",
   "id": "2314f356-232a-45a6-94ce-5510e6616fca",
   "metadata": {},
   "source": [
    "##### 소수점 표현하기"
   ]
  },
  {
   "cell_type": "code",
   "execution_count": 249,
   "id": "6207c766-6bb9-49c4-9910-26eda10b8682",
   "metadata": {},
   "outputs": [
    {
     "data": {
      "text/plain": [
       "'3.42'"
      ]
     },
     "execution_count": 249,
     "metadata": {},
     "output_type": "execute_result"
    }
   ],
   "source": [
    "\"%0.2f\"%3.42134234"
   ]
  },
  {
   "cell_type": "code",
   "execution_count": 251,
   "id": "ba3d593c-2f6e-431c-8f2d-58ef62792979",
   "metadata": {},
   "outputs": [
    {
     "data": {
      "text/plain": [
       "'3.4213'"
      ]
     },
     "execution_count": 251,
     "metadata": {},
     "output_type": "execute_result"
    }
   ],
   "source": [
    "\"%0.4f\"%3.42134234"
   ]
  },
  {
   "cell_type": "markdown",
   "id": "86a2e2cb-d692-40f7-9cf4-8fbd14811c69",
   "metadata": {},
   "source": [
    "#### 포맷함수를 사용한 포매팅"
   ]
  },
  {
   "cell_type": "code",
   "execution_count": 256,
   "id": "cf1ff532-b80c-40bc-8083-02c399747fca",
   "metadata": {},
   "outputs": [
    {
     "data": {
      "text/plain": [
       "'I eat 3 apples.'"
      ]
     },
     "execution_count": 256,
     "metadata": {},
     "output_type": "execute_result"
    }
   ],
   "source": [
    "\"I eat {0} apples.\".format(3)"
   ]
  },
  {
   "cell_type": "code",
   "execution_count": 258,
   "id": "04960634-5e56-4a82-b8b2-0b9c314e3c9a",
   "metadata": {},
   "outputs": [
    {
     "data": {
      "text/plain": [
       "'I eat five apples.'"
      ]
     },
     "execution_count": 258,
     "metadata": {},
     "output_type": "execute_result"
    }
   ],
   "source": [
    "\"I eat {0} apples.\".format(\"five\")"
   ]
  },
  {
   "cell_type": "code",
   "execution_count": 266,
   "id": "0f03195a-4868-482c-b181-1e5bde7d4f3d",
   "metadata": {},
   "outputs": [
    {
     "data": {
      "text/plain": [
       "'I ate 10 apples. so I was sick for three days'"
      ]
     },
     "execution_count": 266,
     "metadata": {},
     "output_type": "execute_result"
    }
   ],
   "source": [
    "\"I ate {} apples. so I was sick for {} days\".format(number, day)"
   ]
  },
  {
   "cell_type": "code",
   "execution_count": 268,
   "id": "1f6ebc1b-9bc4-43d7-bd3d-8624e732e2f8",
   "metadata": {},
   "outputs": [
    {
     "data": {
      "text/plain": [
       "'I ate 10 apples. so I was sick for 10 days'"
      ]
     },
     "execution_count": 268,
     "metadata": {},
     "output_type": "execute_result"
    }
   ],
   "source": [
    "\"I ate {a} apples. so I was sick for {b} days\".format(a=number, b=number)"
   ]
  },
  {
   "cell_type": "markdown",
   "id": "29b33f93-11ec-44c0-9a68-9d6492cd057f",
   "metadata": {},
   "source": [
    "##### 소수점 표현하기"
   ]
  },
  {
   "cell_type": "code",
   "execution_count": 271,
   "id": "9f115112-681d-4341-bf2e-9d9616e7ca11",
   "metadata": {},
   "outputs": [
    {
     "data": {
      "text/plain": [
       "'3.1416'"
      ]
     },
     "execution_count": 271,
     "metadata": {},
     "output_type": "execute_result"
    }
   ],
   "source": [
    "y = 3.141592\n",
    "\"{0:0.4f}\".format(y)"
   ]
  },
  {
   "cell_type": "code",
   "execution_count": 273,
   "id": "4a5a1a8b-a6ca-48d6-83f8-730084e64978",
   "metadata": {},
   "outputs": [
    {
     "data": {
      "text/plain": [
       "'{and}'"
      ]
     },
     "execution_count": 273,
     "metadata": {},
     "output_type": "execute_result"
    }
   ],
   "source": [
    "\"{{and}}\".format()"
   ]
  },
  {
   "cell_type": "markdown",
   "id": "ce5d182e-239e-4165-ad8a-32723f9394cd",
   "metadata": {},
   "source": [
    "#### f문자열 포매팅"
   ]
  },
  {
   "cell_type": "code",
   "execution_count": 288,
   "id": "1d51e364-aef5-4e48-a683-d7dcf459e966",
   "metadata": {},
   "outputs": [
    {
     "data": {
      "text/plain": [
       "'나의 이름은 홍길동입니다. 나이는 30입니다.'"
      ]
     },
     "execution_count": 288,
     "metadata": {},
     "output_type": "execute_result"
    }
   ],
   "source": [
    "name = '홍길동'\n",
    "age = 30\n",
    "'나의 이름은 {a}입니다. 나이는 {b}입니다.'.format(a=name, b=age)"
   ]
  },
  {
   "cell_type": "code",
   "execution_count": 292,
   "id": "7f2c8a43-b1b0-42ce-af53-79bb19c98a54",
   "metadata": {},
   "outputs": [
    {
     "data": {
      "text/plain": [
       "'나의 이름은 홍길동입니다. 나이는 30입니다.'"
      ]
     },
     "execution_count": 292,
     "metadata": {},
     "output_type": "execute_result"
    }
   ],
   "source": [
    "f'나의 이름은 {name}입니다. 나이는 {age}입니다.'"
   ]
  },
  {
   "cell_type": "code",
   "execution_count": 290,
   "id": "34fde069-826f-43f2-9487-e4bd30360cf9",
   "metadata": {},
   "outputs": [
    {
     "data": {
      "text/plain": [
       "'나의 이름은 홍길동입니다. 내년이면 31살이 됩니다.'"
      ]
     },
     "execution_count": 290,
     "metadata": {},
     "output_type": "execute_result"
    }
   ],
   "source": [
    "f'나의 이름은 {name}입니다. 내년이면 {age+1}살이 됩니다.'"
   ]
  },
  {
   "cell_type": "code",
   "execution_count": 294,
   "id": "887369f0-fe7a-4db7-b7a3-cb6ece458e9f",
   "metadata": {},
   "outputs": [
    {
     "data": {
      "text/plain": [
       "{'name': '홍길동', 'age': 30}"
      ]
     },
     "execution_count": 294,
     "metadata": {},
     "output_type": "execute_result"
    }
   ],
   "source": [
    "d = {'name':'홍길동', 'age':30}\n",
    "d"
   ]
  },
  {
   "cell_type": "code",
   "execution_count": 296,
   "id": "5bb1592b-80e0-4583-8384-6f21c295f6ee",
   "metadata": {},
   "outputs": [
    {
     "data": {
      "text/plain": [
       "'홍길동'"
      ]
     },
     "execution_count": 296,
     "metadata": {},
     "output_type": "execute_result"
    }
   ],
   "source": [
    "d['name']"
   ]
  },
  {
   "cell_type": "code",
   "execution_count": 300,
   "id": "fd595f34-7e09-42d9-9d83-39be65ccdbdf",
   "metadata": {},
   "outputs": [
    {
     "data": {
      "text/plain": [
       "'나의 이름은 홍길동입니다. 나이는 30입니다.'"
      ]
     },
     "execution_count": 300,
     "metadata": {},
     "output_type": "execute_result"
    }
   ],
   "source": [
    "f'나의 이름은 {d['name']}입니다. 나이는 {d['age']}입니다.' "
   ]
  },
  {
   "cell_type": "code",
   "execution_count": 308,
   "id": "dc8b1ec1-d8c9-4111-9b1d-7e6f0f46d5bc",
   "metadata": {},
   "outputs": [
    {
     "data": {
      "text/plain": [
       "'3.1633'"
      ]
     },
     "execution_count": 308,
     "metadata": {},
     "output_type": "execute_result"
    }
   ],
   "source": [
    "y=3.163251\n",
    "f'{y:0.4f}'"
   ]
  },
  {
   "cell_type": "code",
   "execution_count": 310,
   "id": "70f71b17-f6bf-4de3-9b64-aa648d713450",
   "metadata": {},
   "outputs": [
    {
     "data": {
      "text/plain": [
       "'    3.1633'"
      ]
     },
     "execution_count": 310,
     "metadata": {},
     "output_type": "execute_result"
    }
   ],
   "source": [
    "f'{y:10.4f}'"
   ]
  },
  {
   "cell_type": "markdown",
   "id": "f9f28084-3d15-4dfd-8c85-0a9f9348cee9",
   "metadata": {},
   "source": [
    "### 문자열 관련 함수들"
   ]
  },
  {
   "cell_type": "markdown",
   "id": "84537c74-7e8d-430f-98a1-7dfd2c74dd82",
   "metadata": {},
   "source": [
    "#### 문자 개수 세기 - count"
   ]
  },
  {
   "cell_type": "code",
   "execution_count": 316,
   "id": "d7aa00fd-b1d8-496c-a55c-489ab318f481",
   "metadata": {},
   "outputs": [
    {
     "data": {
      "text/plain": [
       "2"
      ]
     },
     "execution_count": 316,
     "metadata": {},
     "output_type": "execute_result"
    }
   ],
   "source": [
    "a = \"hobby\"\n",
    "a.count('b')"
   ]
  },
  {
   "cell_type": "markdown",
   "id": "bebec7e7-e5b3-4d82-a18a-a88ddd3ef985",
   "metadata": {},
   "source": [
    "#### 위치 알려주기1 - find"
   ]
  },
  {
   "cell_type": "code",
   "execution_count": 319,
   "id": "d3e9a485-69e8-4e73-a95d-3661832eef0b",
   "metadata": {},
   "outputs": [
    {
     "data": {
      "text/plain": [
       "14"
      ]
     },
     "execution_count": 319,
     "metadata": {},
     "output_type": "execute_result"
    }
   ],
   "source": [
    "a = \"Python is the best choice\"\n",
    "a. find('b')"
   ]
  },
  {
   "cell_type": "code",
   "execution_count": 332,
   "id": "7e802956-b2e9-43ea-8616-0de75be7bf46",
   "metadata": {},
   "outputs": [
    {
     "data": {
      "text/plain": [
       "-1"
      ]
     },
     "execution_count": 332,
     "metadata": {},
     "output_type": "execute_result"
    }
   ],
   "source": [
    "a.find('k') #-1는 없다는 거"
   ]
  },
  {
   "cell_type": "code",
   "execution_count": 323,
   "id": "7b3c1fb0-a0b5-4912-bd51-c00f9dd7e971",
   "metadata": {},
   "outputs": [
    {
     "data": {
      "text/plain": [
       "<function str.find>"
      ]
     },
     "execution_count": 323,
     "metadata": {},
     "output_type": "execute_result"
    }
   ],
   "source": [
    "a.find"
   ]
  },
  {
   "cell_type": "code",
   "execution_count": 325,
   "id": "f54ddb07-fdac-40db-830e-9d4888c3f1dd",
   "metadata": {},
   "outputs": [
    {
     "name": "stdout",
     "output_type": "stream",
     "text": [
      "Help on built-in function find:\n",
      "\n",
      "find(...) method of builtins.str instance\n",
      "    S.find(sub[, start[, end]]) -> int\n",
      "\n",
      "    Return the lowest index in S where substring sub is found,\n",
      "    such that sub is contained within S[start:end].  Optional\n",
      "    arguments start and end are interpreted as in slice notation.\n",
      "\n",
      "    Return -1 on failure.\n",
      "\n"
     ]
    }
   ],
   "source": [
    "help(a.find)"
   ]
  },
  {
   "cell_type": "markdown",
   "id": "3d98e676-4632-4193-8ec7-db5225b7730b",
   "metadata": {},
   "source": [
    "#### 위치 알려주기2 - index"
   ]
  },
  {
   "cell_type": "code",
   "execution_count": 328,
   "id": "4f477789-a48e-4140-bf5f-ff3ad9023966",
   "metadata": {},
   "outputs": [
    {
     "data": {
      "text/plain": [
       "(8, 8)"
      ]
     },
     "execution_count": 328,
     "metadata": {},
     "output_type": "execute_result"
    }
   ],
   "source": [
    "a = 'Life is too short'\n",
    "a.index('t'), a.find('t')"
   ]
  },
  {
   "cell_type": "code",
   "execution_count": 330,
   "id": "2e31ea2f-b576-4d0a-9544-ddd810f6985e",
   "metadata": {},
   "outputs": [
    {
     "ename": "ValueError",
     "evalue": "substring not found",
     "output_type": "error",
     "traceback": [
      "\u001b[1;31m---------------------------------------------------------------------------\u001b[0m",
      "\u001b[1;31mValueError\u001b[0m                                Traceback (most recent call last)",
      "Cell \u001b[1;32mIn[330], line 1\u001b[0m\n\u001b[1;32m----> 1\u001b[0m \u001b[43ma\u001b[49m\u001b[38;5;241;43m.\u001b[39;49m\u001b[43mindex\u001b[49m\u001b[43m(\u001b[49m\u001b[38;5;124;43m'\u001b[39;49m\u001b[38;5;124;43mk\u001b[39;49m\u001b[38;5;124;43m'\u001b[39;49m\u001b[43m)\u001b[49m\n",
      "\u001b[1;31mValueError\u001b[0m: substring not found"
     ]
    }
   ],
   "source": [
    "a.index('k')"
   ]
  },
  {
   "cell_type": "markdown",
   "id": "c9b6189b-747c-4492-94ec-69f94b1bde86",
   "metadata": {},
   "source": [
    "index는 없으면 오류가 나지만, find는 그냥 -1 반환"
   ]
  },
  {
   "cell_type": "markdown",
   "id": "4eb8f3f0-6817-4e00-89fb-99c80c864d22",
   "metadata": {},
   "source": [
    "#### 문자열 삽입 - join"
   ]
  },
  {
   "cell_type": "code",
   "execution_count": 336,
   "id": "296e3043-5435-480e-9022-09c0986d711b",
   "metadata": {},
   "outputs": [
    {
     "data": {
      "text/plain": [
       "'abcd'"
      ]
     },
     "execution_count": 336,
     "metadata": {},
     "output_type": "execute_result"
    }
   ],
   "source": [
    "'abcd'"
   ]
  },
  {
   "cell_type": "code",
   "execution_count": 338,
   "id": "6363fdeb-5ce8-4acb-a12c-30ffb14a00db",
   "metadata": {},
   "outputs": [
    {
     "data": {
      "text/plain": [
       "'a,b,c,d'"
      ]
     },
     "execution_count": 338,
     "metadata": {},
     "output_type": "execute_result"
    }
   ],
   "source": [
    "#반드시 문자열로 반환됨\n",
    "','.join('abcd')"
   ]
  },
  {
   "cell_type": "code",
   "execution_count": 344,
   "id": "6654eb39-86f5-4351-94f9-84a0e9ed50dd",
   "metadata": {},
   "outputs": [
    {
     "data": {
      "text/plain": [
       "'a,b,c,d'"
      ]
     },
     "execution_count": 344,
     "metadata": {},
     "output_type": "execute_result"
    }
   ],
   "source": [
    "','.join(['a','b','c','d'])"
   ]
  },
  {
   "cell_type": "markdown",
   "id": "16fde1dc-a4f0-4f11-8fbc-0cd8d275e420",
   "metadata": {},
   "source": [
    "### 소문자를 대문자로 - upper, 대문자를 소문자로 - lower"
   ]
  },
  {
   "cell_type": "code",
   "execution_count": 347,
   "id": "b90e49d8-2182-4daf-922b-e3bdf72f2e82",
   "metadata": {},
   "outputs": [
    {
     "data": {
      "text/plain": [
       "'HI'"
      ]
     },
     "execution_count": 347,
     "metadata": {},
     "output_type": "execute_result"
    }
   ],
   "source": [
    "a=\"hi\"\n",
    "a.upper()"
   ]
  },
  {
   "cell_type": "code",
   "execution_count": 349,
   "id": "86fc92c8-9495-4fc5-b20d-cdf89d181389",
   "metadata": {},
   "outputs": [
    {
     "data": {
      "text/plain": [
       "'hi'"
      ]
     },
     "execution_count": 349,
     "metadata": {},
     "output_type": "execute_result"
    }
   ],
   "source": [
    "a='HI'\n",
    "a.lower()"
   ]
  },
  {
   "cell_type": "markdown",
   "id": "99ac0adf-3dbd-404c-8ffb-86d11136df5d",
   "metadata": {},
   "source": [
    "#### 왼쪽 공백지우기 lstrip, 오른쪽 - rstrip, 양쪽 - strip"
   ]
  },
  {
   "cell_type": "code",
   "execution_count": 352,
   "id": "ad5a40b5-0b24-4a56-8022-3c44261fd46d",
   "metadata": {},
   "outputs": [
    {
     "data": {
      "text/plain": [
       "'hi        '"
      ]
     },
     "execution_count": 352,
     "metadata": {},
     "output_type": "execute_result"
    }
   ],
   "source": [
    "a = \"         hi        \"\n",
    "a.lstrip()"
   ]
  },
  {
   "cell_type": "code",
   "execution_count": 354,
   "id": "ca9fbec4-67b2-4d85-b94a-0e8cf5cc6930",
   "metadata": {},
   "outputs": [
    {
     "data": {
      "text/plain": [
       "'         hi'"
      ]
     },
     "execution_count": 354,
     "metadata": {},
     "output_type": "execute_result"
    }
   ],
   "source": [
    "a.rstrip()"
   ]
  },
  {
   "cell_type": "code",
   "execution_count": 356,
   "id": "7ceb45f8-20ec-4414-8529-0af64ad0216c",
   "metadata": {},
   "outputs": [
    {
     "data": {
      "text/plain": [
       "'hi'"
      ]
     },
     "execution_count": 356,
     "metadata": {},
     "output_type": "execute_result"
    }
   ],
   "source": [
    "a.strip()"
   ]
  },
  {
   "cell_type": "code",
   "execution_count": 360,
   "id": "a7df3188-dfe2-4657-a732-dbb66053526c",
   "metadata": {},
   "outputs": [
    {
     "data": {
      "text/plain": [
       "'Your leg is too short'"
      ]
     },
     "execution_count": 360,
     "metadata": {},
     "output_type": "execute_result"
    }
   ],
   "source": [
    "a = 'Life is too short'\n",
    "a.replace(\"Life\", \"Your leg\")"
   ]
  },
  {
   "cell_type": "markdown",
   "id": "45929dd0-66b0-4ab8-a99f-ba6779555e22",
   "metadata": {},
   "source": [
    "#### 문자열 바꾸기 - replace"
   ]
  },
  {
   "cell_type": "code",
   "execution_count": 366,
   "id": "771a5ac4-ae06-4e08-823d-e14dbe953ddd",
   "metadata": {},
   "outputs": [
    {
     "data": {
      "text/plain": [
       "\u001b[1;31mSignature:\u001b[0m \u001b[0ma\u001b[0m\u001b[1;33m.\u001b[0m\u001b[0mreplace\u001b[0m\u001b[1;33m(\u001b[0m\u001b[0mold\u001b[0m\u001b[1;33m,\u001b[0m \u001b[0mnew\u001b[0m\u001b[1;33m,\u001b[0m \u001b[0mcount\u001b[0m\u001b[1;33m=\u001b[0m\u001b[1;33m-\u001b[0m\u001b[1;36m1\u001b[0m\u001b[1;33m,\u001b[0m \u001b[1;33m/\u001b[0m\u001b[1;33m)\u001b[0m\u001b[1;33m\u001b[0m\u001b[1;33m\u001b[0m\u001b[0m\n",
       "\u001b[1;31mDocstring:\u001b[0m\n",
       "Return a copy with all occurrences of substring old replaced by new.\n",
       "\n",
       "  count\n",
       "    Maximum number of occurrences to replace.\n",
       "    -1 (the default value) means replace all occurrences.\n",
       "\n",
       "If the optional argument count is given, only the first count occurrences are\n",
       "replaced.\n",
       "\u001b[1;31mType:\u001b[0m      builtin_function_or_method"
      ]
     },
     "metadata": {},
     "output_type": "display_data"
    }
   ],
   "source": [
    "a.replace?"
   ]
  },
  {
   "cell_type": "markdown",
   "id": "670274d3-f858-4e6c-bf23-ec78f88a4546",
   "metadata": {},
   "source": [
    "#### 문자열 나누기 - split"
   ]
  },
  {
   "cell_type": "code",
   "execution_count": 369,
   "id": "0bd51f97-5071-4ecf-a8c8-b0067ade4a9b",
   "metadata": {},
   "outputs": [
    {
     "data": {
      "text/plain": [
       "['Life', 'is', 'too', 'short']"
      ]
     },
     "execution_count": 369,
     "metadata": {},
     "output_type": "execute_result"
    }
   ],
   "source": [
    "a = \"Life is too short\"\n",
    "a.split()"
   ]
  },
  {
   "cell_type": "code",
   "execution_count": 371,
   "id": "c431afa2-c9c7-4629-a2cf-7f65115887d9",
   "metadata": {},
   "outputs": [
    {
     "data": {
      "text/plain": [
       "['나는', '내가', '정말', '좋아']"
      ]
     },
     "execution_count": 371,
     "metadata": {},
     "output_type": "execute_result"
    }
   ],
   "source": [
    "b = \"나는:내가:정말:좋아\"\n",
    "b.split(':')"
   ]
  },
  {
   "cell_type": "code",
   "execution_count": null,
   "id": "2ca31b2d-970f-4a04-bbfa-6cd47d924e88",
   "metadata": {},
   "outputs": [],
   "source": []
  }
 ],
 "metadata": {
  "kernelspec": {
   "display_name": "Python 3 (ipykernel)",
   "language": "python",
   "name": "python3"
  },
  "language_info": {
   "codemirror_mode": {
    "name": "ipython",
    "version": 3
   },
   "file_extension": ".py",
   "mimetype": "text/x-python",
   "name": "python",
   "nbconvert_exporter": "python",
   "pygments_lexer": "ipython3",
   "version": "3.12.4"
  }
 },
 "nbformat": 4,
 "nbformat_minor": 5
}
