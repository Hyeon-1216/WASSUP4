{
 "cells": [
  {
   "cell_type": "markdown",
   "id": "dbf14875-d62c-453a-83b2-c874141e2577",
   "metadata": {},
   "source": [
    "# 제어문"
   ]
  },
  {
   "cell_type": "markdown",
   "id": "2de5400c-6991-4657-8cf3-7dffe239833c",
   "metadata": {},
   "source": [
    "## 1. if문"
   ]
  },
  {
   "cell_type": "code",
   "execution_count": 3,
   "id": "77801d11-0d09-4abf-856a-86fcb20605ee",
   "metadata": {},
   "outputs": [
    {
     "name": "stdout",
     "output_type": "stream",
     "text": [
      "택시를 타고 가라\n"
     ]
    }
   ],
   "source": [
    "money = True\n",
    "if money:\n",
    "    print(\"택시를 타고 가라\")\n",
    "else:\n",
    "    print(\"걸어 가라\")"
   ]
  },
  {
   "cell_type": "markdown",
   "id": "bb005fee-ae56-4db4-88fd-0e63a8fba517",
   "metadata": {},
   "source": [
    "### 비교 연산자"
   ]
  },
  {
   "cell_type": "markdown",
   "id": "c57a7f6e-80bc-4c58-a563-09231bdc2715",
   "metadata": {},
   "source": [
    "x<y :x가 y보다 작다.\n",
    "x>y :x가 y보다 크다.\n",
    "x==y :x와 y가 같다.\n",
    "x!=y :x와 y가 같지 않다.\n",
    "x>=y :x가 y 이상이다.\n",
    "x<=y :x가 y 이하이다."
   ]
  },
  {
   "cell_type": "code",
   "execution_count": 11,
   "id": "fc034791-6cbd-45ac-bc37-e91f5333b110",
   "metadata": {},
   "outputs": [
    {
     "data": {
      "text/plain": [
       "True"
      ]
     },
     "execution_count": 11,
     "metadata": {},
     "output_type": "execute_result"
    }
   ],
   "source": [
    "x = 3\n",
    "y = 2\n",
    "x > y"
   ]
  },
  {
   "cell_type": "code",
   "execution_count": 13,
   "id": "8be3d90f-b6ca-4bf8-a2ad-de950ff14154",
   "metadata": {},
   "outputs": [
    {
     "name": "stdout",
     "output_type": "stream",
     "text": [
      "걸어가라\n"
     ]
    }
   ],
   "source": [
    "# 만약 3000원 이상의 돈을 가지고 있으면 택시를 타고 가고, 그렇지 않으면 걸어가라.\n",
    "money = 0\n",
    "if money >= 3000:\n",
    "    print(\"택시를 타라\")\n",
    "else:\n",
    "    print(\"걸어가라\")"
   ]
  },
  {
   "cell_type": "markdown",
   "id": "9e540547-2929-435a-a9bd-df5f4af985db",
   "metadata": {},
   "source": [
    "### and, or, not"
   ]
  },
  {
   "cell_type": "markdown",
   "id": "36f06e1e-b85d-47e6-9d84-cd2b53018455",
   "metadata": {},
   "source": [
    "x or y: x, y 둘 중 하나 참\n",
    "x and y: x와 y 둘 다 참\n",
    "not x: x가 거짓이면 참"
   ]
  },
  {
   "cell_type": "code",
   "execution_count": 25,
   "id": "f82e3a02-aa7f-42d2-a0d3-17772e48c77f",
   "metadata": {},
   "outputs": [
    {
     "name": "stdout",
     "output_type": "stream",
     "text": [
      "택시를 타라\n"
     ]
    }
   ],
   "source": [
    "#돈이 3000원 이상 있거나 카드가 있다면 택시를 타고 가고, 그렇지 않으면 걸어가라.\n",
    "money = 0\n",
    "card = True\n",
    "if money > 3000 or card:\n",
    "    print(\"택시를 타라\")\n",
    "else:\n",
    "    print(\"걸어가라\")"
   ]
  },
  {
   "cell_type": "markdown",
   "id": "0237f013-2c67-4a23-bdb6-a1dc0e3aca50",
   "metadata": {},
   "source": [
    "### in, not in"
   ]
  },
  {
   "cell_type": "markdown",
   "id": "02800385-3831-46a3-9c94-ed3acbd6ee54",
   "metadata": {},
   "source": [
    "x (not)in (리스트, 튜플, 문자열)"
   ]
  },
  {
   "cell_type": "code",
   "execution_count": 40,
   "id": "613a669c-63de-4027-ac9d-7fe7a4e60cde",
   "metadata": {},
   "outputs": [
    {
     "data": {
      "text/plain": [
       "(True, False, True, True)"
      ]
     },
     "execution_count": 40,
     "metadata": {},
     "output_type": "execute_result"
    }
   ],
   "source": [
    "a = 1 in [1, 2, 3]\n",
    "b = 1 not in [1, 2, 3]\n",
    "c = 'a' in ('a', 'b', 'c')\n",
    "d = 'j' not in 'python'\n",
    "a, b, c, d"
   ]
  },
  {
   "cell_type": "code",
   "execution_count": 42,
   "id": "ffbe2ad1-31c9-4d59-a6f0-8ce02d3a7f71",
   "metadata": {},
   "outputs": [
    {
     "name": "stdout",
     "output_type": "stream",
     "text": [
      "택시를 타라\n"
     ]
    }
   ],
   "source": [
    "# 만약 주머니에 돈이 있으면 택시를 타고 가고, 없으면 걸어가라.\n",
    "주머니 = ['돈']\n",
    "if '돈' in 주머니:\n",
    "    print(\"택시를 타라\")\n",
    "else:\n",
    "    print(\"걸어가라\")"
   ]
  },
  {
   "cell_type": "markdown",
   "id": "65638c75-3b27-4652-ba02-7d3eb718c766",
   "metadata": {},
   "source": [
    "### 조건문에서 아무 일도 하지 않게 설정 - pass"
   ]
  },
  {
   "cell_type": "code",
   "execution_count": 45,
   "id": "9ef8ffb1-d7c3-4b8a-bfd5-07c6c23fc57f",
   "metadata": {},
   "outputs": [],
   "source": [
    "#주머니에 돈이 있으면 가만히 있고, 주머니에 돈이 없으면 카드를 꺼내라.\n",
    "pocket = ['paper', 'money', 'cellphone']\n",
    "if 'money' in pocket:\n",
    "    pass\n",
    "else:\n",
    "    print(\"카드를 꺼내라\")"
   ]
  },
  {
   "cell_type": "markdown",
   "id": "ae39623c-6dfa-41ae-bb46-c05987685376",
   "metadata": {},
   "source": [
    "### 다양한 조건을 판단하는 elif"
   ]
  },
  {
   "cell_type": "code",
   "execution_count": 50,
   "id": "41be53fc-fbfa-4411-bddb-6d680924c7e9",
   "metadata": {},
   "outputs": [
    {
     "name": "stdout",
     "output_type": "stream",
     "text": [
      "택시를 타라\n"
     ]
    }
   ],
   "source": [
    "# 주머니에 돈이 있으면 택시를 타고 가고, 주머니에 돈은 없지만 카드가 있으면 택시를 타고 가고, 돈도 없고 카드도 없다면 걸어가라.\n",
    "pocket = ['phone']\n",
    "card = True\n",
    "if 'money' in pocket:\n",
    "    print(\"택시를 타라\")\n",
    "else:\n",
    "    if card:\n",
    "        print(\"택시를 타라\")\n",
    "    else:\n",
    "        print(\"걸어가라\")"
   ]
  },
  {
   "cell_type": "code",
   "execution_count": 52,
   "id": "4cc484e5-db88-49c9-b8cf-9337a9486a74",
   "metadata": {},
   "outputs": [
    {
     "name": "stdout",
     "output_type": "stream",
     "text": [
      "택시를 타라\n"
     ]
    }
   ],
   "source": [
    "#elif를 이용하면 위의 식을 간단하게 작성할 수 있다.\n",
    "pocket = ['phone']\n",
    "card = True\n",
    "if 'money' in pocket:\n",
    "    print(\"택시를 타라\")\n",
    "elif card:\n",
    "    print(\"택시를 타라\")\n",
    "else:\n",
    "    print(\"걸어가라\")"
   ]
  },
  {
   "cell_type": "markdown",
   "id": "30822eb0-3d29-438f-b444-2d2954b37bd5",
   "metadata": {},
   "source": [
    "### if문 한 줄로 작성하기"
   ]
  },
  {
   "cell_type": "code",
   "execution_count": 55,
   "id": "d0faf2ee-d8de-4417-92a9-06e2b0352312",
   "metadata": {},
   "outputs": [
    {
     "name": "stdout",
     "output_type": "stream",
     "text": [
      "택시를 타라\n"
     ]
    }
   ],
   "source": [
    "pocket = ['phone']\n",
    "card = True\n",
    "if 'money' in pocket: print(\"택시를 타라\")\n",
    "elif card: print(\"택시를 타라\")\n",
    "else: print(\"걸어가라\")"
   ]
  },
  {
   "cell_type": "markdown",
   "id": "7795d16f-60af-451f-928f-cdd704623fab",
   "metadata": {},
   "source": [
    "### 조건부 표현식"
   ]
  },
  {
   "cell_type": "code",
   "execution_count": 60,
   "id": "71979ec3-8638-43a0-b71d-9355e477844b",
   "metadata": {},
   "outputs": [
    {
     "name": "stdout",
     "output_type": "stream",
     "text": [
      "success\n"
     ]
    }
   ],
   "source": [
    "score = 80\n",
    "if score >= 60:\n",
    "    message = \"success\"\n",
    "    #print(message)\n",
    "else:\n",
    "    message = \"failure\"\n",
    "    #print(message)\n",
    "\n",
    "print(message)"
   ]
  },
  {
   "cell_type": "markdown",
   "id": "b3fcbff8-3b95-43db-92cd-1426b3594580",
   "metadata": {},
   "source": [
    "## 2. while문"
   ]
  },
  {
   "cell_type": "code",
   "execution_count": 68,
   "id": "7f047c93-6719-4880-a0dd-19f5c7f729fd",
   "metadata": {},
   "outputs": [
    {
     "name": "stdout",
     "output_type": "stream",
     "text": [
      "나무를 1번 찍었습니다.\n",
      "나무를 2번 찍었습니다.\n",
      "나무를 3번 찍었습니다.\n",
      "나무를 4번 찍었습니다.\n",
      "나무를 5번 찍었습니다.\n",
      "나무를 6번 찍었습니다.\n",
      "나무를 7번 찍었습니다.\n",
      "나무를 8번 찍었습니다.\n",
      "나무를 9번 찍었습니다.\n",
      "나무를 10번 찍었습니다.\n",
      "나무 넘어갑니다.\n"
     ]
    }
   ],
   "source": [
    "#열 번 찍어 안 넘어가는 나무 없다.\n",
    "treeHit = 0\n",
    "while treeHit <10:\n",
    "    treeHit = treeHit + 1\n",
    "    print(\"나무를 %d번 찍었습니다.\" % treeHit)\n",
    "    if treeHit == 10:\n",
    "        print(\"나무 넘어갑니다.\")"
   ]
  },
  {
   "cell_type": "markdown",
   "id": "77c916ee-089f-491d-bd79-b5e714bce21c",
   "metadata": {},
   "source": [
    "### while문 만들기"
   ]
  },
  {
   "cell_type": "code",
   "execution_count": 71,
   "id": "18507528-45c2-4eee-b60c-9ce0db3e2b2a",
   "metadata": {},
   "outputs": [],
   "source": [
    "prompt = \"\"\"\n",
    "1. Add\n",
    "2. Del\n",
    "3. List\n",
    "4. Quit\n",
    "\n",
    "Enter number: \"\"\""
   ]
  },
  {
   "cell_type": "code",
   "execution_count": 73,
   "id": "c8c134c2-b960-4535-86ee-5b235d1ae147",
   "metadata": {},
   "outputs": [
    {
     "name": "stdout",
     "output_type": "stream",
     "text": [
      "\n",
      "1. Add\n",
      "2. Del\n",
      "3. List\n",
      "4. Quit\n",
      "\n",
      "Enter number: \n"
     ]
    }
   ],
   "source": [
    "print(prompt)"
   ]
  },
  {
   "cell_type": "code",
   "execution_count": 75,
   "id": "7fba0ff1-36c2-4411-9f21-7a5742def177",
   "metadata": {},
   "outputs": [
    {
     "name": "stdin",
     "output_type": "stream",
     "text": [
      " 안녕하세요.\n"
     ]
    },
    {
     "data": {
      "text/plain": [
       "'안녕하세요.'"
      ]
     },
     "execution_count": 75,
     "metadata": {},
     "output_type": "execute_result"
    }
   ],
   "source": [
    "input() #input은 문자열로만 반환함"
   ]
  },
  {
   "cell_type": "code",
   "execution_count": 79,
   "id": "7a864831-639d-4766-8626-3b20b31638c7",
   "metadata": {},
   "outputs": [
    {
     "name": "stdout",
     "output_type": "stream",
     "text": [
      "\n",
      "1. Add\n",
      "2. Del\n",
      "3. List\n",
      "4. Quit\n",
      "\n",
      "Enter number: \n"
     ]
    },
    {
     "name": "stdin",
     "output_type": "stream",
     "text": [
      " 2\n"
     ]
    },
    {
     "name": "stdout",
     "output_type": "stream",
     "text": [
      "\n",
      "1. Add\n",
      "2. Del\n",
      "3. List\n",
      "4. Quit\n",
      "\n",
      "Enter number: \n"
     ]
    },
    {
     "name": "stdin",
     "output_type": "stream",
     "text": [
      " 1\n"
     ]
    },
    {
     "name": "stdout",
     "output_type": "stream",
     "text": [
      "\n",
      "1. Add\n",
      "2. Del\n",
      "3. List\n",
      "4. Quit\n",
      "\n",
      "Enter number: \n"
     ]
    },
    {
     "name": "stdin",
     "output_type": "stream",
     "text": [
      " 3\n"
     ]
    },
    {
     "name": "stdout",
     "output_type": "stream",
     "text": [
      "\n",
      "1. Add\n",
      "2. Del\n",
      "3. List\n",
      "4. Quit\n",
      "\n",
      "Enter number: \n"
     ]
    },
    {
     "name": "stdin",
     "output_type": "stream",
     "text": [
      " 4\n"
     ]
    }
   ],
   "source": [
    "number = 0\n",
    "while number!= 4:\n",
    "    print(prompt)\n",
    "    number = int(input()) #int는 문자열로만 반환하기에 int()를 하는 것임"
   ]
  },
  {
   "cell_type": "markdown",
   "id": "3b3325af-c407-458f-9868-f119c2d23d68",
   "metadata": {},
   "source": [
    "### while문 강제로 빠져나가기"
   ]
  },
  {
   "cell_type": "code",
   "execution_count": 82,
   "id": "69c8ab55-72cf-4def-9eb2-47faa43e1927",
   "metadata": {},
   "outputs": [
    {
     "name": "stdout",
     "output_type": "stream",
     "text": [
      "돈을 받았으니 커피를 줍니다.\n",
      "남은 커피의 양은 9개입니다.\n",
      "돈을 받았으니 커피를 줍니다.\n",
      "남은 커피의 양은 8개입니다.\n",
      "돈을 받았으니 커피를 줍니다.\n",
      "남은 커피의 양은 7개입니다.\n",
      "돈을 받았으니 커피를 줍니다.\n",
      "남은 커피의 양은 6개입니다.\n",
      "돈을 받았으니 커피를 줍니다.\n",
      "남은 커피의 양은 5개입니다.\n",
      "돈을 받았으니 커피를 줍니다.\n",
      "남은 커피의 양은 4개입니다.\n",
      "돈을 받았으니 커피를 줍니다.\n",
      "남은 커피의 양은 3개입니다.\n",
      "돈을 받았으니 커피를 줍니다.\n",
      "남은 커피의 양은 2개입니다.\n",
      "돈을 받았으니 커피를 줍니다.\n",
      "남은 커피의 양은 1개입니다.\n",
      "돈을 받았으니 커피를 줍니다.\n",
      "남은 커피의 양은 0개입니다.\n",
      "커피가 다 떨어졌습니다. 판매를 중지합니다.\n"
     ]
    }
   ],
   "source": [
    "coffee = 10\n",
    "money = 300\n",
    "while money:\n",
    "    print(\"돈을 받았으니 커피를 줍니다.\")\n",
    "    coffee = coffee -1\n",
    "    print(\"남은 커피의 양은 %d개입니다.\" % coffee)\n",
    "    if coffee == 0:\n",
    "        print(\"커피가 다 떨어졌습니다. 판매를 중지합니다.\")\n",
    "        break"
   ]
  },
  {
   "cell_type": "markdown",
   "id": "9a04440d-bf8a-4d2c-9e55-c22444597afb",
   "metadata": {},
   "source": [
    "### Quiz\n",
    "'''\n",
    "커피 자판기 프로그램을 만들어보자.\n",
    "   money를 사용자 입력 받을 것\n",
    "'''"
   ]
  },
  {
   "cell_type": "code",
   "execution_count": 105,
   "id": "0bbb2ea0-0d01-4d43-b9db-5ff6c7a5749d",
   "metadata": {},
   "outputs": [
    {
     "name": "stdin",
     "output_type": "stream",
     "text": [
      "안녕하세요~ 돈을 넣어주세요^0^:  300\n"
     ]
    },
    {
     "name": "stdout",
     "output_type": "stream",
     "text": [
      "커피 드리겠습니다~.\n",
      "남은 커피 양은 9잔 입니다.\n"
     ]
    },
    {
     "name": "stdin",
     "output_type": "stream",
     "text": [
      "안녕하세요~ 돈을 넣어주세요^0^:  300\n"
     ]
    },
    {
     "name": "stdout",
     "output_type": "stream",
     "text": [
      "커피 드리겠습니다~.\n",
      "남은 커피 양은 8잔 입니다.\n"
     ]
    },
    {
     "name": "stdin",
     "output_type": "stream",
     "text": [
      "안녕하세요~ 돈을 넣어주세요^0^:  300\n"
     ]
    },
    {
     "name": "stdout",
     "output_type": "stream",
     "text": [
      "커피 드리겠습니다~.\n",
      "남은 커피 양은 7잔 입니다.\n"
     ]
    },
    {
     "name": "stdin",
     "output_type": "stream",
     "text": [
      "안녕하세요~ 돈을 넣어주세요^0^:  300\n"
     ]
    },
    {
     "name": "stdout",
     "output_type": "stream",
     "text": [
      "커피 드리겠습니다~.\n",
      "남은 커피 양은 6잔 입니다.\n"
     ]
    },
    {
     "name": "stdin",
     "output_type": "stream",
     "text": [
      "안녕하세요~ 돈을 넣어주세요^0^:  200\n"
     ]
    },
    {
     "name": "stdout",
     "output_type": "stream",
     "text": [
      "커피는 300원 입니다. 200원을 돌려드리겠습니다!\n"
     ]
    },
    {
     "name": "stdin",
     "output_type": "stream",
     "text": [
      "안녕하세요~ 돈을 넣어주세요^0^:  300\n"
     ]
    },
    {
     "name": "stdout",
     "output_type": "stream",
     "text": [
      "커피 드리겠습니다~.\n",
      "남은 커피 양은 5잔 입니다.\n"
     ]
    },
    {
     "name": "stdin",
     "output_type": "stream",
     "text": [
      "안녕하세요~ 돈을 넣어주세요^0^:  400\n"
     ]
    },
    {
     "name": "stdout",
     "output_type": "stream",
     "text": [
      "거스름돈 100원과 커피 드리겠습니다~.\n",
      "남은 커피 양은 4잔 입니다.\n"
     ]
    },
    {
     "name": "stdin",
     "output_type": "stream",
     "text": [
      "안녕하세요~ 돈을 넣어주세요^0^:  500\n"
     ]
    },
    {
     "name": "stdout",
     "output_type": "stream",
     "text": [
      "거스름돈 200원과 커피 드리겠습니다~.\n",
      "남은 커피 양은 3잔 입니다.\n"
     ]
    },
    {
     "name": "stdin",
     "output_type": "stream",
     "text": [
      "안녕하세요~ 돈을 넣어주세요^0^:  300\n"
     ]
    },
    {
     "name": "stdout",
     "output_type": "stream",
     "text": [
      "커피 드리겠습니다~.\n",
      "남은 커피 양은 2잔 입니다.\n"
     ]
    },
    {
     "name": "stdin",
     "output_type": "stream",
     "text": [
      "안녕하세요~ 돈을 넣어주세요^0^:  200\n"
     ]
    },
    {
     "name": "stdout",
     "output_type": "stream",
     "text": [
      "커피는 300원 입니다. 200원을 돌려드리겠습니다!\n"
     ]
    },
    {
     "name": "stdin",
     "output_type": "stream",
     "text": [
      "안녕하세요~ 돈을 넣어주세요^0^:  100\n"
     ]
    },
    {
     "name": "stdout",
     "output_type": "stream",
     "text": [
      "커피는 300원 입니다. 100원을 돌려드리겠습니다!\n"
     ]
    },
    {
     "name": "stdin",
     "output_type": "stream",
     "text": [
      "안녕하세요~ 돈을 넣어주세요^0^:  300\n"
     ]
    },
    {
     "name": "stdout",
     "output_type": "stream",
     "text": [
      "커피 드리겠습니다~.\n",
      "남은 커피 양은 1잔 입니다.\n"
     ]
    },
    {
     "name": "stdin",
     "output_type": "stream",
     "text": [
      "안녕하세요~ 돈을 넣어주세요^0^:  400\n"
     ]
    },
    {
     "name": "stdout",
     "output_type": "stream",
     "text": [
      "거스름돈 100원과 커피 드리겠습니다~.\n",
      "남은 커피 양은 0잔 입니다.\n",
      "커피가 다 떨어졌습니다 ㅠㅠ\n"
     ]
    }
   ],
   "source": [
    "coffee = 10\n",
    "while coffee > 0:\n",
    "    money = int(input(\"안녕하세요~ 돈을 넣어주세요^0^: \"))\n",
    "    #돈을 300원 넣은 경우\n",
    "    if money == 300:\n",
    "        print(\"커피 드리겠습니다~.\")\n",
    "        coffee = coffee -1\n",
    "        print(\"남은 커피 양은 %d잔 입니다.\" % coffee)\n",
    "    #돈을 300원보다 많이 넣은 경우\n",
    "    elif money > 300:\n",
    "        print(\"거스름돈 %d원과 커피 드리겠습니다~.\" % (money-300))\n",
    "        coffee = coffee -1\n",
    "        print(\"남은 커피 양은 %d잔 입니다.\" % coffee)\n",
    "    #돈을 300원보다 적게 넣은 경우\n",
    "    else:\n",
    "        print(\"커피는 300원 입니다. %d원을 돌려드리겠습니다!\" % money)\n",
    "    #재고소진\n",
    "    if coffee == 0:\n",
    "        print(\"커피가 다 떨어졌습니다 ㅠㅠ\")     \n"
   ]
  },
  {
   "cell_type": "markdown",
   "id": "6c8f9213-1244-473b-9ed4-78baecb72eb5",
   "metadata": {},
   "source": [
    "### while 문의 맨 처음으로 돌아가기 - continue"
   ]
  },
  {
   "cell_type": "code",
   "execution_count": 111,
   "id": "fd3cf286-1a74-4a16-bdfd-8dfc33e1fb00",
   "metadata": {},
   "outputs": [
    {
     "name": "stdout",
     "output_type": "stream",
     "text": [
      "1\n",
      "3\n",
      "5\n",
      "7\n",
      "9\n"
     ]
    }
   ],
   "source": [
    "# 1부터 10까지의 숫자 중 홀수만 출력하는 것을 while 문을 사용해서 만들어보자\n",
    "a = 0\n",
    "while a < 10:\n",
    "    a = a + 1\n",
    "    # a가 짝수이면 continue 문을 수행한다. \n",
    "    # 이 continue 문은 while 문의 맨 처음인 조건문으로 돌아가게 하는 명령어\n",
    "    if a % 2 == 0: continue\n",
    "        \n",
    "    print(a)"
   ]
  },
  {
   "cell_type": "markdown",
   "id": "e7694c4b-7916-4a97-be14-60704d95327f",
   "metadata": {},
   "source": [
    "### 무한 루프 빠져나가는 방법 - [ctrl+C]"
   ]
  },
  {
   "cell_type": "markdown",
   "id": "f2d64eda-a028-4f03-96ed-e262f9d277c8",
   "metadata": {},
   "source": [
    "## 3. for문"
   ]
  },
  {
   "cell_type": "markdown",
   "id": "0d946aec-d291-40dc-9e5f-bac2747205e2",
   "metadata": {},
   "source": [
    "### 전형적인 for문"
   ]
  },
  {
   "cell_type": "code",
   "execution_count": 119,
   "id": "2147c590-4e43-478f-8dcd-690946246f2d",
   "metadata": {},
   "outputs": [
    {
     "name": "stdout",
     "output_type": "stream",
     "text": [
      "one\n",
      "two\n",
      "three\n"
     ]
    }
   ],
   "source": [
    "test_list = ['one', 'two', 'three']\n",
    "for i in test_list:\n",
    "    print(i)"
   ]
  },
  {
   "cell_type": "markdown",
   "id": "e8559ae7-bac9-4e89-a771-5b270a38a97e",
   "metadata": {},
   "source": [
    "### 다양한 for문의 사용"
   ]
  },
  {
   "cell_type": "code",
   "execution_count": 122,
   "id": "96a5b1f7-162a-4271-b3fc-0a1245f49ecc",
   "metadata": {},
   "outputs": [
    {
     "name": "stdout",
     "output_type": "stream",
     "text": [
      "3\n",
      "7\n",
      "11\n"
     ]
    }
   ],
   "source": [
    "a = [(1,2), (3,4), (5,6)]\n",
    "for (first, last) in a:\n",
    "    print(first + last)"
   ]
  },
  {
   "cell_type": "markdown",
   "id": "78f74b99-d9fc-4100-9c00-3064ec099bd5",
   "metadata": {},
   "source": [
    "### for문의 응용"
   ]
  },
  {
   "cell_type": "code",
   "execution_count": 127,
   "id": "22b0f2c5-33c2-4bea-8e44-952b25632f23",
   "metadata": {},
   "outputs": [
    {
     "name": "stdout",
     "output_type": "stream",
     "text": [
      "합격\n",
      "불합격\n",
      "합격\n",
      "불합격\n",
      "합격\n"
     ]
    }
   ],
   "source": [
    "#총 5명의 학생이 시험을 보았는데 시험 점수가 60점 이상이면 합격이고 그렇지 않으면 불합격이다. 합격인지, 불합격인지 결과를 보여 주시오.\n",
    "marks = [90, 25, 67, 45, 80]\n",
    "for i in marks:\n",
    "    if i >=60:\n",
    "        message = \"합격\"\n",
    "    else:\n",
    "        message = \"불합격\"\n",
    "    print(message)"
   ]
  },
  {
   "cell_type": "code",
   "execution_count": 131,
   "id": "b02c9267-8a2d-49d8-88c5-387995a71ba6",
   "metadata": {},
   "outputs": [
    {
     "name": "stdout",
     "output_type": "stream",
     "text": [
      "1번 학생은 합격입니다.\n",
      "2번 학생은 불합격입니다.\n",
      "3번 학생은 합격입니다.\n",
      "4번 학생은 불합격입니다.\n",
      "5번 학생은 합격입니다.\n"
     ]
    }
   ],
   "source": [
    "#위 문제 모범답안\n",
    "marks = [90, 25, 67, 45, 80] #학생들 점수\n",
    "number = 1 #학번\n",
    "for mark in marks:\n",
    "    if mark >= 60:\n",
    "        print(\"%d번 학생은 합격입니다.\" % number)\n",
    "    else:\n",
    "        print(\"%d번 학생은 불합격입니다.\" % number)\n",
    "    number = number + 1"
   ]
  },
  {
   "cell_type": "markdown",
   "id": "9aa6f0dc-63ea-4723-9626-7a41e3f84716",
   "metadata": {},
   "source": [
    "### for문과 continue문"
   ]
  },
  {
   "cell_type": "code",
   "execution_count": 6,
   "id": "58b69c18-5a3f-4288-ba1a-588ff2eae70b",
   "metadata": {},
   "outputs": [],
   "source": [
    "marks = [90, 25, 67, 45, 80]\n",
    "\n",
    "number = 0\n",
    "for i in marks:\n",
    "    number = number + 1\n",
    "    if i < 60:\n",
    "        continue\n",
    "        print(\"%d번 학생 축하합니다. 합격입니다.\" % number)"
   ]
  },
  {
   "cell_type": "markdown",
   "id": "64bde035-5c35-4133-87f4-518e2ab1d35d",
   "metadata": {},
   "source": [
    "### for문과 함께 자주 사용하는 range 함수"
   ]
  },
  {
   "cell_type": "code",
   "execution_count": 11,
   "id": "71c4e1b2-7b34-4ce1-9465-f36820c130a9",
   "metadata": {},
   "outputs": [
    {
     "data": {
      "text/plain": [
       "range(0, 10)"
      ]
     },
     "execution_count": 11,
     "metadata": {},
     "output_type": "execute_result"
    }
   ],
   "source": [
    "range(10)\n",
    "# range(10)은 0부터 10 미만의 숫자를 포함하는 range 객체를 만들어 준다."
   ]
  },
  {
   "cell_type": "code",
   "execution_count": 15,
   "id": "be886112-32d0-4d6a-b0cf-9a70f6bb0cb2",
   "metadata": {},
   "outputs": [
    {
     "name": "stdout",
     "output_type": "stream",
     "text": [
      "0\n",
      "1\n",
      "2\n",
      "3\n",
      "4\n",
      "5\n",
      "6\n",
      "7\n",
      "8\n",
      "9\n"
     ]
    }
   ],
   "source": [
    "for i in range(10):\n",
    "    print(i)"
   ]
  },
  {
   "cell_type": "markdown",
   "id": "1d53a986-25ee-47c0-8b6d-244c36f1e0f9",
   "metadata": {},
   "source": [
    "#### 예시"
   ]
  },
  {
   "cell_type": "code",
   "execution_count": 31,
   "id": "17ed1fcd-194a-46b9-b3c9-35a87f4a96ae",
   "metadata": {},
   "outputs": [
    {
     "name": "stdout",
     "output_type": "stream",
     "text": [
      "55\n"
     ]
    }
   ],
   "source": [
    "# for문과 range함수를 이용해서 1부터 10까지 더해서 출력\n",
    "total = 0\n",
    "for i in range(1,11):\n",
    "    total += i\n",
    "print(total)"
   ]
  },
  {
   "cell_type": "code",
   "execution_count": 7,
   "id": "9c063aa1-bd80-46f2-a1f2-2e230b82273a",
   "metadata": {},
   "outputs": [
    {
     "name": "stdout",
     "output_type": "stream",
     "text": [
      "1번 학생 축하합니다. 합격입니다.\n",
      "3번 학생 축하합니다. 합격입니다.\n",
      "5번 학생 축하합니다. 합격입니다.\n"
     ]
    }
   ],
   "source": [
    "marks = [90, 25, 67, 45, 80]\n",
    "\n",
    "for i in range(len(marks)):\n",
    "    if marks[i] < 60:\n",
    "        continue\n",
    "    print(\"%d번 학생 축하합니다. 합격입니다.\" % (i+1))"
   ]
  },
  {
   "cell_type": "code",
   "execution_count": 55,
   "id": "3fd77a87-413f-4418-831b-7730ef343606",
   "metadata": {},
   "outputs": [
    {
     "name": "stdout",
     "output_type": "stream",
     "text": [
      "2 4 6 8 10 12 14 16 18 \n",
      "3 6 9 12 15 18 21 24 27 \n",
      "4 8 12 16 20 24 28 32 36 \n",
      "5 10 15 20 25 30 35 40 45 \n",
      "6 12 18 24 30 36 42 48 54 \n",
      "7 14 21 28 35 42 49 56 63 \n",
      "8 16 24 32 40 48 56 64 72 \n",
      "9 18 27 36 45 54 63 72 81 \n"
     ]
    }
   ],
   "source": [
    "# 구구단\n",
    "for i in range(2,10):        # 1번 for문\n",
    "     for j in range(1, 10):   # 2번 for문\n",
    "         print(i*j, end=\" \") \n",
    "     print('') "
   ]
  },
  {
   "cell_type": "markdown",
   "id": "692f8971-6ae5-4c84-bac3-b934d98728b1",
   "metadata": {},
   "source": [
    "### 리스트 컴프리헨션"
   ]
  },
  {
   "cell_type": "code",
   "execution_count": 62,
   "id": "56933aee-2009-4cea-887d-e035c3dcf4d6",
   "metadata": {},
   "outputs": [
    {
     "name": "stdout",
     "output_type": "stream",
     "text": [
      "[3, 6, 9, 12]\n"
     ]
    },
    {
     "data": {
      "text/plain": [
       "[3, 6, 9, 12]"
      ]
     },
     "execution_count": 62,
     "metadata": {},
     "output_type": "execute_result"
    }
   ],
   "source": [
    "a = [1, 2, 3, 4]\n",
    "result = []\n",
    "for num in a:\n",
    "    result.append(num*3)\n",
    "print(result)\n",
    "[3, 6, 9, 12]"
   ]
  },
  {
   "cell_type": "code",
   "execution_count": 60,
   "id": "62d5e25f-b0ea-4b5f-ad85-67fd7067853e",
   "metadata": {},
   "outputs": [
    {
     "name": "stdout",
     "output_type": "stream",
     "text": [
      "List Comprehension Time: 0.08779287338256836\n",
      "For loop Time: 0.2241957187652588\n"
     ]
    }
   ],
   "source": [
    "import time\n",
    "\n",
    "start = time.time() \n",
    "numbers = [i for i in range(1000000)] \n",
    "end = time.time() \n",
    "print('List Comprehension Time:', end-start)\n",
    "\n",
    "start = time.time() \n",
    "numbers = []\n",
    "for i in range(1000000):\n",
    "    numbers.append(i)\n",
    "end = time.time() \n",
    "print('For loop Time:', end-start)"
   ]
  },
  {
   "cell_type": "code",
   "execution_count": 64,
   "id": "411a6266-0ee6-47d4-ba02-40cef12d390a",
   "metadata": {},
   "outputs": [
    {
     "name": "stdout",
     "output_type": "stream",
     "text": [
      "[3, 6, 9, 12]\n"
     ]
    }
   ],
   "source": [
    "a = [1, 2, 3,4]\n",
    "result = [num * 3 for num in a]\n",
    "print(result)"
   ]
  },
  {
   "cell_type": "code",
   "execution_count": 70,
   "id": "d576bafb-e93b-409c-8800-23a82dc9e216",
   "metadata": {},
   "outputs": [
    {
     "name": "stdout",
     "output_type": "stream",
     "text": [
      "[6, 12]\n"
     ]
    }
   ],
   "source": [
    "a = [1, 2, 3, 4]\n",
    "result = [num * 3 for num in a if num % 2 == 0]\n",
    "print(result)"
   ]
  },
  {
   "cell_type": "code",
   "execution_count": 72,
   "id": "435e64b9-f699-459e-9c6e-5f0f9212f711",
   "metadata": {},
   "outputs": [],
   "source": [
    "#[표현식 for 항목 in 반복_가능_객체 if 조건문]"
   ]
  },
  {
   "cell_type": "code",
   "execution_count": null,
   "id": "8d3aad03-2dc4-40e6-be93-4ae9d48f1933",
   "metadata": {},
   "outputs": [],
   "source": []
  }
 ],
 "metadata": {
  "kernelspec": {
   "display_name": "Python 3 (ipykernel)",
   "language": "python",
   "name": "python3"
  },
  "language_info": {
   "codemirror_mode": {
    "name": "ipython",
    "version": 3
   },
   "file_extension": ".py",
   "mimetype": "text/x-python",
   "name": "python",
   "nbconvert_exporter": "python",
   "pygments_lexer": "ipython3",
   "version": "3.12.4"
  }
 },
 "nbformat": 4,
 "nbformat_minor": 5
}
