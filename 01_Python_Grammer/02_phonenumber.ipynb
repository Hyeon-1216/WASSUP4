{
 "cells": [
  {
   "cell_type": "markdown",
   "id": "63892292-e7de-4e6e-b6fa-0cd8e311ebe4",
   "metadata": {},
   "source": [
    "# 1. 전화번호 프로그램 만들기\n",
    "* 홍길동: 010-123-4567\n",
    "* 기능1: 연락처 추가\n",
    "* 기능2: 연락처 전체 보기\n",
    "* 기능3: 검색, 이름을 입력받아서 전화번호 조회\n",
    "* 기능4: 수정, 이름을 입력받아서 전화번호 입력 수정\n",
    "* 기능5: 삭제, 이름을 입력받아서 삭제\n",
    "* 기능6: 프로그램 종료"
   ]
  },
  {
   "cell_type": "code",
   "execution_count": 5,
   "id": "8afb2fa9-f96e-44ac-95aa-4512b156c838",
   "metadata": {},
   "outputs": [
    {
     "name": "stdout",
     "output_type": "stream",
     "text": [
      "\n",
      "1. 연락처 추가\n",
      "2. 연락처 전체 보기\n",
      "3. 검색\n",
      "4. 수정\n",
      "5. 삭제\n",
      "6. 종료\n",
      "\n",
      "Enter number: \n"
     ]
    },
    {
     "name": "stdin",
     "output_type": "stream",
     "text": [
      " 1\n",
      "이름:  이현\n",
      "전화번호:  010-2573-6054\n"
     ]
    },
    {
     "name": "stdout",
     "output_type": "stream",
     "text": [
      "연락처가 등록되었습니다\n",
      "\n",
      "1. 연락처 추가\n",
      "2. 연락처 전체 보기\n",
      "3. 검색\n",
      "4. 수정\n",
      "5. 삭제\n",
      "6. 종료\n",
      "\n",
      "Enter number: \n"
     ]
    },
    {
     "name": "stdin",
     "output_type": "stream",
     "text": [
      " 2\n"
     ]
    },
    {
     "name": "stdout",
     "output_type": "stream",
     "text": [
      "{'홍길동': '010-123-4567', '이현': '010-2573-6054'}\n",
      "\n",
      "1. 연락처 추가\n",
      "2. 연락처 전체 보기\n",
      "3. 검색\n",
      "4. 수정\n",
      "5. 삭제\n",
      "6. 종료\n",
      "\n",
      "Enter number: \n"
     ]
    },
    {
     "name": "stdin",
     "output_type": "stream",
     "text": [
      " 3\n",
      "검색하고자 하는 연락처의 이름을 입력해주세요:  홍길동\n"
     ]
    },
    {
     "name": "stdout",
     "output_type": "stream",
     "text": [
      "010-123-4567\n",
      "\n",
      "1. 연락처 추가\n",
      "2. 연락처 전체 보기\n",
      "3. 검색\n",
      "4. 수정\n",
      "5. 삭제\n",
      "6. 종료\n",
      "\n",
      "Enter number: \n"
     ]
    },
    {
     "name": "stdin",
     "output_type": "stream",
     "text": [
      " 4\n",
      "수정하고자 하는 연락처의 이름을 입력해주세요:  홍길동\n",
      "수정하고자 하는 연락처의 전화번호를 입력해주세요:  010-0000-0000\n"
     ]
    },
    {
     "name": "stdout",
     "output_type": "stream",
     "text": [
      "연락처가 수정되었습니다\n",
      "\n",
      "1. 연락처 추가\n",
      "2. 연락처 전체 보기\n",
      "3. 검색\n",
      "4. 수정\n",
      "5. 삭제\n",
      "6. 종료\n",
      "\n",
      "Enter number: \n"
     ]
    },
    {
     "name": "stdin",
     "output_type": "stream",
     "text": [
      " 2\n"
     ]
    },
    {
     "name": "stdout",
     "output_type": "stream",
     "text": [
      "{'홍길동': '010-0000-0000', '이현': '010-2573-6054'}\n",
      "\n",
      "1. 연락처 추가\n",
      "2. 연락처 전체 보기\n",
      "3. 검색\n",
      "4. 수정\n",
      "5. 삭제\n",
      "6. 종료\n",
      "\n",
      "Enter number: \n"
     ]
    },
    {
     "name": "stdin",
     "output_type": "stream",
     "text": [
      " 5\n",
      "삭제하고자 하는 연락처의 번호를 입력해주세요:  이현\n"
     ]
    },
    {
     "name": "stdout",
     "output_type": "stream",
     "text": [
      "연락처가 삭제되었습니다\n",
      "\n",
      "1. 연락처 추가\n",
      "2. 연락처 전체 보기\n",
      "3. 검색\n",
      "4. 수정\n",
      "5. 삭제\n",
      "6. 종료\n",
      "\n",
      "Enter number: \n"
     ]
    },
    {
     "name": "stdin",
     "output_type": "stream",
     "text": [
      " 2\n"
     ]
    },
    {
     "name": "stdout",
     "output_type": "stream",
     "text": [
      "{'홍길동': '010-0000-0000'}\n",
      "\n",
      "1. 연락처 추가\n",
      "2. 연락처 전체 보기\n",
      "3. 검색\n",
      "4. 수정\n",
      "5. 삭제\n",
      "6. 종료\n",
      "\n",
      "Enter number: \n"
     ]
    },
    {
     "name": "stdin",
     "output_type": "stream",
     "text": [
      " 6\n"
     ]
    },
    {
     "name": "stdout",
     "output_type": "stream",
     "text": [
      "연락처 프로그램이 종료됩니다!\n"
     ]
    }
   ],
   "source": [
    "전화번호부 = {\"홍길동\": '010-123-4567'}\n",
    "\n",
    "prompt = \"\"\"\n",
    "1. 연락처 추가\n",
    "2. 연락처 전체 보기\n",
    "3. 검색\n",
    "4. 수정\n",
    "5. 삭제\n",
    "6. 종료\n",
    "\n",
    "Enter number: \"\"\"\n",
    "\n",
    "number = 0\n",
    "while number!= 6:\n",
    "    print(prompt)\n",
    "    number = int(input())\n",
    "    \n",
    "    if number == 1:\n",
    "        이름 = input(\"이름: \")\n",
    "        전화번호 = input(\"전화번호: \")\n",
    "        전화번호부[이름] = 전화번호\n",
    "        print(\"연락처가 등록되었습니다\")\n",
    "        \n",
    "    elif number == 2:\n",
    "        print(전화번호부)\n",
    "    \n",
    "    elif number == 3:\n",
    "        검색 = input(\"검색하고자 하는 연락처의 이름을 입력해주세요: \")\n",
    "        print(전화번호부[검색])\n",
    "    \n",
    "    elif number == 4:\n",
    "        수정_이름 = input(\"수정하고자 하는 연락처의 이름을 입력해주세요: \")\n",
    "        수정_연락처 = input(\"수정하고자 하는 연락처의 전화번호를 입력해주세요: \")\n",
    "        전화번호부[수정_이름] = 수정_연락처\n",
    "        print(\"연락처가 수정되었습니다\")\n",
    "        \n",
    "    elif number == 5:\n",
    "        삭제 = input(\"삭제하고자 하는 연락처의 번호를 입력해주세요: \")\n",
    "        전화번호부.pop(삭제)\n",
    "        print(\"연락처가 삭제되었습니다\")\n",
    "    \n",
    "    else:\n",
    "        print(\"연락처 프로그램이 종료됩니다!\")"
   ]
  },
  {
   "cell_type": "code",
   "execution_count": null,
   "id": "aabe530a-9eb7-4c7a-adc6-4d928bbdca31",
   "metadata": {},
   "outputs": [],
   "source": [
    "contact = {}\n",
    "while True:\n",
    "    print('------전화번호부 프로그램------')\n",
    "    menu = input('1.추가   2.조회   3.검색   4. 수정   5.삭제   9.종료')\n",
    "    menu = int(input('메뉴를 선택해주세요.(숫자 only): '))\n",
    "\n",
    "if menu == 1: #연락처 추가\n",
    "    print('연락처를 추가합니다.')\n",
    "    new_name = input('이름: ')\n",
    "    new_tel = input('전화번호: ')\n",
    "    print(new_name, new_tel)\n",
    "    # contact[new_name] = new_tel\n",
    "    contact.setdefault(new_name, new_tel)\n",
    "\n",
    "elif menu == 2: #연락처 조회\n",
    "    print(\"연락처를 조회합니다.\")\n",
    "    #print(contact)\n",
    "    for name, tel in contact.items():\n",
    "        print(name, ':', tel)\n",
    "        \n",
    "elif menu == 3: #연락처 검색\n",
    "    print('연락처를 검색합니다.')\n",
    "    search_name = input('검색 이름: ')\n",
    "    contact[search_nmae]\n",
    "    #print(contact[search_name])\n",
    "    print(contact.get(search_name, '없는 이름입니다.'))\n",
    "\n",
    "elif menu == 4: #연락처 수정\n",
    "    print(\"연락처를 수정합니다.\")\n",
    "    mod_name = input('수정 이름: ')\n",
    "\n",
    "    if mod_name in contact:\n",
    "        mod_tel = input('새 전화번호: ')\n",
    "        contact[mod_name] = mod_tel\n",
    "    else:\n",
    "        print('등록되지 않은 이름입니다.')\n",
    "        \n",
    "elif menu == 5: #연락처 삭제\n",
    "    print('연락처를 삭제합니다.')\n",
    "    del_name = input('삭제 이름: ')\n",
    "\n",
    "    if del_name in contact:\n",
    "        del contact[del_name]\n",
    "    else:\n",
    "        print('등록되지 않은 이름입니다.')\n",
    "\n",
    "elif menu == 9: #프로그램 종료\n",
    "    print('프로그램을 종료합니다.')\n",
    "    break\n",
    "\n",
    "else: \n",
    "    print('잘못된 입력입니다.')\n"
   ]
  }
 ],
 "metadata": {
  "kernelspec": {
   "display_name": "Python 3 (ipykernel)",
   "language": "python",
   "name": "python3"
  },
  "language_info": {
   "codemirror_mode": {
    "name": "ipython",
    "version": 3
   },
   "file_extension": ".py",
   "mimetype": "text/x-python",
   "name": "python",
   "nbconvert_exporter": "python",
   "pygments_lexer": "ipython3",
   "version": "3.12.4"
  }
 },
 "nbformat": 4,
 "nbformat_minor": 5
}
