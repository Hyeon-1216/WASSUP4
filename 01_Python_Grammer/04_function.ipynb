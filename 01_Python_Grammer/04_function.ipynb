{
 "cells": [
  {
   "cell_type": "markdown",
   "id": "cba74251-4a2f-46cb-90ad-269f4ce65bbc",
   "metadata": {},
   "source": [
    "# 함수와 입출력"
   ]
  },
  {
   "cell_type": "markdown",
   "id": "fc31b559-3792-4e1c-a662-de2b48b37868",
   "metadata": {},
   "source": [
    "## 함수"
   ]
  },
  {
   "cell_type": "code",
   "execution_count": 4,
   "id": "1797dcd3-5df1-4b52-84f3-638c2fc68a31",
   "metadata": {},
   "outputs": [],
   "source": [
    "def add(a, b):\n",
    "    return a + b #함수 정의"
   ]
  },
  {
   "cell_type": "code",
   "execution_count": 6,
   "id": "6bcecdb2-fb4d-4636-a0c9-fc709d261ab6",
   "metadata": {},
   "outputs": [
    {
     "name": "stdout",
     "output_type": "stream",
     "text": [
      "7\n"
     ]
    }
   ],
   "source": [
    "a = 3\n",
    "b = 4\n",
    "c = add(a, b) #add(3, 4)의 리턴값을 c에 대입\n",
    "print(c)"
   ]
  },
  {
   "cell_type": "markdown",
   "id": "e1625677-f878-4cdf-baff-a00169e6e021",
   "metadata": {},
   "source": [
    "### 매개변수와 인수"
   ]
  },
  {
   "cell_type": "code",
   "execution_count": 11,
   "id": "5bc582e8-4d84-4c27-9668-2ba1bdcb1517",
   "metadata": {},
   "outputs": [
    {
     "name": "stdout",
     "output_type": "stream",
     "text": [
      "7\n"
     ]
    }
   ],
   "source": [
    "def add(a, b):  # a, b는 매개변수\n",
    "    return a + b\n",
    "print(add(3, 4)) # 3, 4는 변수"
   ]
  },
  {
   "cell_type": "markdown",
   "id": "51dc803a-c848-438d-ad1b-f433ef13afef",
   "metadata": {},
   "source": [
    "### 입력값과 리턴값에 따른 함수의 형태"
   ]
  },
  {
   "cell_type": "code",
   "execution_count": 30,
   "id": "a22ab16e-13e6-4ecb-a37c-88ef95b74e70",
   "metadata": {},
   "outputs": [],
   "source": [
    "#일반적인 함수\n",
    "def add1(a, b):\n",
    "    result = a + b\n",
    "    return result"
   ]
  },
  {
   "cell_type": "code",
   "execution_count": 32,
   "id": "bd7949e6-f23b-478a-b224-b19d8eebf841",
   "metadata": {},
   "outputs": [
    {
     "name": "stdout",
     "output_type": "stream",
     "text": [
      "7\n"
     ]
    }
   ],
   "source": [
    "a = add1(3, 4)\n",
    "print(a)"
   ]
  },
  {
   "cell_type": "code",
   "execution_count": 42,
   "id": "b434eb1e-e9c7-4a42-962d-c69b567ab95a",
   "metadata": {},
   "outputs": [],
   "source": [
    "#입력값이 없는 함수\n",
    "def say1():\n",
    "    return 'Hi'"
   ]
  },
  {
   "cell_type": "code",
   "execution_count": 20,
   "id": "3595a0d0-f99c-4441-a918-76b68234efa3",
   "metadata": {},
   "outputs": [
    {
     "data": {
      "text/plain": [
       "'Hi'"
      ]
     },
     "execution_count": 20,
     "metadata": {},
     "output_type": "execute_result"
    }
   ],
   "source": [
    "say()"
   ]
  },
  {
   "cell_type": "code",
   "execution_count": 34,
   "id": "f104d03e-3120-4674-ba68-540c8f60186f",
   "metadata": {},
   "outputs": [],
   "source": [
    "#리턴 값이 없는 함수\n",
    "def add2(a, b):\n",
    "    print('%d, %d의 합은 %d입니다.' % (a, b, a+b))"
   ]
  },
  {
   "cell_type": "code",
   "execution_count": 36,
   "id": "c8507aeb-ee9f-4e44-a2c6-539a6d5b429b",
   "metadata": {},
   "outputs": [
    {
     "name": "stdout",
     "output_type": "stream",
     "text": [
      "3, 4의 합은 7입니다.\n"
     ]
    }
   ],
   "source": [
    "add2(3, 4)"
   ]
  },
  {
   "cell_type": "code",
   "execution_count": 38,
   "id": "1d2a14ec-0892-47b7-81be-456e5c949b45",
   "metadata": {},
   "outputs": [
    {
     "name": "stdout",
     "output_type": "stream",
     "text": [
      "3, 4의 합은 7입니다.\n"
     ]
    }
   ],
   "source": [
    "c = add2(3, 4)"
   ]
  },
  {
   "cell_type": "code",
   "execution_count": 40,
   "id": "a905e967-3775-42d7-99d1-605f9803b9c0",
   "metadata": {},
   "outputs": [
    {
     "name": "stdout",
     "output_type": "stream",
     "text": [
      "None\n"
     ]
    }
   ],
   "source": [
    "print(c)"
   ]
  },
  {
   "cell_type": "code",
   "execution_count": 44,
   "id": "4ce216d8-50a0-4451-9fd1-ae651d6f6269",
   "metadata": {},
   "outputs": [],
   "source": [
    "#입력 값도 리턴 값도 없는 함수\n",
    "def say2():\n",
    "    print('Hi')"
   ]
  },
  {
   "cell_type": "code",
   "execution_count": 54,
   "id": "0ce39095-cc9c-4440-8c4e-93b19217517d",
   "metadata": {},
   "outputs": [],
   "source": [
    "d = say1() #리턴이 있는 경우"
   ]
  },
  {
   "cell_type": "code",
   "execution_count": 48,
   "id": "5322b9c1-2170-44f5-b033-0ae089de2dde",
   "metadata": {},
   "outputs": [
    {
     "name": "stdout",
     "output_type": "stream",
     "text": [
      "Hi\n"
     ]
    }
   ],
   "source": [
    "print(d)"
   ]
  },
  {
   "cell_type": "code",
   "execution_count": 56,
   "id": "c7de54b1-c77b-4dca-bc32-4f49cfb2b62e",
   "metadata": {},
   "outputs": [
    {
     "name": "stdout",
     "output_type": "stream",
     "text": [
      "Hi\n"
     ]
    }
   ],
   "source": [
    "e = say2() #리턴이없는 경우 "
   ]
  },
  {
   "cell_type": "code",
   "execution_count": 52,
   "id": "664a32b7-09dc-4a56-a9a3-40c6f578f7fe",
   "metadata": {},
   "outputs": [
    {
     "name": "stdout",
     "output_type": "stream",
     "text": [
      "None\n"
     ]
    }
   ],
   "source": [
    "print(e)"
   ]
  },
  {
   "cell_type": "markdown",
   "id": "a63d72b9-6a3d-43af-8e87-8a3211c6ba3c",
   "metadata": {},
   "source": [
    "### 매개변수를 지정하여 호출하기"
   ]
  },
  {
   "cell_type": "code",
   "execution_count": 59,
   "id": "e60b1911-fa4b-4c6b-bcfd-39de1ce65b7a",
   "metadata": {},
   "outputs": [],
   "source": [
    "def sub(a, b):\n",
    "    return a - b"
   ]
  },
  {
   "cell_type": "code",
   "execution_count": 63,
   "id": "af0ee373-8dd4-4eff-8e0a-a9de2f6fe420",
   "metadata": {},
   "outputs": [
    {
     "name": "stdout",
     "output_type": "stream",
     "text": [
      "4\n",
      "4\n"
     ]
    }
   ],
   "source": [
    "result = sub(a=7, b=3) #매개변수에 직접 변수 지정할 경우 순서를 바꾸는 것도 가능\n",
    "result1 = sub(b=3, a=7)\n",
    "print(result)\n",
    "print(result1)"
   ]
  },
  {
   "cell_type": "markdown",
   "id": "37207344-b693-4f21-ae9e-917812397e5d",
   "metadata": {},
   "source": [
    "### 입력값이 몇 개가 될지 모를 때는 어떻게 해야 할까?"
   ]
  },
  {
   "cell_type": "code",
   "execution_count": 66,
   "id": "19db1cb7-a954-4621-926b-cb5621ba56a3",
   "metadata": {},
   "outputs": [],
   "source": [
    "def add_many(*args): #args는 인수를 뜻하는 argumentsdml 약자이며 관례적으로 자주 사용하나, 아무 이름을 써도 된다.\n",
    "    result = 0\n",
    "    for i  in args:\n",
    "        result += i\n",
    "    return result"
   ]
  },
  {
   "cell_type": "code",
   "execution_count": 68,
   "id": "ddde0d2f-1c40-4c68-b21c-8083ab216e6e",
   "metadata": {},
   "outputs": [
    {
     "data": {
      "text/plain": [
       "36"
      ]
     },
     "execution_count": 68,
     "metadata": {},
     "output_type": "execute_result"
    }
   ],
   "source": [
    "add_many(1, 2, 3, 4, 5, 6, 7, 8)"
   ]
  },
  {
   "cell_type": "markdown",
   "id": "c26adfe5-0145-41ba-a04f-4c810544d55c",
   "metadata": {},
   "source": [
    "#### 퀴즈~~\n",
    "'''\n",
    "사용자에게 다수의 입력을 받아서    \n",
    "옵션에 따라서 누적곱 또는 누적합을 출력하는 함수를 만들어라!\n",
    "'''"
   ]
  },
  {
   "cell_type": "code",
   "execution_count": 95,
   "id": "a7b0dd03-e0f5-4f7d-a976-04df796bdcfb",
   "metadata": {},
   "outputs": [],
   "source": [
    "def add_mul(choice, *args):\n",
    "    if choice == \"add\":\n",
    "        result = 0\n",
    "        for i in args:\n",
    "            result += i\n",
    "    elif choice == \"mul\":\n",
    "        result = 1\n",
    "        for i in args:\n",
    "            result *= i\n",
    "    return result"
   ]
  },
  {
   "cell_type": "code",
   "execution_count": 89,
   "id": "6b316cc5-d24a-4153-b02d-e2127948b14c",
   "metadata": {},
   "outputs": [
    {
     "data": {
      "text/plain": [
       "10"
      ]
     },
     "execution_count": 89,
     "metadata": {},
     "output_type": "execute_result"
    }
   ],
   "source": [
    "add_mul('add', 1, 2, 3, 4)"
   ]
  },
  {
   "cell_type": "code",
   "execution_count": 97,
   "id": "c5c72f30-ae5b-472b-a3cc-42f08db6dca5",
   "metadata": {},
   "outputs": [
    {
     "data": {
      "text/plain": [
       "24"
      ]
     },
     "execution_count": 97,
     "metadata": {},
     "output_type": "execute_result"
    }
   ],
   "source": [
    "add_mul('mul', 1, 2, 3, 4)"
   ]
  },
  {
   "cell_type": "markdown",
   "id": "6e6232d0-b25d-4c8f-a23c-0eefd1b21512",
   "metadata": {},
   "source": [
    "### 키워드 매개변수, kwargs"
   ]
  },
  {
   "cell_type": "code",
   "execution_count": 100,
   "id": "9f4cdb1a-cff6-4b08-aaf0-97d01e7d6e30",
   "metadata": {},
   "outputs": [],
   "source": [
    "def print_kwargs(**kwargs):\n",
    "    print(kwargs)"
   ]
  },
  {
   "cell_type": "code",
   "execution_count": 102,
   "id": "cd587fb5-8aa6-4ea4-9c6f-3023d17ce697",
   "metadata": {},
   "outputs": [
    {
     "name": "stdout",
     "output_type": "stream",
     "text": [
      "{'a': 1}\n"
     ]
    }
   ],
   "source": [
    "print_kwargs(a=1)"
   ]
  },
  {
   "cell_type": "code",
   "execution_count": 106,
   "id": "e0fac25e-1665-4efa-ae9e-e7914460227e",
   "metadata": {},
   "outputs": [
    {
     "name": "stdout",
     "output_type": "stream",
     "text": [
      "{'name': 'foo', 'age': 3}\n"
     ]
    }
   ],
   "source": [
    "print_kwargs(name='foo', age=3)"
   ]
  },
  {
   "cell_type": "markdown",
   "id": "0954a570-045d-4615-a8bc-e2d8899247a9",
   "metadata": {},
   "source": [
    "### 함수의 리턴값은 언제나 하나이다."
   ]
  },
  {
   "cell_type": "code",
   "execution_count": 109,
   "id": "1398537f-9c5a-4b0f-8ad0-8ed834f3fef2",
   "metadata": {},
   "outputs": [],
   "source": [
    "def add_and_mul(a,b):\n",
    "    return a+b, a*b"
   ]
  },
  {
   "cell_type": "code",
   "execution_count": 111,
   "id": "364e7a46-ad60-4c81-ba62-395fbe188df5",
   "metadata": {},
   "outputs": [],
   "source": [
    "result = add_and_mul(3, 4)"
   ]
  },
  {
   "cell_type": "code",
   "execution_count": 113,
   "id": "6ff86c50-2ffe-41ab-8da4-4a29788a36df",
   "metadata": {},
   "outputs": [
    {
     "name": "stdout",
     "output_type": "stream",
     "text": [
      "(7, 12)\n"
     ]
    }
   ],
   "source": [
    "print(result)"
   ]
  },
  {
   "cell_type": "code",
   "execution_count": 117,
   "id": "9be9bb91-5819-410c-8672-23c57c969669",
   "metadata": {},
   "outputs": [
    {
     "name": "stdout",
     "output_type": "stream",
     "text": [
      "7\n",
      "12\n"
     ]
    }
   ],
   "source": [
    "result1, result2 = add_and_mul(3, 4)\n",
    "print(result1)\n",
    "print(result2)"
   ]
  },
  {
   "cell_type": "code",
   "execution_count": 123,
   "id": "661d700b-1055-4592-9cdb-c4fb10e30a66",
   "metadata": {},
   "outputs": [
    {
     "name": "stdout",
     "output_type": "stream",
     "text": [
      "5\n"
     ]
    }
   ],
   "source": [
    "def add_and_mul(a, b):\n",
    "    return a+b\n",
    "    return a*b\n",
    "#위와 같이 return문을 2번 사용하면 2개의 리턴값을 돌려줄까?! 아님!! return은 한 번 나오면 끝!\n",
    "result = add_and_mul(2, 3)\n",
    "print(result)"
   ]
  },
  {
   "cell_type": "markdown",
   "id": "1832c037-f585-4a10-84b7-6ee6d0915ae1",
   "metadata": {},
   "source": [
    "### return으로 함수 이탈하기"
   ]
  },
  {
   "cell_type": "code",
   "execution_count": 142,
   "id": "b06a4794-2b66-4741-b67f-95d1a25abf6c",
   "metadata": {},
   "outputs": [],
   "source": [
    "def say_nick(nick):\n",
    "    if nick == '바보':\n",
    "        return '옥상으로 따라와'\n",
    "    print(f'나의 별명은 {nick}입니다.')"
   ]
  },
  {
   "cell_type": "code",
   "execution_count": 133,
   "id": "42e89736-cafd-4e15-a0dd-d38e2a0ae6bb",
   "metadata": {},
   "outputs": [
    {
     "name": "stdout",
     "output_type": "stream",
     "text": [
      "나의 별명은 야호입니다.\n"
     ]
    }
   ],
   "source": [
    "say_nick('야호')"
   ]
  },
  {
   "cell_type": "code",
   "execution_count": 135,
   "id": "18068eb0-d343-4443-bff6-d1b0ac2a575e",
   "metadata": {},
   "outputs": [
    {
     "data": {
      "text/plain": [
       "'옥상으로 따라와'"
      ]
     },
     "execution_count": 135,
     "metadata": {},
     "output_type": "execute_result"
    }
   ],
   "source": [
    "say_nick('바보')"
   ]
  },
  {
   "cell_type": "markdown",
   "id": "65e2550d-41f8-40c8-998a-8549e37f26e5",
   "metadata": {},
   "source": [
    "### 매개변수에 초기값 미리 설정하기"
   ]
  },
  {
   "cell_type": "code",
   "execution_count": 146,
   "id": "c25c6109-6761-4435-acf4-3d2ab3dfbfd0",
   "metadata": {},
   "outputs": [],
   "source": [
    "def say_myself(name, age, man=True):\n",
    "    print(\"나의 이름은 %s 입니다.\" % name)\n",
    "    print(\"나이는 %d살입니다.\" % age)\n",
    "    if man:\n",
    "        print(\"남자입니다.\")\n",
    "    else:\n",
    "        print(\"여자입니다.\")"
   ]
  },
  {
   "cell_type": "code",
   "execution_count": 152,
   "id": "de2e3af9-d405-4319-b444-757f9f7459ae",
   "metadata": {},
   "outputs": [
    {
     "name": "stdout",
     "output_type": "stream",
     "text": [
      "나의 이름은 이현 입니다.\n",
      "나이는 24살입니다.\n",
      "여자입니다.\n"
     ]
    }
   ],
   "source": [
    "say_myself('이현', 24, False)"
   ]
  },
  {
   "cell_type": "markdown",
   "id": "eb9a0efa-f05b-4e5f-9b06-c7ea6f8c7d2f",
   "metadata": {},
   "source": [
    "### 함수 안에서 선언한 변수의 효력 범위"
   ]
  },
  {
   "cell_type": "code",
   "execution_count": 155,
   "id": "d233eba6-45f1-4539-81c9-fceec1db5dbc",
   "metadata": {},
   "outputs": [],
   "source": [
    "a = 1 #글로벌 영역\n",
    "def vartest(a): #로컬 영역\n",
    "    a = a +1"
   ]
  },
  {
   "cell_type": "code",
   "execution_count": 157,
   "id": "bbe8508f-a69e-4e3e-a9c2-289d29a256ab",
   "metadata": {},
   "outputs": [
    {
     "data": {
      "text/plain": [
       "1"
      ]
     },
     "execution_count": 157,
     "metadata": {},
     "output_type": "execute_result"
    }
   ],
   "source": [
    "a"
   ]
  },
  {
   "cell_type": "code",
   "execution_count": 159,
   "id": "28b492c9-fb38-401a-86b2-471ac732cb76",
   "metadata": {},
   "outputs": [],
   "source": [
    "vartest(a)"
   ]
  },
  {
   "cell_type": "code",
   "execution_count": 161,
   "id": "a2029d16-7e95-4961-b401-1c967d1290b3",
   "metadata": {},
   "outputs": [
    {
     "name": "stdout",
     "output_type": "stream",
     "text": [
      "1\n"
     ]
    }
   ],
   "source": [
    "print(a)"
   ]
  },
  {
   "cell_type": "markdown",
   "id": "219d7ef2-2bd7-4dc9-a0dd-d9f5986380f5",
   "metadata": {},
   "source": [
    "### 함수 안에서 함수 밖의 변수를 변경하는 방법"
   ]
  },
  {
   "cell_type": "markdown",
   "id": "5189b786-3ce9-4151-b5e9-9abf89065a6d",
   "metadata": {},
   "source": [
    "#### 1. return 사용하기"
   ]
  },
  {
   "cell_type": "code",
   "execution_count": 167,
   "id": "8751a87b-24bc-445f-ae6e-39d8801d2f84",
   "metadata": {},
   "outputs": [
    {
     "name": "stdout",
     "output_type": "stream",
     "text": [
      "2\n"
     ]
    }
   ],
   "source": [
    "a = 1 \n",
    "def vartest(a): \n",
    "    a = a +1 \n",
    "    return a\n",
    "\n",
    "a = vartest(a) \n",
    "print(a)"
   ]
  },
  {
   "cell_type": "markdown",
   "id": "8991e2cc-9e47-4d3b-9827-f5ad8cf4820b",
   "metadata": {},
   "source": [
    "#### 2. global 명령어 사용하기"
   ]
  },
  {
   "cell_type": "code",
   "execution_count": 170,
   "id": "57db273f-429a-4748-bf89-60f5da9f44ac",
   "metadata": {},
   "outputs": [
    {
     "name": "stdout",
     "output_type": "stream",
     "text": [
      "2\n"
     ]
    }
   ],
   "source": [
    "a = 1\n",
    "def vartest():\n",
    "    global a\n",
    "    a = a + 1\n",
    "\n",
    "vartest()\n",
    "print(a)"
   ]
  },
  {
   "cell_type": "markdown",
   "id": "281bb813-7a2a-4aa7-bd3b-b19450a5e33c",
   "metadata": {},
   "source": [
    "#### 3. lambda 예약어"
   ]
  },
  {
   "cell_type": "markdown",
   "id": "ca9885a1-6083-4cbf-8ca2-f2db4179bbd7",
   "metadata": {},
   "source": [
    "lambda는 쉽게 말해 1회성 함수이다.    \n",
    "lambda로 만든 함수는 return 명령어가 없어도 표현식의 결과값을 리턴한다."
   ]
  },
  {
   "cell_type": "code",
   "execution_count": 178,
   "id": "41281651-98cf-4409-bc09-37e2e4f81d84",
   "metadata": {},
   "outputs": [
    {
     "name": "stdout",
     "output_type": "stream",
     "text": [
      "7\n"
     ]
    }
   ],
   "source": [
    "def add(a, b):\n",
    "    return a+b\n",
    "\n",
    "result = add(3, 4)\n",
    "print(result)"
   ]
  },
  {
   "cell_type": "code",
   "execution_count": 180,
   "id": "2a31baef-6e38-4a89-b5ce-01bc55b0393b",
   "metadata": {},
   "outputs": [
    {
     "name": "stdout",
     "output_type": "stream",
     "text": [
      "7\n"
     ]
    }
   ],
   "source": [
    "add = lambda a, b: a+b\n",
    "result = add(3, 4)\n",
    "print(result)"
   ]
  },
  {
   "cell_type": "markdown",
   "id": "dabbd978-6f7d-4838-9984-9c34f514bc47",
   "metadata": {},
   "source": [
    "## 파일 읽고 쓰기"
   ]
  },
  {
   "cell_type": "markdown",
   "id": "b1b20b80-f70e-4b0f-8938-1fd2b3da97f6",
   "metadata": {},
   "source": [
    "### 파일 생성하기"
   ]
  },
  {
   "cell_type": "code",
   "execution_count": 3,
   "id": "86909c00-e8d5-4d9a-b57f-bb02659b5e53",
   "metadata": {},
   "outputs": [],
   "source": [
    "# newfile.py\n",
    "f = open('output/test.txt', 'w')\n",
    "f.close()"
   ]
  },
  {
   "cell_type": "markdown",
   "id": "d295b92b-0385-41f9-b027-510e5bf6f3cc",
   "metadata": {},
   "source": [
    "### 파일을 쓰기 모드로 열어 내용 쓰기"
   ]
  },
  {
   "cell_type": "code",
   "execution_count": 6,
   "id": "06d70624-f418-4321-b65c-459bd8f52c60",
   "metadata": {},
   "outputs": [],
   "source": [
    "# write_data.py\n",
    "f = open('output/test.txt', 'w')\n",
    "for i in range(1, 11):\n",
    "    f.write(f'{i}번째 줄입니다. \\n')\n",
    "f.close()"
   ]
  },
  {
   "cell_type": "markdown",
   "id": "a47f8052-57e2-483c-b234-e9a45717063a",
   "metadata": {},
   "source": [
    "### 파일을 읽는 여러 가지 방법"
   ]
  },
  {
   "cell_type": "markdown",
   "id": "8b798898-e9e5-4808-ad66-a92bb438f55f",
   "metadata": {},
   "source": [
    "#### 1. readline 함수 이용하기"
   ]
  },
  {
   "cell_type": "code",
   "execution_count": 12,
   "id": "afbc4e6e-c09a-4879-93f9-5a6a9c32a1b9",
   "metadata": {},
   "outputs": [
    {
     "name": "stdout",
     "output_type": "stream",
     "text": [
      "1번째 줄입니다. \n",
      "\n"
     ]
    }
   ],
   "source": [
    "#readline_test.py\n",
    "f = open('output/test.txt', 'r')\n",
    "line = f.readline()\n",
    "print(line)\n",
    "f.close()"
   ]
  },
  {
   "cell_type": "code",
   "execution_count": 14,
   "id": "feef8a97-57a7-4fdc-9304-3af6a545f61a",
   "metadata": {},
   "outputs": [
    {
     "name": "stdout",
     "output_type": "stream",
     "text": [
      "1번째 줄입니다. \n",
      "\n",
      "2번째 줄입니다. \n",
      "\n",
      "3번째 줄입니다. \n",
      "\n",
      "4번째 줄입니다. \n",
      "\n",
      "5번째 줄입니다. \n",
      "\n"
     ]
    }
   ],
   "source": [
    "f = open('output/test.txt', 'r')\n",
    "for i in range(5):\n",
    "    line = f.readline()\n",
    "    print(line)\n",
    "f.close()"
   ]
  },
  {
   "cell_type": "markdown",
   "id": "7277b171-3fc5-44db-bc5f-32c98cdbf6c9",
   "metadata": {},
   "source": [
    "#### 2. readlines 함수 사용하기"
   ]
  },
  {
   "cell_type": "code",
   "execution_count": 17,
   "id": "52206b83-549c-48d5-a60e-9b59fc065b24",
   "metadata": {},
   "outputs": [
    {
     "name": "stdout",
     "output_type": "stream",
     "text": [
      "1번째 줄입니다. \n",
      "\n",
      "2번째 줄입니다. \n",
      "\n",
      "3번째 줄입니다. \n",
      "\n",
      "4번째 줄입니다. \n",
      "\n",
      "5번째 줄입니다. \n",
      "\n",
      "6번째 줄입니다. \n",
      "\n",
      "7번째 줄입니다. \n",
      "\n",
      "8번째 줄입니다. \n",
      "\n",
      "9번째 줄입니다. \n",
      "\n",
      "10번째 줄입니다. \n",
      "\n"
     ]
    }
   ],
   "source": [
    "#readlines.py\n",
    "f = open('output/test.txt', 'r')\n",
    "lines = f.readlines()\n",
    "for line in lines:\n",
    "    print(line)\n",
    "f.close()"
   ]
  },
  {
   "cell_type": "markdown",
   "id": "59745163-baef-43fb-9081-9921aa5568bb",
   "metadata": {},
   "source": [
    "#### 퀴즈    \n",
    "메모장을 읽어올 때 줄바꿈 1개를 없애보세요."
   ]
  },
  {
   "cell_type": "code",
   "execution_count": 24,
   "id": "90c9fa09-6b02-4868-a7af-2cea431ee05c",
   "metadata": {},
   "outputs": [
    {
     "name": "stdout",
     "output_type": "stream",
     "text": [
      "1번째 줄입니다. \n",
      "2번째 줄입니다. \n",
      "3번째 줄입니다. \n",
      "4번째 줄입니다. \n",
      "5번째 줄입니다. \n",
      "6번째 줄입니다. \n",
      "7번째 줄입니다. \n",
      "8번째 줄입니다. \n",
      "9번째 줄입니다. \n",
      "10번째 줄입니다. \n"
     ]
    }
   ],
   "source": [
    "#readlines.py\n",
    "f = open('output/test.txt', 'r')\n",
    "lines = f.readlines()\n",
    "for line in lines:\n",
    "    print(line, end='')\n",
    "f.close()"
   ]
  },
  {
   "cell_type": "code",
   "execution_count": 32,
   "id": "9d3eaa2b-2c88-4537-9e07-9af5a2f4cea7",
   "metadata": {},
   "outputs": [
    {
     "name": "stdout",
     "output_type": "stream",
     "text": [
      "1번째 줄입니다.\n",
      "2번째 줄입니다.\n",
      "3번째 줄입니다.\n",
      "4번째 줄입니다.\n",
      "5번째 줄입니다.\n",
      "6번째 줄입니다.\n",
      "7번째 줄입니다.\n",
      "8번째 줄입니다.\n",
      "9번째 줄입니다.\n",
      "10번째 줄입니다.\n"
     ]
    }
   ],
   "source": [
    "f = open('output/test.txt', 'r')\n",
    "lines = f.readlines()\n",
    "for line in lines :\n",
    "    line = line.strip()\n",
    "    print(line)\n",
    "f.close()"
   ]
  },
  {
   "cell_type": "markdown",
   "id": "480e34bb-3304-4692-8c8d-45d14fae0a23",
   "metadata": {},
   "source": [
    "#### 3. read 함수 사용하기"
   ]
  },
  {
   "cell_type": "code",
   "execution_count": 35,
   "id": "0ed13de3-547c-4745-9afb-f6644c37775e",
   "metadata": {},
   "outputs": [
    {
     "name": "stdout",
     "output_type": "stream",
     "text": [
      "1번째 줄입니다. \n",
      "2번째 줄입니다. \n",
      "3번째 줄입니다. \n",
      "4번째 줄입니다. \n",
      "5번째 줄입니다. \n",
      "6번째 줄입니다. \n",
      "7번째 줄입니다. \n",
      "8번째 줄입니다. \n",
      "9번째 줄입니다. \n",
      "10번째 줄입니다. \n",
      "\n"
     ]
    }
   ],
   "source": [
    "#read.py\n",
    "f = open('output/test.txt', 'r')\n",
    "data = f.read()\n",
    "print(data)\n",
    "f.close()"
   ]
  },
  {
   "cell_type": "markdown",
   "id": "1d95e7c6-b788-40e4-a7f7-7059dbf4daef",
   "metadata": {},
   "source": [
    "### 파일에 새로운 내용 추가하기"
   ]
  },
  {
   "cell_type": "code",
   "execution_count": 40,
   "id": "62824754-6a41-4388-af89-83bd35f7fd08",
   "metadata": {},
   "outputs": [],
   "source": [
    "#add_data.py\n",
    "f = open('output/test.txt', 'a')\n",
    "for i in range(11, 21):\n",
    "    data = f'{i}번째 줄입니다. \\n'\n",
    "    f.write(data)\n",
    "f.close()"
   ]
  },
  {
   "cell_type": "markdown",
   "id": "12971935-1823-44ee-bb3c-bb75765bfada",
   "metadata": {},
   "source": [
    "### with문과 함께 사용하기"
   ]
  },
  {
   "cell_type": "code",
   "execution_count": 45,
   "id": "b2890333-6e1b-4611-8c8c-7fb71a07cdfe",
   "metadata": {},
   "outputs": [],
   "source": [
    "f = open('output/foo.txt', 'w')\n",
    "f.write(\"Life is too short, you need python\")\n",
    "f.close()"
   ]
  },
  {
   "cell_type": "code",
   "execution_count": 47,
   "id": "ae0e2559-83d8-4ad7-808d-11eaa6dff1cd",
   "metadata": {},
   "outputs": [],
   "source": [
    "#file_with.py\n",
    "with open('output/foo.txt', 'w') as f:\n",
    "    f.write(\"Life is too short, you need python\")"
   ]
  },
  {
   "cell_type": "code",
   "execution_count": null,
   "id": "5d05cba2-fa90-4387-a4e5-b9499730d6d0",
   "metadata": {},
   "outputs": [],
   "source": []
  }
 ],
 "metadata": {
  "kernelspec": {
   "display_name": "Python 3 (ipykernel)",
   "language": "python",
   "name": "python3"
  },
  "language_info": {
   "codemirror_mode": {
    "name": "ipython",
    "version": 3
   },
   "file_extension": ".py",
   "mimetype": "text/x-python",
   "name": "python",
   "nbconvert_exporter": "python",
   "pygments_lexer": "ipython3",
   "version": "3.12.4"
  }
 },
 "nbformat": 4,
 "nbformat_minor": 5
}
