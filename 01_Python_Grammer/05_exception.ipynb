{
 "cells": [
  {
   "cell_type": "markdown",
   "id": "296704e2-dd94-43ba-af71-76b3e5233f28",
   "metadata": {},
   "source": [
    "# 파이썬 날개 달기"
   ]
  },
  {
   "cell_type": "markdown",
   "id": "05c87a2f-954a-4180-a81b-487e8712ffca",
   "metadata": {},
   "source": [
    "## 예외 처리"
   ]
  },
  {
   "cell_type": "markdown",
   "id": "09c3996e-d28f-4451-8b95-1198bdbf6023",
   "metadata": {},
   "source": [
    "## 오류 예외 처리 기법"
   ]
  },
  {
   "cell_type": "markdown",
   "id": "549c1734-5c0f-4c46-b3c8-ce516b6ab449",
   "metadata": {},
   "source": [
    "### 1. try-except 문"
   ]
  },
  {
   "cell_type": "code",
   "execution_count": 5,
   "id": "232a6c1e-f19f-4e87-b031-3f7f619a02cd",
   "metadata": {},
   "outputs": [
    {
     "name": "stdout",
     "output_type": "stream",
     "text": [
      "0으로 나눌 수 없습니다.\n"
     ]
    }
   ],
   "source": [
    "#try-except만 쓰는 방법\n",
    "try:\n",
    "    4/0\n",
    "except:\n",
    "    print('0으로 나눌 수 없습니다.')"
   ]
  },
  {
   "cell_type": "code",
   "execution_count": 11,
   "id": "9d63cd46-64e1-4382-b96a-d5ce923e5203",
   "metadata": {},
   "outputs": [
    {
     "ename": "IndexError",
     "evalue": "list index out of range",
     "output_type": "error",
     "traceback": [
      "\u001b[1;31m---------------------------------------------------------------------------\u001b[0m",
      "\u001b[1;31mIndexError\u001b[0m                                Traceback (most recent call last)",
      "Cell \u001b[1;32mIn[11], line 5\u001b[0m\n\u001b[0;32m      2\u001b[0m \u001b[38;5;28;01mtry\u001b[39;00m:\n\u001b[0;32m      3\u001b[0m     \u001b[38;5;66;03m#4/0\u001b[39;00m\n\u001b[0;32m      4\u001b[0m     a \u001b[38;5;241m=\u001b[39m [\u001b[38;5;241m1\u001b[39m, \u001b[38;5;241m2\u001b[39m, \u001b[38;5;241m3\u001b[39m]\n\u001b[1;32m----> 5\u001b[0m     \u001b[43ma\u001b[49m\u001b[43m[\u001b[49m\u001b[38;5;241;43m3\u001b[39;49m\u001b[43m]\u001b[49m\n\u001b[0;32m      6\u001b[0m \u001b[38;5;28;01mexcept\u001b[39;00m \u001b[38;5;167;01mZeroDivisionError\u001b[39;00m:\n\u001b[0;32m      7\u001b[0m     \u001b[38;5;28mprint\u001b[39m(\u001b[38;5;124m'\u001b[39m\u001b[38;5;124m0으로 나눌 수 없습니다.\u001b[39m\u001b[38;5;124m'\u001b[39m)\n",
      "\u001b[1;31mIndexError\u001b[0m: list index out of range"
     ]
    }
   ],
   "source": [
    "#발생 오류만 포함된 except 문\n",
    "try:\n",
    "    #4/0\n",
    "    a = [1, 2, 3]\n",
    "    a[3]\n",
    "except ZeroDivisionError:\n",
    "    print('0으로 나눌 수 없습니다.')"
   ]
  },
  {
   "cell_type": "code",
   "execution_count": 13,
   "id": "72c71069-96c6-431d-ac1b-9bedde8a4da5",
   "metadata": {},
   "outputs": [
    {
     "name": "stdout",
     "output_type": "stream",
     "text": [
      "division by zero\n"
     ]
    }
   ],
   "source": [
    "#발생 오류와 오류 변수까지 포함한 except 문\n",
    "try:\n",
    "    4 / 0\n",
    "except ZeroDivisionError as e:\n",
    "    print(e)"
   ]
  },
  {
   "cell_type": "markdown",
   "id": "947ce721-65e5-4bc3-a7c0-f98fabe80fa4",
   "metadata": {},
   "source": [
    "### 2. try-finally 문"
   ]
  },
  {
   "cell_type": "markdown",
   "id": "e7f44836-fe37-4102-9da4-48ffb5c59d4f",
   "metadata": {},
   "source": [
    "# try_finally.py\n",
    "try:\n",
    "    f = open('foo.txt', 'w')\n",
    "    # 무언가를 수행한다.\n",
    "\n",
    "    (... 생략 ...)\n",
    "\n",
    "finally:\n",
    "    f.close()  # 중간에 오류가 발생하더라도 무조건 실행된다."
   ]
  },
  {
   "cell_type": "code",
   "execution_count": 16,
   "id": "bca6ff91-d968-4aa7-89af-480db2204d7e",
   "metadata": {},
   "outputs": [
    {
     "name": "stdout",
     "output_type": "stream",
     "text": [
      "인덱싱할 수 없습니다.\n"
     ]
    }
   ],
   "source": [
    "#여러개의 오류 처리하기!\n",
    "try:\n",
    "    a = [1, 2]\n",
    "    print(a[3])\n",
    "    4/0\n",
    "except ZeroDivisionError:\n",
    "    print('0으로 나눌 수 없습니다.')\n",
    "except IndexError:\n",
    "    print('인덱싱할 수 없습니다.')"
   ]
  },
  {
   "cell_type": "code",
   "execution_count": 18,
   "id": "57ada272-fb15-49d1-91e9-9e4ffc089ef1",
   "metadata": {},
   "outputs": [
    {
     "name": "stdout",
     "output_type": "stream",
     "text": [
      "list index out of range\n"
     ]
    }
   ],
   "source": [
    "try:\n",
    "    a = [1, 2]\n",
    "    print(a[3])\n",
    "    4/0\n",
    "except ZeroDivisionError as e:\n",
    "    print(e)\n",
    "except IndexError as i:\n",
    "    print(i)"
   ]
  },
  {
   "cell_type": "markdown",
   "id": "3ad43cf9-13bd-44b7-a8e5-379521f66bea",
   "metadata": {},
   "source": [
    "### 3. try-else 문"
   ]
  },
  {
   "cell_type": "code",
   "execution_count": null,
   "id": "5b2f3dee-aac8-4b34-bc11-b10b0d16a98d",
   "metadata": {},
   "outputs": [],
   "source": [
    "try:\n",
    "    실행 코드\n",
    "except:\n",
    "    예외가 발생했을 때 수행할 코드\n",
    "else:\n",
    "    예외가 발생하지 않았을 때 수행할 코드\n",
    "finally:\n",
    "    예외 발생 여부와 상관없이 항상 수행할 코드\n"
   ]
  },
  {
   "cell_type": "code",
   "execution_count": 23,
   "id": "84562944-fad7-44d7-9644-44b42fcdff71",
   "metadata": {},
   "outputs": [
    {
     "name": "stdin",
     "output_type": "stream",
     "text": [
      "나이를 입력하세요:  안녕\n"
     ]
    },
    {
     "name": "stdout",
     "output_type": "stream",
     "text": [
      "입력이 정확하지 않습니다.\n"
     ]
    }
   ],
   "source": [
    "try:\n",
    "    age = int(input('나이를 입력하세요: '))\n",
    "except:\n",
    "    print('입력이 정확하지 않습니다.')\n",
    "else:\n",
    "    if age <= 18:\n",
    "        print('미성년자는 출입금지입니다.')\n",
    "    else:\n",
    "        print('환영합니다.')\n",
    "\n",
    "# '나이를 입력하세요: '라는 질문에 숫자가 아닌 다른 값을 입력하면 오류가 발생하여 '입력이 정확하지 않습니다.'라는 문장을 출력한다. 오류가 없을 경우에만 else 절이 수행된다."
   ]
  }
 ],
 "metadata": {
  "kernelspec": {
   "display_name": "Python 3 (ipykernel)",
   "language": "python",
   "name": "python3"
  },
  "language_info": {
   "codemirror_mode": {
    "name": "ipython",
    "version": 3
   },
   "file_extension": ".py",
   "mimetype": "text/x-python",
   "name": "python",
   "nbconvert_exporter": "python",
   "pygments_lexer": "ipython3",
   "version": "3.12.4"
  }
 },
 "nbformat": 4,
 "nbformat_minor": 5
}
