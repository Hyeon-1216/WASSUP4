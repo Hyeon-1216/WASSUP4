{
 "cells": [
  {
   "cell_type": "code",
   "execution_count": 1,
   "id": "7ad776da-8673-40f1-b562-0107295d6d1f",
   "metadata": {},
   "outputs": [
    {
     "name": "stdout",
     "output_type": "stream",
     "text": [
      "0\n",
      "1\n",
      "2\n",
      "3\n",
      "4\n",
      "5\n",
      "6\n",
      "7\n",
      "8\n",
      "9\n",
      "10\n",
      "11\n",
      "12\n",
      "13\n",
      "14\n",
      "15\n",
      "16\n",
      "17\n",
      "18\n",
      "19\n",
      "20\n",
      "21\n",
      "22\n",
      "23\n",
      "24\n",
      "25\n",
      "26\n",
      "27\n",
      "28\n",
      "29\n",
      "30\n",
      "31\n",
      "32\n",
      "33\n",
      "34\n",
      "35\n",
      "36\n",
      "37\n",
      "38\n",
      "39\n",
      "40\n",
      "41\n",
      "42\n",
      "43\n",
      "44\n",
      "45\n",
      "46\n",
      "47\n",
      "48\n",
      "49\n",
      "50\n",
      "51\n",
      "52\n",
      "53\n",
      "54\n",
      "55\n",
      "56\n",
      "57\n",
      "58\n",
      "59\n",
      "60\n",
      "61\n",
      "62\n",
      "63\n",
      "64\n",
      "65\n",
      "66\n",
      "67\n",
      "68\n",
      "69\n",
      "70\n",
      "71\n",
      "72\n",
      "73\n",
      "74\n",
      "75\n",
      "76\n",
      "77\n",
      "78\n",
      "79\n",
      "80\n",
      "81\n",
      "82\n",
      "83\n",
      "84\n",
      "85\n",
      "86\n",
      "87\n",
      "88\n",
      "89\n",
      "90\n",
      "91\n",
      "92\n",
      "93\n",
      "94\n",
      "95\n",
      "96\n",
      "97\n",
      "98\n",
      "99\n"
     ]
    }
   ],
   "source": [
    "#161\n",
    "for i in range(100):\n",
    "    print(i)\n"
   ]
  },
  {
   "cell_type": "code",
   "execution_count": 3,
   "id": "5bc692b4-2cbf-4f09-9bad-c8f00a8d0368",
   "metadata": {},
   "outputs": [
    {
     "name": "stdout",
     "output_type": "stream",
     "text": [
      "2002\n",
      "2006\n",
      "2010\n",
      "2014\n",
      "2018\n",
      "2022\n",
      "2026\n",
      "2030\n",
      "2034\n",
      "2038\n",
      "2042\n",
      "2046\n",
      "2050\n"
     ]
    }
   ],
   "source": [
    "#162\n",
    "for i in range(2002, 2051):\n",
    "    if i % 4 == 2:\n",
    "        print(i)"
   ]
  },
  {
   "cell_type": "code",
   "execution_count": 7,
   "id": "49cd922a-305f-451e-aabb-d2fd8385898b",
   "metadata": {},
   "outputs": [
    {
     "name": "stdout",
     "output_type": "stream",
     "text": [
      "3\n",
      "6\n",
      "9\n",
      "12\n",
      "15\n",
      "18\n",
      "21\n",
      "24\n",
      "27\n",
      "30\n"
     ]
    }
   ],
   "source": [
    "#163\n",
    "for i in range(1,31):\n",
    "    if i  % 3 == 0:\n",
    "        print(i)"
   ]
  },
  {
   "cell_type": "code",
   "execution_count": 15,
   "id": "bcfd4d8f-87ab-4041-8423-5d5274c8001a",
   "metadata": {},
   "outputs": [
    {
     "name": "stdout",
     "output_type": "stream",
     "text": [
      "99\n",
      "98\n",
      "97\n",
      "96\n",
      "95\n",
      "94\n",
      "93\n",
      "92\n",
      "91\n",
      "90\n",
      "89\n",
      "88\n",
      "87\n",
      "86\n",
      "85\n",
      "84\n",
      "83\n",
      "82\n",
      "81\n",
      "80\n",
      "79\n",
      "78\n",
      "77\n",
      "76\n",
      "75\n",
      "74\n",
      "73\n",
      "72\n",
      "71\n",
      "70\n",
      "69\n",
      "68\n",
      "67\n",
      "66\n",
      "65\n",
      "64\n",
      "63\n",
      "62\n",
      "61\n",
      "60\n",
      "59\n",
      "58\n",
      "57\n",
      "56\n",
      "55\n",
      "54\n",
      "53\n",
      "52\n",
      "51\n",
      "50\n",
      "49\n",
      "48\n",
      "47\n",
      "46\n",
      "45\n",
      "44\n",
      "43\n",
      "42\n",
      "41\n",
      "40\n",
      "39\n",
      "38\n",
      "37\n",
      "36\n",
      "35\n",
      "34\n",
      "33\n",
      "32\n",
      "31\n",
      "30\n",
      "29\n",
      "28\n",
      "27\n",
      "26\n",
      "25\n",
      "24\n",
      "23\n",
      "22\n",
      "21\n",
      "20\n",
      "19\n",
      "18\n",
      "17\n",
      "16\n",
      "15\n",
      "14\n",
      "13\n",
      "12\n",
      "11\n",
      "10\n",
      "9\n",
      "8\n",
      "7\n",
      "6\n",
      "5\n",
      "4\n",
      "3\n",
      "2\n",
      "1\n",
      "0\n"
     ]
    }
   ],
   "source": [
    "#164\n",
    "for i in range(1,101):\n",
    "    print(100 - i)"
   ]
  },
  {
   "cell_type": "code",
   "execution_count": 23,
   "id": "3931fbdc-c835-4455-9cc9-3cee8e0f414d",
   "metadata": {},
   "outputs": [
    {
     "name": "stdout",
     "output_type": "stream",
     "text": [
      "0.0\n",
      "0.1\n",
      "0.2\n",
      "0.3\n",
      "0.4\n",
      "0.5\n",
      "0.6\n",
      "0.7\n",
      "0.8\n",
      "0.9\n"
     ]
    }
   ],
   "source": [
    "#165\n",
    "for i in range(10):\n",
    "    print(i / 10)"
   ]
  },
  {
   "cell_type": "code",
   "execution_count": 37,
   "id": "e5c9b0b6-dc6b-487c-a76b-d5843d6bb2c9",
   "metadata": {},
   "outputs": [
    {
     "name": "stdout",
     "output_type": "stream",
     "text": [
      "3x1 = 3\n",
      "3x2 = 6\n",
      "3x3 = 9\n",
      "3x4 = 12\n",
      "3x5 = 15\n",
      "3x6 = 18\n",
      "3x7 = 21\n",
      "3x8 = 24\n",
      "3x9 = 27\n"
     ]
    }
   ],
   "source": [
    "#166\n",
    "for i in range(1,10):\n",
    "    print(\"3x\"+str(i), \"=\", 3*i)"
   ]
  },
  {
   "cell_type": "code",
   "execution_count": 39,
   "id": "d8fdc553-3f38-4121-8fcf-7f73bcc4cd62",
   "metadata": {},
   "outputs": [
    {
     "name": "stdout",
     "output_type": "stream",
     "text": [
      "3x1 = 3\n",
      "3x3 = 9\n",
      "3x5 = 15\n",
      "3x7 = 21\n",
      "3x9 = 27\n"
     ]
    }
   ],
   "source": [
    "#167\n",
    "for i in range(1,10):\n",
    "    if i % 2 == 1:\n",
    "            print(\"3x\"+str(i), \"=\", 3*i)"
   ]
  },
  {
   "cell_type": "code",
   "execution_count": 45,
   "id": "ccd63370-f01c-4d68-a916-f1bfb83b87ea",
   "metadata": {},
   "outputs": [
    {
     "name": "stdout",
     "output_type": "stream",
     "text": [
      "55\n"
     ]
    }
   ],
   "source": [
    "#168\n",
    "result = 0\n",
    "for i in range(1,11):\n",
    "    result += i\n",
    "print(result)"
   ]
  },
  {
   "cell_type": "code",
   "execution_count": 51,
   "id": "438ae7fb-0a48-457b-9cbd-70f796cdaf1b",
   "metadata": {},
   "outputs": [
    {
     "name": "stdout",
     "output_type": "stream",
     "text": [
      "25\n"
     ]
    }
   ],
   "source": [
    "#169\n",
    "result = 0\n",
    "for i in range(1, 11):\n",
    "    if i % 2 == 1:\n",
    "        result += i\n",
    "print(result)"
   ]
  },
  {
   "cell_type": "code",
   "execution_count": 55,
   "id": "6f7cd6a8-33c6-4c1f-90db-03428c5d28ab",
   "metadata": {},
   "outputs": [
    {
     "name": "stdout",
     "output_type": "stream",
     "text": [
      "3628800\n"
     ]
    }
   ],
   "source": [
    "#170\n",
    "result = 1\n",
    "for i in range(1,11):\n",
    "    result *= i\n",
    "print(result)"
   ]
  },
  {
   "cell_type": "code",
   "execution_count": 59,
   "id": "e583684b-0d71-430f-9d0d-dfa58d4af96b",
   "metadata": {},
   "outputs": [
    {
     "name": "stdout",
     "output_type": "stream",
     "text": [
      "32100\n",
      "32150\n",
      "32000\n",
      "32500\n"
     ]
    }
   ],
   "source": [
    "#171\n",
    "price_list = [32100, 32150, 32000, 32500]\n",
    "for i in range(4):\n",
    "    print(price_list[i])"
   ]
  },
  {
   "cell_type": "code",
   "execution_count": 61,
   "id": "635682ff-98d1-4c1b-9302-f3b1e37b17bb",
   "metadata": {},
   "outputs": [
    {
     "name": "stdout",
     "output_type": "stream",
     "text": [
      "0 32100\n",
      "1 32150\n",
      "2 32000\n",
      "3 32500\n"
     ]
    }
   ],
   "source": [
    "#172\n",
    "price_list = [32100, 32150, 32000, 32500]\n",
    "for i in range(4):\n",
    "    print(i, price_list[i])"
   ]
  },
  {
   "cell_type": "code",
   "execution_count": 67,
   "id": "37ca4e4b-46fb-42c0-8ea4-9ccf87c36786",
   "metadata": {},
   "outputs": [
    {
     "name": "stdout",
     "output_type": "stream",
     "text": [
      "3 32100\n",
      "2 32150\n",
      "1 32000\n",
      "0 32500\n"
     ]
    }
   ],
   "source": [
    "#173\n",
    "price_list = [32100, 32150, 32000, 32500]\n",
    "for i in range(4):\n",
    "    print(3 - i, price_list[i])"
   ]
  },
  {
   "cell_type": "code",
   "execution_count": 69,
   "id": "4a369a3e-58ab-4168-be05-5ba15d97be12",
   "metadata": {},
   "outputs": [
    {
     "name": "stdout",
     "output_type": "stream",
     "text": [
      "100 32150\n",
      "110 32000\n",
      "120 32500\n"
     ]
    }
   ],
   "source": [
    "#174\n",
    "price_list = [32100, 32150, 32000, 32500]\n",
    "for i in range(1,4):\n",
    "    print(90 + i*10, price_list[i])"
   ]
  },
  {
   "cell_type": "code",
   "execution_count": 73,
   "id": "a69a392a-7394-4e3a-ba68-4f06bcae1420",
   "metadata": {},
   "outputs": [
    {
     "name": "stdout",
     "output_type": "stream",
     "text": [
      "가 나\n",
      "나 다\n",
      "다 라\n"
     ]
    }
   ],
   "source": [
    "#175\n",
    "my_list = [\"가\", \"나\", \"다\", \"라\"]\n",
    "for i in range(3):\n",
    "    print(my_list[i], my_list[1+i])"
   ]
  },
  {
   "cell_type": "code",
   "execution_count": 75,
   "id": "acef6a59-c33a-46e2-b877-582fe3099f76",
   "metadata": {},
   "outputs": [
    {
     "name": "stdout",
     "output_type": "stream",
     "text": [
      "가 나 다\n",
      "나 다 라\n",
      "다 라 마\n"
     ]
    }
   ],
   "source": [
    "#176\n",
    "my_list = [\"가\", \"나\", \"다\", \"라\", \"마\"]\n",
    "for i in range(3):\n",
    "    print(my_list[i], my_list[1+i], my_list[i+2])"
   ]
  },
  {
   "cell_type": "code",
   "execution_count": 77,
   "id": "ab28e6c0-91d0-4f28-ae44-7a014686feda",
   "metadata": {},
   "outputs": [
    {
     "name": "stdout",
     "output_type": "stream",
     "text": [
      "라 다\n",
      "다 나\n",
      "나 가\n"
     ]
    }
   ],
   "source": [
    "#177\n",
    "my_list = [\"가\", \"나\", \"다\", \"라\"]\n",
    "for i in range(3):\n",
    "    print(my_list[3-i], my_list[2-i])"
   ]
  },
  {
   "cell_type": "code",
   "execution_count": 93,
   "id": "612e2181-c2d3-44a1-aceb-9e41c600fd73",
   "metadata": {},
   "outputs": [
    {
     "name": "stdout",
     "output_type": "stream",
     "text": [
      "100\n",
      "200\n",
      "400\n"
     ]
    }
   ],
   "source": [
    "#178\n",
    "my_list = [100, 200, 400, 800]\n",
    "for i in range(3):\n",
    "    print(my_list[i + 1] - my_list[i])"
   ]
  },
  {
   "cell_type": "code",
   "execution_count": 83,
   "id": "017cddd7-6158-42eb-8901-6cec278b479a",
   "metadata": {},
   "outputs": [
    {
     "name": "stdout",
     "output_type": "stream",
     "text": [
      "233.33333333333334\n",
      "466.6666666666667\n",
      "733.3333333333334\n",
      "1033.3333333333333\n"
     ]
    }
   ],
   "source": [
    "#179\n",
    "my_list = [100, 200, 400, 800, 1000, 1300]\n",
    "for i in range(4):\n",
    "    sum = my_list[i] + my_list[i+1] + my_list[i+2]\n",
    "    print(sum/3)"
   ]
  },
  {
   "cell_type": "code",
   "execution_count": 99,
   "id": "31e24d4e-907b-4f17-83dc-fe3985b67809",
   "metadata": {},
   "outputs": [
    {
     "name": "stdout",
     "output_type": "stream",
     "text": [
      "[50, 100, 30, 80]\n"
     ]
    }
   ],
   "source": [
    "#180\n",
    "low_prices  = [100, 200, 400, 800, 1000]\n",
    "high_prices = [150, 300, 430, 880, 1000]\n",
    "result = [high_prices[i] - low_prices[i] for i in range(4)]\n",
    "print(result)"
   ]
  },
  {
   "cell_type": "code",
   "execution_count": 103,
   "id": "dde703d7-46df-435e-9ff3-d6ce5e1641a6",
   "metadata": {},
   "outputs": [
    {
     "data": {
      "text/plain": [
       "[['101호', '102호'], ['201호', '202호'], ['301호', '302호']]"
      ]
     },
     "execution_count": 103,
     "metadata": {},
     "output_type": "execute_result"
    }
   ],
   "source": [
    "#181\n",
    "apart = [ [\"101호\", \"102호\"], [\"201호\", \"202호\"], [\"301호\", \"302호\"] ]\n",
    "apart"
   ]
  },
  {
   "cell_type": "code",
   "execution_count": 105,
   "id": "8de14e57-2a28-4506-a42d-3768b79dbe84",
   "metadata": {},
   "outputs": [
    {
     "data": {
      "text/plain": [
       "[['시가', 100, 200, 300], ['종가', 80, 210, 330]]"
      ]
     },
     "execution_count": 105,
     "metadata": {},
     "output_type": "execute_result"
    }
   ],
   "source": [
    "#182\n",
    "stock = [[\"시가\", 100, 200, 300], [\"종가\", 80, 210, 330]]\n",
    "stock"
   ]
  },
  {
   "cell_type": "code",
   "execution_count": 109,
   "id": "48425bb5-ccb0-42cb-b2af-21569118771b",
   "metadata": {},
   "outputs": [
    {
     "data": {
      "text/plain": [
       "{'시가': [100, 200, 300], '종가': [80, 210, 330]}"
      ]
     },
     "execution_count": 109,
     "metadata": {},
     "output_type": "execute_result"
    }
   ],
   "source": [
    "#183\n",
    "stock = {\"시가\": [100, 200, 300], \"종가\": [80, 210, 330]}\n",
    "stock"
   ]
  },
  {
   "cell_type": "code",
   "execution_count": 111,
   "id": "0b6a3c05-d378-4aba-943d-3be61414927c",
   "metadata": {},
   "outputs": [
    {
     "data": {
      "text/plain": [
       "{'10/10': [80, 110, 70, 90], '10/11': [210, 230, 190, 200]}"
      ]
     },
     "execution_count": 111,
     "metadata": {},
     "output_type": "execute_result"
    }
   ],
   "source": [
    "#184\n",
    "stock = {\"10/10\": [80, 110, 70, 90], \"10/11\": [210, 230, 190, 200]}\n",
    "stock"
   ]
  },
  {
   "cell_type": "code",
   "execution_count": 123,
   "id": "e8a3f10a-df8c-42e6-814c-0e21ad458b85",
   "metadata": {},
   "outputs": [
    {
     "name": "stdout",
     "output_type": "stream",
     "text": [
      "101 호\n",
      "102 호\n",
      "201 호\n",
      "202 호\n",
      "301 호\n",
      "302 호\n"
     ]
    }
   ],
   "source": [
    "#185\n",
    "apart = [ [101, 102], [201, 202], [301, 302] ]\n",
    "for i in apart:\n",
    "    for j in i:\n",
    "        print(j, '호')"
   ]
  },
  {
   "cell_type": "code",
   "execution_count": 131,
   "id": "258fe6c8-d065-4e0f-820d-84a668b12a96",
   "metadata": {},
   "outputs": [
    {
     "name": "stdout",
     "output_type": "stream",
     "text": [
      "301 호\n",
      "302 호\n",
      "201 호\n",
      "202 호\n",
      "101 호\n",
      "102 호\n"
     ]
    }
   ],
   "source": [
    "#186\n",
    "apart = [ [101, 102], [201, 202], [301, 302] ]\n",
    "for i in apart[::-1]:\n",
    "    for j in i:\n",
    "        print(j, '호')"
   ]
  },
  {
   "cell_type": "code",
   "execution_count": 133,
   "id": "e7cc8f82-b03a-4666-baf4-000a4cfbee9d",
   "metadata": {},
   "outputs": [
    {
     "name": "stdout",
     "output_type": "stream",
     "text": [
      "302 호\n",
      "301 호\n",
      "202 호\n",
      "201 호\n",
      "102 호\n",
      "101 호\n"
     ]
    }
   ],
   "source": [
    "#187\n",
    "apart = [ [101, 102], [201, 202], [301, 302] ]\n",
    "for i in apart[::-1]:\n",
    "    for j in i[::-1]:\n",
    "        print(j, '호')"
   ]
  },
  {
   "cell_type": "code",
   "execution_count": 137,
   "id": "9d2ca505-974e-43ed-a6c5-ba957e188687",
   "metadata": {},
   "outputs": [
    {
     "name": "stdout",
     "output_type": "stream",
     "text": [
      "101 호\n",
      "-----\n",
      "102 호\n",
      "-----\n",
      "201 호\n",
      "-----\n",
      "202 호\n",
      "-----\n",
      "301 호\n",
      "-----\n",
      "302 호\n",
      "-----\n"
     ]
    }
   ],
   "source": [
    "#188\n",
    "apart = [ [101, 102], [201, 202], [301, 302] ]\n",
    "for i in apart:\n",
    "    for j in i:\n",
    "        print(j, '호')\n",
    "        print('-----')"
   ]
  },
  {
   "cell_type": "code",
   "execution_count": 139,
   "id": "2fdabf3b-812a-474b-99fd-19452579436f",
   "metadata": {},
   "outputs": [
    {
     "name": "stdout",
     "output_type": "stream",
     "text": [
      "101 호\n",
      "102 호\n",
      "-----\n",
      "201 호\n",
      "202 호\n",
      "-----\n",
      "301 호\n",
      "302 호\n",
      "-----\n"
     ]
    }
   ],
   "source": [
    "#189\n",
    "apart = [ [101, 102], [201, 202], [301, 302] ]\n",
    "for i in apart:\n",
    "    for j in i:\n",
    "        print(j, '호')\n",
    "    print('-----')"
   ]
  },
  {
   "cell_type": "code",
   "execution_count": 141,
   "id": "8073d587-a40a-4ef7-849c-0aa4043af3f8",
   "metadata": {},
   "outputs": [
    {
     "name": "stdout",
     "output_type": "stream",
     "text": [
      "101 호\n",
      "102 호\n",
      "201 호\n",
      "202 호\n",
      "301 호\n",
      "302 호\n",
      "-----\n"
     ]
    }
   ],
   "source": [
    "#190\n",
    "apart = [ [101, 102], [201, 202], [301, 302] ]\n",
    "for i in apart:\n",
    "    for j in i:\n",
    "        print(j, '호')\n",
    "print('-----')"
   ]
  },
  {
   "cell_type": "code",
   "execution_count": 157,
   "id": "79ceff79-fd68-4129-94e9-b2898745dd15",
   "metadata": {},
   "outputs": [
    {
     "name": "stdout",
     "output_type": "stream",
     "text": [
      "2000.28\n",
      "3050.427\n",
      "2050.2870000000003\n",
      "1980.2772\n",
      "7501.05\n",
      "2050.2870000000003\n",
      "2050.2870000000003\n",
      "1980.2772\n",
      "15452.163\n",
      "15052.107\n",
      "15552.177\n",
      "14902.086000000001\n"
     ]
    }
   ],
   "source": [
    "#191\n",
    "data = [\n",
    "    [ 2000,  3050,  2050,  1980],\n",
    "    [ 7500,  2050,  2050,  1980],\n",
    "    [15450, 15050, 15550, 14900]\n",
    "]\n",
    "for i in data:\n",
    "    for j in i:\n",
    "        print(j * 1.00014)"
   ]
  },
  {
   "cell_type": "code",
   "execution_count": 161,
   "id": "76f7acbe-47d2-4a36-b8c2-03842ad6962c",
   "metadata": {},
   "outputs": [
    {
     "name": "stdout",
     "output_type": "stream",
     "text": [
      "2000.28\n",
      "3050.427\n",
      "2050.2870000000003\n",
      "1980.2772\n",
      "----\n",
      "7501.05\n",
      "2050.2870000000003\n",
      "2050.2870000000003\n",
      "1980.2772\n",
      "----\n",
      "15452.163\n",
      "15052.107\n",
      "15552.177\n",
      "14902.086000000001\n",
      "----\n"
     ]
    }
   ],
   "source": [
    "#192\n",
    "data = [\n",
    "    [ 2000,  3050,  2050,  1980],\n",
    "    [ 7500,  2050,  2050,  1980],\n",
    "    [15450, 15050, 15550, 14900]\n",
    "]\n",
    "for i in data:\n",
    "    for j in i:\n",
    "        print(j * 1.00014)\n",
    "    print('----')"
   ]
  },
  {
   "cell_type": "code",
   "execution_count": 167,
   "id": "78aafb77-1cdb-42ca-a8bb-6ce793f3b73e",
   "metadata": {},
   "outputs": [
    {
     "name": "stdout",
     "output_type": "stream",
     "text": [
      "[2000.28, 3050.427, 2050.2870000000003, 1980.2772, 7501.05, 2050.2870000000003, 2050.2870000000003, 1980.2772, 15452.163, 15052.107, 15552.177, 14902.086000000001]\n"
     ]
    }
   ],
   "source": [
    "#193\n",
    "data = [\n",
    "    [ 2000,  3050,  2050,  1980],\n",
    "    [ 7500,  2050,  2050,  1980],\n",
    "    [15450, 15050, 15550, 14900]\n",
    "]\n",
    "result = [j * 1.00014 for i in data for j in i]\n",
    "print(result)"
   ]
  },
  {
   "cell_type": "code",
   "execution_count": 177,
   "id": "2f442905-c9ac-4b4c-b13c-d22f91e2c130",
   "metadata": {},
   "outputs": [
    {
     "name": "stdout",
     "output_type": "stream",
     "text": [
      "[[2002.8000000000002, 3054.27, 2052.8700000000003, 1982.7720000000002], [7510.500000000001, 2052.8700000000003, 2052.8700000000003, 1982.7720000000002], [15471.630000000001, 15071.070000000002, 15571.77, 14920.86]]\n"
     ]
    }
   ],
   "source": [
    "#194\n",
    "data = [\n",
    "    [ 2000,  3050,  2050,  1980],\n",
    "    [ 7500,  2050,  2050,  1980],\n",
    "    [15450, 15050, 15550, 14900]\n",
    "]\n",
    "\n",
    "result = [[j *1.0014 for j in i] for i in data]\n",
    "print(result)"
   ]
  },
  {
   "cell_type": "code",
   "execution_count": 185,
   "id": "a61b28d0-e5db-4937-84e8-589f250e1441",
   "metadata": {},
   "outputs": [
    {
     "name": "stdout",
     "output_type": "stream",
     "text": [
      "100\n",
      "190\n",
      "310\n"
     ]
    }
   ],
   "source": [
    "#195\n",
    "ohlc = [[\"open\", \"high\", \"low\", \"close\"],\n",
    "        [100, 110, 70, 100],\n",
    "        [200, 210, 180, 190],\n",
    "        [300, 310, 300, 310]]\n",
    "for i in ohlc[1:4]:\n",
    "    print(i[3])"
   ]
  },
  {
   "cell_type": "code",
   "execution_count": 187,
   "id": "67791605-50fd-43dc-abd0-ffb2857fc740",
   "metadata": {},
   "outputs": [
    {
     "name": "stdout",
     "output_type": "stream",
     "text": [
      "190\n",
      "310\n"
     ]
    }
   ],
   "source": [
    "#196\n",
    "ohlc = [[\"open\", \"high\", \"low\", \"close\"],\n",
    "        [100, 110, 70, 100],\n",
    "        [200, 210, 180, 190],\n",
    "        [300, 310, 300, 310]]\n",
    "for i in ohlc[1:]:\n",
    "    if i[3] > 150:\n",
    "        print(i[3])"
   ]
  },
  {
   "cell_type": "code",
   "execution_count": 191,
   "id": "876f6c21-ae70-4759-88d2-839eef21386f",
   "metadata": {},
   "outputs": [
    {
     "name": "stdout",
     "output_type": "stream",
     "text": [
      "100\n",
      "310\n"
     ]
    }
   ],
   "source": [
    "#197\n",
    "ohlc = [[\"open\", \"high\", \"low\", \"close\"],\n",
    "        [100, 110, 70, 100],\n",
    "        [200, 210, 180, 190],\n",
    "        [300, 310, 300, 310]]\n",
    "for i in ohlc[1:]:\n",
    "    if i[0] <= i[3]:\n",
    "        print(i[3])"
   ]
  },
  {
   "cell_type": "code",
   "execution_count": 199,
   "id": "61a736fe-f8f7-4502-ab22-7c6d3fa56ec7",
   "metadata": {},
   "outputs": [
    {
     "name": "stdout",
     "output_type": "stream",
     "text": [
      "[40, 30, 10]\n"
     ]
    }
   ],
   "source": [
    "#198\n",
    "ohlc = [[\"open\", \"high\", \"low\", \"close\"],\n",
    "        [100, 110, 70, 100],\n",
    "        [200, 210, 180, 190],\n",
    "        [300, 310, 300, 310]]\n",
    "\n",
    "volatility = [i[1]-i[2] for i in ohlc[1:]]\n",
    "print(volatility)"
   ]
  },
  {
   "cell_type": "code",
   "execution_count": 203,
   "id": "113f2566-4705-46bd-a007-3559c8620e38",
   "metadata": {},
   "outputs": [
    {
     "name": "stdout",
     "output_type": "stream",
     "text": [
      "10\n"
     ]
    }
   ],
   "source": [
    "#199\n",
    "ohlc = [[\"open\", \"high\", \"low\", \"close\"],\n",
    "        [100, 110, 70, 100],\n",
    "        [200, 210, 180, 190],\n",
    "        [300, 310, 300, 310]]\n",
    "for i in ohlc[1:]:\n",
    "    if i[3] > i[0]:\n",
    "        print(i[1]-i[2])"
   ]
  },
  {
   "cell_type": "code",
   "execution_count": 209,
   "id": "d1aa4156-6c60-4d1f-8705-84d4261fb617",
   "metadata": {},
   "outputs": [
    {
     "name": "stdout",
     "output_type": "stream",
     "text": [
      "0\n"
     ]
    }
   ],
   "source": [
    "#200\n",
    "ohlc = [[\"open\", \"high\", \"low\", \"close\"],\n",
    "        [100, 110, 70, 100],\n",
    "        [200, 210, 180, 190],\n",
    "        [300, 310, 300, 310]]\n",
    "result = 0\n",
    "for i in ohlc[1:]:\n",
    "    a = i[3] -i[0]\n",
    "    result += a\n",
    "\n",
    "print(result)"
   ]
  },
  {
   "cell_type": "code",
   "execution_count": null,
   "id": "b6c563fe-bf40-43ca-aecc-8c083ec19897",
   "metadata": {},
   "outputs": [],
   "source": []
  }
 ],
 "metadata": {
  "kernelspec": {
   "display_name": "Python 3 (ipykernel)",
   "language": "python",
   "name": "python3"
  },
  "language_info": {
   "codemirror_mode": {
    "name": "ipython",
    "version": 3
   },
   "file_extension": ".py",
   "mimetype": "text/x-python",
   "name": "python",
   "nbconvert_exporter": "python",
   "pygments_lexer": "ipython3",
   "version": "3.12.4"
  }
 },
 "nbformat": 4,
 "nbformat_minor": 5
}
