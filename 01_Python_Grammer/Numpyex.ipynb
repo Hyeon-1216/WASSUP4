{
 "cells": [
  {
   "cell_type": "markdown",
   "id": "1a515a07-42d1-4735-a973-f11d08a515f1",
   "metadata": {},
   "source": [
    "# Numpy"
   ]
  },
  {
   "cell_type": "markdown",
   "id": "516fd3fc-3a0a-4f93-8f53-bd9f3e3be929",
   "metadata": {},
   "source": [
    "머신러닝을 관리하기 위해 자바언어는 불편하니까 주로 파이썬을 이용해서 머신러닝\n",
    "대량의 데이터를 다루기 위해서는 넘파이& 판다쓰를 다뤄야한다\n",
    " => 파이썬에서 다루는 기본 자료형보다 더 복잡한 것들을 다루기 위해 넘파이 &판다쓰라는 라이브러리를 다룬다\n",
    "넘파이 - 2차원 데이터& 기본적인 인덱싱  판다쓰 - 데이터 베이스 테이블 형태의 데이터를 다룬다 & 좀 더 유연한 인덱싱 \n",
    "판다쓰에서는 데이터를 그대로 읽어 올 수 있다 .  csv, txt등 (그러므로 엑셀이나 sql등으로 데이터 불러오기가 용이)"
   ]
  },
  {
   "cell_type": "code",
   "execution_count": null,
   "id": "56804167-e337-401a-8688-f8892b77c16c",
   "metadata": {},
   "outputs": [],
   "source": [
    "# numpy\n",
    "# numerical python\n",
    "# 고성능 수치를 위한 라이브러리\n",
    "# 벡터나 행렬 연산에 편리한 기능 제공\n",
    "# 모든 원소는 같은 자료형만 가능"
   ]
  },
  {
   "cell_type": "code",
   "execution_count": 3,
   "id": "f56506f9-11df-4eeb-800f-1c87ff9f4320",
   "metadata": {},
   "outputs": [
    {
     "name": "stdout",
     "output_type": "stream",
     "text": [
      "[ 0  1  2  3  4  5  6  7  8  9 10 11 12 13 14]\n",
      "[[ 0  1  2  3  4]\n",
      " [ 5  6  7  8  9]\n",
      " [10 11 12 13 14]]\n",
      "<class 'numpy.ndarray'>\n",
      "(3, 5)\n",
      "int32\n",
      "2\n",
      "15\n"
     ]
    }
   ],
   "source": [
    "import numpy as np\n",
    "a = np.arange( 15 ) #range랑 비슷하다고 생각하면 됨\n",
    "print( a )\n",
    "a = a.reshape( 3, 5 ) #차원 변경 (행, 열, order = 'F') # C 행부터 할당이 기본값, F 열부터 할당\n",
    "print( a )\n",
    "print( type( a ) )\n",
    "print( a.shape ) #(행, 열)출력\n",
    "print( a.dtype ) # 데이터 타입 출력\n",
    "print( a.ndim ) #차원 출력\n",
    "print( a. size )\n",
    "# print( dir ( np ) )"
   ]
  },
  {
   "cell_type": "code",
   "execution_count": 9,
   "id": "e3ffcc07-2f57-4b71-8edf-f2b7546e0605",
   "metadata": {},
   "outputs": [
    {
     "name": "stdout",
     "output_type": "stream",
     "text": [
      "[-1, -3, 5, 9, 12, 16, 99, 0, 8, 43]\n",
      "<class 'list'>\n",
      "<class 'numpy.ndarray'>\n",
      "<class 'tuple'>\n",
      "<class 'numpy.ndarray'>\n",
      "<class 'set'>\n",
      "<class 'numpy.ndarray'>\n"
     ]
    }
   ],
   "source": [
    "b = [-1, -3, 5, 9, 12, 16, 99, 0, 8, 43] #list로 numpy 만듦 (호환됨)\n",
    "print( b )\n",
    "print( type( b ) )\n",
    "b = np.array( b )\n",
    "print( type( b ) )\n",
    "\n",
    "t = ( 10, 20, 30, 40, 50 ) #tuple도 호환됨\n",
    "print( type( t ) )\n",
    "t = np.array( t )\n",
    "print( type ( t ) )\n",
    "\n",
    "s = { 10, 20, 30, 40, 50 } #set도 호환됨\n",
    "print( type ( s ) )\n",
    "s = np.array( s )\n",
    "print( type( s ) )"
   ]
  },
  {
   "cell_type": "code",
   "execution_count": 27,
   "id": "40c1efe5-534c-41d2-b6ad-f45fda05fbf0",
   "metadata": {},
   "outputs": [
    {
     "name": "stdout",
     "output_type": "stream",
     "text": [
      "(10,)\n",
      "1\n",
      "int32\n",
      "[-1 -3  5  9 12 16 99  0  8 43]\n",
      "[ 1  3  5  9 12 16 99  0  8 43]\n",
      "[1.         1.73205081 2.23606798 3.         3.46410162 4.\n",
      " 9.94987437 0.         2.82842712 6.55743852]\n",
      "[   1    9   25   81  144  256 9801    0   64 1849]\n",
      "[False False False False False False False False False False]\n",
      "188\n",
      "18.8\n",
      "99\n",
      "-3\n",
      "6\n",
      "1\n",
      "[-3 -1  0  5  8  9 12 16 43 99]\n",
      "[99 43 16 12  9  8  5  0 -1 -3]\n"
     ]
    }
   ],
   "source": [
    "print( b.shape )\n",
    "print( b.ndim )\n",
    "print( b.dtype )\n",
    "print( b )\n",
    "\n",
    "# print( help( np ) )\n",
    "print( np.abs( b ) ) # 절대값\n",
    "print( np.sqrt( np.abs( b ) ) ) # 제곱근\n",
    "print( np.square( b ) ) # 제곱\n",
    "print( np.isnan( b ) ) # NaN 여부\n",
    "print( np.sum( b ) ) # 합계\n",
    "print( np.mean( b ) ) # 평균\n",
    "print( np.max( b ) )  # 최댓값\n",
    "print( np.min( b ) ) # 최솟값\n",
    "print( np.argmax( b ) ) #최댓값 인덱스\n",
    "print( np.argmin( b ) ) #최솟값 인덱스\n",
    "print( np.sort( b ) ) #정렬 오름차순\n",
    "print( np.sort( b )[::-1] ) #정렬 내림차순 [ start: end : step ]"
   ]
  },
  {
   "cell_type": "code",
   "execution_count": null,
   "id": "167aa1d1-0e63-4f04-bd3c-a8880cb611d1",
   "metadata": {},
   "outputs": [],
   "source": []
  }
 ],
 "metadata": {
  "kernelspec": {
   "display_name": "Python 3 (ipykernel)",
   "language": "python",
   "name": "python3"
  },
  "language_info": {
   "codemirror_mode": {
    "name": "ipython",
    "version": 3
   },
   "file_extension": ".py",
   "mimetype": "text/x-python",
   "name": "python",
   "nbconvert_exporter": "python",
   "pygments_lexer": "ipython3",
   "version": "3.12.4"
  }
 },
 "nbformat": 4,
 "nbformat_minor": 5
}
