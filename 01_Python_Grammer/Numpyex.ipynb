{
 "cells": [
  {
   "cell_type": "markdown",
   "id": "1a515a07-42d1-4735-a973-f11d08a515f1",
   "metadata": {},
   "source": [
    "# Numpy"
   ]
  },
  {
   "cell_type": "markdown",
   "id": "516fd3fc-3a0a-4f93-8f53-bd9f3e3be929",
   "metadata": {},
   "source": [
    "머신러닝을 관리하기 위해 자바언어는 불편하니까 주로 파이썬을 이용해서 머신러닝\n",
    "대량의 데이터를 다루기 위해서는 넘파이& 판다쓰를 다뤄야한다\n",
    " => 파이썬에서 다루는 기본 자료형보다 더 복잡한 것들을 다루기 위해 넘파이 &판다쓰라는 라이브러리를 다룬다\n",
    "넘파이 - 2차원 데이터& 기본적인 인덱싱  판다쓰 - 데이터 베이스 테이블 형태의 데이터를 다룬다 & 좀 더 유연한 인덱싱 \n",
    "판다쓰에서는 데이터를 그대로 읽어 올 수 있다 .  csv, txt등 (그러므로 엑셀이나 sql등으로 데이터 불러오기가 용이)"
   ]
  },
  {
   "cell_type": "code",
   "execution_count": 3,
   "id": "56804167-e337-401a-8688-f8892b77c16c",
   "metadata": {},
   "outputs": [],
   "source": [
    "# numpy\n",
    "# numerical python\n",
    "# 고성능 수치를 위한 라이브러리\n",
    "# 벡터나 행렬 연산에 편리한 기능 제공\n",
    "# 모든 원소는 같은 자료형만 가능"
   ]
  },
  {
   "cell_type": "code",
   "execution_count": 4,
   "id": "f56506f9-11df-4eeb-800f-1c87ff9f4320",
   "metadata": {},
   "outputs": [
    {
     "name": "stdout",
     "output_type": "stream",
     "text": [
      "[ 0  1  2  3  4  5  6  7  8  9 10 11 12 13 14]\n",
      "[[ 0  1  2  3  4]\n",
      " [ 5  6  7  8  9]\n",
      " [10 11 12 13 14]]\n",
      "<class 'numpy.ndarray'>\n",
      "(3, 5)\n",
      "int32\n",
      "2\n",
      "15\n"
     ]
    }
   ],
   "source": [
    "import numpy as np\n",
    "a = np.arange( 15 ) #range랑 비슷하다고 생각하면 됨\n",
    "print( a )\n",
    "a = a.reshape( 3, 5 ) #차원 변경 (행, 열, order = 'F') # C 행부터 할당이 기본값, F 열부터 할당\n",
    "print( a )\n",
    "print( type( a ) )\n",
    "print( a.shape ) #(행, 열)출력\n",
    "print( a.dtype ) # 데이터 타입 출력\n",
    "print( a.ndim ) #차원 출력\n",
    "print( a. size )\n",
    "# print( dir ( np ) )"
   ]
  },
  {
   "cell_type": "code",
   "execution_count": 5,
   "id": "e3ffcc07-2f57-4b71-8edf-f2b7546e0605",
   "metadata": {},
   "outputs": [
    {
     "name": "stdout",
     "output_type": "stream",
     "text": [
      "[-1, -3, 5, 9, 12, 16, 99, 0, 8, 43]\n",
      "<class 'list'>\n",
      "<class 'numpy.ndarray'>\n",
      "<class 'tuple'>\n",
      "<class 'numpy.ndarray'>\n",
      "<class 'set'>\n",
      "<class 'numpy.ndarray'>\n"
     ]
    }
   ],
   "source": [
    "b = [-1, -3, 5, 9, 12, 16, 99, 0, 8, 43] #list로 numpy 만듦 (호환됨)\n",
    "print( b )\n",
    "print( type( b ) )\n",
    "b = np.array( b )\n",
    "print( type( b ) )\n",
    "\n",
    "t = ( 10, 20, 30, 40, 50 ) #tuple도 호환됨\n",
    "print( type( t ) )\n",
    "t = np.array( t )\n",
    "print( type ( t ) )\n",
    "\n",
    "s = { 10, 20, 30, 40, 50 } #set도 호환됨\n",
    "print( type ( s ) )\n",
    "s = np.array( s )\n",
    "print( type( s ) )"
   ]
  },
  {
   "cell_type": "code",
   "execution_count": 6,
   "id": "40c1efe5-534c-41d2-b6ad-f45fda05fbf0",
   "metadata": {},
   "outputs": [
    {
     "name": "stdout",
     "output_type": "stream",
     "text": [
      "(10,)\n",
      "1\n",
      "int32\n",
      "[-1 -3  5  9 12 16 99  0  8 43]\n",
      "[ 1  3  5  9 12 16 99  0  8 43]\n",
      "[1.         1.73205081 2.23606798 3.         3.46410162 4.\n",
      " 9.94987437 0.         2.82842712 6.55743852]\n",
      "[   1    9   25   81  144  256 9801    0   64 1849]\n",
      "[False False False False False False False False False False]\n",
      "188\n",
      "18.8\n",
      "99\n",
      "-3\n",
      "6\n",
      "1\n",
      "[-3 -1  0  5  8  9 12 16 43 99]\n",
      "[99 43 16 12  9  8  5  0 -1 -3]\n",
      "8.5\n"
     ]
    }
   ],
   "source": [
    "print( b.shape )\n",
    "print( b.ndim )\n",
    "print( b.dtype )\n",
    "print( b )\n",
    "\n",
    "# print( help( np ) )\n",
    "print( np.abs( b ) ) # 절대값\n",
    "print( np.sqrt( np.abs( b ) ) ) # 제곱근\n",
    "print( np.square( b ) ) # 제곱\n",
    "print( np.isnan( b ) ) # NaN 여부\n",
    "print( np.sum( b ) ) # 합계\n",
    "print( np.mean( b ) ) # 평균\n",
    "print( np.max( b ) )  # 최댓값\n",
    "print( np.min( b ) ) # 최솟값\n",
    "print( np.argmax( b ) ) #최댓값 인덱스\n",
    "print( np.argmin( b ) ) #최솟값 인덱스\n",
    "print( np.sort( b ) ) #정렬 오름차순\n",
    "print( np.sort( b )[::-1] ) #정렬 내림차순 [ start: end : step ]\n",
    "print( np.median( b ) ) #중간값 구하기"
   ]
  },
  {
   "cell_type": "code",
   "execution_count": 7,
   "id": "167aa1d1-0e63-4f04-bd3c-a8880cb611d1",
   "metadata": {},
   "outputs": [
    {
     "name": "stdout",
     "output_type": "stream",
     "text": [
      "<class 'list'>\n",
      "<class 'numpy.ndarray'>\n",
      "[[1 2 3]\n",
      " [4 5 6]]\n",
      "21\n",
      "[5 7 9]\n",
      "[ 6 15]\n",
      "3.5\n",
      "[2.5 3.5 4.5]\n",
      "[2. 5.]\n",
      "3.5\n",
      "[2.5 3.5 4.5]\n",
      "6\n",
      "[3 6]\n",
      "1.707825127659933\n",
      "2.9166666666666665\n"
     ]
    }
   ],
   "source": [
    "c = [ [ 1,  2, 3 ], [ 4, 5, 6 ] ]\n",
    "print( type( c ) )\n",
    "c = np.array( c )\n",
    "print( type( c ) )\n",
    "print( c )\n",
    "\n",
    "print( np.sum( c ) )\n",
    "print( np.sum( c, axis=0 ) )\n",
    "print( np.sum( c, axis=1 ) )\n",
    "print( np.mean( c ) )\n",
    "print( np.mean( c, axis=0 ) )\n",
    "print( np.mean( c, axis=1 ) )\n",
    "print( np.median( c ) )\n",
    "print( np.median( c, axis=0 ) )\n",
    "print( np.max( c ) )\n",
    "print( np.max( c, axis=1 ) )\n",
    "\n",
    "print( np.std( c ) )\n",
    "print( np.var( c ) )"
   ]
  },
  {
   "cell_type": "code",
   "execution_count": 8,
   "id": "0b6063c6-d648-4169-ade5-bf78a89ff261",
   "metadata": {},
   "outputs": [
    {
     "name": "stdout",
     "output_type": "stream",
     "text": [
      "[10, 20, 30, 40, 50]\n",
      "[12 22 32 42 52]\n",
      "[11 22 33 44 55]\n",
      "[ 100  400  900 1600 2500]\n",
      "[ -5.44021111  18.25890501 -29.64094872  29.80452642 -13.11874269]\n",
      "[False False False  True  True]\n",
      "[11 22 33 44 55]\n",
      "[ 9 18 27 36 45]\n",
      "[ 10  40  90 160 250]\n",
      "[10. 10. 10. 10. 10.]\n"
     ]
    }
   ],
   "source": [
    "# element wise\n",
    "d = [ 10, 20, 30, 40, 50 ]\n",
    "print( d )\n",
    "#print( d + 2 )              #error\n",
    "d = np.array( d )\n",
    "print( d + 2 )\n",
    "\n",
    "e = np.array( [1, 2, 3, 4, 5] )\n",
    "\n",
    "print( d + e )\n",
    "print( d **  2)\n",
    "print( d * np.sin( d ) )\n",
    "print( d > 35 )\n",
    "\n",
    "print( np.add( d, e ) )\n",
    "print( np.subtract( d, e ) )\n",
    "print( np.multiply( d, e ) )\n",
    "print( np.divide( d, e ) )\n"
   ]
  },
  {
   "cell_type": "code",
   "execution_count": 9,
   "id": "226f00d2-90b1-4d70-9d14-656b28231bd7",
   "metadata": {},
   "outputs": [
    {
     "name": "stdout",
     "output_type": "stream",
     "text": [
      "[[0 0]\n",
      " [3 4]]\n",
      "[[3 4]\n",
      " [5 4]]\n",
      "[[3 4]\n",
      " [5 4]]\n",
      "[[3 4]\n",
      " [5 4]]\n"
     ]
    }
   ],
   "source": [
    "f = np.array( [ [ 0, 1 ], [ 1, 1 ] ] )\n",
    "g = np.array( [ [ 2, 0 ], [ 3, 4 ] ] )\n",
    "print( f * g )           #그냥 곱셈\n",
    "print( f @ g )           # 행렬곱\n",
    "print( np.dot( f, g ) )\n",
    "print( f.dot( g ) )"
   ]
  },
  {
   "cell_type": "code",
   "execution_count": 10,
   "id": "034e653e-7058-45a3-a103-e0c2362fbf8d",
   "metadata": {},
   "outputs": [
    {
     "name": "stdout",
     "output_type": "stream",
     "text": [
      "[0. 0. 0. 0. 0. 0. 0. 0. 0. 0.]\n",
      "[[0. 0. 0. 0. 0.]\n",
      " [0. 0. 0. 0. 0.]\n",
      " [0. 0. 0. 0. 0.]\n",
      " [0. 0. 0. 0. 0.]\n",
      " [0. 0. 0. 0. 0.]]\n",
      "[1. 1. 1. 1. 1. 1. 1. 1. 1. 1.]\n",
      "[[1. 1. 1. 1. 1.]\n",
      " [1. 1. 1. 1. 1.]\n",
      " [1. 1. 1. 1. 1.]\n",
      " [1. 1. 1. 1. 1.]\n",
      " [1. 1. 1. 1. 1.]]\n"
     ]
    }
   ],
   "source": [
    "h = np.zeros( 10 )\n",
    "print( h )\n",
    "i = np.zeros( ( 5, 5 ) )#zeros는 튜플로 줘야함!!\n",
    "print( i )\n",
    "j = np.ones( 10 )\n",
    "print( j )\n",
    "k = np.ones( ( 5, 5 ) ) #ones도 튜플로 줘야함!\n",
    "print( k )"
   ]
  },
  {
   "cell_type": "markdown",
   "id": "fb46a392-a849-4077-a83c-f43996b9ecdf",
   "metadata": {},
   "source": [
    "# 난수 생성"
   ]
  },
  {
   "cell_type": "code",
   "execution_count": 12,
   "id": "baa33d55-f232-418d-9464-51373b96048c",
   "metadata": {},
   "outputs": [
    {
     "name": "stdout",
     "output_type": "stream",
     "text": [
      "<class 'numpy.ndarray'>\n",
      "[ 4.99494303 45.36897501 39.22545842 72.64222669 74.10095762 44.3930564\n",
      " 30.58172422 17.54331778 60.99326238  2.73693605]\n",
      "[ 4 45 39 72 74 44 30 17 60  2]\n",
      "[ 4 45 39 72 74 44 30 17 60  2]\n",
      "18\n",
      "[[0.87912897 0.47282761]\n",
      " [0.0746979  0.28089229]\n",
      " [0.74249836 0.9394504 ]\n",
      " [0.40943269 0.18932336]\n",
      " [0.60718306 0.99129407]]\n"
     ]
    }
   ],
   "source": [
    "# np.random.random        0~1 사이의 난수 발생\n",
    "# np.random.randint       균일 분포의 정수 난수 발생\n",
    "# np.random.rand          0~1 사이의 균일 분포 난수 matrix array 생성\n",
    "# np.random.randn         가우시안 표준 정규 분포 난수 matrix array 생성\n",
    "# np.random.nomral        평균, 표준편차, sample 개수\n",
    "\n",
    "# l = int(np.random.random( 10 ) * 100)     int는 데이터를 하나씩만 바꿀 수 있는데 얘는 데이터가 여러개이므로 error\n",
    "l = (np.random.random( 10 ) * 100)          #여기서 10은 개수 지정임\n",
    "m = l.astype(int)\n",
    "n = np.array( [ int(i) for i in l ] )\n",
    "print( type( l ) )\n",
    "print( l )\n",
    "print( m )\n",
    "print( n )\n",
    "\n",
    "print( np.random.randint( 10, 20 ) )        #여기서 (10, 20)은 범위 지정임\n",
    "print( np.random.rand( 5, 2 ) )             #여기서 (5, 2)는 5행 2열"
   ]
  },
  {
   "cell_type": "markdown",
   "id": "144ac29a-4a2c-4827-a3d7-2f4f5a64a680",
   "metadata": {},
   "source": [
    "# 슬라이싱"
   ]
  },
  {
   "cell_type": "code",
   "execution_count": 14,
   "id": "311a5d75-b139-4cc3-bab6-205c78e2690c",
   "metadata": {},
   "outputs": [
    {
     "name": "stdout",
     "output_type": "stream",
     "text": [
      "[10, 11, 12, 13, 14]\n",
      "13\n",
      "[[1, 2, 3, 4, 5], [6, 7, 8, 9, 10], [11, 12, 13, 14, 15]]\n",
      "[11, 12, 13, 14, 15]\n",
      "[6, 7]\n",
      "[[1, 2, 3, 4, 5], [6, 7, 8, 9, 10]]\n",
      "[[ 1  2  3  4  5]\n",
      " [ 6  7  8  9 10]\n",
      " [11 12 13 14 15]]\n",
      "13\n",
      "[[ 1  2  3  4  5]\n",
      " [ 6  7  8  9 10]\n",
      " [11 12 13 14 15]]\n",
      "[11 12 13 14 15]\n",
      "[[ 1  2  3  4  5]\n",
      " [ 6  7  8  9 10]]\n",
      "[[1 2]\n",
      " [6 7]]\n",
      "[[ 1  2  3  4  5]\n",
      " [ 6  7  8  9 10]\n",
      " [11 12 13 14 15]]\n",
      "[[1 2 3 4]\n",
      " [6 7 8 9]]\n",
      "[[15 14 13 12 11]\n",
      " [10  9  8  7  6]\n",
      " [ 5  4  3  2  1]]\n",
      "[[ 1  2  3  4  5]\n",
      " [11 12 13 14 15]]\n"
     ]
    }
   ],
   "source": [
    "#리스트\n",
    "list = [ i for i in range( 10, 20 ) ]\n",
    "print( list[0:5] )\n",
    "\n",
    "r = [[ 1, 2, 3, 4, 5 ], [6, 7, 8, 9, 10], [11, 12, 13, 14, 15]]\n",
    "print( r[2][2] )\n",
    "print( r[:][:] )\n",
    "print( r[2][:] )\n",
    "print( r[1][:2])\n",
    "print( r[:2][:2]) #앞이 행 뒥에가 열이 아님! 앞에 연산 이후 뒤 연산을 한다고 이해해야함!\n",
    "#print( r[:,:] )  error\n",
    "\n",
    "\n",
    "#Numpy\n",
    "s = np.arange( 1, 16 ).reshape( 3, 5 )\n",
    "print( s )\n",
    "print( s[2][2] )\n",
    "print( s[:][:] )\n",
    "print( s[2][:] )\n",
    "print( s[:2][:2] ) #앞이 행 뒤에가 열이 아님! 앞에 연산 이후 뒤 연산을 한다고 이해해야함!\n",
    "print( s[:2, :2] ) #앞이 행 뒤에가 열이 맞음!\n",
    "print( s[:, :] )\n",
    "print( s[:-1, :-1] )\n",
    "print( s[::-1,::-1] )\n",
    "\n",
    "print( s[[0,2]] ) #0행과 2행을 꺼내라"
   ]
  },
  {
   "cell_type": "markdown",
   "id": "db173f89-f7e7-446b-b2b0-013c6dbbe873",
   "metadata": {},
   "source": [
    "# 전치 행렬"
   ]
  },
  {
   "cell_type": "code",
   "execution_count": 16,
   "id": "44f35388-bf24-46f3-8d24-21cb8614aa8a",
   "metadata": {},
   "outputs": [
    {
     "name": "stdout",
     "output_type": "stream",
     "text": [
      "[[ 1  2  3  4  5]\n",
      " [ 6  7  8  9 10]\n",
      " [11 12 13 14 15]]\n",
      "[[ 1  6 11]\n",
      " [ 2  7 12]\n",
      " [ 3  8 13]\n",
      " [ 4  9 14]\n",
      " [ 5 10 15]]\n"
     ]
    }
   ],
   "source": [
    "print( s )                 #3행 5열\n",
    "print ( s.T )              #4행 3열"
   ]
  },
  {
   "cell_type": "markdown",
   "id": "4e40f328-aea0-46f7-9ea0-da169f57a7aa",
   "metadata": {},
   "source": [
    "# 결합 / 분리"
   ]
  },
  {
   "cell_type": "code",
   "execution_count": 18,
   "id": "adff3b83-9efb-4314-8a37-7767958cc476",
   "metadata": {},
   "outputs": [
    {
     "name": "stdout",
     "output_type": "stream",
     "text": [
      "(1, 4)\n",
      "(2, 5)\n",
      "(3, 6)\n"
     ]
    }
   ],
   "source": [
    "a = [1, 2, 3]\n",
    "b = [4, 5, 6]\n",
    "for ab in zip(a, b):\n",
    "    print( ab )"
   ]
  },
  {
   "cell_type": "code",
   "execution_count": null,
   "id": "124da1fa-e81a-4e96-8dd2-c1ec4fc1ba12",
   "metadata": {},
   "outputs": [],
   "source": []
  },
  {
   "cell_type": "code",
   "execution_count": 42,
   "id": "130cd21b-df77-4314-aa2e-3e7a07894ca0",
   "metadata": {},
   "outputs": [
    {
     "name": "stdout",
     "output_type": "stream",
     "text": [
      "[[95. 61. 64. 20. 81. 71. 96. 10.  5. 21. 90. 97. 77. 72.  4.]\n",
      " [61. 18. 77. 80. 60. 84. 44. 71. 66. 33. 64. 53.  9. 32. 21.]]\n",
      "[array([[95., 61., 64., 20., 81.],\n",
      "       [61., 18., 77., 80., 60.]]), array([[71., 96., 10.,  5., 21.],\n",
      "       [84., 44., 71., 66., 33.]]), array([[90., 97., 77., 72.,  4.],\n",
      "       [64., 53.,  9., 32., 21.]])]\n",
      "[[95. 61. 64. 20. 81.]\n",
      " [61. 18. 77. 80. 60.]]\n",
      "[[71. 96. 10.  5. 21.]\n",
      " [84. 44. 71. 66. 33.]]\n",
      "[[90. 97. 77. 72.  4.]\n",
      " [64. 53.  9. 32. 21.]]\n",
      "[[95. 61. 64.]\n",
      " [61. 18. 77.]]\n",
      "[[20. 81. 71. 96.]\n",
      " [80. 60. 84. 44.]]\n",
      "[[10.  5. 21. 90. 97.]\n",
      " [71. 66. 33. 64. 53.]]\n",
      "[[77. 72.  4.]\n",
      " [ 9. 32. 21.]]\n"
     ]
    }
   ],
   "source": [
    "e = np.floor( np.random.rand( 2, 15 ) * 100 )\n",
    "print( e )\n",
    "print ( np.hsplit( e, 3 ) ) #3개로 자르기\n",
    "for arr in np.hsplit( e, 3 ) :\n",
    "    print( arr )\n",
    "for arr in np.hsplit( e, (3, 7, 12) ) :\n",
    "    print( arr )"
   ]
  },
  {
   "cell_type": "code",
   "execution_count": 56,
   "id": "425d2853-60f4-4321-a591-3d3a2c869433",
   "metadata": {},
   "outputs": [
    {
     "name": "stdout",
     "output_type": "stream",
     "text": [
      "[1, 2, 'C', 'D', 5]\n",
      "['1' '2' 'C' 'D' '5']\n",
      "['작다' '작다' '크다' '크다' '크다']\n",
      "['참' '참' '거짓' '거짓' '참']\n"
     ]
    }
   ],
   "source": [
    "f = np.array( [ 1, 2, 3, 4, 5 ] )\n",
    "g = np.array( [ 'A', 'B', 'C', 'D', 'E' ] )\n",
    "h = np.array( [ True, True, False, False, True ] )\n",
    "# 삼항 연산                    조건 ? 참 : 거짓\n",
    "#                             참 if 조건 else 거짓\n",
    "print( [ x if z else y for x, y, z in zip( f, g, h ) ] )  # z가 참이면 x, 거짓이면 y를 리스트로 출력해라\n",
    "print( np.where( h, f, g) )                               #.where(조간, 참일 때 값, 거짓일 때 값)\n",
    "print( np.where( f < 3, '작다', '크다' ) )\n",
    "print( np.where( h, '참', '거짓' ) )"
   ]
  },
  {
   "cell_type": "markdown",
   "id": "8b1b1d61-35da-42b3-9a37-df588219c43a",
   "metadata": {},
   "source": [
    "# 파일에 들어갔다가 나오기~"
   ]
  },
  {
   "cell_type": "code",
   "execution_count": 69,
   "id": "5635b55e-eac2-4ac5-aa17-367fd5702b2e",
   "metadata": {},
   "outputs": [
    {
     "name": "stdout",
     "output_type": "stream",
     "text": [
      "[0 1 2 3 4 5 6 7 8 9]\n",
      "<class 'numpy.ndarray'>\n",
      "<class 'numpy.lib.npyio.NpzFile'>\n",
      "[0 1 2 3 4 5 6 7 8 9]\n",
      "[0 1 2 3 4 5 6 7 8 9]\n"
     ]
    }
   ],
   "source": [
    "i = np.arange( 10 )\n",
    "np.save( 'i.npy', i ) # 파일 i를 'i.npy'로 저장\n",
    "ii = np.load( 'i.npy' )\n",
    "print( ii )\n",
    "print( type( ii ) )\n",
    "\n",
    "j = np.arange( 10 )\n",
    "k = np.arange( 10 )\n",
    "np.savez( 'jk.npz', x=j, y=k )\n",
    "jk = np.load( 'jk.npz' )\n",
    "print( type( jk ) )\n",
    "print( jk['x'] )\n",
    "print( jk['y'] )"
   ]
  },
  {
   "cell_type": "code",
   "execution_count": null,
   "id": "7429ca46-5a67-4d45-ba1c-34b317a2204f",
   "metadata": {},
   "outputs": [],
   "source": []
  }
 ],
 "metadata": {
  "kernelspec": {
   "display_name": "Python 3 (ipykernel)",
   "language": "python",
   "name": "python3"
  },
  "language_info": {
   "codemirror_mode": {
    "name": "ipython",
    "version": 3
   },
   "file_extension": ".py",
   "mimetype": "text/x-python",
   "name": "python",
   "nbconvert_exporter": "python",
   "pygments_lexer": "ipython3",
   "version": "3.12.4"
  }
 },
 "nbformat": 4,
 "nbformat_minor": 5
}
