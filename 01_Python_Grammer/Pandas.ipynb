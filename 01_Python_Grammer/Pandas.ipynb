{
 "cells": [
  {
   "cell_type": "markdown",
   "id": "462f8714-f1f8-41bd-94aa-9a6e4654f1b1",
   "metadata": {},
   "source": [
    "# Pandas"
   ]
  },
  {
   "cell_type": "code",
   "execution_count": 2,
   "id": "6f23ba13-d098-4054-8b49-ee799f6d2f40",
   "metadata": {},
   "outputs": [],
   "source": [
    "# Series              1차원\n",
    "# Dataframe           2차원 이상"
   ]
  },
  {
   "cell_type": "code",
   "execution_count": 3,
   "id": "66cebd7d-36db-48f0-8a1c-fbd66b961ff0",
   "metadata": {},
   "outputs": [],
   "source": [
    "import pandas as pd\n",
    "import numpy as np"
   ]
  },
  {
   "cell_type": "markdown",
   "id": "ca17761b-f274-422c-ad73-7fd7f2a4b27c",
   "metadata": {},
   "source": [
    "## Series"
   ]
  },
  {
   "cell_type": "code",
   "execution_count": 5,
   "id": "74343a2e-4b56-43ef-aa60-4bef733c645c",
   "metadata": {},
   "outputs": [
    {
     "name": "stdout",
     "output_type": "stream",
     "text": [
      "<class 'pandas.core.series.Series'>\n",
      "RangeIndex(start=0, stop=9, step=1)\n",
      "int64\n",
      "0    1\n",
      "1    2\n",
      "2    3\n",
      "3    4\n",
      "4    5\n",
      "5    6\n",
      "6    7\n",
      "7    8\n",
      "8    9\n",
      "dtype: int64\n",
      "A    1\n",
      "B    2\n",
      "C    3\n",
      "D    4\n",
      "E    5\n",
      "F    6\n",
      "G    7\n",
      "H    8\n",
      "I    9\n",
      "dtype: int64\n"
     ]
    }
   ],
   "source": [
    "s = pd.Series( [ 1, 2, 3, 4, 5, 6, 7, 8, 9 ] )\n",
    "print( type( s ) )\n",
    "print( s. index )\n",
    "print( s.dtype )\n",
    "print( s )\n",
    "\n",
    "s.index = ['A', 'B', 'C', 'D', 'E', 'F', 'G', 'H', 'I' ]\n",
    "print( s )"
   ]
  },
  {
   "cell_type": "code",
   "execution_count": 6,
   "id": "dd9f22cc-804d-4fdb-87eb-d107c9954f9f",
   "metadata": {},
   "outputs": [
    {
     "name": "stdout",
     "output_type": "stream",
     "text": [
      "A    1\n",
      "B    2\n",
      "C    3\n",
      "D    4\n",
      "E    5\n",
      "F    6\n",
      "G    7\n",
      "H    8\n",
      "I    9\n",
      "dtype: int64\n",
      "Index(['A', 'B', 'C', 'D', 'E', 'F', 'G', 'H', 'I'], dtype='object')\n",
      "[1 2 3 4 5 6 7 8 9]\n",
      "1\n",
      "1\n",
      "1\n",
      "A    1\n",
      "B    2\n",
      "C    3\n",
      "D    4\n",
      "E    5\n",
      "dtype: int64\n",
      "A    1\n",
      "B    2\n",
      "C    3\n",
      "D    4\n",
      "dtype: int64\n"
     ]
    },
    {
     "name": "stderr",
     "output_type": "stream",
     "text": [
      "C:\\Users\\sc051\\AppData\\Local\\Temp\\ipykernel_34336\\3867536465.py:5: FutureWarning: Series.__getitem__ treating keys as positions is deprecated. In a future version, integer keys will always be treated as labels (consistent with DataFrame behavior). To access a value by position, use `ser.iloc[pos]`\n",
      "  print( s[ 0 ] )\n"
     ]
    }
   ],
   "source": [
    "s = pd.Series( [ 1, 2, 3, 4, 5, 6, 7, 8, 9 ], ['A', 'B', 'C', 'D', 'E', 'F', 'G', 'H', 'I' ]  )\n",
    "print( s )\n",
    "print( s.index )\n",
    "print( s.values )\n",
    "print( s[ 0 ] )\n",
    "# 꺼내지긴 하지만, 우리가 인덱스를 지정했기 때문에\n",
    "# series의 첫번째 데이터를 꺼내려면 우리가 지정한 인덱스를 입력하는게 좋음!\n",
    "print( s[ 'A' ] )\n",
    "print( s.A )\n",
    "print( s[0:5] )\n",
    "print( s['A':'D'] )"
   ]
  },
  {
   "cell_type": "markdown",
   "id": "ba649d4f-dd5a-4d9b-ae39-5b6ff1d0074e",
   "metadata": {},
   "source": [
    "## Dictionary (Map, JSON) -> Series"
   ]
  },
  {
   "cell_type": "code",
   "execution_count": 8,
   "id": "4ed5147a-d9b9-4dea-9df3-4ce99edb24b6",
   "metadata": {},
   "outputs": [
    {
     "name": "stdout",
     "output_type": "stream",
     "text": [
      "<class 'dict'>\n",
      "A : 10\n",
      "D : 20\n",
      "F : 30\n",
      "H : 40\n",
      "10\n",
      "Index(['A', 'D', 'F', 'H'], dtype='object')\n",
      "[10 20 30 40]\n",
      "10\n",
      "10\n",
      "A    10\n",
      "D    20\n",
      "F    30\n",
      "dtype: int64\n",
      "A    10\n",
      "D    20\n",
      "F    30\n",
      "dtype: int64\n"
     ]
    }
   ],
   "source": [
    "d = { 'A':10, 'D':20, 'F':30, 'H':40 }\n",
    "print( type( d ) )\n",
    "for key, value in d.items() :\n",
    "    print( key, \":\", value )\n",
    "print( d['A'] )\n",
    "#print( d.A )         에러 (시리즈에서는 됨)\n",
    "\n",
    "#print( d[0:3] )      에러 (딕셔너리는 슬라이싱이 안됨)\n",
    "#print( d['A':'F'] )  에러 (딕셔너리는 슬라이싱이 안됨)\n",
    "\n",
    "s = pd.Series( d )\n",
    "print( s.index )\n",
    "print( s.values )\n",
    "print( s[ 'A' ])\n",
    "print( s.A )\n",
    "print( s[0:3] )\n",
    "print( s['A':'F'] )"
   ]
  },
  {
   "cell_type": "markdown",
   "id": "fd81c75c-81c3-4f48-967f-967494eb1090",
   "metadata": {},
   "source": [
    "## DataFrame"
   ]
  },
  {
   "cell_type": "markdown",
   "id": "b68bcaa6-9adb-4401-9c6a-c9ef5b3b3e54",
   "metadata": {},
   "source": [
    "## Dictionary -> DataFrame"
   ]
  },
  {
   "cell_type": "code",
   "execution_count": 11,
   "id": "aa2d6adb-a7ef-4c8d-892b-ad738bfd60d9",
   "metadata": {},
   "outputs": [
    {
     "name": "stdout",
     "output_type": "stream",
     "text": [
      "<class 'dict'>\n",
      "  name age        tel\n",
      "0  길은조  23  1111-2222\n",
      "1  양지우  21  2222-3333\n",
      "2  최이준  22  3333-1111\n",
      "3  한성경  21  2222-3333\n",
      "RangeIndex(start=0, stop=4, step=1)\n",
      "Index(['name', 'age', 'tel'], dtype='object')\n",
      "[['길은조' '23' '1111-2222']\n",
      " ['양지우' '21' '2222-3333']\n",
      " ['최이준' '22' '3333-1111']\n",
      " ['한성경' '21' '2222-3333']]\n",
      "\n",
      "\n",
      "User name age        tel\n",
      "Num                     \n",
      "0     길은조  23  1111-2222\n",
      "1     양지우  21  2222-3333\n",
      "2     최이준  22  3333-1111\n",
      "3     한성경  21  2222-3333\n",
      "RangeIndex(start=0, stop=4, step=1, name='Num')\n",
      "Index(['name', 'age', 'tel'], dtype='object', name='User')\n",
      "[['길은조' '23' '1111-2222']\n",
      " ['양지우' '21' '2222-3333']\n",
      " ['최이준' '22' '3333-1111']\n",
      " ['한성경' '21' '2222-3333']]\n"
     ]
    }
   ],
   "source": [
    "d = {\n",
    "    'name' : [ '길은조', '양지우', '최이준', '한성경' ],\n",
    "    'age' : [ '23', '21', '22', '21' ],\n",
    "    'tel' : [ '1111-2222', '2222-3333', '3333-1111', '2222-3333']\n",
    "}\n",
    "print( type ( d ) )\n",
    "\n",
    "df = pd.DataFrame( d )\n",
    "print( df )\n",
    "print( df.index )\n",
    "print( df.columns )\n",
    "print( df. values )\n",
    "print('\\n')\n",
    "df.index.name = 'Num'\n",
    "df.columns.name = 'User'\n",
    "print( df )\n",
    "print( df.index )\n",
    "print( df.columns )\n",
    "print( df.values )"
   ]
  },
  {
   "cell_type": "markdown",
   "id": "077813cd-bb14-470c-bc64-6050ca2180f0",
   "metadata": {},
   "source": [
    "## Numpy -> DataFrame"
   ]
  },
  {
   "cell_type": "code",
   "execution_count": 13,
   "id": "9d3d29bb-403b-42e6-9723-7523a36ebaee",
   "metadata": {},
   "outputs": [
    {
     "name": "stdout",
     "output_type": "stream",
     "text": [
      "<class 'numpy.ndarray'>\n",
      "  name age        tel\n",
      "A  길은조  23  1111-2222\n",
      "B  양지우  21  2222-3333\n",
      "C  최이준  22  3333-1111\n",
      "D  한성경  21  1111-3333\n",
      "Index(['A', 'B', 'C', 'D'], dtype='object')\n",
      "Index(['name', 'age', 'tel'], dtype='object')\n",
      "\n",
      "\n",
      "  name age        tel\n",
      "A  길은조  23  1111-2222\n",
      "B  양지우  21  2222-3333\n",
      "C  최이준  22  3333-1111\n",
      "D  한성경  21  1111-3333\n",
      "\n",
      "\n",
      "       name age        tel\n",
      "count     4   4          4\n",
      "unique    4   3          4\n",
      "top     길은조  21  1111-2222\n",
      "freq      1   2          1\n"
     ]
    }
   ],
   "source": [
    "n = np.array(\n",
    "    [['길은조', 23, '1111-2222'],\n",
    "     ['양지우', 21, '2222-3333'],\n",
    "     ['최이준', 22, '3333-1111'],\n",
    "     ['한성경', 21, '1111-3333']]\n",
    ")\n",
    "print( type( n ) )\n",
    "df = pd.DataFrame( n )\n",
    "\n",
    "df.columns = [ 'name', 'age', 'tel' ]\n",
    "df.index = [ 'A', 'B', 'C', 'D' ]\n",
    "\n",
    "print( df )\n",
    "print( df.index )\n",
    "print( df.columns )\n",
    "\n",
    "print('\\n')\n",
    "\n",
    "df_1 = pd.DataFrame( n, columns=[ 'name', 'age', 'tel' ], index = ['A', 'B', 'C', 'D' ] )\n",
    "print( df_1 )\n",
    "\n",
    "print('\\n')\n",
    "\n",
    "print( df_1.describe()) #unique 종류"
   ]
  },
  {
   "cell_type": "code",
   "execution_count": 14,
   "id": "32dbdbbd-f7be-48ef-a305-2d4433c09f3a",
   "metadata": {},
   "outputs": [
    {
     "name": "stdout",
     "output_type": "stream",
     "text": [
      "A    길은조\n",
      "B    양지우\n",
      "C    최이준\n",
      "D    한성경\n",
      "Name: name, dtype: object\n",
      "  name        tel\n",
      "A  길은조  1111-2222\n",
      "B  양지우  2222-3333\n",
      "C  최이준  3333-1111\n",
      "D  한성경  1111-3333\n",
      "최이준\n",
      "최이준\n",
      "B    양지우\n",
      "C    최이준\n",
      "D    한성경\n",
      "Name: name, dtype: object\n",
      "A    길은조\n",
      "B    양지우\n",
      "C    최이준\n",
      "D    한성경\n",
      "Name: name, dtype: object A    23\n",
      "B    21\n",
      "C    22\n",
      "D    21\n",
      "Name: age, dtype: object\n",
      "양지우\n"
     ]
    }
   ],
   "source": [
    "print( df['name'] )\n",
    "print( df[['name','tel']] ) #꺼내고 싶은 게 2차원일 때에는 대괄호 2개!\n",
    "#print( df['name'][2] ) #되긴 하지만 우리가 붙여놓은 index가 있기 때문에 FutureWarning이 뜸\n",
    "print( df['name']['C'] )\n",
    "print( df['name'].C )\n",
    "print( df['name']['B':'D'] )\n",
    "\n",
    "print( df.name, df.age )\n",
    "print( df.name.B )"
   ]
  },
  {
   "cell_type": "code",
   "execution_count": 15,
   "id": "996a684d-b7e1-40ce-a888-d9a8f73fc910",
   "metadata": {},
   "outputs": [
    {
     "name": "stdout",
     "output_type": "stream",
     "text": [
      "  name age        tel\n",
      "A  길은조  23  1111-2222\n",
      "B  양지우  21  2222-3333\n",
      "C  최이준  22  3333-1111\n",
      "D  한성경  21  1111-3333\n",
      "  name age        tel\n",
      "A  길은조  23  1111-2222\n",
      "  name        tel\n",
      "A  길은조  1111-2222\n",
      "B  양지우  2222-3333\n",
      "C  최이준  3333-1111\n",
      "D  한성경  1111-3333\n"
     ]
    }
   ],
   "source": [
    "print( df[:][:] )\n",
    "print( df[:2][:1] )\n",
    "print( df[['name','tel']] )\n",
    "# print( df[[ 0,2 ] )              #에러 컬럼명이 있는 경우 숫자 X\n",
    "# print( df[0][0] )                #에러"
   ]
  },
  {
   "cell_type": "code",
   "execution_count": 16,
   "id": "3e8edde5-f2bd-4d1a-a542-13df729122a5",
   "metadata": {},
   "outputs": [
    {
     "name": "stdout",
     "output_type": "stream",
     "text": [
      "int32\n",
      "  name  age        tel address     얼라\n",
      "A  길은조   23  1111-2222      인천  False\n",
      "B  양지우   21  2222-3333      고양   True\n",
      "C  최이준   22  3333-1111      서울  False\n",
      "D  한성경   21  1111-3333      서울   True\n",
      "  name  age        tel address\n",
      "A  길은조   23  1111-2222      인천\n",
      "B  양지우   21  2222-3333      고양\n",
      "C  최이준   22  3333-1111      서울\n",
      "D  한성경   21  1111-3333      서울\n"
     ]
    }
   ],
   "source": [
    "df[ 'address' ] = [ '인천', '고양', '서울', '서울' ]          #column 추가\n",
    "df['age'] = df['age'].astype(int)\n",
    "df[ '얼라' ] = df[ 'age' ] < 22 \n",
    "print( df['age'].dtype )\n",
    "print( df )\n",
    "\n",
    "del( df[ '얼라' ] )\n",
    "\n",
    "print( df )"
   ]
  },
  {
   "cell_type": "markdown",
   "id": "970d1449-c195-48fb-9da7-e968375eb33e",
   "metadata": {},
   "source": [
    "## Series 정렬"
   ]
  },
  {
   "cell_type": "code",
   "execution_count": 18,
   "id": "c7cbf461-bfe4-4e38-87f8-643ef6b96516",
   "metadata": {},
   "outputs": [
    {
     "name": "stdout",
     "output_type": "stream",
     "text": [
      "f    10\n",
      "b    20\n",
      "e    40\n",
      "d    50\n",
      "a    60\n",
      "c    70\n",
      "dtype: int64\n"
     ]
    }
   ],
   "source": [
    "s = pd.Series( [10, 40, 50, 20, 70, 60 ], index = ['f', 'e', 'd', 'b', 'c', 'a' ] )\n",
    "s = s.sort_index( ascending = False )     #ascending = True가 기본값\n",
    "s = s.sort_values()\n",
    "print( s )"
   ]
  },
  {
   "cell_type": "markdown",
   "id": "9187c0a0-c99c-4ac4-8d2b-4861f60d9d24",
   "metadata": {},
   "source": [
    "## DataFrame 정렬"
   ]
  },
  {
   "cell_type": "code",
   "execution_count": 36,
   "id": "920d5868-cf2b-4198-8978-c76f72110b89",
   "metadata": {},
   "outputs": [
    {
     "name": "stdout",
     "output_type": "stream",
     "text": [
      "     B    C    A     D\n",
      "c    4    5    1     2\n",
      "a   20   10   30    50\n",
      "b  300  400  200  1000\n",
      "\n",
      "\n",
      "     A    B    C     D\n",
      "c    1    4    5     2\n",
      "a   30   20   10    50\n",
      "b  200  300  400  1000\n"
     ]
    }
   ],
   "source": [
    "df = pd.DataFrame( [[ 4, 5, 1, 2 ],\n",
    "                    [ 20, 10, 30, 50 ],\n",
    "                    [300, 400, 200, 1000]], index = [ 'c', 'a', 'b' ], columns = [ 'B', 'C', 'A', 'D'])\n",
    "\n",
    "print( df )\n",
    "print('\\n')\n",
    "df = df.sort_index()    #index 정렬\n",
    "df = df.sort_index( axis = 0 ) #행끼리 정렬 (위와 동일함)\n",
    "df = df.sort_index( axis = 1, ascending = False ) # column으로 정렬\n",
    "\n",
    "df = df.sort_values( by = 'A', ascending = False ) #행끼리\n",
    "df = df.sort_values( by = ['A', 'B'] )\n",
    "\n",
    "df = df.sort_values( by='b', axis=1 ) #열끼리\n",
    "print( df )"
   ]
  },
  {
   "cell_type": "markdown",
   "id": "003cf627-e10e-4408-af96-046470453d0d",
   "metadata": {},
   "source": [
    "## 슬라이싱"
   ]
  },
  {
   "cell_type": "code",
   "execution_count": 40,
   "id": "046aeb15-6734-4116-9969-fc3353a8a0aa",
   "metadata": {},
   "outputs": [],
   "source": [
    "# .iloc    정수 인덱스\n",
    "# .loc     라벨 인덱스\n",
    "# .ix      deprecated"
   ]
  },
  {
   "cell_type": "markdown",
   "id": "46ae4ac6-88fb-40a4-b4cd-2dd4b8acd786",
   "metadata": {},
   "source": [
    "### list"
   ]
  },
  {
   "cell_type": "code",
   "execution_count": 43,
   "id": "623e436e-1008-416a-90e1-9104e253f030",
   "metadata": {},
   "outputs": [
    {
     "name": "stdout",
     "output_type": "stream",
     "text": [
      "[[1, 2, 3], [4, 5, 6], [7, 8, 9]]\n",
      "9\n",
      "[[1, 2, 3], [4, 5, 6], [7, 8, 9]]\n",
      "[[1, 2, 3], [4, 5, 6]]\n"
     ]
    }
   ],
   "source": [
    "m = [ [1, 2, 3], [4, 5, 6], [7, 8, 9] ]\n",
    "print( m )\n",
    "print( m[2][2] )\n",
    "print( m[:][:] )\n",
    "print( m[:2][:2] )\n",
    "# print( m[:2, :2] )        에러"
   ]
  },
  {
   "cell_type": "markdown",
   "id": "e23e3b3d-d15b-4ca3-bba0-b09548d0c10c",
   "metadata": {},
   "source": [
    "### Numpy"
   ]
  },
  {
   "cell_type": "code",
   "execution_count": 46,
   "id": "cd02d962-5998-486c-ad14-1fb5f595ebf0",
   "metadata": {},
   "outputs": [
    {
     "name": "stdout",
     "output_type": "stream",
     "text": [
      "[[1 2 3]\n",
      " [4 5 6]\n",
      " [7 8 9]]\n",
      "9\n",
      "[[1 2 3]\n",
      " [4 5 6]\n",
      " [7 8 9]]\n",
      "[[1 2 3]\n",
      " [4 5 6]]\n",
      "[[1 2]\n",
      " [4 5]]\n"
     ]
    }
   ],
   "source": [
    "n = np.array( m )\n",
    "print( n )\n",
    "print( n[2][2] )\n",
    "print( n[:][:] )\n",
    "print( n[:2][:2] )\n",
    "print( n[:2, :2] )"
   ]
  },
  {
   "cell_type": "markdown",
   "id": "03dcb756-0eb1-4ab0-9600-27101621f4d5",
   "metadata": {},
   "source": [
    "### Pandas"
   ]
  },
  {
   "cell_type": "code",
   "execution_count": 49,
   "id": "069a494b-b3ef-483b-a946-f8319f0c1951",
   "metadata": {},
   "outputs": [
    {
     "name": "stdout",
     "output_type": "stream",
     "text": [
      "   0  1  2\n",
      "0  1  2  3\n",
      "1  4  5  6\n",
      "2  7  8  9\n",
      "9\n",
      "   0  1  2\n",
      "0  1  2  3\n",
      "1  4  5  6\n",
      "2  7  8  9\n",
      "   0  1  2\n",
      "0  1  2  3\n",
      "1  4  5  6\n"
     ]
    }
   ],
   "source": [
    "df = pd.DataFrame( n )\n",
    "print( df )\n",
    "print( df[2][2] )\n",
    "print( df[:][:] )\n",
    "print( df[:2][:2] )\n",
    "# print( df[:2, :2] )                  # 에러"
   ]
  },
  {
   "cell_type": "markdown",
   "id": "62b5f900-9ddc-4e34-ab7c-619d81ce7bde",
   "metadata": {},
   "source": [
    "## iloc 정수 인덱스"
   ]
  },
  {
   "cell_type": "code",
   "execution_count": 52,
   "id": "4c15df91-8567-47e4-b0e6-4b4053f8c9ba",
   "metadata": {},
   "outputs": [
    {
     "name": "stdout",
     "output_type": "stream",
     "text": [
      "    A   B   C   D\n",
      "0   1   2   3   4\n",
      "1   5   6   7   8\n",
      "2   9  10  11  12\n",
      "3  13  14  15  16\n",
      "4  17  18  19  20\n"
     ]
    }
   ],
   "source": [
    "df = pd.DataFrame( np.arange( 1, 21 ).reshape( 5, 4 ), columns=['A', 'B', 'C', 'D'] )\n",
    "print( df )"
   ]
  },
  {
   "cell_type": "code",
   "execution_count": 72,
   "id": "1611ec60-7553-4578-9d22-8229bddd6843",
   "metadata": {},
   "outputs": [
    {
     "name": "stdout",
     "output_type": "stream",
     "text": [
      "11\n",
      "    A   D\n",
      "0   1   4\n",
      "1   5   8\n",
      "2   9  12\n",
      "3  13  16\n",
      "4  17  20\n",
      "11\n",
      "11\n",
      "   A  B\n",
      "0  1  2\n",
      "1  5  6\n",
      "   A   C\n",
      "0  1   3\n",
      "2  9  11\n",
      "   A  B  C\n",
      "0  1  2  3\n",
      "1  5  6  7\n",
      "    D   C   B   A\n",
      "4  20  19  18  17\n",
      "3  16  15  14  13\n",
      "2  12  11  10   9\n",
      "1   8   7   6   5\n",
      "0   4   3   2   1\n"
     ]
    },
    {
     "name": "stderr",
     "output_type": "stream",
     "text": [
      "C:\\Users\\sc051\\AppData\\Local\\Temp\\ipykernel_34336\\4225068184.py:6: FutureWarning: Series.__getitem__ treating keys as positions is deprecated. In a future version, integer keys will always be treated as labels (consistent with DataFrame behavior). To access a value by position, use `ser.iloc[pos]`\n",
      "  print( df.iloc[2][2] )\n"
     ]
    }
   ],
   "source": [
    "# print( df[2][2] )                # 에러\n",
    "print( df['C'][2] )\n",
    "print( df[['A', 'D']] )\n",
    "# print( df['A' : 'C'] )           # 에러\n",
    "# print( df[[ 'A' : 'C' ]] )       # 에러\n",
    "print( df.iloc[2][2] )\n",
    "print( df.iloc[2, 2] )\n",
    "# print( df.iloc[2, 'C'])          # 에러\n",
    "print( df.iloc[:2, :2] )\n",
    "print( df.iloc[:3:2, :3:2] )\n",
    "print( df.iloc[:2, :-1] )\n",
    "print( df.iloc[::-1, ::-1] )"
   ]
  },
  {
   "cell_type": "markdown",
   "id": "035c873e-d115-4d3f-9cc6-592fd5be831d",
   "metadata": {},
   "source": [
    "## loc 라벨 인덱스"
   ]
  },
  {
   "cell_type": "code",
   "execution_count": 75,
   "id": "f490c7de-9858-4013-bab8-ae1f9d21ede9",
   "metadata": {},
   "outputs": [
    {
     "name": "stdout",
     "output_type": "stream",
     "text": [
      "    A   B   C   D\n",
      "0   1   2   3   4\n",
      "1   5   6   7   8\n",
      "2   9  10  11  12\n",
      "3  13  14  15  16\n",
      "4  17  18  19  20\n",
      "11\n",
      "   A   B   C\n",
      "0  1   2   3\n",
      "1  5   6   7\n",
      "2  9  10  11\n",
      "   A  B  C  D\n",
      "0  1  2  3  4\n",
      "1  5  6  7  8\n",
      "    B   C   D\n",
      "1   6   7   8\n",
      "2  10  11  12\n",
      "3  14  15  16\n",
      "0     3\n",
      "1     7\n",
      "2    11\n",
      "3    15\n",
      "4    19\n",
      "Name: C, dtype: int32\n",
      "    B   D\n",
      "0   2   4\n",
      "1   6   8\n",
      "2  10  12\n",
      "3  14  16\n",
      "4  18  20\n",
      "    B   D\n",
      "0   2   4\n",
      "1   6   8\n",
      "2  10  12\n",
      "3  14  16\n",
      "4  18  20\n"
     ]
    }
   ],
   "source": [
    "print( df )\n",
    "# print( df.loc[2, 2] )                 # 에러\n",
    "print( df.loc[2, 'C'] )\n",
    "# print( df.loc[:2, :2] )               # 에러\n",
    "print( df.loc[:2, :'C'] )\n",
    "print( df[:2] )\n",
    "print( df.loc[1:3, 'B':'D'] )\n",
    "print( df.loc[:, 'C'] )\n",
    "print( df.loc[:, ['B', 'D']] )\n",
    "print( df[['B' ,'D']] )"
   ]
  },
  {
   "cell_type": "code",
   "execution_count": 79,
   "id": "2c5a667c-dc87-4ab8-948c-2508718d7d86",
   "metadata": {},
   "outputs": [
    {
     "name": "stdout",
     "output_type": "stream",
     "text": [
      "     A    B    C   D\n",
      "0   99    2    3   4\n",
      "1  100  101  102   8\n",
      "2    9   10   11  12\n",
      "3  200   14  201  16\n",
      "4   17   18   19  20\n"
     ]
    }
   ],
   "source": [
    "df = pd.DataFrame( np.arange( 1, 21 ).reshape( 5, 4 ), columns=['A', 'B', 'C', 'D'] )\n",
    "df['E'] = [ 31, 32, 33, 34, 35 ]\n",
    "# df[5][:] = [ 90, 91, 92, 93, 94 ]               에러\n",
    "# df.iloc[:, 5] = [ 40, 41, 42, 43, 44 ]          에러\n",
    "# df.iloc[5, :] = [ 90, 91, 92, 93, 94 ]          에러\n",
    "df.loc[5] = [ 90, 91, 92, 93, 94 ]\n",
    "df.loc[:, 'F'] = [ 40, 41, 42, 43, 44, 45 ] \n",
    "\n",
    "df.loc[0, 'A'] = 99\n",
    "df.loc[1, 'A':'C'] = [100, 101, 102]\n",
    "df.loc[3, ['A', 'C', 'E']] = [200, 201, 202]\n",
    "\n",
    "del( df['E'] )\n",
    "# del( df.loc[:, 'F'] )               에러\n",
    "\n",
    "# df.drop( 'F' )                      에러\n",
    "df = df.drop( 'F', axis=1 )\n",
    "# df.drop( 5, axis=1 )                에러\n",
    "df = df.drop( 5 )\n",
    "print( df )"
   ]
  },
  {
   "cell_type": "markdown",
   "id": "35c2acb8-b08a-464f-9afc-da6e4434910c",
   "metadata": {},
   "source": [
    "## Boolen Indexing"
   ]
  },
  {
   "cell_type": "code",
   "execution_count": 82,
   "id": "d4dcfbf3-19c3-4123-bb8a-bc22448ab2d6",
   "metadata": {},
   "outputs": [
    {
     "name": "stdout",
     "output_type": "stream",
     "text": [
      "   name  age        tel\n",
      "0   kim   20  1111-2222\n",
      "1   lee   30  2222-1111\n",
      "2  park   35  3333-2222\n",
      "3  jung   25  3333-1111\n",
      "4  hong   40  1111-3333\n",
      "jung\n",
      "   name  age\n",
      "2  park   35\n",
      "4  hong   40\n",
      "  name  age        tel\n",
      "0  kim   20  1111-2222\n",
      "   name  age        tel\n",
      "1   lee   30  2222-1111\n",
      "2  park   35  3333-2222\n",
      "3  jung   25  3333-1111\n",
      "0    kim\n",
      "1    lee\n",
      "Name: name, dtype: object\n"
     ]
    }
   ],
   "source": [
    "df = pd.DataFrame(\n",
    "     [['kim', 20, '1111-2222'],\n",
    "      ['lee', 30, '2222-1111'],\n",
    "      ['park', 35, '3333-2222'],\n",
    "      ['jung', 25, '3333-1111'],\n",
    "      ['hong', 40, '1111-3333']], columns=[ 'name', 'age', 'tel']    \n",
    ")\n",
    "print( df )\n",
    "\n",
    "print( df.loc[3, 'name'] )\n",
    "print( df.loc[ df['age'] > 30, ['name', 'age' ]] )\n",
    "print( df.loc[ df['name'] == 'kim', : ] )\n",
    "print( df.loc[ ( df['age']>20 ) & ( df['age']<40 ), 'name':'tel'] )\n",
    "print( df.loc[ [True, True, False, False, False], \"name\" ] )"
   ]
  },
  {
   "cell_type": "markdown",
   "id": "3bf3bdae-1354-45be-af9f-88e245824160",
   "metadata": {},
   "source": [
    "## 결측값 대체"
   ]
  },
  {
   "cell_type": "code",
   "execution_count": 85,
   "id": "1dc1dd00-819b-474e-8f37-af73dc6f54bb",
   "metadata": {},
   "outputs": [
    {
     "name": "stdout",
     "output_type": "stream",
     "text": [
      "Series([], Name: address, dtype: object)\n",
      "Series([], Name: address, dtype: object)\n",
      "1     NaN\n",
      "2     NaN\n",
      "4    None\n",
      "Name: address, dtype: object\n",
      "   name  age        tel address\n",
      "0   kim   20  1111-2222      서울\n",
      "1   lee   30  2222-1111      서울\n",
      "2  park   35  3333-2222      서울\n",
      "3  jung   25  3333-1111      수원\n",
      "4  hong   40  1111-3333      서울\n"
     ]
    }
   ],
   "source": [
    "df['address'] = [ '서울', np.nan, np.nan, '수원', None ]\n",
    "\n",
    "print( df.loc[ df['address'] == np.nan, 'address' ]  )\n",
    "print( df.loc[ df['address'] == None, 'address' ]  )\n",
    "print( df.loc[ df['address'].isnull(), 'address' ] )\n",
    "\n",
    "df.loc[ df['address'].isnull(), 'address' ] = '서울'\n",
    "\n",
    "df.loc[ ::2, 'address' ] = '' \n",
    "df.loc[ df['address'] == '', 'address' ] = '서울' \n",
    "print( df )"
   ]
  },
  {
   "cell_type": "markdown",
   "id": "b47733f7-4f3b-4981-b826-4d79f4bf2637",
   "metadata": {},
   "source": [
    "## 결측값 제거"
   ]
  },
  {
   "cell_type": "code",
   "execution_count": 88,
   "id": "c949ff60-091a-40fb-9d92-90d58ed8eb71",
   "metadata": {},
   "outputs": [
    {
     "name": "stdout",
     "output_type": "stream",
     "text": [
      "   name   age        tel\n",
      "0   kim  20.0  1111-2222\n",
      "1   lee  30.0  2222-1111\n",
      "2  park  35.0  3333-2222\n",
      "3  jung  25.0  3333-1111\n",
      "              0          1          2          3\n",
      "name        kim        lee       park       jung\n",
      "age        20.0       30.0       35.0       25.0\n",
      "tel   1111-2222  2222-1111  3333-2222  3333-1111\n"
     ]
    }
   ],
   "source": [
    "df = pd.DataFrame(\n",
    "     [['kim', 20, '1111-2222', '서울'],\n",
    "      ['lee', 30, '2222-1111', np.nan ],\n",
    "      ['park', 35, '3333-2222', '수원'],\n",
    "      ['jung', 25, '3333-1111', np.nan],\n",
    "      ['hong', 40, '1111-3333', np.nan]], columns=[ 'name', 'age', 'tel', 'address']    \n",
    ")\n",
    "df.loc[ 5, : ] = [ np.nan, np.nan, np.nan, np.nan ]\n",
    "\n",
    "# df.dropna( how='all', inplace=True )\n",
    "# df.dropna( how='any', inplace=True )\n",
    "\n",
    "df['income'] = [ 300, np.nan, 400, 500, np.nan, 300 ]\n",
    "# df['address'].fillna( value='서울', inplace=True )\n",
    "df.fillna( {'address' : '서울'}, inplace=True ) \n",
    "df.fillna( {'income' : np.mean( df['income'] ) }, inplace=True )\n",
    "\n",
    "df.drop( [4, 5], inplace=True )\n",
    "df.drop( ['address', 'income'], axis=1, inplace=True )\n",
    "\n",
    "print( df )\n",
    "\n",
    "# print( df.T )\n",
    "print( df.transpose() )              # 전치행렬"
   ]
  },
  {
   "cell_type": "markdown",
   "id": "79d5a536-0d70-421b-bd6c-da9a28753b7d",
   "metadata": {},
   "source": [
    "## Pandas 함수"
   ]
  },
  {
   "cell_type": "code",
   "execution_count": 91,
   "id": "d0e2dd88-0a01-40bd-9c1b-679cded2d043",
   "metadata": {},
   "outputs": [
    {
     "name": "stdout",
     "output_type": "stream",
     "text": [
      "   name   kor   eng   mat\n",
      "0   kim  90.0  80.0  70.0\n",
      "1   lee  45.0   NaN  55.0\n",
      "2  park  76.0  77.0  83.0\n",
      "3  hong   NaN   NaN  77.0\n",
      "4  kang  35.0  58.0  52.0\n",
      "5  jang   NaN   NaN   NaN\n",
      "0.9926458576614517\n",
      "   name   kor   eng   mat    tot        avg\n",
      "0   kim  90.0  80.0  70.0  240.0  80.000000\n",
      "1   lee  45.0   NaN  55.0  100.0  50.000000\n",
      "2  park  76.0  77.0  83.0  236.0  78.666667\n",
      "3  hong   NaN   NaN  77.0   77.0  77.000000\n",
      "4  kang  35.0  58.0  52.0  145.0  48.333333\n",
      "5  jang   NaN   NaN   NaN    0.0        NaN\n"
     ]
    }
   ],
   "source": [
    "df = pd.DataFrame( \n",
    "    [[ 'kim', 90, 80, 70 ],\n",
    "     [ 'lee', 45, np.nan, 55 ],\n",
    "     [ 'park', 76, 77, 83 ],\n",
    "     [ 'hong', np.nan, np.nan, 77 ],\n",
    "     [ 'kang', 35, 58, 52 ],\n",
    "     [ 'jang', np.nan, np.nan, np.nan]], columns=[ 'name', 'kor', 'eng', 'mat' ]\n",
    ")\n",
    "print( df )\n",
    "\n",
    "# print( df.count() )\n",
    "# print( df.count( axis=1 ) )\n",
    "# print( df.min() )\n",
    "# print( df.loc[:, 'kor':'mat'].min( axis=1 ) )\n",
    "# print( df.max() )\n",
    "# print( df.loc[:, 'kor':'mat'].mean() )\n",
    "# print( df.loc[:, 'kor':'mat'].mean( axis=1 ) )\n",
    "# print( df.sum() )\n",
    "# print( df.loc[:, 'kor':'mat'].sum( axis=1 ) )\n",
    "# print( df.loc[:, 'kor':'mat'].median() )\n",
    "# print( df.loc[:, 'kor':'mat'].cumsum() )\n",
    "# print( df.loc[:, 'kor':'mat'].cumprod() )\n",
    "# print( df.idxmax() )\n",
    "# print( df.idxmin() )\n",
    "\n",
    "# print( df.loc[:, 'kor':'mat'].var() )           # 분산\n",
    "# print( df.loc[:, 'kor':'mat'].std() )           # 표준편차\n",
    "\n",
    "df['tot'] = df.loc[:, 'kor':'mat'].sum( axis=1 )\n",
    "df['avg'] = df.loc[:, 'kor':'mat'].mean( axis=1 )\n",
    "\n",
    "print( df['kor'].corr( df['eng'] ) )\n",
    "# 1          양의 상관관계\n",
    "# 0          상관관계가 낮다\n",
    "# -1         음의 상관관계\n",
    "\n",
    "print( df )"
   ]
  },
  {
   "cell_type": "code",
   "execution_count": null,
   "id": "b1602751-8d70-4131-bb2f-ba781da80bd3",
   "metadata": {},
   "outputs": [],
   "source": []
  }
 ],
 "metadata": {
  "kernelspec": {
   "display_name": "Python 3 (ipykernel)",
   "language": "python",
   "name": "python3"
  },
  "language_info": {
   "codemirror_mode": {
    "name": "ipython",
    "version": 3
   },
   "file_extension": ".py",
   "mimetype": "text/x-python",
   "name": "python",
   "nbconvert_exporter": "python",
   "pygments_lexer": "ipython3",
   "version": "3.12.4"
  }
 },
 "nbformat": 4,
 "nbformat_minor": 5
}
