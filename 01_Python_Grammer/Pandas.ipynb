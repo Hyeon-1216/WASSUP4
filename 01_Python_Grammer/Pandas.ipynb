{
 "cells": [
  {
   "cell_type": "markdown",
   "id": "462f8714-f1f8-41bd-94aa-9a6e4654f1b1",
   "metadata": {},
   "source": [
    "# Pandas"
   ]
  },
  {
   "cell_type": "code",
   "execution_count": 2,
   "id": "6f23ba13-d098-4054-8b49-ee799f6d2f40",
   "metadata": {},
   "outputs": [],
   "source": [
    "# Series              1차원\n",
    "# Dataframe           2차원 이상"
   ]
  },
  {
   "cell_type": "code",
   "execution_count": 7,
   "id": "66cebd7d-36db-48f0-8a1c-fbd66b961ff0",
   "metadata": {},
   "outputs": [],
   "source": [
    "import pandas as pd\n",
    "import numpy as np"
   ]
  },
  {
   "cell_type": "markdown",
   "id": "ca17761b-f274-422c-ad73-7fd7f2a4b27c",
   "metadata": {},
   "source": [
    "## Series"
   ]
  },
  {
   "cell_type": "code",
   "execution_count": 20,
   "id": "74343a2e-4b56-43ef-aa60-4bef733c645c",
   "metadata": {},
   "outputs": [
    {
     "name": "stdout",
     "output_type": "stream",
     "text": [
      "<class 'pandas.core.series.Series'>\n",
      "RangeIndex(start=0, stop=9, step=1)\n",
      "int64\n",
      "0    1\n",
      "1    2\n",
      "2    3\n",
      "3    4\n",
      "4    5\n",
      "5    6\n",
      "6    7\n",
      "7    8\n",
      "8    9\n",
      "dtype: int64\n",
      "A    1\n",
      "B    2\n",
      "C    3\n",
      "D    4\n",
      "E    5\n",
      "F    6\n",
      "G    7\n",
      "H    8\n",
      "I    9\n",
      "dtype: int64\n"
     ]
    }
   ],
   "source": [
    "s = pd.Series( [ 1, 2, 3, 4, 5, 6, 7, 8, 9 ] )\n",
    "print( type( s ) )\n",
    "print( s. index )\n",
    "print( s.dtype )\n",
    "print( s )\n",
    "\n",
    "s.index = ['A', 'B', 'C', 'D', 'E', 'F', 'G', 'H', 'I' ]\n",
    "print( s )"
   ]
  },
  {
   "cell_type": "code",
   "execution_count": 34,
   "id": "dd9f22cc-804d-4fdb-87eb-d107c9954f9f",
   "metadata": {},
   "outputs": [
    {
     "name": "stdout",
     "output_type": "stream",
     "text": [
      "A    1\n",
      "B    2\n",
      "C    3\n",
      "D    4\n",
      "E    5\n",
      "F    6\n",
      "G    7\n",
      "H    8\n",
      "I    9\n",
      "dtype: int64\n",
      "Index(['A', 'B', 'C', 'D', 'E', 'F', 'G', 'H', 'I'], dtype='object')\n",
      "[1 2 3 4 5 6 7 8 9]\n",
      "1\n",
      "1\n",
      "1\n",
      "A    1\n",
      "B    2\n",
      "C    3\n",
      "D    4\n",
      "E    5\n",
      "dtype: int64\n",
      "A    1\n",
      "B    2\n",
      "C    3\n",
      "D    4\n",
      "dtype: int64\n"
     ]
    },
    {
     "name": "stderr",
     "output_type": "stream",
     "text": [
      "C:\\Users\\sc051\\AppData\\Local\\Temp\\ipykernel_35848\\2535775106.py:5: FutureWarning: Series.__getitem__ treating keys as positions is deprecated. In a future version, integer keys will always be treated as labels (consistent with DataFrame behavior). To access a value by position, use `ser.iloc[pos]`\n",
      "  print( s[ 0 ] )\n"
     ]
    }
   ],
   "source": [
    "s = pd.Series( [ 1, 2, 3, 4, 5, 6, 7, 8, 9 ], ['A', 'B', 'C', 'D', 'E', 'F', 'G', 'H', 'I' ]  )\n",
    "print( s )\n",
    "print( s.index )\n",
    "print( s.values )\n",
    "print( s[ 0 ] )\n",
    "# 꺼내지긴 하지만, 우리가 인덱스를 지정했기 때문에\n",
    "# series의 첫번째 데이터를 꺼내려면 우리가 지정한 인덱스를 입력하는게 좋음!\n",
    "print( s[ 'A' ] )\n",
    "print( s.A )\n",
    "print( s[0:5] )\n",
    "print( s['A':'D'] )"
   ]
  },
  {
   "cell_type": "markdown",
   "id": "ba649d4f-dd5a-4d9b-ae39-5b6ff1d0074e",
   "metadata": {},
   "source": [
    "## Dictionary (Map, JSON) -> Series"
   ]
  },
  {
   "cell_type": "code",
   "execution_count": 50,
   "id": "4ed5147a-d9b9-4dea-9df3-4ce99edb24b6",
   "metadata": {},
   "outputs": [
    {
     "name": "stdout",
     "output_type": "stream",
     "text": [
      "<class 'dict'>\n",
      "A : 10\n",
      "D : 20\n",
      "F : 30\n",
      "H : 40\n",
      "10\n",
      "Index(['A', 'D', 'F', 'H'], dtype='object')\n",
      "[10 20 30 40]\n",
      "10\n",
      "10\n",
      "A    10\n",
      "D    20\n",
      "F    30\n",
      "dtype: int64\n",
      "A    10\n",
      "D    20\n",
      "F    30\n",
      "dtype: int64\n"
     ]
    }
   ],
   "source": [
    "d = { 'A':10, 'D':20, 'F':30, 'H':40 }\n",
    "print( type( d ) )\n",
    "for key, value in d.items() :\n",
    "    print( key, \":\", value )\n",
    "print( d['A'] )\n",
    "#print( d.A )         에러 (시리즈에서는 됨)\n",
    "\n",
    "#print( d[0:3] )      에러 (딕셔너리는 슬라이싱이 안됨)\n",
    "#print( d['A':'F'] )  에러 (딕셔너리는 슬라이싱이 안됨)\n",
    "\n",
    "s = pd.Series( d )\n",
    "print( s.index )\n",
    "print( s.values )\n",
    "print( s[ 'A' ])\n",
    "print( s.A )\n",
    "print( s[0:3] )\n",
    "print( s['A':'F'] )"
   ]
  },
  {
   "cell_type": "markdown",
   "id": "fd81c75c-81c3-4f48-967f-967494eb1090",
   "metadata": {},
   "source": [
    "## DataFrame"
   ]
  },
  {
   "cell_type": "markdown",
   "id": "b68bcaa6-9adb-4401-9c6a-c9ef5b3b3e54",
   "metadata": {},
   "source": [
    "## Dictionary -> DataFrame"
   ]
  },
  {
   "cell_type": "code",
   "execution_count": 62,
   "id": "aa2d6adb-a7ef-4c8d-892b-ad738bfd60d9",
   "metadata": {},
   "outputs": [
    {
     "name": "stdout",
     "output_type": "stream",
     "text": [
      "<class 'dict'>\n",
      "  name age        tel\n",
      "0  길은조  23  1111-2222\n",
      "1  양지우  21  2222-3333\n",
      "2  최이준  22  3333-1111\n",
      "3  한성경  21  2222-3333\n",
      "RangeIndex(start=0, stop=4, step=1)\n",
      "Index(['name', 'age', 'tel'], dtype='object')\n",
      "[['길은조' '23' '1111-2222']\n",
      " ['양지우' '21' '2222-3333']\n",
      " ['최이준' '22' '3333-1111']\n",
      " ['한성경' '21' '2222-3333']]\n",
      "\n",
      "\n",
      "User name age        tel\n",
      "Num                     \n",
      "0     길은조  23  1111-2222\n",
      "1     양지우  21  2222-3333\n",
      "2     최이준  22  3333-1111\n",
      "3     한성경  21  2222-3333\n",
      "RangeIndex(start=0, stop=4, step=1, name='Num')\n",
      "Index(['name', 'age', 'tel'], dtype='object', name='User')\n",
      "[['길은조' '23' '1111-2222']\n",
      " ['양지우' '21' '2222-3333']\n",
      " ['최이준' '22' '3333-1111']\n",
      " ['한성경' '21' '2222-3333']]\n"
     ]
    }
   ],
   "source": [
    "d = {\n",
    "    'name' : [ '길은조', '양지우', '최이준', '한성경' ],\n",
    "    'age' : [ '23', '21', '22', '21' ],\n",
    "    'tel' : [ '1111-2222', '2222-3333', '3333-1111', '2222-3333']\n",
    "}\n",
    "print( type ( d ) )\n",
    "\n",
    "df = pd.DataFrame( d )\n",
    "print( df )\n",
    "print( df.index )\n",
    "print( df.columns )\n",
    "print( df. values )\n",
    "print('\\n')\n",
    "df.index.name = 'Num'\n",
    "df.columns.name = 'User'\n",
    "print( df )\n",
    "print( df.index )\n",
    "print( df.columns )\n",
    "print( df.values )"
   ]
  },
  {
   "cell_type": "markdown",
   "id": "077813cd-bb14-470c-bc64-6050ca2180f0",
   "metadata": {},
   "source": [
    "## Numpy -> DataFrame"
   ]
  },
  {
   "cell_type": "code",
   "execution_count": 98,
   "id": "9d3d29bb-403b-42e6-9723-7523a36ebaee",
   "metadata": {},
   "outputs": [
    {
     "name": "stdout",
     "output_type": "stream",
     "text": [
      "<class 'numpy.ndarray'>\n",
      "  name age        tel\n",
      "A  길은조  23  1111-2222\n",
      "B  양지우  21  2222-3333\n",
      "C  최이준  22  3333-1111\n",
      "D  한성경  21  1111-3333\n",
      "Index(['A', 'B', 'C', 'D'], dtype='object')\n",
      "Index(['name', 'age', 'tel'], dtype='object')\n",
      "\n",
      "\n",
      "  name age        tel\n",
      "A  길은조  23  1111-2222\n",
      "B  양지우  21  2222-3333\n",
      "C  최이준  22  3333-1111\n",
      "D  한성경  21  1111-3333\n",
      "\n",
      "\n",
      "       name age        tel\n",
      "count     4   4          4\n",
      "unique    4   3          4\n",
      "top     길은조  21  1111-2222\n",
      "freq      1   2          1\n"
     ]
    }
   ],
   "source": [
    "n = np.array(\n",
    "    [['길은조', 23, '1111-2222'],\n",
    "     ['양지우', 21, '2222-3333'],\n",
    "     ['최이준', 22, '3333-1111'],\n",
    "     ['한성경', 21, '1111-3333']]\n",
    ")\n",
    "print( type( n ) )\n",
    "df = pd.DataFrame( n )\n",
    "\n",
    "df.columns = [ 'name', 'age', 'tel' ]\n",
    "df.index = [ 'A', 'B', 'C', 'D' ]\n",
    "\n",
    "print( df )\n",
    "print( df.index )\n",
    "print( df.columns )\n",
    "\n",
    "print('\\n')\n",
    "\n",
    "df_1 = pd.DataFrame( n, columns=[ 'name', 'age', 'tel' ], index = ['A', 'B', 'C', 'D' ] )\n",
    "print( df_1 )\n",
    "\n",
    "print('\\n')\n",
    "\n",
    "print( df_1.describe()) #unique 종류"
   ]
  },
  {
   "cell_type": "code",
   "execution_count": 118,
   "id": "32dbdbbd-f7be-48ef-a305-2d4433c09f3a",
   "metadata": {},
   "outputs": [
    {
     "name": "stdout",
     "output_type": "stream",
     "text": [
      "A    길은조\n",
      "B    양지우\n",
      "C    최이준\n",
      "D    한성경\n",
      "Name: name, dtype: object\n",
      "  name        tel\n",
      "A  길은조  1111-2222\n",
      "B  양지우  2222-3333\n",
      "C  최이준  3333-1111\n",
      "D  한성경  1111-3333\n",
      "최이준\n",
      "최이준\n",
      "B    양지우\n",
      "C    최이준\n",
      "D    한성경\n",
      "Name: name, dtype: object\n",
      "A    길은조\n",
      "B    양지우\n",
      "C    최이준\n",
      "D    한성경\n",
      "Name: name, dtype: object A    23\n",
      "B    21\n",
      "C    22\n",
      "D    21\n",
      "Name: age, dtype: object\n",
      "양지우\n"
     ]
    }
   ],
   "source": [
    "print( df['name'] )\n",
    "print( df[['name','tel']] ) #꺼내고 싶은 게 2차원일 때에는 대괄호 2개!\n",
    "#print( df['name'][2] ) #되긴 하지만 우리가 붙여놓은 index가 있기 때문에 FutureWarning이 뜸\n",
    "print( df['name']['C'] )\n",
    "print( df['name'].C )\n",
    "print( df['name']['B':'D'] )\n",
    "\n",
    "print( df.name, df.age )\n",
    "print( df.name.B )"
   ]
  },
  {
   "cell_type": "code",
   "execution_count": 120,
   "id": "996a684d-b7e1-40ce-a888-d9a8f73fc910",
   "metadata": {},
   "outputs": [
    {
     "name": "stdout",
     "output_type": "stream",
     "text": [
      "  name age        tel\n",
      "A  길은조  23  1111-2222\n",
      "B  양지우  21  2222-3333\n",
      "C  최이준  22  3333-1111\n",
      "D  한성경  21  1111-3333\n",
      "  name age        tel\n",
      "A  길은조  23  1111-2222\n",
      "  name        tel\n",
      "A  길은조  1111-2222\n",
      "B  양지우  2222-3333\n",
      "C  최이준  3333-1111\n",
      "D  한성경  1111-3333\n"
     ]
    }
   ],
   "source": [
    "print( df[:][:] )\n",
    "print( df[:2][:1] )\n",
    "print( df[['name','tel']] )\n",
    "# print( df[[ 0,2 ] )              #에러 컬럼명이 있는 경우 숫자 X\n",
    "# print( df[0][0] )                #에러"
   ]
  },
  {
   "cell_type": "code",
   "execution_count": 160,
   "id": "3e8edde5-f2bd-4d1a-a542-13df729122a5",
   "metadata": {},
   "outputs": [
    {
     "name": "stdout",
     "output_type": "stream",
     "text": [
      "int32\n",
      "  name  age        tel address     얼라\n",
      "A  길은조   23  1111-2222      인천  False\n",
      "B  양지우   21  2222-3333      고양   True\n",
      "C  최이준   22  3333-1111      서울  False\n",
      "D  한성경   21  1111-3333      서울   True\n",
      "  name  age        tel address\n",
      "A  길은조   23  1111-2222      인천\n",
      "B  양지우   21  2222-3333      고양\n",
      "C  최이준   22  3333-1111      서울\n",
      "D  한성경   21  1111-3333      서울\n"
     ]
    }
   ],
   "source": [
    "df[ 'address' ] = [ '인천', '고양', '서울', '서울' ]          #column 추가\n",
    "df['age'] = df['age'].astype(int)\n",
    "df[ '얼라' ] = df[ 'age' ] < 22 \n",
    "print( df['age'].dtype )\n",
    "print( df )\n",
    "\n",
    "del( df[ '얼라' ] )\n",
    "\n",
    "print( df )"
   ]
  },
  {
   "cell_type": "markdown",
   "id": "970d1449-c195-48fb-9da7-e968375eb33e",
   "metadata": {},
   "source": [
    "## Series 정렬"
   ]
  },
  {
   "cell_type": "code",
   "execution_count": 182,
   "id": "c7cbf461-bfe4-4e38-87f8-643ef6b96516",
   "metadata": {},
   "outputs": [
    {
     "name": "stdout",
     "output_type": "stream",
     "text": [
      "f    10\n",
      "b    20\n",
      "e    40\n",
      "d    50\n",
      "a    60\n",
      "c    70\n",
      "dtype: int64\n"
     ]
    }
   ],
   "source": [
    "s = pd.Series( [10, 40, 50, 20, 70, 60 ], index = ['f', 'e', 'd', 'b', 'c', 'a' ] )\n",
    "s = s.sort_index( ascending = False )     #ascending = True가 기본값\n",
    "s = s.sort_values()\n",
    "print( s )"
   ]
  },
  {
   "cell_type": "markdown",
   "id": "9187c0a0-c99c-4ac4-8d2b-4861f60d9d24",
   "metadata": {},
   "source": [
    "## DataFrame 정렬"
   ]
  },
  {
   "cell_type": "code",
   "execution_count": 199,
   "id": "920d5868-cf2b-4198-8978-c76f72110b89",
   "metadata": {},
   "outputs": [
    {
     "name": "stdout",
     "output_type": "stream",
     "text": [
      "     B    C    A     D\n",
      "c    4    5    1     2\n",
      "a   20   10   30    50\n",
      "b  300  400  200  1000\n",
      "\n",
      "\n",
      "      D    C    B    A\n",
      "c     2    5    4    1\n",
      "a    50   10   20   30\n",
      "b  1000  400  300  200\n"
     ]
    }
   ],
   "source": [
    "df = pd.DataFrame( [[ 4, 5, 1, 2 ],\n",
    "                    [ 20, 10, 30, 50 ],\n",
    "                    [300, 400, 200, 1000]], index = [ 'c', 'a', 'b' ], columns = [ 'B', 'C', 'A', 'D'])\n",
    "\n",
    "print( df )\n",
    "print('\\n')\n",
    "df = df.sort_index()    #index 정렬\n",
    "df = df.sort_index( axis = 0 ) #행끼리 정렬 (위와 동일함)\n",
    "df = df.sort_index( axis = 1, ascending = False ) # column으로 정렬\n",
    "\n",
    "df = df.sort_values( by = 'A')\n",
    "print( df )"
   ]
  },
  {
   "cell_type": "code",
   "execution_count": null,
   "id": "4f797d3d-98c6-4a0a-ac9d-d7e7e889a4f6",
   "metadata": {},
   "outputs": [],
   "source": []
  }
 ],
 "metadata": {
  "kernelspec": {
   "display_name": "Python 3 (ipykernel)",
   "language": "python",
   "name": "python3"
  },
  "language_info": {
   "codemirror_mode": {
    "name": "ipython",
    "version": 3
   },
   "file_extension": ".py",
   "mimetype": "text/x-python",
   "name": "python",
   "nbconvert_exporter": "python",
   "pygments_lexer": "ipython3",
   "version": "3.12.4"
  }
 },
 "nbformat": 4,
 "nbformat_minor": 5
}
