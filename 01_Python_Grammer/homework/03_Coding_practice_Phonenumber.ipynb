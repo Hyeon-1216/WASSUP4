{
 "cells": [
  {
   "cell_type": "markdown",
   "id": "63892292-e7de-4e6e-b6fa-0cd8e311ebe4",
   "metadata": {},
   "source": [
    "# 1. 전화번호 프로그램 만들기\n",
    "* 홍길동: 010-123-4567\n",
    "* 기능1: 연락처 추가\n",
    "* 기능2: 연락처 전체 보기\n",
    "* 기능3: 검색, 이름을 입력받아서 전화번호 조회\n",
    "* 기능4: 수정, 이름을 입력받아서 전화번호 입력 수정\n",
    "* 기능5: 삭제, 이름을 입력받아서 삭제\n",
    "* 기능6: 프로그램 종료"
   ]
  },
  {
   "cell_type": "code",
   "execution_count": 2,
   "id": "8afb2fa9-f96e-44ac-95aa-4512b156c838",
   "metadata": {
    "scrolled": true
   },
   "outputs": [
    {
     "name": "stdout",
     "output_type": "stream",
     "text": [
      "\n",
      "1. 연락처 추가\n",
      "2. 연락처 전체 보기\n",
      "3. 검색\n",
      "4. 수정\n",
      "5. 삭제\n",
      "6. 종료\n",
      "\n",
      "Enter number: \n"
     ]
    },
    {
     "name": "stdin",
     "output_type": "stream",
     "text": [
      " 1\n",
      "이름:  이현\n",
      "전화번호:  01025736054\n"
     ]
    },
    {
     "name": "stdout",
     "output_type": "stream",
     "text": [
      "연락처가 등록되었습니다\n",
      "\n",
      "1. 연락처 추가\n",
      "2. 연락처 전체 보기\n",
      "3. 검색\n",
      "4. 수정\n",
      "5. 삭제\n",
      "6. 종료\n",
      "\n",
      "Enter number: \n"
     ]
    },
    {
     "name": "stdin",
     "output_type": "stream",
     "text": [
      " 6\n"
     ]
    },
    {
     "name": "stdout",
     "output_type": "stream",
     "text": [
      "연락처 프로그램이 종료됩니다!\n"
     ]
    }
   ],
   "source": [
    "전화번호부 = {\"홍길동\": '010-123-4567'}\n",
    "\n",
    "prompt = \"\"\"\n",
    "1. 연락처 추가\n",
    "2. 연락처 전체 보기\n",
    "3. 검색\n",
    "4. 수정\n",
    "5. 삭제\n",
    "6. 종료\n",
    "\n",
    "Enter number: \"\"\"\n",
    "\n",
    "number = 0\n",
    "while number!= 6:\n",
    "    print(prompt)\n",
    "    number = int(input())\n",
    "    \n",
    "    if number == 1:\n",
    "        이름 = input(\"이름: \")\n",
    "        전화번호 = input(\"전화번호: \")\n",
    "        전화번호부[이름] = 전화번호\n",
    "        print(\"연락처가 등록되었습니다\")\n",
    "        \n",
    "    elif number == 2:\n",
    "        print(전화번호부)\n",
    "    \n",
    "    elif number == 3:\n",
    "        검색 = input(\"검색하고자 하는 연락처의 이름을 입력해주세요: \")\n",
    "        print(전화번호부[검색])\n",
    "    \n",
    "    elif number == 4:\n",
    "        수정_이름 = input(\"수정하고자 하는 연락처의 이름을 입력해주세요: \")\n",
    "        수정_연락처 = input(\"수정하고자 하는 연락처의 전화번호를 입력해주세요: \")\n",
    "        전화번호부[수정_이름] = 수정_연락처\n",
    "        print(\"연락처가 수정되었습니다\")\n",
    "        \n",
    "    elif number == 5:\n",
    "        삭제 = input(\"삭제하고자 하는 연락처의 번호를 입력해주세요: \")\n",
    "        전화번호부.pop(삭제)\n",
    "        print(\"연락처가 삭제되었습니다\")\n",
    "    \n",
    "    else:\n",
    "        print(\"연락처 프로그램이 종료됩니다!\")"
   ]
  },
  {
   "cell_type": "code",
   "execution_count": 13,
   "id": "aabe530a-9eb7-4c7a-adc6-4d928bbdca31",
   "metadata": {},
   "outputs": [
    {
     "name": "stdout",
     "output_type": "stream",
     "text": [
      "------전화번호부 프로그램------\n",
      "1.추가   2.조회   3.검색   4. 수정   5.삭제   9.종료\n"
     ]
    },
    {
     "name": "stdin",
     "output_type": "stream",
     "text": [
      "메뉴를 선택해주세요.(숫자 only):  1\n"
     ]
    },
    {
     "name": "stdout",
     "output_type": "stream",
     "text": [
      "연락처를 추가합니다.\n"
     ]
    },
    {
     "name": "stdin",
     "output_type": "stream",
     "text": [
      "이름:  이현\n",
      "전화번호:  0102\n"
     ]
    },
    {
     "name": "stdout",
     "output_type": "stream",
     "text": [
      "이현 0102\n",
      "------전화번호부 프로그램------\n",
      "1.추가   2.조회   3.검색   4. 수정   5.삭제   9.종료\n"
     ]
    },
    {
     "name": "stdin",
     "output_type": "stream",
     "text": [
      "메뉴를 선택해주세요.(숫자 only):  2\n"
     ]
    },
    {
     "name": "stdout",
     "output_type": "stream",
     "text": [
      "연락처를 조회합니다.\n",
      "이현 : 0102\n",
      "------전화번호부 프로그램------\n",
      "1.추가   2.조회   3.검색   4. 수정   5.삭제   9.종료\n"
     ]
    },
    {
     "name": "stdin",
     "output_type": "stream",
     "text": [
      "메뉴를 선택해주세요.(숫자 only):  1\n"
     ]
    },
    {
     "name": "stdout",
     "output_type": "stream",
     "text": [
      "연락처를 추가합니다.\n"
     ]
    },
    {
     "name": "stdin",
     "output_type": "stream",
     "text": [
      "이름:  이현\n",
      "전화번호:  01025736054\n"
     ]
    },
    {
     "name": "stdout",
     "output_type": "stream",
     "text": [
      "이현 01025736054\n",
      "------전화번호부 프로그램------\n",
      "1.추가   2.조회   3.검색   4. 수정   5.삭제   9.종료\n"
     ]
    },
    {
     "name": "stdin",
     "output_type": "stream",
     "text": [
      "메뉴를 선택해주세요.(숫자 only):  2\n"
     ]
    },
    {
     "name": "stdout",
     "output_type": "stream",
     "text": [
      "연락처를 조회합니다.\n",
      "이현 : 0102\n",
      "------전화번호부 프로그램------\n",
      "1.추가   2.조회   3.검색   4. 수정   5.삭제   9.종료\n"
     ]
    },
    {
     "name": "stdin",
     "output_type": "stream",
     "text": [
      "메뉴를 선택해주세요.(숫자 only):  3\n"
     ]
    },
    {
     "name": "stdout",
     "output_type": "stream",
     "text": [
      "연락처를 검색합니다.\n"
     ]
    },
    {
     "name": "stdin",
     "output_type": "stream",
     "text": [
      "검색 이름:  이현\n"
     ]
    },
    {
     "name": "stdout",
     "output_type": "stream",
     "text": [
      "0102\n",
      "------전화번호부 프로그램------\n",
      "1.추가   2.조회   3.검색   4. 수정   5.삭제   9.종료\n"
     ]
    },
    {
     "name": "stdin",
     "output_type": "stream",
     "text": [
      "메뉴를 선택해주세요.(숫자 only):  ㅇ\n"
     ]
    },
    {
     "ename": "ValueError",
     "evalue": "invalid literal for int() with base 10: 'ㅇ'",
     "output_type": "error",
     "traceback": [
      "\u001b[1;31m---------------------------------------------------------------------------\u001b[0m",
      "\u001b[1;31mValueError\u001b[0m                                Traceback (most recent call last)",
      "Cell \u001b[1;32mIn[13], line 5\u001b[0m\n\u001b[0;32m      3\u001b[0m \u001b[38;5;28mprint\u001b[39m(\u001b[38;5;124m'\u001b[39m\u001b[38;5;124m------전화번호부 프로그램------\u001b[39m\u001b[38;5;124m'\u001b[39m)\n\u001b[0;32m      4\u001b[0m \u001b[38;5;28mprint\u001b[39m(\u001b[38;5;124m'\u001b[39m\u001b[38;5;124m1.추가   2.조회   3.검색   4. 수정   5.삭제   9.종료\u001b[39m\u001b[38;5;124m'\u001b[39m)\n\u001b[1;32m----> 5\u001b[0m menu \u001b[38;5;241m=\u001b[39m \u001b[38;5;28;43mint\u001b[39;49m\u001b[43m(\u001b[49m\u001b[38;5;28;43minput\u001b[39;49m\u001b[43m(\u001b[49m\u001b[38;5;124;43m'\u001b[39;49m\u001b[38;5;124;43m메뉴를 선택해주세요.(숫자 only): \u001b[39;49m\u001b[38;5;124;43m'\u001b[39;49m\u001b[43m)\u001b[49m\u001b[43m)\u001b[49m\n\u001b[0;32m      7\u001b[0m \u001b[38;5;28;01mif\u001b[39;00m menu \u001b[38;5;241m==\u001b[39m \u001b[38;5;241m1\u001b[39m: \u001b[38;5;66;03m#연락처 추가\u001b[39;00m\n\u001b[0;32m      8\u001b[0m     \u001b[38;5;28mprint\u001b[39m(\u001b[38;5;124m'\u001b[39m\u001b[38;5;124m연락처를 추가합니다.\u001b[39m\u001b[38;5;124m'\u001b[39m)\n",
      "\u001b[1;31mValueError\u001b[0m: invalid literal for int() with base 10: 'ㅇ'"
     ]
    }
   ],
   "source": [
    "contact = {}\n",
    "while True:\n",
    "    print('------전화번호부 프로그램------')\n",
    "    print('1.추가   2.조회   3.검색   4. 수정   5.삭제   9.종료')\n",
    "    menu = int(input('메뉴를 선택해주세요.(숫자 only): '))\n",
    "\n",
    "    if menu == 1: #연락처 추가\n",
    "        print('연락처를 추가합니다.')\n",
    "        new_name = input('이름: ')\n",
    "        new_tel = input('전화번호: ')\n",
    "        print(new_name, new_tel)\n",
    "        # contact[new_name] = new_tel\n",
    "        contact.setdefault(new_name, new_tel)\n",
    "    \n",
    "    elif menu == 2: #연락처 조회\n",
    "        print(\"연락처를 조회합니다.\")\n",
    "        #print(contact)\n",
    "        for name, tel in contact.items():\n",
    "            print(name, ':', tel)\n",
    "            \n",
    "    elif menu == 3: #연락처 검색\n",
    "        print('연락처를 검색합니다.')\n",
    "        search_name = input('검색 이름: ')\n",
    "        contact[search_name]\n",
    "        #print(contact[search_name])\n",
    "        print(contact.get(search_name, '없는 이름입니다.'))\n",
    "    \n",
    "    elif menu == 4: #연락처 수정\n",
    "        print(\"연락처를 수정합니다.\")\n",
    "        mod_name = input('수정 이름: ')\n",
    "    \n",
    "        if mod_name in contact:\n",
    "            mod_tel = input('새 전화번호: ')\n",
    "            contact[mod_name] = mod_tel\n",
    "        else:\n",
    "            print('등록되지 않은 이름입니다.')\n",
    "            \n",
    "    elif menu == 5: #연락처 삭제\n",
    "        print('연락처를 삭제합니다.')\n",
    "        del_name = input('삭제 이름: ')\n",
    "    \n",
    "        if del_name in contact:\n",
    "            del contact[del_name]\n",
    "        else:\n",
    "            print('등록되지 않은 이름입니다.')\n",
    "    \n",
    "    elif menu == 9: #프로그램 종료\n",
    "        print('프로그램을 종료합니다.')\n",
    "        break\n",
    "    \n",
    "    else: \n",
    "        print('잘못된 입력입니다.')\n"
   ]
  },
  {
   "cell_type": "code",
   "execution_count": 15,
   "id": "6d7e63ce-d90b-45ec-9e4e-d5a945107d74",
   "metadata": {},
   "outputs": [
    {
     "name": "stdout",
     "output_type": "stream",
     "text": [
      "------전화번호부 프로그램------\n"
     ]
    },
    {
     "name": "stdin",
     "output_type": "stream",
     "text": [
      "메뉴를 선택해주세요. (1.추가   2.조회   3.검색   4.수정   5.삭제   9.종료):  1\n"
     ]
    },
    {
     "name": "stdout",
     "output_type": "stream",
     "text": [
      "연락처를 추가합니다.\n"
     ]
    },
    {
     "name": "stdin",
     "output_type": "stream",
     "text": [
      "이름:  이현\n",
      "전화번호:  01025736054\n"
     ]
    },
    {
     "name": "stdout",
     "output_type": "stream",
     "text": [
      "이현님의 연락처가 추가되었습니다.\n",
      "------전화번호부 프로그램------\n"
     ]
    },
    {
     "name": "stdin",
     "output_type": "stream",
     "text": [
      "메뉴를 선택해주세요. (1.추가   2.조회   3.검색   4.수정   5.삭제   9.종료):  2\n"
     ]
    },
    {
     "name": "stdout",
     "output_type": "stream",
     "text": [
      "연락처를 조회합니다.\n",
      "이현: 01025736054\n",
      "------전화번호부 프로그램------\n"
     ]
    },
    {
     "name": "stdin",
     "output_type": "stream",
     "text": [
      "메뉴를 선택해주세요. (1.추가   2.조회   3.검색   4.수정   5.삭제   9.종료):  1\n"
     ]
    },
    {
     "name": "stdout",
     "output_type": "stream",
     "text": [
      "연락처를 추가합니다.\n"
     ]
    },
    {
     "name": "stdin",
     "output_type": "stream",
     "text": [
      "이름:  이현\n"
     ]
    },
    {
     "name": "stdout",
     "output_type": "stream",
     "text": [
      "이미 존재하는 이름입니다. 수정하시겠습니까?\n"
     ]
    },
    {
     "name": "stdin",
     "output_type": "stream",
     "text": [
      "1. 예   2. 아니오:  2\n"
     ]
    },
    {
     "name": "stdout",
     "output_type": "stream",
     "text": [
      "추가를 취소합니다.\n",
      "------전화번호부 프로그램------\n"
     ]
    },
    {
     "name": "stdin",
     "output_type": "stream",
     "text": [
      "메뉴를 선택해주세요. (1.추가   2.조회   3.검색   4.수정   5.삭제   9.종료):  2\n"
     ]
    },
    {
     "name": "stdout",
     "output_type": "stream",
     "text": [
      "연락처를 조회합니다.\n",
      "이현: 01025736054\n",
      "------전화번호부 프로그램------\n"
     ]
    },
    {
     "name": "stdin",
     "output_type": "stream",
     "text": [
      "메뉴를 선택해주세요. (1.추가   2.조회   3.검색   4.수정   5.삭제   9.종료):  3\n"
     ]
    },
    {
     "name": "stdout",
     "output_type": "stream",
     "text": [
      "연락처를 검색합니다.\n"
     ]
    },
    {
     "name": "stdin",
     "output_type": "stream",
     "text": [
      "검색 이름:  이현\n"
     ]
    },
    {
     "name": "stdout",
     "output_type": "stream",
     "text": [
      "이현: 01025736054\n",
      "------전화번호부 프로그램------\n"
     ]
    },
    {
     "name": "stdin",
     "output_type": "stream",
     "text": [
      "메뉴를 선택해주세요. (1.추가   2.조회   3.검색   4.수정   5.삭제   9.종료):  4\n"
     ]
    },
    {
     "name": "stdout",
     "output_type": "stream",
     "text": [
      "연락처를 수정합니다.\n"
     ]
    },
    {
     "name": "stdin",
     "output_type": "stream",
     "text": [
      "수정할 이름:  이현\n",
      "새 전화번호:  01025736055\n"
     ]
    },
    {
     "name": "stdout",
     "output_type": "stream",
     "text": [
      "이현님의 전화번호가 수정되었습니다.\n",
      "------전화번호부 프로그램------\n"
     ]
    },
    {
     "name": "stdin",
     "output_type": "stream",
     "text": [
      "메뉴를 선택해주세요. (1.추가   2.조회   3.검색   4.수정   5.삭제   9.종료):  5\n"
     ]
    },
    {
     "name": "stdout",
     "output_type": "stream",
     "text": [
      "연락처를 삭제합니다.\n"
     ]
    },
    {
     "name": "stdin",
     "output_type": "stream",
     "text": [
      "삭제할 이름:  이현\n"
     ]
    },
    {
     "name": "stdout",
     "output_type": "stream",
     "text": [
      "이현님의 연락처가 삭제되었습니다.\n",
      "------전화번호부 프로그램------\n"
     ]
    },
    {
     "name": "stdin",
     "output_type": "stream",
     "text": [
      "메뉴를 선택해주세요. (1.추가   2.조회   3.검색   4.수정   5.삭제   9.종료):  2\n"
     ]
    },
    {
     "name": "stdout",
     "output_type": "stream",
     "text": [
      "연락처를 조회합니다.\n",
      "저장된 연락처가 없습니다.\n",
      "------전화번호부 프로그램------\n"
     ]
    },
    {
     "name": "stdin",
     "output_type": "stream",
     "text": [
      "메뉴를 선택해주세요. (1.추가   2.조회   3.검색   4.수정   5.삭제   9.종료):  9\n"
     ]
    },
    {
     "name": "stdout",
     "output_type": "stream",
     "text": [
      "프로그램을 종료합니다.\n"
     ]
    }
   ],
   "source": [
    "contact = {}\n",
    "while True:\n",
    "    print('------전화번호부 프로그램------')\n",
    "    \n",
    "    try:\n",
    "        menu = int(input('메뉴를 선택해주세요. (1.추가   2.조회   3.검색   4.수정   5.삭제   9.종료): '))\n",
    "        \n",
    "        if menu == 1:  # 연락처 추가\n",
    "            print('연락처를 추가합니다.')\n",
    "            new_name = input('이름: ')\n",
    "            \n",
    "            # 이미 있는 이름인지 확인\n",
    "            if new_name in contact:\n",
    "                print('이미 존재하는 이름입니다. 수정하시겠습니까?')\n",
    "                choice = int(input('1. 예   2. 아니오: '))\n",
    "                \n",
    "                if choice == 1:\n",
    "                    # 수정 기능으로 연결\n",
    "                    mod_tel = input('새 전화번호: ')\n",
    "                    contact[new_name] = mod_tel\n",
    "                    print(f'{new_name}님의 전화번호가 수정되었습니다.')\n",
    "                elif choice == 2:\n",
    "                    print('추가를 취소합니다.')\n",
    "                else:\n",
    "                    print('잘못된 입력입니다. 추가를 취소합니다.')\n",
    "            else:\n",
    "                new_tel = input('전화번호: ')\n",
    "                contact.setdefault(new_name, new_tel)\n",
    "                print(f'{new_name}님의 연락처가 추가되었습니다.')\n",
    "\n",
    "        elif menu == 2:  # 연락처 조회\n",
    "            print(\"연락처를 조회합니다.\")\n",
    "            if contact:\n",
    "                for name, tel in contact.items():\n",
    "                    print(f'{name}: {tel}')\n",
    "            else:\n",
    "                print('저장된 연락처가 없습니다.')\n",
    "\n",
    "        elif menu == 3:  # 연락처 검색\n",
    "            print('연락처를 검색합니다.')\n",
    "            search_name = input('검색 이름: ')\n",
    "            try:\n",
    "                print(f'{search_name}: {contact[search_name]}')\n",
    "            except KeyError:\n",
    "                print('없는 이름입니다.')\n",
    "\n",
    "        elif menu == 4:  # 연락처 수정\n",
    "            print(\"연락처를 수정합니다.\")\n",
    "            mod_name = input('수정할 이름: ')\n",
    "\n",
    "            if mod_name in contact:\n",
    "                mod_tel = input('새 전화번호: ')\n",
    "                contact[mod_name] = mod_tel\n",
    "                print(f'{mod_name}님의 전화번호가 수정되었습니다.')\n",
    "            else:\n",
    "                print('등록되지 않은 이름입니다.')\n",
    "\n",
    "        elif menu == 5:  # 연락처 삭제\n",
    "            print('연락처를 삭제합니다.')\n",
    "            del_name = input('삭제할 이름: ')\n",
    "\n",
    "            if del_name in contact:\n",
    "                del contact[del_name]\n",
    "                print(f'{del_name}님의 연락처가 삭제되었습니다.')\n",
    "            else:\n",
    "                print('등록되지 않은 이름입니다.')\n",
    "\n",
    "        elif menu == 9:  # 프로그램 종료\n",
    "            print('프로그램을 종료합니다.')\n",
    "            break\n",
    "\n",
    "        else:\n",
    "            print('잘못된 입력입니다. 1-5 또는 9를 입력하세요.')\n",
    "\n",
    "    except ValueError:\n",
    "        print('숫자를 입력해주세요.')  # 메뉴 입력에서 숫자가 아닌 값을 입력했을 때 처리\n",
    "    except Exception as e:\n",
    "        print(f'오류가 발생했습니다: {e}')  # 그 외의 모든 예외 처리\n"
   ]
  },
  {
   "cell_type": "code",
   "execution_count": null,
   "id": "518f35f2-18ee-4c94-a499-26c4003bf2f0",
   "metadata": {},
   "outputs": [],
   "source": []
  }
 ],
 "metadata": {
  "kernelspec": {
   "display_name": "Python 3 (ipykernel)",
   "language": "python",
   "name": "python3"
  },
  "language_info": {
   "codemirror_mode": {
    "name": "ipython",
    "version": 3
   },
   "file_extension": ".py",
   "mimetype": "text/x-python",
   "name": "python",
   "nbconvert_exporter": "python",
   "pygments_lexer": "ipython3",
   "version": "3.12.4"
  }
 },
 "nbformat": 4,
 "nbformat_minor": 5
}
